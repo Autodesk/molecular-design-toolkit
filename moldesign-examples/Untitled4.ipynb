{
 "cells": [
  {
   "cell_type": "code",
   "execution_count": 6,
   "metadata": {
    "collapsed": true
   },
   "outputs": [],
   "source": [
    "import moldesign as mdt\n",
    "import parmed as med\n",
    "from moldesign import units as u\n",
    "\n",
    "%matplotlib inline\n",
    "import numpy as np\n",
    "from matplotlib.pylab import *\n",
    "try: import seaborn\n",
    "except ImportError: pass"
   ]
  },
  {
   "cell_type": "code",
   "execution_count": 13,
   "metadata": {
    "collapsed": false
   },
   "outputs": [
    {
     "data": {
      "application/vnd.jupyter.widget-view+json": {
       "model_id": "1b2082aae3ae4b17a86def1ad1879260"
      }
     },
     "metadata": {},
     "output_type": "display_data"
    },
    {
     "name": "stdout",
     "output_type": "stream",
     "text": [
      "Connecting to docker host at unix://var/run/docker.sock... done\n",
      "Connecting to CloudComputeCannon host at cloudcomputecannon.bionano.autodesk.com:9000... done\n",
      "Connecting to CloudComputeCannon host at cloudcomputecannon.bionano.autodesk.com:9000... done\n"
     ]
    }
   ],
   "source": [
    "mdt.configure()\n",
    "mol = mdt.from_pdb('1yu8')"
   ]
  },
  {
   "cell_type": "code",
   "execution_count": null,
   "metadata": {
    "collapsed": false
   },
   "outputs": [
    {
     "data": {
      "application/vnd.jupyter.widget-view+json": {
       "model_id": "9ad56b0f90f34bf1bd142615ab6dde75"
      }
     },
     "metadata": {},
     "output_type": "display_data"
    }
   ],
   "source": [
    "mol.draw()"
   ]
  },
  {
   "cell_type": "code",
   "execution_count": null,
   "metadata": {
    "collapsed": true
   },
   "outputs": [],
   "source": []
  }
 ],
 "metadata": {
  "kernelspec": {
   "display_name": "Python 2",
   "language": "python",
   "name": "python2"
  },
  "language_info": {
   "codemirror_mode": {
    "name": "ipython",
    "version": 2
   },
   "file_extension": ".py",
   "mimetype": "text/x-python",
   "name": "python",
   "nbconvert_exporter": "python",
   "pygments_lexer": "ipython2",
   "version": "2.7.13"
  }
 },
 "nbformat": 4,
 "nbformat_minor": 2
}
