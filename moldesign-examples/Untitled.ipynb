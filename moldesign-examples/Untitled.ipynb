{
 "cells": [
  {
   "cell_type": "code",
   "execution_count": 1,
   "metadata": {
    "collapsed": false
   },
   "outputs": [
    {
     "name": "stdout",
     "output_type": "stream",
     "text": [
      "OpenMM could not be imported; using remote docker container\n",
      "PDBFixer could not be imported; using remote docker container\n",
      "PySCF not installed; using remote docker container\n",
      "Reading configuration from /Users/t_leeday/.moldesign/moldesign.yml\n"
     ]
    }
   ],
   "source": [
    "import moldesign as mdt\n",
    "import moldesign.units as u"
   ]
  },
  {
   "cell_type": "code",
   "execution_count": 2,
   "metadata": {
    "collapsed": false
   },
   "outputs": [],
   "source": [
    "#mdt.configure()\n"
   ]
  },
  {
   "cell_type": "code",
   "execution_count": 3,
   "metadata": {
    "collapsed": false
   },
   "outputs": [],
   "source": [
    "molecule = mdt.from_pdb('1yu8')"
   ]
  },
  {
   "cell_type": "code",
   "execution_count": 4,
   "metadata": {
    "collapsed": false
   },
   "outputs": [
    {
     "data": {
      "text/markdown": [
       "### Molecule: \"1yu8\" (600 atoms)\n",
       "\n",
       "<a href=\"http://www.rcsb.org/pdb/explore.do?structureId=1yu8\" target=\"_blank\">HIGH-RESOLUTION CRYSTAL STRUCTURES OF VILLIN HEADPIECE AND MUTANTS WITH REDUCED F-ACTIN BINDING ACTIVITY.</a>\n",
       "\n",
       "**Mass**: 8150.00 amu\n",
       "\n",
       "**Formula**: C<sub>325</sub>N<sub>85</sub>O<sub>189</sub>S<sub>1</sub>\n",
       "\n",
       "**Charge**: 0.0 elementary_charge\n",
       "\n",
       "### Residues\n",
       "\n",
       "| chain | protein | dna | rna | unknown | water | solvent |\n",
       "|-|-|-|-|-|-|-|-|\n",
       "| <b>X</b> | 64 |  |  |  | 92 |  ||\n",
       "\n",
       "### Biopolymer chains\n",
       "\n",
       "**X**: <span style=\"word-wrap:break-word;font-family:monospace\"><span title=\"PRO10 (MISSING), chain X\" style=\"color:Red\">P</span><span title=\"THR11 (MISSING), chain X\" style=\"color:Red\">T</span><span title=\"LYS12 (MISSING), chain X\" style=\"color:Red\">K</span><span title=\"LEU13 (idx 0), chain X\">L</span><span title=\"GLU14 (idx 1), chain X\">E</span><span title=\"THR15 (idx 2), chain X\">T</span><span title=\"PHE16 (idx 3), chain X\">F</span><span title=\"PRO17 (idx 4), chain X\">P</span><span title=\"LEU18 (idx 5), chain X\">L</span><span title=\"ASP19 (idx 6), chain X\">D</span><span title=\"VAL20 (idx 7), chain X\">V</span><span title=\"LEU21 (idx 8), chain X\">L</span><span title=\"VAL22 (idx 9), chain X\">V</span><span title=\"ASN23 (idx 10), chain X\">N</span><span title=\"THR24 (idx 11), chain X\">T</span><span title=\"ALA25 (idx 12), chain X\">A</span><span title=\"ALA26 (idx 13), chain X\">A</span><span title=\"GLU27 (idx 14), chain X\">E</span><span title=\"ASP28 (idx 15), chain X\">D</span><span title=\"LEU29 (idx 16), chain X\">L</span><span title=\"PRO30 (idx 17), chain X\">P</span><span title=\"ARG31 (idx 18), chain X\">R</span><span title=\"GLY32 (idx 19), chain X\">G</span><span title=\"VAL33 (idx 20), chain X\">V</span><span title=\"ASP34 (idx 21), chain X\">D</span><span title=\"PRO35 (idx 22), chain X\">P</span><span title=\"SER36 (idx 23), chain X\">S</span><span title=\"ALA37 (idx 24), chain X\">A</span><span title=\"LYS38 (idx 25), chain X\">K</span><span title=\"GLU39 (idx 26), chain X\">E</span><span title=\"ASN40 (idx 27), chain X\">N</span><span title=\"HIS41 (idx 28), chain X\">H</span><span title=\"LEU42 (idx 29), chain X\">L</span><span title=\"SER43 (idx 30), chain X\">S</span><span title=\"ASP44 (idx 31), chain X\">D</span><span title=\"GLU45 (idx 32), chain X\">E</span><span title=\"ASP46 (idx 33), chain X\">D</span><span title=\"PHE47 (idx 34), chain X\">F</span><span title=\"LYS48 (idx 35), chain X\">K</span><span title=\"ALA49 (idx 36), chain X\">A</span><span title=\"VAL50 (idx 37), chain X\">V</span><span title=\"PHE51 (idx 38), chain X\">F</span><span title=\"GLY52 (idx 39), chain X\">G</span><span title=\"MET53 (idx 40), chain X\">M</span><span title=\"THR54 (idx 41), chain X\">T</span><span title=\"ARG55 (idx 42), chain X\">R</span><span title=\"SER56 (idx 43), chain X\">S</span><span title=\"ALA57 (idx 44), chain X\">A</span><span title=\"PHE58 (idx 45), chain X\">F</span><span title=\"ALA59 (idx 46), chain X\">A</span><span title=\"ASN60 (idx 47), chain X\">N</span><span title=\"LEU61 (idx 48), chain X\">L</span><span title=\"PRO62 (idx 49), chain X\">P</span><span title=\"LEU63 (idx 50), chain X\">L</span><span title=\"TRP64 (idx 51), chain X\">W</span><span title=\"LYS65 (idx 52), chain X\">K</span><span title=\"GLN66 (idx 53), chain X\">Q</span><span title=\"GLN67 (idx 54), chain X\">Q</span><span title=\"ASN68 (idx 55), chain X\">N</span><span title=\"LEU69 (idx 56), chain X\">L</span><span title=\"LYS70 (idx 57), chain X\">K</span><span title=\"LYS71 (idx 58), chain X\">K</span><span title=\"GLU72 (idx 59), chain X\">E</span><span title=\"LYS73 (idx 60), chain X\">K</span><span title=\"GLY74 (idx 61), chain X\">G</span><span title=\"LEU75 (idx 62), chain X\">L</span><span title=\"PHE76 (idx 63), chain X\">F</span></span>"
      ],
      "text/plain": [
       "<1yu8 (Molecule), 600 atoms>"
      ]
     },
     "execution_count": 4,
     "metadata": {},
     "output_type": "execute_result"
    }
   ],
   "source": [
    "molecule\n",
    "#molecule = mdt.Molecule([res for res in molecule.residues if res.type == 'protein'])"
   ]
  },
  {
   "cell_type": "code",
   "execution_count": 5,
   "metadata": {
    "collapsed": false
   },
   "outputs": [],
   "source": [
    "#molecule.draw()\n",
    "#len(molecule.atoms)"
   ]
  },
  {
   "cell_type": "code",
   "execution_count": 6,
   "metadata": {
    "collapsed": false
   },
   "outputs": [],
   "source": [
    "import parmed as med"
   ]
  },
  {
   "cell_type": "code",
   "execution_count": 7,
   "metadata": {
    "collapsed": false
   },
   "outputs": [
    {
     "name": "stdout",
     "output_type": "stream",
     "text": [
      "Connecting to docker host at unix://var/run/docker.sock... done\n"
     ]
    },
    {
     "data": {
      "application/vnd.jupyter.widget-view+json": {
       "model_id": "49ed099209dc4472806b27e367b1a654"
      }
     },
     "metadata": {},
     "output_type": "display_data"
    }
   ],
   "source": [
    "mdmol = mdt.assign_forcefield(molecule)"
   ]
  },
  {
   "cell_type": "code",
   "execution_count": 8,
   "metadata": {
    "collapsed": false
   },
   "outputs": [],
   "source": [
    "# mdmol.ff.amber_params.prmtop.put('/tmp/tmp.prmtop')\n",
    "parmedmol = med.load_file('/tmp/tmp.prmtop')"
   ]
  },
  {
   "cell_type": "code",
   "execution_count": 9,
   "metadata": {
    "collapsed": false
   },
   "outputs": [],
   "source": [
    "# mdmol.draw()"
   ]
  },
  {
   "cell_type": "code",
   "execution_count": null,
   "metadata": {
    "collapsed": false
   },
   "outputs": [],
   "source": []
  },
  {
   "cell_type": "code",
   "execution_count": 12,
   "metadata": {
    "collapsed": true
   },
   "outputs": [],
   "source": [
    "import tempfile\n",
    "import shutil\n",
    "import os"
   ]
  },
  {
   "cell_type": "code",
   "execution_count": 13,
   "metadata": {
    "collapsed": false
   },
   "outputs": [],
   "source": [
    "\n",
    "\n",
    "# In order to simluate using LAMMPS, we need:\n",
    "#   get molecule from pdb, cif, or name\n",
    "#   assign forcefields\n",
    "#   load parmed structure\n",
    "\n",
    "\n",
    "# LAMMPS UNITS:\n",
    "# For style real, these are the units:\n",
    "\n",
    "# mass = grams/mole\n",
    "# distance = Angstroms\n",
    "# time = femtoseconds\n",
    "# energy = Kcal/mole\n",
    "# velocity = Angstroms/femtosecond\n",
    "# force = Kcal/mole-Angstrom\n",
    "# torque = Kcal/mole\n",
    "# temperature = Kelvin\n",
    "# pressure = atmospheres\n",
    "# dynamic viscosity = Poise\n",
    "# charge = multiple of electron charge (1.0 is a proton)\n",
    "# dipole = charge*Angstroms\n",
    "# electric field = volts/Angstrom\n",
    "# density = gram/cm^dim\n",
    "\n",
    "# See http://parmed.github.io/ParmEd/html/index.html for ParmEd units\n",
    "\n",
    "def formatLammpsData(lammps_data):\n",
    "    predictable_filename = 'data.lammps_molecule'\n",
    "    path = os.path.join(tmpdir, predictable_filename)\n",
    "\n",
    "    with open(path, \"w\") as lammps_data:\n",
    "\n",
    "        # print description\n",
    "        lammps_data.write(\"LAMMPS Description\\r\\n\\r\\n\")\n",
    "        lammps_data.write(\"{0} atoms\\r\\n\" .format(len(parmedmol.atoms)))\n",
    "        lammps_data.write(\"{0} bonds\\r\\n\" .format(len(parmedmol.bonds)))\n",
    "        lammps_data.write(\"{0} angles\\r\\n\" .format(len(parmedmol.angles)))\n",
    "        lammps_data.write(\"{0} dihedrals\\r\\n\" .format(len(parmedmol.dihedrals)))\n",
    "        lammps_data.write(\"{0} impropers\\r\\n\" .format(len(parmedmol.impropers)))\n",
    "\n",
    "        lammps_data.write(\"\\r\\n\")\n",
    "\n",
    "        max_idx = 0\n",
    "        for nonbond_idx in parmedmol.LJ_types.itervalues():\n",
    "            if(nonbond_idx > max_idx):\n",
    "                max_idx = nonbond_idx\n",
    "\n",
    "        lammps_data.write(\"{0} atom types\\r\\n\" .format(max_idx))\n",
    "        lammps_data.write(\"{0} bond types\\r\\n\" .format(len(parmedmol.bond_types)))\n",
    "        lammps_data.write(\"{0} angle types\\r\\n\" .format(len(parmedmol.angle_types)))\n",
    "        lammps_data.write(\"{0} dihedral types\\r\\n\" .format(len(parmedmol.dihedral_types)))\n",
    "        lammps_data.write(\"{0} improper types\\r\\n\" .format(len(parmedmol.improper_types)))\n",
    "\n",
    "        lammps_data.write(\"\\r\\n\")\n",
    "\n",
    "        # box size\n",
    "        # calculate lo and hi points\n",
    "        xlo = xhi = ylo = yhi = zlo = zhi = None\n",
    "        for atom in mdmol.atoms:\n",
    "            if xlo == None:\n",
    "                xlo = atom.x.value_in(u.angstrom)\n",
    "                xhi = atom.x.value_in(u.angstrom)\n",
    "                ylo = atom.y.value_in(u.angstrom)\n",
    "                yhi = atom.y.value_in(u.angstrom)\n",
    "                zlo = atom.z.value_in(u.angstrom)\n",
    "                zhi = atom.z.value_in(u.angstrom)\n",
    "            else:\n",
    "                xlo = min(xlo, atom.x.value_in(u.angstrom))\n",
    "                xhi = max(xhi, atom.x.value_in(u.angstrom))\n",
    "                ylo = min(ylo, atom.y.value_in(u.angstrom))\n",
    "                yhi = max(yhi, atom.y.value_in(u.angstrom))\n",
    "                zlo = min(zlo, atom.z.value_in(u.angstrom))\n",
    "                zhi = max(zhi, atom.z.value_in(u.angstrom))\n",
    "\n",
    "        lammps_data.write(\"{0} {1} xlo xhi\\r\\n\" .format(xlo, xhi))\n",
    "        lammps_data.write(\"{0} {1} ylo yhi\\r\\n\" .format(ylo, yhi))\n",
    "        lammps_data.write(\"{0} {1} zlo zhi\\r\\n\" .format(zlo, zhi))\n",
    "\n",
    "        lammps_data.write(\"\\r\\n\")\n",
    "\n",
    "        # print masses -- Number of atom types\n",
    "        lammps_data.write(\"Masses\\r\\n\\r\\n\")\n",
    "        for i in range(1, max_idx+1):\n",
    "            for atom in parmedmol.atoms:\n",
    "                if atom.nb_idx == i:\n",
    "                    lammps_data.write(\"{0} {1}\\r\\n\" .format(i, atom.mass))\n",
    "                    break\n",
    "\n",
    "        lammps_data.write(\"\\r\\n\")\n",
    "\n",
    "\n",
    "        # Pair Coeffs -- Number of atom types\n",
    "        lammps_data.write(\"Pair Coeffs\\r\\n\\r\\n\")\n",
    "        for i in range(1, max_idx+1):\n",
    "            for atom in parmedmol.atoms:\n",
    "                if atom.nb_idx == i:\n",
    "                    lammps_data.write(\"{0} {1} {2} {3} {4}\\r\\n\" .format(i, atom.epsilon, atom.sigma, \n",
    "                                                                        atom.epsilon_14, atom.sigma_14))\n",
    "                    break\n",
    "\n",
    "        lammps_data.write(\"\\r\\n\")\n",
    "\n",
    "\n",
    "        # Bond Coeffs - Harmonic\n",
    "        if parmedmol.bond_types:\n",
    "            lammps_data.write(\"Bond Coeffs\\r\\n\\r\\n\")\n",
    "            for bt in parmedmol.bond_types:\n",
    "                lammps_data.write(\"{0} {1} {2}\\r\\n\" .format(bt.idx+1, bt.k, bt.req))\n",
    "\n",
    "            lammps_data.write(\"\\r\\n\")\n",
    "\n",
    "\n",
    "        # Angle Coeffs - Harmonic\n",
    "        if parmedmol.angle_types:\n",
    "            lammps_data.write(\"Angle Coeffs\\r\\n\\r\\n\")\n",
    "            for at in parmedmol.angle_types:\n",
    "                lammps_data.write(\"{0} {1} {2}\\r\\n\" .format(at.idx+1, at.k, at.theteq))\n",
    "\n",
    "            lammps_data.write(\"\\r\\n\")\n",
    "\n",
    "\n",
    "        # Dihedral Coeffs - Charmm\n",
    "        if parmedmol.dihedral_types:\n",
    "            lammps_data.write(\"Dihedral Coeffs\\r\\n\\r\\n\")\n",
    "            for dt in parmedmol.dihedral_types:\n",
    "                lammps_data.write(\"{0} {1} {2} {3} {4}\\r\\n\" .format(dt.idx+1, dt.phi_k, dt.per, \n",
    "                    (180 if dt.phase >= 180 else 0), \n",
    "                    (1.0 if dt.scnb == 1.0 else 0.0)))\n",
    "\n",
    "            lammps_data.write(\"\\r\\n\")\n",
    "\n",
    "\n",
    "        # Improper Coeffs - Harmonic\n",
    "        if parmedmol.improper_types:\n",
    "            lammps_data.write(\"Improper Coeffs\\r\\n\\r\\n\")\n",
    "            for it in parmedmol.improper_types:\n",
    "                print\n",
    "                lammps_data.write(\"{0} {1} {2}\\r\\n\" .format(it.idx+1, it.psi_k, it.psi_eq))\n",
    "\n",
    "            lammps_data.write(\"\\r\\n\")\n",
    "\n",
    "\n",
    "        # print atoms\n",
    "        lammps_data.write(\"Atoms\\r\\n\\r\\n\")\n",
    "        for atom in parmedmol.atoms:\n",
    "            lammps_data.write(\"{0} {1} {2} {3} \" .format(atom.idx+1, atom.residue.idx, atom.nb_idx, atom.charge))\n",
    "            if not mdmol.positions.any():        \n",
    "                lammps_data.write(\"{0} {1} {2} \" .format(0.00, 0.00, 0.00))        \n",
    "            else:\n",
    "                pos = mdmol.positions[atom.idx]\n",
    "                lammps_data.write(\"{0} {1} {2} \" .format(pos[0].value_in(u.angstrom), pos[1].value_in(u.angstrom), \n",
    "                    pos[2].value_in(u.angstrom)))\n",
    "            lammps_data.write(\"{0} {1} {2}\\r\\n\" .format(0, 0, 0)) # nx, ny, nz not defined    \n",
    "\n",
    "        lammps_data.write(\"\\r\\n\")\n",
    "\n",
    "\n",
    "        # print velocities\n",
    "        lammps_data.write(\"Velocities\\r\\n\\r\\n\")\n",
    "        for atom in mdmol.atoms:\n",
    "            xvel = atom.vx.value_in(u.angstrom/u.fs)\n",
    "            yvel = atom.vy.value_in(u.angstrom/u.fs)\n",
    "            zvel = atom.vz.value_in(u.angstrom/u.fs)\n",
    "            lammps_data.write(\"{0} {1} {2} {3}\\r\\n\" .format(atom.index+1, xvel, yvel, zvel))\n",
    "\n",
    "        lammps_data.write(\"\\r\\n\")\n",
    "\n",
    "\n",
    "        # print bonds\n",
    "        lammps_data.write(\"Bonds\\r\\n\\r\\n\")\n",
    "        for idx, bond in enumerate(parmedmol.bonds):\n",
    "            lammps_data.write(\"{0} {1} {2} {3}\\r\\n\" .format(idx+1, bond.type.idx+1, \n",
    "              bond.atom1.idx+1, bond.atom2.idx+1))\n",
    "\n",
    "        lammps_data.write(\"\\r\\n\")\n",
    "\n",
    "\n",
    "        # print angles\n",
    "        lammps_data.write(\"Angles\\r\\n\\r\\n\")\n",
    "        for idx, angle in enumerate(parmedmol.angles):\n",
    "            lammps_data.write(\"{0} {1} {2} {3} {4}\\r\\n\" .format(idx+1, angle.type.idx+1,\n",
    "              angle.atom1.idx+1, \n",
    "              angle.atom2.idx+1, angle.atom3.idx+1))\n",
    "\n",
    "        lammps_data.write(\"\\r\\n\")\n",
    "\n",
    "\n",
    "        # print dihedrals\n",
    "        if parmedmol.dihedrals:\n",
    "            lammps_data.write(\"Dihedrals\\r\\n\\r\\n\")\n",
    "            for idx, di in enumerate(parmedmol.dihedrals):\n",
    "                lammps_data.write(\"{0} {1} {2} {3} {4} {5}\\r\\n\" .format(idx+1, di.type.idx+1, \n",
    "                  di.atom1.idx+1, di.atom2.idx+1, \n",
    "                  di.atom3.idx+1, di.atom4.idx+1))\n",
    "\n",
    "            lammps_data.write(\"\\r\\n\")\n",
    "\n",
    "\n",
    "        # print impropers\n",
    "        if parmedmol.impropers:\n",
    "            lammps_data.write(\"Impropers\\r\\n\\r\\n\")\n",
    "            for im in parmedmol.impropers:\n",
    "                lammps_data.write(\"{0} {1} {2} {3} {4} {5}\\r\\n\" .format(im.idx+1, im.type.idx+1, \n",
    "                  im.atom1.idx+1, im.atom2.idx+1, \n",
    "                  im.atom3.idx+1, im.atom4.idx+1))\n",
    "\n",
    "            lammps_data.write(\"\\r\\n\")\n",
    "\n",
    "    \n",
    "    #lammps_data.close()\n",
    "    return path"
   ]
  },
  {
   "cell_type": "code",
   "execution_count": 14,
   "metadata": {
    "collapsed": false
   },
   "outputs": [
    {
     "name": "stdout",
     "output_type": "stream",
     "text": [
      "/var/folders/l9/th_rqp090gg3375t46j58vsm0000gq/T/tmpmSzQyy/data.lammps_molecule\n"
     ]
    }
   ],
   "source": [
    "tmpdir = tempfile.mkdtemp()\n",
    "saved_umask = os.umask(0077)\n",
    "path = formatLammpsData(tmpdir)\n",
    "print path"
   ]
  },
  {
   "cell_type": "code",
   "execution_count": 15,
   "metadata": {
    "collapsed": false
   },
   "outputs": [],
   "source": [
    "import sys\n",
    "def prepareLammps(dataPath):\n",
    "    L.command(\"units real\")\n",
    "    L.command(\"atom_style full\")\n",
    "    L.command(\"pair_style lj/charmm/coul/long 8.0 10.0 10.0\")\n",
    "    L.command(\"bond_style harmonic\")\n",
    "    L.command(\"angle_style harmonic\")\n",
    "    L.command(\"dihedral_style charmm\")\n",
    "    L.command(\"improper_style harmonic\")\n",
    "    L.command(\"kspace_style pppm 0.0001\")\n",
    "    L.command(\"read_data \" + dataPath)\n",
    "\n",
    "def calculateEnergy(timeStep, outputFreq):\n",
    "    #L.command(\"timestep \" + str(round(timeStep,1)))\n",
    "    L.command(\"thermo_style custom step temp pe etotal\")\n",
    "    #L.command(\"thermo \" + str(outputFreq))\n",
    "\n",
    "def groupWater(parmedmol):\n",
    "    min_index = sys.maxint;\n",
    "    max_index = 0;\n",
    "    for res in parmedmol.residues:\n",
    "        if res.name == 'WAT':\n",
    "            if res.idx < min_index:\n",
    "                min_index = res.idx\n",
    "            elif res.idx > max_index:\n",
    "                max_index = res.idx\n",
    "\n",
    "    water_group = \"\"\n",
    "    if(min_index != sys.maxint):\n",
    "        water_group = \"group water molecule <> {0} {1}\" .format(min_index, max_index)\n",
    "\n",
    "    return water_group\n",
    "            \n",
    "def groupHydrogens():\n",
    "    groupCommand = \"group hbonds type\"\n",
    "    for nonbond_name, nonbond_idx in parmedmol.LJ_types.iteritems():\n",
    "        if(nonbond_name[0] == 'H'):\n",
    "            groupCommand = groupCommand + \" \" + str(nonbond_idx)\n",
    "    L.command(groupCommand)\n",
    "    \n",
    "    \n",
    "def setupNvt(timeStep, temp, damp, outputFreq, shakeHbonds, shakeWater):\n",
    "    #L.command(\"neigh_modify delay 5\")\n",
    "    L.command(\"timestep \" + str(round(timeStep,1)))\n",
    "    L.command(\"thermo_style custom step temp pe etotal\")\n",
    "    L.command(\"thermo \" + str(outputFreq))\n",
    "    nvt_command = \"fix 1 all nvt temp {0} {1} {2}\" .format(round(temp,1), round(temp,1), round(damp, 3))\n",
    "    L.command(nvt_command)\n",
    "    if(shakeHbonds):\n",
    "        groupHydrogens()\n",
    "        shake_command = \"fix 2 hbonds rattle 0.0001 20 0 t 5 6 m 1.0 a 31\"\n",
    "        L.command(shake_command)\n",
    "    if(shakeWater):\n",
    "        groupWater(parmedmol)\n",
    "        shake_command = \"fix 2 water rattle 0.0001 20 0 t 5 6 m 1.0 a 31\"\n"
   ]
  },
  {
   "cell_type": "code",
   "execution_count": 16,
   "metadata": {
    "collapsed": false
   },
   "outputs": [],
   "source": [
    "from lammps import lammps, PyLammps"
   ]
  },
  {
   "cell_type": "code",
   "execution_count": 17,
   "metadata": {
    "collapsed": false
   },
   "outputs": [
    {
     "name": "stdout",
     "output_type": "stream",
     "text": [
      "LAMMPS output is captured by PyLammps wrapper\n"
     ]
    }
   ],
   "source": [
    "lmp = lammps()\n",
    "L = PyLammps(ptr=lmp)"
   ]
  },
  {
   "cell_type": "code",
   "execution_count": 18,
   "metadata": {
    "collapsed": false
   },
   "outputs": [],
   "source": [
    "prepareLammps(path)\n",
    "# securely remove path\n",
    "os.remove(path)\n",
    "os.umask(saved_umask)\n",
    "os.rmdir(tmpdir)"
   ]
  },
  {
   "cell_type": "code",
   "execution_count": 19,
   "metadata": {
    "collapsed": false
   },
   "outputs": [
    {
     "name": "stdout",
     "output_type": "stream",
     "text": [
      "Before Evaluation\n",
      "(8.877, 11.103, 14.169)\n",
      "(0.0, 0.0, 0.0)\n",
      "(9.346111483774534e-307, 2.2251173178928296e-306, 7.788216862406745e-308)\n"
     ]
    }
   ],
   "source": [
    "print \"Before Evaluation\"\n",
    "print L.atoms[1012].position\n",
    "print L.atoms[1012].velocity\n",
    "print L.atoms[1012].force"
   ]
  },
  {
   "cell_type": "code",
   "execution_count": 20,
   "metadata": {
    "collapsed": false
   },
   "outputs": [
    {
     "name": "stdout",
     "output_type": "stream",
     "text": [
      "-4179.44402414\n",
      "(8.877, 11.103, 14.169)\n",
      "(0.0, 0.0, 0.0)\n",
      "(-7.6358182133318175, -7.891001958914227, 45.069846815993344)\n"
     ]
    }
   ],
   "source": [
    "calculateEnergy(1.0, 10)\n",
    "L.run(0)\n",
    "print L.eval(\"pe\")\n",
    "print L.atoms[1012].position\n",
    "print L.atoms[1012].velocity\n",
    "print L.atoms[1012].force"
   ]
  },
  {
   "cell_type": "code",
   "execution_count": 21,
   "metadata": {
    "collapsed": false
   },
   "outputs": [
    {
     "name": "stdout",
     "output_type": "stream",
     "text": [
      "LAMMPS output is captured by PyLammps wrapper\n"
     ]
    }
   ],
   "source": [
    "del L\n",
    "del lmp\n",
    "\n",
    "lmp = lammps()\n",
    "L = PyLammps(ptr=lmp)"
   ]
  },
  {
   "cell_type": "code",
   "execution_count": 22,
   "metadata": {
    "collapsed": false
   },
   "outputs": [
    {
     "name": "stdout",
     "output_type": "stream",
     "text": [
      "/var/folders/l9/th_rqp090gg3375t46j58vsm0000gq/T/tmpYZxuOJ/data.lammps_molecule\n"
     ]
    }
   ],
   "source": [
    "tmpdir = tempfile.mkdtemp()\n",
    "saved_umask = os.umask(0077)\n",
    "path = formatLammpsData(tmpdir)\n",
    "print path"
   ]
  },
  {
   "cell_type": "code",
   "execution_count": 23,
   "metadata": {
    "collapsed": false
   },
   "outputs": [],
   "source": [
    "prepareLammps(path)"
   ]
  },
  {
   "cell_type": "code",
   "execution_count": 24,
   "metadata": {
    "collapsed": false
   },
   "outputs": [
    {
     "name": "stdout",
     "output_type": "stream",
     "text": [
      "Before Simulation\n",
      "(8.877, 11.103, 14.169)\n",
      "(0.0, 0.0, 0.0)\n",
      "(-0.008037430392332286, 1.312886937529265e-06, -0.005270886403637796)\n"
     ]
    }
   ],
   "source": [
    "print \"Before Simulation\"\n",
    "print L.atoms[1012].position\n",
    "print L.atoms[1012].velocity\n",
    "print L.atoms[1012].force"
   ]
  },
  {
   "cell_type": "code",
   "execution_count": 25,
   "metadata": {
    "collapsed": false
   },
   "outputs": [],
   "source": [
    "setupNvt(1.0, 300, 100, 10, True, True)\n"
   ]
  },
  {
   "cell_type": "code",
   "execution_count": 28,
   "metadata": {
    "collapsed": false
   },
   "outputs": [
    {
     "name": "stdout",
     "output_type": "stream",
     "text": [
      "After Simulation\n",
      "(9.19494075859492, 11.451470715040097, 15.346603769920547)\n",
      "(-0.00397251412118858, -0.0015766077350572762, -0.010748494668691991)\n",
      "(0.9883842516969316, -14.583172882856926, 8.907208281244325)\n"
     ]
    }
   ],
   "source": [
    "print \"After Simulation\""
   ]
  },
  {
   "cell_type": "code",
   "execution_count": 33,
   "metadata": {
    "collapsed": false
   },
   "outputs": [
    {
     "name": "stdout",
     "output_type": "stream",
     "text": [
      "After Simulation\n",
      "(9.16068664175488, 11.429206577811751, 15.24330984999372)\n",
      "(-0.0015833068495248546, -0.001403817380488644, -0.008289902424799454)\n",
      "(13.358829422614223, 2.137560112207271, 7.673396610689865)\n",
      "After Simulation\n",
      "(9.15927821638567, 11.427830899466468, 15.235121401807495)\n",
      "(-0.001246020677135512, -0.0013984059963711667, -0.008070196711455662)\n",
      "(12.40805030357972, -1.7527959363924894, 8.960159568852609)\n",
      "After Simulation\n",
      "(9.158194600759806, 11.426409766222134, 15.227169458897249)\n",
      "(-0.0009441706314101759, -0.0015003728037725238, -0.007815302708438648)\n",
      "(10.65514676647228, -6.07605915692026, 10.368858404403356)\n",
      "After Simulation\n",
      "(9.157389875359668, 11.424830154235247, 15.219490798350856)\n",
      "(-0.0006979308556738653, -0.0017169684682439928, -0.007523409250983233)\n",
      "(8.160525913347904, -10.523275950522015, 11.795031115215169)\n",
      "After Simulation\n",
      "(9.156798739166923, 11.42297582957708, 15.21212264167229)\n",
      "(-0.0005248712592317892, -0.0020470200133530687, -0.007195748756532784)\n",
      "(5.062548072552333, -14.759205840294774, 13.1104569035238)\n",
      "After Simulation\n",
      "(9.156340132876979, 11.420736114348063, 15.205099301328246)\n",
      "(-0.00043859488793816077, -0.0024805044557486182, -0.006837227696717711)\n",
      "(1.5258949523350773, -18.442095749153346, 14.162312571752029)\n",
      "After Simulation\n",
      "(9.155921549393119, 11.418014820677302, 15.198448186311152)\n",
      "(-0.0004483795370517027, -0.0029987931875714324, -0.006457178626983845)\n",
      "(-2.2835754501043644, -21.25523079844196, 14.764657724071709)\n",
      "After Simulation\n",
      "(9.15544337381159, 11.41473852803121, 15.192184944199788)\n",
      "(-0.0005587795099894791, -0.003576050608646167, -0.006069728624428902)\n",
      "(-6.17062148364839, -22.96370226404005, 14.73634014260719)\n",
      "After Simulation\n",
      "(9.154803990419918, 11.410862719759379, 15.186308729570424)\n",
      "(-0.0007682972706879979, -0.0041820791138989415, -0.005692841747614199)\n",
      "(-9.867675469213063, -23.4682762221808, 13.964636327966875)\n",
      "After Simulation\n",
      "(9.153906779375593, 11.406374370377018, 15.18079926148538)\n",
      "(-0.001067413177269657, -0.004785844901268223, -0.005345946764857376)\n",
      "(-13.028659341582907, -22.803613229558476, 12.449877826848656)\n"
     ]
    }
   ],
   "source": [
    "for j in range(0, 10):\n",
    "    L.run(1)\n",
    "    print \"After Simulation\"\n",
    "    print L.atoms[1012].position\n",
    "    print L.atoms[1012].velocity\n",
    "    print L.atoms[1012].force"
   ]
  },
  {
   "cell_type": "code",
   "execution_count": 34,
   "metadata": {
    "collapsed": false
   },
   "outputs": [
    {
     "name": "stdout",
     "output_type": "stream",
     "text": [
      "hi\n"
     ]
    }
   ],
   "source": []
  },
  {
   "cell_type": "code",
   "execution_count": null,
   "metadata": {
    "collapsed": false
   },
   "outputs": [],
   "source": []
  },
  {
   "cell_type": "code",
   "execution_count": null,
   "metadata": {
    "collapsed": true
   },
   "outputs": [],
   "source": []
  }
 ],
 "metadata": {
  "kernelspec": {
   "display_name": "Python 2",
   "language": "python",
   "name": "python2"
  },
  "language_info": {
   "codemirror_mode": {
    "name": "ipython",
    "version": 2
   },
   "file_extension": ".py",
   "mimetype": "text/x-python",
   "name": "python",
   "nbconvert_exporter": "python",
   "pygments_lexer": "ipython2",
   "version": "2.7.13"
  }
 },
 "nbformat": 4,
 "nbformat_minor": 2
}
