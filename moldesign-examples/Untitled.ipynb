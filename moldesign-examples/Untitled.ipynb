{
 "cells": [
  {
   "cell_type": "code",
   "execution_count": null,
   "metadata": {
    "collapsed": false
   },
   "outputs": [],
   "source": [
    "import moldesign as mdt\n",
    "import moldesign.units as u"
   ]
  },
  {
   "cell_type": "code",
   "execution_count": null,
   "metadata": {
    "collapsed": false
   },
   "outputs": [],
   "source": [
    "#mdt.configure()"
   ]
  },
  {
   "cell_type": "code",
   "execution_count": null,
   "metadata": {
    "collapsed": false
   },
   "outputs": [],
   "source": [
    "molecule = mdt.from_pdb('1yu8')"
   ]
  },
  {
   "cell_type": "code",
   "execution_count": null,
   "metadata": {
    "collapsed": false
   },
   "outputs": [],
   "source": [
    "molecule\n",
    "#molecule = mdt.Molecule([res for res in molecule.residues if res.type == 'protein'])"
   ]
  },
  {
   "cell_type": "code",
   "execution_count": null,
   "metadata": {
    "collapsed": false
   },
   "outputs": [],
   "source": [
    "molecule.draw()\n",
    "#len(molecule.atoms)\n",
    "u.femtoseconds"
   ]
  },
  {
   "cell_type": "code",
   "execution_count": null,
   "metadata": {
    "collapsed": false
   },
   "outputs": [],
   "source": [
    "import parmed as med"
   ]
  },
  {
   "cell_type": "code",
   "execution_count": null,
   "metadata": {
    "collapsed": false
   },
   "outputs": [],
   "source": [
    "mdmol = mdt.assign_forcefield(molecule)"
   ]
  },
  {
   "cell_type": "code",
   "execution_count": null,
   "metadata": {
    "collapsed": false
   },
   "outputs": [],
   "source": [
    "mdmol.ff.amber_params.prmtop.put('/tmp/tmp.prmtop')\n",
    "parmedmol = med.load_file('/tmp/tmp.prmtop')"
   ]
  },
  {
   "cell_type": "code",
   "execution_count": null,
   "metadata": {
    "collapsed": false
   },
   "outputs": [],
   "source": [
    "# mdmol.draw()"
   ]
  },
  {
   "cell_type": "code",
   "execution_count": null,
   "metadata": {
    "collapsed": true
   },
   "outputs": [],
   "source": []
  },
  {
   "cell_type": "code",
   "execution_count": null,
   "metadata": {
    "collapsed": false
   },
   "outputs": [],
   "source": [
    "\n",
    "# In order to simluate using LAMMPS, we need:\n",
    "#   get molecule from pdb, cif, or name\n",
    "#   assign forcefields\n",
    "#   load parmed structure\n",
    "\n",
    "\n",
    "# LAMMPS UNITS:\n",
    "# For style real, these are the units:\n",
    "\n",
    "# mass = grams/mole\n",
    "# distance = Angstroms\n",
    "# time = femtoseconds\n",
    "# energy = Kcal/mole\n",
    "# velocity = Angstroms/femtosecond\n",
    "# force = Kcal/mole-Angstrom\n",
    "# torque = Kcal/mole\n",
    "# temperature = Kelvin\n",
    "# pressure = atmospheres\n",
    "# dynamic viscosity = Poise\n",
    "# charge = multiple of electron charge (1.0 is a proton)\n",
    "# dipole = charge*Angstroms\n",
    "# electric field = volts/Angstrom\n",
    "# density = gram/cm^dim\n",
    "\n",
    "# See http://parmed.github.io/ParmEd/html/index.html for ParmEd units\n",
    "\n",
    "def formatLammpsData(dataName):\n",
    "    filePath = '/tmp/data.' + dataName\n",
    "    lammps_data = open(filePath, 'w')\n",
    "\n",
    "    # print description\n",
    "    lammps_data.write(\"LAMMPS Description\\r\\n\\r\\n\")\n",
    "    lammps_data.write(\"{0} atoms\\r\\n\" .format(len(parmedmol.atoms)))\n",
    "    lammps_data.write(\"{0} bonds\\r\\n\" .format(len(parmedmol.bonds)))\n",
    "    lammps_data.write(\"{0} angles\\r\\n\" .format(len(parmedmol.angles)))\n",
    "    lammps_data.write(\"{0} dihedrals\\r\\n\" .format(len(parmedmol.dihedrals)))\n",
    "    lammps_data.write(\"{0} impropers\\r\\n\" .format(len(parmedmol.impropers)))\n",
    "    \n",
    "    lammps_data.write(\"\\r\\n\")\n",
    "    \n",
    "    max_idx = 0\n",
    "    for nonbond_idx in parmedmol.LJ_types.itervalues():\n",
    "        if(nonbond_idx > max_idx):\n",
    "            max_idx = nonbond_idx\n",
    "\n",
    "    lammps_data.write(\"{0} atom types\\r\\n\" .format(max_idx))\n",
    "    lammps_data.write(\"{0} bond types\\r\\n\" .format(len(parmedmol.bond_types)))\n",
    "    lammps_data.write(\"{0} angle types\\r\\n\" .format(len(parmedmol.angle_types)))\n",
    "    lammps_data.write(\"{0} dihedral types\\r\\n\" .format(len(parmedmol.dihedral_types)))\n",
    "    lammps_data.write(\"{0} improper types\\r\\n\" .format(len(parmedmol.improper_types)))\n",
    "    \n",
    "    lammps_data.write(\"\\r\\n\")\n",
    "\n",
    "    # box size\n",
    "    # calculate lo and hi points\n",
    "    xlo = xhi = ylo = yhi = zlo = zhi = None\n",
    "    for atom in mdmol.atoms:\n",
    "        if xlo == None:\n",
    "            xlo = atom.x.value_in(u.angstrom)\n",
    "            xhi = atom.x.value_in(u.angstrom)\n",
    "            ylo = atom.y.value_in(u.angstrom)\n",
    "            yhi = atom.y.value_in(u.angstrom)\n",
    "            zlo = atom.z.value_in(u.angstrom)\n",
    "            zhi = atom.z.value_in(u.angstrom)\n",
    "        else:\n",
    "            xlo = min(xlo, atom.x.value_in(u.angstrom))\n",
    "            xhi = max(xhi, atom.x.value_in(u.angstrom))\n",
    "            ylo = min(ylo, atom.y.value_in(u.angstrom))\n",
    "            yhi = max(yhi, atom.y.value_in(u.angstrom))\n",
    "            zlo = min(zlo, atom.z.value_in(u.angstrom))\n",
    "            zhi = max(zhi, atom.z.value_in(u.angstrom))\n",
    "\n",
    "    lammps_data.write(\"{0} {1} xlo xhi\\r\\n\" .format(xlo, xhi))\n",
    "    lammps_data.write(\"{0} {1} ylo yhi\\r\\n\" .format(ylo, yhi))\n",
    "    lammps_data.write(\"{0} {1} zlo zhi\\r\\n\" .format(zlo, zhi))\n",
    "    \n",
    "    lammps_data.write(\"\\r\\n\")\n",
    "\n",
    "    # print masses -- Number of atom types\n",
    "    lammps_data.write(\"Masses\\r\\n\\r\\n\")\n",
    "    for i in range(1, max_idx+1):\n",
    "        for atom in parmedmol.atoms:\n",
    "            if atom.nb_idx == i:\n",
    "                lammps_data.write(\"{0} {1}\\r\\n\" .format(i, atom.mass))\n",
    "                break\n",
    "    \n",
    "    lammps_data.write(\"\\r\\n\")\n",
    "    \n",
    "\n",
    "    # Pair Coeffs -- Number of atom types\n",
    "    lammps_data.write(\"Pair Coeffs\\r\\n\\r\\n\")\n",
    "    for i in range(1, max_idx+1):\n",
    "        for atom in parmedmol.atoms:\n",
    "            if atom.nb_idx == i:\n",
    "                lammps_data.write(\"{0} {1} {2} {3} {4}\\r\\n\" .format(i, atom.epsilon, atom.sigma, \n",
    "                                                                    atom.epsilon_14, atom.sigma_14))\n",
    "                break\n",
    "    \n",
    "    lammps_data.write(\"\\r\\n\")\n",
    "    \n",
    "\n",
    "    # Bond Coeffs - Harmonic\n",
    "    if parmedmol.bond_types:\n",
    "        lammps_data.write(\"Bond Coeffs\\r\\n\\r\\n\")\n",
    "        for bt in parmedmol.bond_types:\n",
    "            lammps_data.write(\"{0} {1} {2}\\r\\n\" .format(bt.idx+1, bt.k, bt.req))\n",
    "        \n",
    "        lammps_data.write(\"\\r\\n\")\n",
    "\n",
    "\n",
    "    # Angle Coeffs - Harmonic\n",
    "    if parmedmol.angle_types:\n",
    "        lammps_data.write(\"Angle Coeffs\\r\\n\\r\\n\")\n",
    "        for at in parmedmol.angle_types:\n",
    "            lammps_data.write(\"{0} {1} {2}\\r\\n\" .format(at.idx+1, at.k, at.theteq))\n",
    "       \n",
    "        lammps_data.write(\"\\r\\n\")\n",
    "\n",
    "\n",
    "    # Dihedral Coeffs - Charmm\n",
    "    if parmedmol.dihedral_types:\n",
    "        lammps_data.write(\"Dihedral Coeffs\\r\\n\\r\\n\")\n",
    "        for dt in parmedmol.dihedral_types:\n",
    "            lammps_data.write(\"{0} {1} {2} {3} {4}\\r\\n\" .format(dt.idx+1, dt.phi_k, dt.per, \n",
    "                (180 if dt.phase >= 180 else 0), \n",
    "                (1.0 if dt.scnb == 1.0 else 0.0)))\n",
    "        \n",
    "        lammps_data.write(\"\\r\\n\")\n",
    "\n",
    "\n",
    "    # Improper Coeffs - Harmonic\n",
    "    if parmedmol.improper_types:\n",
    "        lammps_data.write(\"Improper Coeffs\\r\\n\\r\\n\")\n",
    "        for it in parmedmol.improper_types:\n",
    "            print\n",
    "            lammps_data.write(\"{0} {1} {2}\\r\\n\" .format(it.idx+1, it.psi_k, it.psi_eq))\n",
    "        \n",
    "        lammps_data.write(\"\\r\\n\")\n",
    "\n",
    "\n",
    "    # print atoms\n",
    "    lammps_data.write(\"Atoms\\r\\n\\r\\n\")\n",
    "    for atom in parmedmol.atoms:\n",
    "        lammps_data.write(\"{0} {1} {2} {3} \" .format(atom.idx+1, atom.residue.idx, atom.nb_idx, atom.charge))\n",
    "        if not mdmol.positions.any():        \n",
    "            lammps_data.write(\"{0} {1} {2} \" .format(0.00, 0.00, 0.00))        \n",
    "        else:\n",
    "            pos = mdmol.positions[atom.idx]\n",
    "            lammps_data.write(\"{0} {1} {2} \" .format(pos[0].value_in(u.angstrom), pos[1].value_in(u.angstrom), \n",
    "                pos[2].value_in(u.angstrom)))\n",
    "        lammps_data.write(\"{0} {1} {2}\\r\\n\" .format(0, 0, 0)) # nx, ny, nz not defined    \n",
    "\n",
    "    lammps_data.write(\"\\r\\n\")\n",
    "\n",
    "\n",
    "    # print velocities\n",
    "    lammps_data.write(\"Velocities\\r\\n\\r\\n\")\n",
    "    for atom in mdmol.atoms:\n",
    "        xvel = atom.vx.value_in(u.angstrom/u.fs)\n",
    "        yvel = atom.vy.value_in(u.angstrom/u.fs)\n",
    "        zvel = atom.vz.value_in(u.angstrom/u.fs)\n",
    "        lammps_data.write(\"{0} {1} {2} {3}\\r\\n\" .format(atom.index+1, xvel, yvel, zvel))\n",
    "        \n",
    "    lammps_data.write(\"\\r\\n\")\n",
    "\n",
    "\n",
    "    # print bonds\n",
    "    lammps_data.write(\"Bonds\\r\\n\\r\\n\")\n",
    "    for idx, bond in enumerate(parmedmol.bonds):\n",
    "        lammps_data.write(\"{0} {1} {2} {3}\\r\\n\" .format(idx+1, bond.type.idx+1, \n",
    "          bond.atom1.idx+1, bond.atom2.idx+1))\n",
    "        \n",
    "    lammps_data.write(\"\\r\\n\")\n",
    "\n",
    "\n",
    "    # print angles\n",
    "    lammps_data.write(\"Angles\\r\\n\\r\\n\")\n",
    "    for idx, angle in enumerate(parmedmol.angles):\n",
    "        lammps_data.write(\"{0} {1} {2} {3} {4}\\r\\n\" .format(idx+1, angle.type.idx+1,\n",
    "          angle.atom1.idx+1, \n",
    "          angle.atom2.idx+1, angle.atom3.idx+1))\n",
    "        \n",
    "    lammps_data.write(\"\\r\\n\")\n",
    "\n",
    "\n",
    "    # print dihedrals\n",
    "    if parmedmol.dihedrals:\n",
    "        lammps_data.write(\"Dihedrals\\r\\n\\r\\n\")\n",
    "        for idx, di in enumerate(parmedmol.dihedrals):\n",
    "            lammps_data.write(\"{0} {1} {2} {3} {4} {5}\\r\\n\" .format(idx+1, di.type.idx+1, \n",
    "              di.atom1.idx+1, di.atom2.idx+1, \n",
    "              di.atom3.idx+1, di.atom4.idx+1))\n",
    "            \n",
    "        lammps_data.write(\"\\r\\n\")\n",
    "\n",
    "\n",
    "    # print impropers\n",
    "    if parmedmol.impropers:\n",
    "        lammps_data.write(\"Impropers\\r\\n\\r\\n\")\n",
    "        for im in parmedmol.impropers:\n",
    "            lammps_data.write(\"{0} {1} {2} {3} {4} {5}\\r\\n\" .format(im.idx+1, im.type.idx+1, \n",
    "              im.atom1.idx+1, im.atom2.idx+1, \n",
    "              im.atom3.idx+1, im.atom4.idx+1))\n",
    "        \n",
    "        lammps_data.write(\"\\r\\n\")\n",
    "\n",
    "    \n",
    "    lammps_data.close()\n",
    "    return filePath"
   ]
  },
  {
   "cell_type": "code",
   "execution_count": null,
   "metadata": {
    "collapsed": false
   },
   "outputs": [],
   "source": [
    "name = formatLammpsData('test')"
   ]
  },
  {
   "cell_type": "code",
   "execution_count": null,
   "metadata": {
    "collapsed": false
   },
   "outputs": [],
   "source": [
    "def prepareLammps(dataPath):\n",
    "    L.command(\"units real\")\n",
    "    L.command(\"atom_style full\")\n",
    "    L.command(\"pair_style lj/charmm/coul/long 8.0 10.0 10.0\")\n",
    "    L.command(\"bond_style harmonic\")\n",
    "    L.command(\"angle_style harmonic\")\n",
    "    L.command(\"dihedral_style charmm\")\n",
    "    L.command(\"improper_style harmonic\")\n",
    "    L.command(\"kspace_style pppm 0.0001\")\n",
    "    L.command(\"read_data \" + dataPath)\n",
    "\n",
    "def calculateEnergy(timeStep, outputFreq):\n",
    "    #L.command(\"timestep \" + str(round(timeStep,1)))\n",
    "    L.command(\"thermo_style custom step temp pe etotal\")\n",
    "    #L.command(\"thermo \" + str(outputFreq))\n",
    "\n",
    "            \n",
    "def groupHydrogens():\n",
    "    groupCommand = \"group hbonds type\"\n",
    "    for nonbond_name, nonbond_idx in parmedmol.LJ_types.iteritems():\n",
    "        if(nonbond_name[0] == 'H'):\n",
    "            groupCommand = groupCommand + \" \" + str(nonbond_idx)\n",
    "    L.command(groupCommand)\n",
    "    \n",
    "    \n",
    "def runNvt(timeStep, temp, damp, outputFreq, applyShake):\n",
    "    L.command(\"neighbor 2.0 bin\")\n",
    "    #L.command(\"neigh_modify delay 5\")\n",
    "    L.command(\"timestep \" + str(round(timeStep,1)))\n",
    "    L.command(\"thermo_style custom step temp pe etotal\")\n",
    "    L.command(\"thermo \" + str(outputFreq))\n",
    "    nvt_command = \"fix 1 all nvt temp {0} {1} {2}\" .format(round(temp,1), round(temp,1), round(damp, 3))\n",
    "    L.command(nvt_command)\n",
    "    if(applyShake):\n",
    "        groupHydrogens()\n",
    "        shake_command = \"fix 2 hbonds rattle 0.0001 20 0 t 5 6 m 1.0 a 31\"\n",
    "        L.command(shake_command)\n"
   ]
  },
  {
   "cell_type": "code",
   "execution_count": null,
   "metadata": {
    "collapsed": false
   },
   "outputs": [],
   "source": [
    "from lammps import lammps, PyLammps"
   ]
  },
  {
   "cell_type": "code",
   "execution_count": null,
   "metadata": {
    "collapsed": false
   },
   "outputs": [],
   "source": [
    "lmp = lammps()\n",
    "L = PyLammps(ptr=lmp)"
   ]
  },
  {
   "cell_type": "code",
   "execution_count": null,
   "metadata": {
    "collapsed": false
   },
   "outputs": [],
   "source": [
    "prepareLammps(name)"
   ]
  },
  {
   "cell_type": "code",
   "execution_count": null,
   "metadata": {
    "collapsed": false
   },
   "outputs": [],
   "source": [
    "print \"Before Evaluation\"\n",
    "print L.atoms[1012].position\n",
    "print L.atoms[1012].velocity\n",
    "print L.atoms[1012].force"
   ]
  },
  {
   "cell_type": "code",
   "execution_count": null,
   "metadata": {
    "collapsed": false
   },
   "outputs": [],
   "source": [
    "calculateEnergy(1.0, 10)\n",
    "L.run(1000)\n",
    "print L.eval(\"pe\")\n"
   ]
  },
  {
   "cell_type": "code",
   "execution_count": null,
   "metadata": {
    "collapsed": false
   },
   "outputs": [],
   "source": [
    "print L.atoms.natoms\n",
    "#for i in range(0, L.atoms.natoms):\n",
    "    #print L.atoms[i].force"
   ]
  },
  {
   "cell_type": "code",
   "execution_count": null,
   "metadata": {
    "collapsed": false
   },
   "outputs": [],
   "source": [
    "print \"After Evaluation\"\n",
    "print L.atoms[1012].position\n",
    "print L.atoms[1012].velocity\n",
    "print L.atoms[1012].force"
   ]
  },
  {
   "cell_type": "code",
   "execution_count": null,
   "metadata": {
    "collapsed": false
   },
   "outputs": [],
   "source": [
    "del L\n",
    "del lmp\n",
    "\n",
    "lmp = lammps()\n",
    "L = PyLammps(ptr=lmp)"
   ]
  },
  {
   "cell_type": "code",
   "execution_count": null,
   "metadata": {
    "collapsed": false
   },
   "outputs": [],
   "source": [
    "prepareLammps(name)"
   ]
  },
  {
   "cell_type": "code",
   "execution_count": null,
   "metadata": {
    "collapsed": false
   },
   "outputs": [],
   "source": [
    "print \"Before Simulation\"\n",
    "print L.atoms[1012].position\n",
    "print L.atoms[1012].velocity\n",
    "print L.atoms[1012].force"
   ]
  },
  {
   "cell_type": "code",
   "execution_count": null,
   "metadata": {
    "collapsed": true
   },
   "outputs": [],
   "source": [
    "runNvt(1.0, 300, 100, 10, True)\n"
   ]
  },
  {
   "cell_type": "code",
   "execution_count": null,
   "metadata": {
    "collapsed": true
   },
   "outputs": [],
   "source": [
    "# shake_command = \"fix 2 hbonds shake 0.0001 10 0 b 4 6 8 10 12 14 18 a 31\"\n",
    "# L.command(shake_command)\n"
   ]
  },
  {
   "cell_type": "code",
   "execution_count": null,
   "metadata": {
    "collapsed": false
   },
   "outputs": [],
   "source": [
    "L.run(200)"
   ]
  },
  {
   "cell_type": "code",
   "execution_count": null,
   "metadata": {
    "collapsed": false
   },
   "outputs": [],
   "source": [
    "print \"After Simulation\"\n",
    "print L.atoms[1012].position\n",
    "print L.atoms[1012].velocity\n",
    "print L.atoms[1012].force"
   ]
  },
  {
   "cell_type": "code",
   "execution_count": null,
   "metadata": {
    "collapsed": false
   },
   "outputs": [],
   "source": [
    "#"
   ]
  },
  {
   "cell_type": "code",
   "execution_count": null,
   "metadata": {
    "collapsed": false
   },
   "outputs": [],
   "source": [
    "# mdmol.draw3d() 17"
   ]
  },
  {
   "cell_type": "code",
   "execution_count": null,
   "metadata": {
    "collapsed": true
   },
   "outputs": [],
   "source": []
  },
  {
   "cell_type": "code",
   "execution_count": null,
   "metadata": {
    "collapsed": false
   },
   "outputs": [],
   "source": [
    "for j in range(0, 10):\n",
    "    L.run(200)\n",
    "    print \"After Simulation\"\n",
    "    print L.atoms[1012].position\n",
    "    print L.atoms[1012].velocity\n",
    "    print L.atoms[1012].force\n",
    "    "
   ]
  },
  {
   "cell_type": "code",
   "execution_count": null,
   "metadata": {
    "collapsed": false
   },
   "outputs": [],
   "source": [
    "L.run(10)"
   ]
  },
  {
   "cell_type": "code",
   "execution_count": null,
   "metadata": {
    "collapsed": false
   },
   "outputs": [],
   "source": [
    "for j in range(0, 10):\n",
    "    L.run(1)\n",
    "    print \"After Simulation\"\n",
    "    print L.atoms[1012].position\n",
    "    print L.atoms[1012].velocity\n",
    "    print L.atoms[1012].force"
   ]
  },
  {
   "cell_type": "code",
   "execution_count": null,
   "metadata": {
    "collapsed": false
   },
   "outputs": [],
   "source": [
    "print L.atoms.natoms\n",
    "i = 0\n",
    "for atom in mdmol.velocities:\n",
    "    i+=1\n",
    "print i\n",
    "\n"
   ]
  },
  {
   "cell_type": "code",
   "execution_count": null,
   "metadata": {
    "collapsed": false
   },
   "outputs": [],
   "source": []
  },
  {
   "cell_type": "code",
   "execution_count": null,
   "metadata": {
    "collapsed": false
   },
   "outputs": [],
   "source": []
  },
  {
   "cell_type": "code",
   "execution_count": null,
   "metadata": {
    "collapsed": false
   },
   "outputs": [],
   "source": []
  },
  {
   "cell_type": "code",
   "execution_count": null,
   "metadata": {
    "collapsed": false
   },
   "outputs": [],
   "source": []
  },
  {
   "cell_type": "code",
   "execution_count": null,
   "metadata": {
    "collapsed": true
   },
   "outputs": [],
   "source": []
  }
 ],
 "metadata": {
  "kernelspec": {
   "display_name": "Python 2",
   "language": "python",
   "name": "python2"
  },
  "language_info": {
   "codemirror_mode": {
    "name": "ipython",
    "version": 2
   },
   "file_extension": ".py",
   "mimetype": "text/x-python",
   "name": "python",
   "nbconvert_exporter": "python",
   "pygments_lexer": "ipython2",
   "version": "2.7.13"
  }
 },
 "nbformat": 4,
 "nbformat_minor": 2
}
