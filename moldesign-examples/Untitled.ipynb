{
 "cells": [
  {
   "cell_type": "code",
   "execution_count": 1,
   "metadata": {
    "collapsed": false
   },
   "outputs": [
    {
     "name": "stdout",
     "output_type": "stream",
     "text": [
      "OpenMM could not be imported; using remote docker container\n",
      "PDBFixer could not be imported; using remote docker container\n",
      "PySCF not installed; using remote docker container\n",
      "Reading configuration from /Users/t_leeday/.moldesign/moldesign.yml\n"
     ]
    }
   ],
   "source": [
    "import moldesign as mdt\n",
    "import moldesign.units as u"
   ]
  },
  {
   "cell_type": "code",
   "execution_count": 6,
   "metadata": {
    "collapsed": false
   },
   "outputs": [],
   "source": [
    "#mdt.configure()\n"
   ]
  },
  {
   "cell_type": "code",
   "execution_count": 7,
   "metadata": {
    "collapsed": false
   },
   "outputs": [],
   "source": [
    "molecule = mdt.from_pdb('1yu8')"
   ]
  },
  {
   "cell_type": "code",
   "execution_count": 8,
   "metadata": {
    "collapsed": false
   },
   "outputs": [
    {
     "data": {
      "text/markdown": [
       "### Molecule: \"1yu8\" (600 atoms)\n",
       "\n",
       "<a href=\"http://www.rcsb.org/pdb/explore.do?structureId=1yu8\" target=\"_blank\">HIGH-RESOLUTION CRYSTAL STRUCTURES OF VILLIN HEADPIECE AND MUTANTS WITH REDUCED F-ACTIN BINDING ACTIVITY.</a>\n",
       "\n",
       "**Mass**: 8150.00 amu\n",
       "\n",
       "**Formula**: C<sub>325</sub>N<sub>85</sub>O<sub>189</sub>S<sub>1</sub>\n",
       "\n",
       "**Charge**: 0.0 elementary_charge\n",
       "\n",
       "### Residues\n",
       "\n",
       "| chain | protein | dna | rna | unknown | water | solvent |\n",
       "|-|-|-|-|-|-|-|-|\n",
       "| <b>X</b> | 64 |  |  |  | 92 |  ||\n",
       "\n",
       "### Biopolymer chains\n",
       "\n",
       "**X**: <span style=\"word-wrap:break-word;font-family:monospace\"><span title=\"PRO10 (MISSING), chain X\" style=\"color:Red\">P</span><span title=\"THR11 (MISSING), chain X\" style=\"color:Red\">T</span><span title=\"LYS12 (MISSING), chain X\" style=\"color:Red\">K</span><span title=\"LEU13 (idx 0), chain X\">L</span><span title=\"GLU14 (idx 1), chain X\">E</span><span title=\"THR15 (idx 2), chain X\">T</span><span title=\"PHE16 (idx 3), chain X\">F</span><span title=\"PRO17 (idx 4), chain X\">P</span><span title=\"LEU18 (idx 5), chain X\">L</span><span title=\"ASP19 (idx 6), chain X\">D</span><span title=\"VAL20 (idx 7), chain X\">V</span><span title=\"LEU21 (idx 8), chain X\">L</span><span title=\"VAL22 (idx 9), chain X\">V</span><span title=\"ASN23 (idx 10), chain X\">N</span><span title=\"THR24 (idx 11), chain X\">T</span><span title=\"ALA25 (idx 12), chain X\">A</span><span title=\"ALA26 (idx 13), chain X\">A</span><span title=\"GLU27 (idx 14), chain X\">E</span><span title=\"ASP28 (idx 15), chain X\">D</span><span title=\"LEU29 (idx 16), chain X\">L</span><span title=\"PRO30 (idx 17), chain X\">P</span><span title=\"ARG31 (idx 18), chain X\">R</span><span title=\"GLY32 (idx 19), chain X\">G</span><span title=\"VAL33 (idx 20), chain X\">V</span><span title=\"ASP34 (idx 21), chain X\">D</span><span title=\"PRO35 (idx 22), chain X\">P</span><span title=\"SER36 (idx 23), chain X\">S</span><span title=\"ALA37 (idx 24), chain X\">A</span><span title=\"LYS38 (idx 25), chain X\">K</span><span title=\"GLU39 (idx 26), chain X\">E</span><span title=\"ASN40 (idx 27), chain X\">N</span><span title=\"HIS41 (idx 28), chain X\">H</span><span title=\"LEU42 (idx 29), chain X\">L</span><span title=\"SER43 (idx 30), chain X\">S</span><span title=\"ASP44 (idx 31), chain X\">D</span><span title=\"GLU45 (idx 32), chain X\">E</span><span title=\"ASP46 (idx 33), chain X\">D</span><span title=\"PHE47 (idx 34), chain X\">F</span><span title=\"LYS48 (idx 35), chain X\">K</span><span title=\"ALA49 (idx 36), chain X\">A</span><span title=\"VAL50 (idx 37), chain X\">V</span><span title=\"PHE51 (idx 38), chain X\">F</span><span title=\"GLY52 (idx 39), chain X\">G</span><span title=\"MET53 (idx 40), chain X\">M</span><span title=\"THR54 (idx 41), chain X\">T</span><span title=\"ARG55 (idx 42), chain X\">R</span><span title=\"SER56 (idx 43), chain X\">S</span><span title=\"ALA57 (idx 44), chain X\">A</span><span title=\"PHE58 (idx 45), chain X\">F</span><span title=\"ALA59 (idx 46), chain X\">A</span><span title=\"ASN60 (idx 47), chain X\">N</span><span title=\"LEU61 (idx 48), chain X\">L</span><span title=\"PRO62 (idx 49), chain X\">P</span><span title=\"LEU63 (idx 50), chain X\">L</span><span title=\"TRP64 (idx 51), chain X\">W</span><span title=\"LYS65 (idx 52), chain X\">K</span><span title=\"GLN66 (idx 53), chain X\">Q</span><span title=\"GLN67 (idx 54), chain X\">Q</span><span title=\"ASN68 (idx 55), chain X\">N</span><span title=\"LEU69 (idx 56), chain X\">L</span><span title=\"LYS70 (idx 57), chain X\">K</span><span title=\"LYS71 (idx 58), chain X\">K</span><span title=\"GLU72 (idx 59), chain X\">E</span><span title=\"LYS73 (idx 60), chain X\">K</span><span title=\"GLY74 (idx 61), chain X\">G</span><span title=\"LEU75 (idx 62), chain X\">L</span><span title=\"PHE76 (idx 63), chain X\">F</span></span>"
      ],
      "text/plain": [
       "<1yu8 (Molecule), 600 atoms>"
      ]
     },
     "execution_count": 8,
     "metadata": {},
     "output_type": "execute_result"
    }
   ],
   "source": [
    "molecule\n",
    "#molecule = mdt.Molecule([res for res in molecule.residues if res.type == 'protein'])"
   ]
  },
  {
   "cell_type": "code",
   "execution_count": 9,
   "metadata": {
    "collapsed": false
   },
   "outputs": [
    {
     "data": {
      "application/vnd.jupyter.widget-view+json": {
       "model_id": "e80ad36f82394c6fa0bf86ea8dece06c"
      }
     },
     "metadata": {},
     "output_type": "display_data"
    }
   ],
   "source": [
    "molecule.draw()\n",
    "#len(molecule.atoms)"
   ]
  },
  {
   "cell_type": "code",
   "execution_count": 10,
   "metadata": {
    "collapsed": false
   },
   "outputs": [],
   "source": [
    "import parmed as med"
   ]
  },
  {
   "cell_type": "code",
   "execution_count": 11,
   "metadata": {
    "collapsed": false
   },
   "outputs": [
    {
     "name": "stdout",
     "output_type": "stream",
     "text": [
      "Connecting to docker host at unix://var/run/docker.sock... done\n"
     ]
    },
    {
     "data": {
      "application/vnd.jupyter.widget-view+json": {
       "model_id": "cb7226d0596a421197ee11ea965cbe69"
      }
     },
     "metadata": {},
     "output_type": "display_data"
    }
   ],
   "source": [
    "mdmol = mdt.assign_forcefield(molecule)"
   ]
  },
  {
   "cell_type": "code",
   "execution_count": 12,
   "metadata": {
    "collapsed": false
   },
   "outputs": [],
   "source": [
    "mdmol.ff.amber_params.prmtop.put('/tmp/tmp.prmtop')\n",
    "parmedmol = med.load_file('/tmp/tmp.prmtop')"
   ]
  },
  {
   "cell_type": "code",
   "execution_count": 13,
   "metadata": {
    "collapsed": false
   },
   "outputs": [
    {
     "data": {
      "text/plain": [
       "0"
      ]
     },
     "execution_count": 13,
     "metadata": {},
     "output_type": "execute_result"
    }
   ],
   "source": [
    "# mdmol.draw()\n",
    "atom = mdmol.atoms[0]\n",
    "atom.index"
   ]
  },
  {
   "cell_type": "code",
   "execution_count": 14,
   "metadata": {
    "collapsed": false
   },
   "outputs": [
    {
     "name": "stdout",
     "output_type": "stream",
     "text": [
      "10.367 ang\n",
      "[ 10.367  29.903  18.753]\n"
     ]
    }
   ],
   "source": [
    "print atom.position[0]\n",
    "print atom.position.value_in(u.angstrom)"
   ]
  },
  {
   "cell_type": "code",
   "execution_count": 15,
   "metadata": {
    "collapsed": true
   },
   "outputs": [],
   "source": [
    "import tempfile\n",
    "import shutil\n",
    "import os"
   ]
  },
  {
   "cell_type": "code",
   "execution_count": 16,
   "metadata": {
    "collapsed": false
   },
   "outputs": [],
   "source": [
    "\n",
    "\n",
    "# In order to simluate using LAMMPS, we need:\n",
    "#   get molecule from pdb, cif, or name\n",
    "#   assign forcefields\n",
    "#   load parmed structure\n",
    "\n",
    "\n",
    "# LAMMPS UNITS:\n",
    "# For style real, these are the units:\n",
    "\n",
    "# mass = grams/mole\n",
    "# distance = Angstroms\n",
    "# time = femtoseconds\n",
    "# energy = Kcal/mole\n",
    "# velocity = Angstroms/femtosecond\n",
    "# force = Kcal/mole-Angstrom\n",
    "# torque = Kcal/mole\n",
    "# temperature = Kelvin\n",
    "# pressure = atmospheres\n",
    "# dynamic viscosity = Poise\n",
    "# charge = multiple of electron charge (1.0 is a proton)\n",
    "# dipole = charge*Angstroms\n",
    "# electric field = volts/Angstrom\n",
    "# density = gram/cm^dim\n",
    "\n",
    "# See http://parmed.github.io/ParmEd/html/index.html for ParmEd units\n",
    "\n",
    "def formatLammpsData(lammps_data):\n",
    "    predictable_filename = 'data.lammps_molecule'\n",
    "    path = os.path.join(tmpdir, predictable_filename)\n",
    "\n",
    "    with open(path, \"w\") as lammps_data:\n",
    "\n",
    "        # print description\n",
    "        lammps_data.write(\"LAMMPS Description\\r\\n\\r\\n\")\n",
    "        lammps_data.write(\"{0} atoms\\r\\n\" .format(len(parmedmol.atoms)))\n",
    "        lammps_data.write(\"{0} bonds\\r\\n\" .format(len(parmedmol.bonds)))\n",
    "        lammps_data.write(\"{0} angles\\r\\n\" .format(len(parmedmol.angles)))\n",
    "        lammps_data.write(\"{0} dihedrals\\r\\n\" .format(len(parmedmol.dihedrals)))\n",
    "        lammps_data.write(\"{0} impropers\\r\\n\" .format(len(parmedmol.impropers)))\n",
    "\n",
    "        lammps_data.write(\"\\r\\n\")\n",
    "\n",
    "        max_idx = 0\n",
    "        for nonbond_idx in parmedmol.LJ_types.itervalues():\n",
    "            if(nonbond_idx > max_idx):\n",
    "                max_idx = nonbond_idx\n",
    "\n",
    "        lammps_data.write(\"{0} atom types\\r\\n\" .format(max_idx))\n",
    "        lammps_data.write(\"{0} bond types\\r\\n\" .format(len(parmedmol.bond_types)))\n",
    "        lammps_data.write(\"{0} angle types\\r\\n\" .format(len(parmedmol.angle_types)))\n",
    "        lammps_data.write(\"{0} dihedral types\\r\\n\" .format(len(parmedmol.dihedral_types)))\n",
    "        lammps_data.write(\"{0} improper types\\r\\n\" .format(len(parmedmol.improper_types)))\n",
    "\n",
    "        lammps_data.write(\"\\r\\n\")\n",
    "\n",
    "        # box size\n",
    "        # calculate lo and hi points\n",
    "        xlo = xhi = ylo = yhi = zlo = zhi = None\n",
    "        for atom in mdmol.atoms:\n",
    "            if xlo == None:\n",
    "                xlo = atom.x.value_in(u.angstrom)\n",
    "                xhi = atom.x.value_in(u.angstrom)\n",
    "                ylo = atom.y.value_in(u.angstrom)\n",
    "                yhi = atom.y.value_in(u.angstrom)\n",
    "                zlo = atom.z.value_in(u.angstrom)\n",
    "                zhi = atom.z.value_in(u.angstrom)\n",
    "            else:\n",
    "                xlo = min(xlo, atom.x.value_in(u.angstrom))\n",
    "                xhi = max(xhi, atom.x.value_in(u.angstrom))\n",
    "                ylo = min(ylo, atom.y.value_in(u.angstrom))\n",
    "                yhi = max(yhi, atom.y.value_in(u.angstrom))\n",
    "                zlo = min(zlo, atom.z.value_in(u.angstrom))\n",
    "                zhi = max(zhi, atom.z.value_in(u.angstrom))\n",
    "\n",
    "        lammps_data.write(\"{0} {1} xlo xhi\\r\\n\" .format(xlo, xhi))\n",
    "        lammps_data.write(\"{0} {1} ylo yhi\\r\\n\" .format(ylo, yhi))\n",
    "        lammps_data.write(\"{0} {1} zlo zhi\\r\\n\" .format(zlo, zhi))\n",
    "\n",
    "        lammps_data.write(\"\\r\\n\")\n",
    "\n",
    "        # print masses -- Number of atom types\n",
    "        lammps_data.write(\"Masses\\r\\n\\r\\n\")\n",
    "        for i in range(1, max_idx+1):\n",
    "            for atom in parmedmol.atoms:\n",
    "                if atom.nb_idx == i:\n",
    "                    lammps_data.write(\"{0} {1}\\r\\n\" .format(i, atom.mass))\n",
    "                    break\n",
    "\n",
    "        lammps_data.write(\"\\r\\n\")\n",
    "\n",
    "\n",
    "        # Pair Coeffs -- Number of atom types\n",
    "        lammps_data.write(\"Pair Coeffs\\r\\n\\r\\n\")\n",
    "        for i in range(1, max_idx+1):\n",
    "            for atom in parmedmol.atoms:\n",
    "                if atom.nb_idx == i:\n",
    "                    lammps_data.write(\"{0} {1} {2} {3} {4}\\r\\n\" .format(i, atom.epsilon, atom.sigma, \n",
    "                                                                        atom.epsilon_14, atom.sigma_14))\n",
    "                    break\n",
    "\n",
    "        lammps_data.write(\"\\r\\n\")\n",
    "\n",
    "\n",
    "        # Bond Coeffs - Harmonic\n",
    "        if parmedmol.bond_types:\n",
    "            lammps_data.write(\"Bond Coeffs\\r\\n\\r\\n\")\n",
    "            for bt in parmedmol.bond_types:\n",
    "                lammps_data.write(\"{0} {1} {2}\\r\\n\" .format(bt.idx+1, bt.k, bt.req))\n",
    "\n",
    "            lammps_data.write(\"\\r\\n\")\n",
    "\n",
    "\n",
    "        # Angle Coeffs - Harmonic\n",
    "        if parmedmol.angle_types:\n",
    "            lammps_data.write(\"Angle Coeffs\\r\\n\\r\\n\")\n",
    "            for at in parmedmol.angle_types:\n",
    "                lammps_data.write(\"{0} {1} {2}\\r\\n\" .format(at.idx+1, at.k, at.theteq))\n",
    "\n",
    "            lammps_data.write(\"\\r\\n\")\n",
    "\n",
    "\n",
    "        # Dihedral Coeffs - Charmm\n",
    "        if parmedmol.dihedral_types:\n",
    "            lammps_data.write(\"Dihedral Coeffs\\r\\n\\r\\n\")\n",
    "            for dt in parmedmol.dihedral_types:\n",
    "                lammps_data.write(\"{0} {1} {2} {3} {4}\\r\\n\" .format(dt.idx+1, dt.phi_k, dt.per, \n",
    "                    (180 if dt.phase >= 180 else 0), \n",
    "                    (1.0 if dt.scnb == 1.0 else 0.0)))\n",
    "\n",
    "            lammps_data.write(\"\\r\\n\")\n",
    "\n",
    "\n",
    "        # Improper Coeffs - Harmonic\n",
    "        if parmedmol.improper_types:\n",
    "            lammps_data.write(\"Improper Coeffs\\r\\n\\r\\n\")\n",
    "            for it in parmedmol.improper_types:\n",
    "                print\n",
    "                lammps_data.write(\"{0} {1} {2}\\r\\n\" .format(it.idx+1, it.psi_k, it.psi_eq))\n",
    "\n",
    "            lammps_data.write(\"\\r\\n\")\n",
    "\n",
    "\n",
    "        # print atoms\n",
    "        lammps_data.write(\"Atoms\\r\\n\\r\\n\")\n",
    "        for atom in parmedmol.atoms:\n",
    "            lammps_data.write(\"{0} {1} {2} {3} \" .format(atom.idx+1, atom.residue.idx, atom.nb_idx, atom.charge))\n",
    "            if not mdmol.positions.any():        \n",
    "                lammps_data.write(\"{0} {1} {2} \" .format(0.00, 0.00, 0.00))        \n",
    "            else:\n",
    "                pos = mdmol.positions[atom.idx]\n",
    "                lammps_data.write(\"{0} {1} {2} \" .format(pos[0].value_in(u.angstrom), pos[1].value_in(u.angstrom), \n",
    "                    pos[2].value_in(u.angstrom)))\n",
    "            lammps_data.write(\"{0} {1} {2}\\r\\n\" .format(0, 0, 0)) # nx, ny, nz not defined    \n",
    "\n",
    "        lammps_data.write(\"\\r\\n\")\n",
    "\n",
    "\n",
    "        # print velocities\n",
    "        lammps_data.write(\"Velocities\\r\\n\\r\\n\")\n",
    "        for atom in mdmol.atoms:\n",
    "            xvel = atom.vx.value_in(u.angstrom/u.fs)\n",
    "            yvel = atom.vy.value_in(u.angstrom/u.fs)\n",
    "            zvel = atom.vz.value_in(u.angstrom/u.fs)\n",
    "            lammps_data.write(\"{0} {1} {2} {3}\\r\\n\" .format(atom.index+1, xvel, yvel, zvel))\n",
    "\n",
    "        lammps_data.write(\"\\r\\n\")\n",
    "\n",
    "\n",
    "        # print bonds\n",
    "        lammps_data.write(\"Bonds\\r\\n\\r\\n\")\n",
    "        for idx, bond in enumerate(parmedmol.bonds):\n",
    "            lammps_data.write(\"{0} {1} {2} {3}\\r\\n\" .format(idx+1, bond.type.idx+1, \n",
    "              bond.atom1.idx+1, bond.atom2.idx+1))\n",
    "\n",
    "        lammps_data.write(\"\\r\\n\")\n",
    "\n",
    "\n",
    "        # print angles\n",
    "        lammps_data.write(\"Angles\\r\\n\\r\\n\")\n",
    "        for idx, angle in enumerate(parmedmol.angles):\n",
    "            lammps_data.write(\"{0} {1} {2} {3} {4}\\r\\n\" .format(idx+1, angle.type.idx+1,\n",
    "              angle.atom1.idx+1, \n",
    "              angle.atom2.idx+1, angle.atom3.idx+1))\n",
    "\n",
    "        lammps_data.write(\"\\r\\n\")\n",
    "\n",
    "\n",
    "        # print dihedrals\n",
    "        if parmedmol.dihedrals:\n",
    "            lammps_data.write(\"Dihedrals\\r\\n\\r\\n\")\n",
    "            for idx, di in enumerate(parmedmol.dihedrals):\n",
    "                lammps_data.write(\"{0} {1} {2} {3} {4} {5}\\r\\n\" .format(idx+1, di.type.idx+1, \n",
    "                  di.atom1.idx+1, di.atom2.idx+1, \n",
    "                  di.atom3.idx+1, di.atom4.idx+1))\n",
    "\n",
    "            lammps_data.write(\"\\r\\n\")\n",
    "\n",
    "\n",
    "        # print impropers\n",
    "        if parmedmol.impropers:\n",
    "            lammps_data.write(\"Impropers\\r\\n\\r\\n\")\n",
    "            for im in parmedmol.impropers:\n",
    "                lammps_data.write(\"{0} {1} {2} {3} {4} {5}\\r\\n\" .format(im.idx+1, im.type.idx+1, \n",
    "                  im.atom1.idx+1, im.atom2.idx+1, \n",
    "                  im.atom3.idx+1, im.atom4.idx+1))\n",
    "\n",
    "            lammps_data.write(\"\\r\\n\")\n",
    "\n",
    "    \n",
    "    #lammps_data.close()\n",
    "    return path"
   ]
  },
  {
   "cell_type": "code",
   "execution_count": 17,
   "metadata": {
    "collapsed": false
   },
   "outputs": [
    {
     "name": "stdout",
     "output_type": "stream",
     "text": [
      "/var/folders/l9/th_rqp090gg3375t46j58vsm0000gq/T/tmprmpMu4/data.lammps_molecule\n"
     ]
    }
   ],
   "source": [
    "tmpdir = tempfile.mkdtemp()\n",
    "\n",
    "saved_umask = os.umask(0077)\n",
    "\n",
    "path = formatLammpsData(tmpdir)\n",
    "print path"
   ]
  },
  {
   "cell_type": "code",
   "execution_count": 42,
   "metadata": {
    "collapsed": false
   },
   "outputs": [],
   "source": [
    "import sys\n",
    "def prepareLammps(dataPath):\n",
    "    L.command(\"units real\")\n",
    "    L.command(\"atom_style full\")\n",
    "    L.command(\"pair_style lj/charmm/coul/long 8.0 10.0 10.0\")\n",
    "    L.command(\"bond_style harmonic\")\n",
    "    L.command(\"angle_style harmonic\")\n",
    "    L.command(\"dihedral_style charmm\")\n",
    "    L.command(\"improper_style harmonic\")\n",
    "    L.command(\"kspace_style pppm 0.0001\")\n",
    "    L.command(\"read_data \" + dataPath)\n",
    "\n",
    "def calculateEnergy(timeStep, outputFreq):\n",
    "    #L.command(\"timestep \" + str(round(timeStep,1)))\n",
    "    L.command(\"thermo_style custom step temp pe etotal\")\n",
    "    #L.command(\"thermo \" + str(outputFreq))\n",
    "\n",
    "def groupWater(parmedmol):\n",
    "    min_index = sys.maxint;\n",
    "    max_index = 0;\n",
    "    for res in parmedmol.residues:\n",
    "        if res.name == 'WAT':\n",
    "            if res.idx < min_index:\n",
    "                min_index = res.idx\n",
    "            elif res.idx > max_index:\n",
    "                max_index = res.idx\n",
    "\n",
    "    water_group = \"\"\n",
    "    if(min_index != sys.maxint):\n",
    "        water_group = \"group water molecule <> {0} {1}\" .format(min_index, max_index)\n",
    "\n",
    "    return water_group\n",
    "            \n",
    "def groupHydrogens():\n",
    "    groupCommand = \"group hbonds type\"\n",
    "    for nonbond_name, nonbond_idx in parmedmol.LJ_types.iteritems():\n",
    "        if(nonbond_name[0] == 'H'):\n",
    "            groupCommand = groupCommand + \" \" + str(nonbond_idx)\n",
    "    L.command(groupCommand)\n",
    "    \n",
    "    \n",
    "def runNvt(timeStep, temp, damp, outputFreq, shakeHbonds, shakeWater):\n",
    "    L.command(\"neighbor 2.0 bin\")\n",
    "    #L.command(\"neigh_modify delay 5\")\n",
    "    L.command(\"timestep \" + str(round(timeStep,1)))\n",
    "    L.command(\"thermo_style custom step temp pe etotal\")\n",
    "    L.command(\"thermo \" + str(outputFreq))\n",
    "    nvt_command = \"fix 1 all nvt temp {0} {1} {2}\" .format(round(temp,1), round(temp,1), round(damp, 3))\n",
    "    L.command(nvt_command)\n",
    "    if(shakeHbonds):\n",
    "        groupHydrogens()\n",
    "        shake_command = \"fix 2 hbonds rattle 0.0001 20 0 t 5 6 m 1.0 a 31\"\n",
    "        L.command(shake_command)\n",
    "    if(shakeWater):\n",
    "        groupWater(parmedmol)\n",
    "        shake_command = \"fix 2 water rattle 0.0001 20 0 t 5 6 m 1.0 a 31\"\n"
   ]
  },
  {
   "cell_type": "code",
   "execution_count": 24,
   "metadata": {
    "collapsed": false
   },
   "outputs": [],
   "source": [
    "from lammps import lammps, PyLammps"
   ]
  },
  {
   "cell_type": "code",
   "execution_count": 25,
   "metadata": {
    "collapsed": false
   },
   "outputs": [
    {
     "name": "stdout",
     "output_type": "stream",
     "text": [
      "LAMMPS output is captured by PyLammps wrapper\n"
     ]
    }
   ],
   "source": [
    "lmp = lammps()\n",
    "L = PyLammps(ptr=lmp)"
   ]
  },
  {
   "cell_type": "code",
   "execution_count": 26,
   "metadata": {
    "collapsed": false
   },
   "outputs": [],
   "source": [
    "prepareLammps(path)\n",
    "# securely remove path\n",
    "os.remove(path)\n",
    "os.umask(saved_umask)\n",
    "os.rmdir(tmpdir)"
   ]
  },
  {
   "cell_type": "code",
   "execution_count": 27,
   "metadata": {
    "collapsed": false
   },
   "outputs": [
    {
     "name": "stdout",
     "output_type": "stream",
     "text": [
      "Before Evaluation\n",
      "(8.877, 11.103, 14.169)\n",
      "(0.0, 0.0, 0.0)\n",
      "(9.7611806407e-313, 9.9733802198e-313, 1.0185579799e-312)\n"
     ]
    }
   ],
   "source": [
    "print \"Before Evaluation\"\n",
    "print L.atoms[1012].position\n",
    "print L.atoms[1012].velocity\n",
    "print L.atoms[1012].force"
   ]
  },
  {
   "cell_type": "code",
   "execution_count": 28,
   "metadata": {
    "collapsed": false
   },
   "outputs": [
    {
     "name": "stdout",
     "output_type": "stream",
     "text": [
      "-4179.44402414\n",
      "(0.0, 0.0, 0.0)\n"
     ]
    }
   ],
   "source": [
    "calculateEnergy(1.0, 10)\n",
    "L.run(0)\n",
    "print L.eval(\"pe\")\n",
    "print L.atoms[1004].velocity\n",
    "\n",
    "\n"
   ]
  },
  {
   "cell_type": "code",
   "execution_count": 31,
   "metadata": {
    "collapsed": false
   },
   "outputs": [
    {
     "name": "stdout",
     "output_type": "stream",
     "text": [
      "(8.877, 11.103, 14.169)\n",
      "(0.0, 0.0, 0.0)\n",
      "(-7.6358182133318175, -7.891001958914227, 45.069846815993344)\n"
     ]
    }
   ],
   "source": [
    "print L.atoms[1012].position\n",
    "print L.atoms[1012].velocity\n",
    "print L.atoms[1012].force"
   ]
  },
  {
   "cell_type": "code",
   "execution_count": 33,
   "metadata": {
    "collapsed": false
   },
   "outputs": [
    {
     "name": "stdout",
     "output_type": "stream",
     "text": [
      "LAMMPS output is captured by PyLammps wrapper\n"
     ]
    }
   ],
   "source": [
    "del L\n",
    "del lmp\n",
    "\n",
    "lmp = lammps()\n",
    "L = PyLammps(ptr=lmp)"
   ]
  },
  {
   "cell_type": "code",
   "execution_count": 34,
   "metadata": {
    "collapsed": false
   },
   "outputs": [
    {
     "name": "stdout",
     "output_type": "stream",
     "text": [
      "/var/folders/l9/th_rqp090gg3375t46j58vsm0000gq/T/tmpvO1faK/data.lammps_molecule\n"
     ]
    }
   ],
   "source": [
    "tmpdir = tempfile.mkdtemp()\n",
    "\n",
    "saved_umask = os.umask(0077)\n",
    "\n",
    "path = formatLammpsData(tmpdir)\n",
    "print path"
   ]
  },
  {
   "cell_type": "code",
   "execution_count": 35,
   "metadata": {
    "collapsed": false
   },
   "outputs": [],
   "source": [
    "prepareLammps(path)"
   ]
  },
  {
   "cell_type": "code",
   "execution_count": 36,
   "metadata": {
    "collapsed": false
   },
   "outputs": [
    {
     "name": "stdout",
     "output_type": "stream",
     "text": [
      "Before Simulation\n",
      "(8.877, 11.103, 14.169)\n",
      "(0.0, 0.0, 0.0)\n",
      "(8.4879833793e-314, 9.44288127199e-312, 9.4216613119e-312)\n"
     ]
    }
   ],
   "source": [
    "print \"Before Simulation\"\n",
    "print L.atoms[1012].position\n",
    "print L.atoms[1012].velocity\n",
    "print L.atoms[1012].force"
   ]
  },
  {
   "cell_type": "code",
   "execution_count": 43,
   "metadata": {
    "collapsed": false
   },
   "outputs": [],
   "source": [
    "runNvt(1.0, 300, 100, 10, True, True)\n"
   ]
  },
  {
   "cell_type": "code",
   "execution_count": 44,
   "metadata": {
    "collapsed": true
   },
   "outputs": [],
   "source": [
    "# shake_command = \"fix 2 hbonds shake 0.0001 10 0 b 4 6 8 10 12 14 18 a 31\"\n",
    "# L.command(shake_command)\n"
   ]
  },
  {
   "cell_type": "code",
   "execution_count": 45,
   "metadata": {
    "collapsed": false
   },
   "outputs": [
    {
     "data": {
      "text/plain": [
       "[u'PPPM initialization ...',\n",
       " u'WARNING: System is not charge neutral, net charge = -2 (../kspace.cpp:298)',\n",
       " u'WARNING: Using 12-bit tables for long-range coulomb (../kspace.cpp:317)',\n",
       " u'  G vector (1/distance) = 0.243816',\n",
       " u'  grid = 15 15 12',\n",
       " u'  stencil order = 5',\n",
       " u'  estimated absolute RMS force accuracy = 0.0251739',\n",
       " u'  estimated relative force accuracy = 7.58106e-05',\n",
       " u'  using double precision FFTs',\n",
       " u'  3d grid and FFT values/proc = 6800 2700',\n",
       " u'Neighbor list info ...',\n",
       " u'  1 neighbor list requests',\n",
       " u'  update every 1 steps, delay 10 steps, check yes',\n",
       " u'  max neighbors/atom: 2000, page size: 100000',\n",
       " u'  master list distance cutoff = 12',\n",
       " u'  ghost atom cutoff = 12',\n",
       " u'  binsize = 6, bins = 7 6 6',\n",
       " u'Setting up Verlet run ...',\n",
       " u'  Unit style    : real',\n",
       " u'  Current step  : 0',\n",
       " u'  Time step     : 1',\n",
       " u'Memory usage per processor = 19.8786 Mbytes',\n",
       " u'Step Temp PotEng TotEng ',\n",
       " u'       0            0   -4179.4486   -4179.4486 ',\n",
       " u'      10    144.04034   -4719.4291   -4179.5844 ',\n",
       " u'      20    277.46019   -5205.5623    -4165.677 ',\n",
       " u'      30    318.82877   -5344.9672   -4150.0378 ',\n",
       " u'      40    299.26578   -5262.1432   -4140.5334 ',\n",
       " u'      50    282.67358   -5193.8539   -4134.4296 ',\n",
       " u'      60    281.08847   -5181.8761   -4128.3925 ',\n",
       " u'      70    290.65138    -5211.586   -4122.2619 ',\n",
       " u'      80    298.87635   -5236.4983    -4116.348 ',\n",
       " u'      90    297.86912   -5226.2928   -4109.9175 ',\n",
       " u'     100    302.43081    -5238.005   -4104.5331 ',\n",
       " u'     110    317.75694   -5290.1682   -4099.2559 ',\n",
       " u'     120    313.02883   -5268.8831   -4095.6912 ',\n",
       " u'     130    296.83795   -5204.5817   -4092.0711 ',\n",
       " u'     140    313.75478   -5266.4548   -4090.5421 ',\n",
       " u'     150    322.05824   -5295.3643   -4088.3312 ',\n",
       " u'     160    323.17313   -5299.7748   -4088.5633 ',\n",
       " u'     170    317.07656   -5278.2833    -4089.921 ',\n",
       " u'     180    320.49039   -5294.5648   -4093.4079 ',\n",
       " u'     190    316.16636   -5283.0967   -4098.1457 ',\n",
       " u'     200    306.23636   -5251.6167   -4103.8821 ',\n",
       " u'Loop time of 1.39493 on 1 procs for 200 steps with 1289 atoms',\n",
       " u'',\n",
       " u'Performance: 12.388 ns/day, 1.937 hours/ns, 143.377 timesteps/s',\n",
       " u'99.9% CPU use with 1 MPI tasks x no OpenMP threads',\n",
       " u'',\n",
       " u'MPI task timing breakdown:',\n",
       " u'Section |  min time  |  avg time  |  max time  |%varavg| %total',\n",
       " u'---------------------------------------------------------------',\n",
       " u'Pair    | 0.95043    | 0.95043    | 0.95043    |   0.0 | 68.13',\n",
       " u'Bond    | 0.086209   | 0.086209   | 0.086209   |   0.0 |  6.18',\n",
       " u'Kspace  | 0.2257     | 0.2257     | 0.2257     |   0.0 | 16.18',\n",
       " u'Neigh   | 0.11851    | 0.11851    | 0.11851    |   0.0 |  8.50',\n",
       " u'Comm    | 0.0045416  | 0.0045416  | 0.0045416  |   0.0 |  0.33',\n",
       " u'Output  | 0.00032425 | 0.00032425 | 0.00032425 |   0.0 |  0.02',\n",
       " u'Modify  | 0.0082233  | 0.0082233  | 0.0082233  |   0.0 |  0.59',\n",
       " u'Other   |            | 0.0009899  |            |       |  0.07',\n",
       " u'',\n",
       " u'Nlocal:    1289 ave 1289 max 1289 min',\n",
       " u'Histogram: 1 0 0 0 0 0 0 0 0 0',\n",
       " u'Nghost:    3661 ave 3661 max 3661 min',\n",
       " u'Histogram: 1 0 0 0 0 0 0 0 0 0',\n",
       " u'Neighs:    271246 ave 271246 max 271246 min',\n",
       " u'Histogram: 1 0 0 0 0 0 0 0 0 0',\n",
       " u'',\n",
       " u'Total # of neighbors = 271246',\n",
       " u'Ave neighs/atom = 210.431',\n",
       " u'Ave special neighs/atom = 9.0706',\n",
       " u'Neighbor list builds = 19',\n",
       " u'Dangerous builds = 18']"
      ]
     },
     "execution_count": 45,
     "metadata": {},
     "output_type": "execute_result"
    }
   ],
   "source": [
    "L.run(200)"
   ]
  },
  {
   "cell_type": "code",
   "execution_count": 46,
   "metadata": {
    "collapsed": false
   },
   "outputs": [
    {
     "name": "stdout",
     "output_type": "stream",
     "text": [
      "After Simulation\n",
      "(9.19494075859492, 11.451470715040097, 15.346603769920547)\n",
      "(-0.00397251412118858, -0.0015766077350572762, -0.010748494668691991)\n",
      "(0.9883842516969316, -14.583172882856926, 8.907208281244325)\n"
     ]
    }
   ],
   "source": [
    "print \"After Simulation\"\n",
    "print L.atoms[1012].position\n",
    "print L.atoms[1012].velocity\n",
    "print L.atoms[1012].force"
   ]
  },
  {
   "cell_type": "code",
   "execution_count": null,
   "metadata": {
    "collapsed": false
   },
   "outputs": [],
   "source": [
    "#"
   ]
  },
  {
   "cell_type": "code",
   "execution_count": null,
   "metadata": {
    "collapsed": false
   },
   "outputs": [],
   "source": [
    "# mdmol.draw3d() 17"
   ]
  },
  {
   "cell_type": "code",
   "execution_count": null,
   "metadata": {
    "collapsed": true
   },
   "outputs": [],
   "source": []
  },
  {
   "cell_type": "code",
   "execution_count": null,
   "metadata": {
    "collapsed": false
   },
   "outputs": [],
   "source": [
    "# for j in range(0, 10):\n",
    "#     L.run(200)\n",
    "#     print \"After Simulation\"\n",
    "#     print L.atoms[1012].position\n",
    "#     print L.atoms[1012].velocity\n",
    "#     print L.atoms[1012].force\n",
    "    "
   ]
  },
  {
   "cell_type": "code",
   "execution_count": null,
   "metadata": {
    "collapsed": false
   },
   "outputs": [],
   "source": [
    "L.run(10)"
   ]
  },
  {
   "cell_type": "code",
   "execution_count": null,
   "metadata": {
    "collapsed": false
   },
   "outputs": [],
   "source": [
    "for j in range(0, 10):\n",
    "    L.run(1)\n",
    "    print \"After Simulation\"\n",
    "    print L.atoms[1012].position\n",
    "    print L.atoms[1012].velocity\n",
    "    print L.atoms[1012].force"
   ]
  },
  {
   "cell_type": "code",
   "execution_count": null,
   "metadata": {
    "collapsed": false
   },
   "outputs": [],
   "source": [
    "print mdmol.atoms[1004].position.value_in(u.angstrom)"
   ]
  },
  {
   "cell_type": "code",
   "execution_count": null,
   "metadata": {
    "collapsed": false
   },
   "outputs": [],
   "source": [
    "print L.atoms[1004].position"
   ]
  },
  {
   "cell_type": "code",
   "execution_count": null,
   "metadata": {
    "collapsed": false
   },
   "outputs": [],
   "source": [
    "L.atoms[1004].position = mdmol.atoms[1004].position.value_in(u.angstrom)\n",
    "print L.atoms[1004].position"
   ]
  },
  {
   "cell_type": "code",
   "execution_count": null,
   "metadata": {
    "collapsed": false
   },
   "outputs": [],
   "source": [
    "print L.atoms[1004].velocity\n",
    "print mdmol.atoms[1004].velocity.value_in(u.angstrom / u.femtoseconds)"
   ]
  },
  {
   "cell_type": "code",
   "execution_count": null,
   "metadata": {
    "collapsed": false
   },
   "outputs": [],
   "source": [
    "L.atoms[1004].velocity = [0.11, 0.22, 0.33]\n",
    "print L.atoms[1004].velocity"
   ]
  },
  {
   "cell_type": "code",
   "execution_count": null,
   "metadata": {
    "collapsed": true
   },
   "outputs": [],
   "source": []
  }
 ],
 "metadata": {
  "kernelspec": {
   "display_name": "Python 2",
   "language": "python",
   "name": "python2"
  },
  "language_info": {
   "codemirror_mode": {
    "name": "ipython",
    "version": 2
   },
   "file_extension": ".py",
   "mimetype": "text/x-python",
   "name": "python",
   "nbconvert_exporter": "python",
   "pygments_lexer": "ipython2",
   "version": "2.7.13"
  }
 },
 "nbformat": 4,
 "nbformat_minor": 2
}
