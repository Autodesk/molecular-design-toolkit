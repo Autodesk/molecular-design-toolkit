{
 "cells": [
  {
   "cell_type": "code",
   "execution_count": 1,
   "metadata": {
    "collapsed": false
   },
   "outputs": [
    {
     "name": "stdout",
     "output_type": "stream",
     "text": [
      "OpenMM could not be imported; using remote docker container\n",
      "PDBFixer could not be imported; using remote docker container\n",
      "PySCF not installed; using remote docker container\n",
      "Reading configuration from /Users/t_leeday/.moldesign/moldesign.yml\n"
     ]
    }
   ],
   "source": [
    "import moldesign as mdt\n",
    "import moldesign.units as u"
   ]
  },
  {
   "cell_type": "code",
   "execution_count": 2,
   "metadata": {
    "collapsed": false
   },
   "outputs": [],
   "source": [
    "#mdt.configure()\n",
    "u."
   ]
  },
  {
   "cell_type": "code",
   "execution_count": 3,
   "metadata": {
    "collapsed": false
   },
   "outputs": [],
   "source": [
    "molecule = mdt.from_pdb('1yu8')"
   ]
  },
  {
   "cell_type": "code",
   "execution_count": 4,
   "metadata": {
    "collapsed": false
   },
   "outputs": [
    {
     "data": {
      "text/markdown": [
       "### Molecule: \"1yu8\" (600 atoms)\n",
       "\n",
       "<a href=\"http://www.rcsb.org/pdb/explore.do?structureId=1yu8\" target=\"_blank\">HIGH-RESOLUTION CRYSTAL STRUCTURES OF VILLIN HEADPIECE AND MUTANTS WITH REDUCED F-ACTIN BINDING ACTIVITY.</a>\n",
       "\n",
       "**Mass**: 8150.00 amu\n",
       "\n",
       "**Formula**: C<sub>325</sub>N<sub>85</sub>O<sub>189</sub>S<sub>1</sub>\n",
       "\n",
       "**Charge**: 0.0 elementary_charge\n",
       "\n",
       "### Residues\n",
       "\n",
       "| chain | protein | dna | rna | unknown | water | solvent |\n",
       "|-|-|-|-|-|-|-|-|\n",
       "| <b>X</b> | 64 |  |  |  | 92 |  ||\n",
       "\n",
       "### Biopolymer chains\n",
       "\n",
       "**X**: <span style=\"word-wrap:break-word;font-family:monospace\"><span title=\"PRO10 (MISSING), chain X\" style=\"color:Red\">P</span><span title=\"THR11 (MISSING), chain X\" style=\"color:Red\">T</span><span title=\"LYS12 (MISSING), chain X\" style=\"color:Red\">K</span><span title=\"LEU13 (idx 0), chain X\">L</span><span title=\"GLU14 (idx 1), chain X\">E</span><span title=\"THR15 (idx 2), chain X\">T</span><span title=\"PHE16 (idx 3), chain X\">F</span><span title=\"PRO17 (idx 4), chain X\">P</span><span title=\"LEU18 (idx 5), chain X\">L</span><span title=\"ASP19 (idx 6), chain X\">D</span><span title=\"VAL20 (idx 7), chain X\">V</span><span title=\"LEU21 (idx 8), chain X\">L</span><span title=\"VAL22 (idx 9), chain X\">V</span><span title=\"ASN23 (idx 10), chain X\">N</span><span title=\"THR24 (idx 11), chain X\">T</span><span title=\"ALA25 (idx 12), chain X\">A</span><span title=\"ALA26 (idx 13), chain X\">A</span><span title=\"GLU27 (idx 14), chain X\">E</span><span title=\"ASP28 (idx 15), chain X\">D</span><span title=\"LEU29 (idx 16), chain X\">L</span><span title=\"PRO30 (idx 17), chain X\">P</span><span title=\"ARG31 (idx 18), chain X\">R</span><span title=\"GLY32 (idx 19), chain X\">G</span><span title=\"VAL33 (idx 20), chain X\">V</span><span title=\"ASP34 (idx 21), chain X\">D</span><span title=\"PRO35 (idx 22), chain X\">P</span><span title=\"SER36 (idx 23), chain X\">S</span><span title=\"ALA37 (idx 24), chain X\">A</span><span title=\"LYS38 (idx 25), chain X\">K</span><span title=\"GLU39 (idx 26), chain X\">E</span><span title=\"ASN40 (idx 27), chain X\">N</span><span title=\"HIS41 (idx 28), chain X\">H</span><span title=\"LEU42 (idx 29), chain X\">L</span><span title=\"SER43 (idx 30), chain X\">S</span><span title=\"ASP44 (idx 31), chain X\">D</span><span title=\"GLU45 (idx 32), chain X\">E</span><span title=\"ASP46 (idx 33), chain X\">D</span><span title=\"PHE47 (idx 34), chain X\">F</span><span title=\"LYS48 (idx 35), chain X\">K</span><span title=\"ALA49 (idx 36), chain X\">A</span><span title=\"VAL50 (idx 37), chain X\">V</span><span title=\"PHE51 (idx 38), chain X\">F</span><span title=\"GLY52 (idx 39), chain X\">G</span><span title=\"MET53 (idx 40), chain X\">M</span><span title=\"THR54 (idx 41), chain X\">T</span><span title=\"ARG55 (idx 42), chain X\">R</span><span title=\"SER56 (idx 43), chain X\">S</span><span title=\"ALA57 (idx 44), chain X\">A</span><span title=\"PHE58 (idx 45), chain X\">F</span><span title=\"ALA59 (idx 46), chain X\">A</span><span title=\"ASN60 (idx 47), chain X\">N</span><span title=\"LEU61 (idx 48), chain X\">L</span><span title=\"PRO62 (idx 49), chain X\">P</span><span title=\"LEU63 (idx 50), chain X\">L</span><span title=\"TRP64 (idx 51), chain X\">W</span><span title=\"LYS65 (idx 52), chain X\">K</span><span title=\"GLN66 (idx 53), chain X\">Q</span><span title=\"GLN67 (idx 54), chain X\">Q</span><span title=\"ASN68 (idx 55), chain X\">N</span><span title=\"LEU69 (idx 56), chain X\">L</span><span title=\"LYS70 (idx 57), chain X\">K</span><span title=\"LYS71 (idx 58), chain X\">K</span><span title=\"GLU72 (idx 59), chain X\">E</span><span title=\"LYS73 (idx 60), chain X\">K</span><span title=\"GLY74 (idx 61), chain X\">G</span><span title=\"LEU75 (idx 62), chain X\">L</span><span title=\"PHE76 (idx 63), chain X\">F</span></span>"
      ],
      "text/plain": [
       "<1yu8 (Molecule), 600 atoms>"
      ]
     },
     "execution_count": 4,
     "metadata": {},
     "output_type": "execute_result"
    }
   ],
   "source": [
    "molecule\n",
    "#molecule = mdt.Molecule([res for res in molecule.residues if res.type == 'protein'])"
   ]
  },
  {
   "cell_type": "code",
   "execution_count": 5,
   "metadata": {
    "collapsed": false
   },
   "outputs": [
    {
     "data": {
      "application/vnd.jupyter.widget-view+json": {
       "model_id": "2e63afa9381f45e3932454fefbad2a23"
      }
     },
     "metadata": {},
     "output_type": "display_data"
    }
   ],
   "source": [
    "molecule.draw()\n",
    "#len(molecule.atoms)"
   ]
  },
  {
   "cell_type": "code",
   "execution_count": 6,
   "metadata": {
    "collapsed": false
   },
   "outputs": [],
   "source": [
    "import parmed as med"
   ]
  },
  {
   "cell_type": "code",
   "execution_count": 7,
   "metadata": {
    "collapsed": false
   },
   "outputs": [
    {
     "name": "stdout",
     "output_type": "stream",
     "text": [
      "Connecting to docker host at unix://var/run/docker.sock... done\n"
     ]
    },
    {
     "data": {
      "application/vnd.jupyter.widget-view+json": {
       "model_id": "1ec62258d63146c08f90e59e0ac8d3a0"
      }
     },
     "metadata": {},
     "output_type": "display_data"
    }
   ],
   "source": [
    "mdmol = mdt.assign_forcefield(molecule)"
   ]
  },
  {
   "cell_type": "code",
   "execution_count": 8,
   "metadata": {
    "collapsed": false
   },
   "outputs": [],
   "source": [
    "mdmol.ff.amber_params.prmtop.put('/tmp/tmp.prmtop')\n",
    "parmedmol = med.load_file('/tmp/tmp.prmtop')"
   ]
  },
  {
   "cell_type": "code",
   "execution_count": 9,
   "metadata": {
    "collapsed": false
   },
   "outputs": [
    {
     "data": {
      "text/plain": [
       "0"
      ]
     },
     "execution_count": 9,
     "metadata": {},
     "output_type": "execute_result"
    }
   ],
   "source": [
    "# mdmol.draw()\n",
    "atom = mdmol.atoms[0]\n",
    "atom.index"
   ]
  },
  {
   "cell_type": "code",
   "execution_count": 10,
   "metadata": {
    "collapsed": false
   },
   "outputs": [
    {
     "name": "stdout",
     "output_type": "stream",
     "text": [
      "10.367 ang\n",
      "[ 10.367  29.903  18.753]\n"
     ]
    }
   ],
   "source": [
    "print atom.position[0]\n",
    "print atom.position.value_in(u.angstrom)"
   ]
  },
  {
   "cell_type": "code",
   "execution_count": 12,
   "metadata": {
    "collapsed": true
   },
   "outputs": [],
   "source": [
    "import tempfile\n",
    "import shutil\n",
    "import os"
   ]
  },
  {
   "cell_type": "code",
   "execution_count": 13,
   "metadata": {
    "collapsed": false
   },
   "outputs": [],
   "source": [
    "\n",
    "\n",
    "# In order to simluate using LAMMPS, we need:\n",
    "#   get molecule from pdb, cif, or name\n",
    "#   assign forcefields\n",
    "#   load parmed structure\n",
    "\n",
    "\n",
    "# LAMMPS UNITS:\n",
    "# For style real, these are the units:\n",
    "\n",
    "# mass = grams/mole\n",
    "# distance = Angstroms\n",
    "# time = femtoseconds\n",
    "# energy = Kcal/mole\n",
    "# velocity = Angstroms/femtosecond\n",
    "# force = Kcal/mole-Angstrom\n",
    "# torque = Kcal/mole\n",
    "# temperature = Kelvin\n",
    "# pressure = atmospheres\n",
    "# dynamic viscosity = Poise\n",
    "# charge = multiple of electron charge (1.0 is a proton)\n",
    "# dipole = charge*Angstroms\n",
    "# electric field = volts/Angstrom\n",
    "# density = gram/cm^dim\n",
    "\n",
    "# See http://parmed.github.io/ParmEd/html/index.html for ParmEd units\n",
    "\n",
    "def formatLammpsData(lammps_data):\n",
    "    predictable_filename = 'data.lammps_molecule'\n",
    "    path = os.path.join(tmpdir, predictable_filename)\n",
    "\n",
    "    with open(path, \"w\") as lammps_data:\n",
    "\n",
    "        # print description\n",
    "        lammps_data.write(\"LAMMPS Description\\r\\n\\r\\n\")\n",
    "        lammps_data.write(\"{0} atoms\\r\\n\" .format(len(parmedmol.atoms)))\n",
    "        lammps_data.write(\"{0} bonds\\r\\n\" .format(len(parmedmol.bonds)))\n",
    "        lammps_data.write(\"{0} angles\\r\\n\" .format(len(parmedmol.angles)))\n",
    "        lammps_data.write(\"{0} dihedrals\\r\\n\" .format(len(parmedmol.dihedrals)))\n",
    "        lammps_data.write(\"{0} impropers\\r\\n\" .format(len(parmedmol.impropers)))\n",
    "\n",
    "        lammps_data.write(\"\\r\\n\")\n",
    "\n",
    "        max_idx = 0\n",
    "        for nonbond_idx in parmedmol.LJ_types.itervalues():\n",
    "            if(nonbond_idx > max_idx):\n",
    "                max_idx = nonbond_idx\n",
    "\n",
    "        lammps_data.write(\"{0} atom types\\r\\n\" .format(max_idx))\n",
    "        lammps_data.write(\"{0} bond types\\r\\n\" .format(len(parmedmol.bond_types)))\n",
    "        lammps_data.write(\"{0} angle types\\r\\n\" .format(len(parmedmol.angle_types)))\n",
    "        lammps_data.write(\"{0} dihedral types\\r\\n\" .format(len(parmedmol.dihedral_types)))\n",
    "        lammps_data.write(\"{0} improper types\\r\\n\" .format(len(parmedmol.improper_types)))\n",
    "\n",
    "        lammps_data.write(\"\\r\\n\")\n",
    "\n",
    "        # box size\n",
    "        # calculate lo and hi points\n",
    "        xlo = xhi = ylo = yhi = zlo = zhi = None\n",
    "        for atom in mdmol.atoms:\n",
    "            if xlo == None:\n",
    "                xlo = atom.x.value_in(u.angstrom)\n",
    "                xhi = atom.x.value_in(u.angstrom)\n",
    "                ylo = atom.y.value_in(u.angstrom)\n",
    "                yhi = atom.y.value_in(u.angstrom)\n",
    "                zlo = atom.z.value_in(u.angstrom)\n",
    "                zhi = atom.z.value_in(u.angstrom)\n",
    "            else:\n",
    "                xlo = min(xlo, atom.x.value_in(u.angstrom))\n",
    "                xhi = max(xhi, atom.x.value_in(u.angstrom))\n",
    "                ylo = min(ylo, atom.y.value_in(u.angstrom))\n",
    "                yhi = max(yhi, atom.y.value_in(u.angstrom))\n",
    "                zlo = min(zlo, atom.z.value_in(u.angstrom))\n",
    "                zhi = max(zhi, atom.z.value_in(u.angstrom))\n",
    "\n",
    "        lammps_data.write(\"{0} {1} xlo xhi\\r\\n\" .format(xlo, xhi))\n",
    "        lammps_data.write(\"{0} {1} ylo yhi\\r\\n\" .format(ylo, yhi))\n",
    "        lammps_data.write(\"{0} {1} zlo zhi\\r\\n\" .format(zlo, zhi))\n",
    "\n",
    "        lammps_data.write(\"\\r\\n\")\n",
    "\n",
    "        # print masses -- Number of atom types\n",
    "        lammps_data.write(\"Masses\\r\\n\\r\\n\")\n",
    "        for i in range(1, max_idx+1):\n",
    "            for atom in parmedmol.atoms:\n",
    "                if atom.nb_idx == i:\n",
    "                    lammps_data.write(\"{0} {1}\\r\\n\" .format(i, atom.mass))\n",
    "                    break\n",
    "\n",
    "        lammps_data.write(\"\\r\\n\")\n",
    "\n",
    "\n",
    "        # Pair Coeffs -- Number of atom types\n",
    "        lammps_data.write(\"Pair Coeffs\\r\\n\\r\\n\")\n",
    "        for i in range(1, max_idx+1):\n",
    "            for atom in parmedmol.atoms:\n",
    "                if atom.nb_idx == i:\n",
    "                    lammps_data.write(\"{0} {1} {2} {3} {4}\\r\\n\" .format(i, atom.epsilon, atom.sigma, \n",
    "                                                                        atom.epsilon_14, atom.sigma_14))\n",
    "                    break\n",
    "\n",
    "        lammps_data.write(\"\\r\\n\")\n",
    "\n",
    "\n",
    "        # Bond Coeffs - Harmonic\n",
    "        if parmedmol.bond_types:\n",
    "            lammps_data.write(\"Bond Coeffs\\r\\n\\r\\n\")\n",
    "            for bt in parmedmol.bond_types:\n",
    "                lammps_data.write(\"{0} {1} {2}\\r\\n\" .format(bt.idx+1, bt.k, bt.req))\n",
    "\n",
    "            lammps_data.write(\"\\r\\n\")\n",
    "\n",
    "\n",
    "        # Angle Coeffs - Harmonic\n",
    "        if parmedmol.angle_types:\n",
    "            lammps_data.write(\"Angle Coeffs\\r\\n\\r\\n\")\n",
    "            for at in parmedmol.angle_types:\n",
    "                lammps_data.write(\"{0} {1} {2}\\r\\n\" .format(at.idx+1, at.k, at.theteq))\n",
    "\n",
    "            lammps_data.write(\"\\r\\n\")\n",
    "\n",
    "\n",
    "        # Dihedral Coeffs - Charmm\n",
    "        if parmedmol.dihedral_types:\n",
    "            lammps_data.write(\"Dihedral Coeffs\\r\\n\\r\\n\")\n",
    "            for dt in parmedmol.dihedral_types:\n",
    "                lammps_data.write(\"{0} {1} {2} {3} {4}\\r\\n\" .format(dt.idx+1, dt.phi_k, dt.per, \n",
    "                    (180 if dt.phase >= 180 else 0), \n",
    "                    (1.0 if dt.scnb == 1.0 else 0.0)))\n",
    "\n",
    "            lammps_data.write(\"\\r\\n\")\n",
    "\n",
    "\n",
    "        # Improper Coeffs - Harmonic\n",
    "        if parmedmol.improper_types:\n",
    "            lammps_data.write(\"Improper Coeffs\\r\\n\\r\\n\")\n",
    "            for it in parmedmol.improper_types:\n",
    "                print\n",
    "                lammps_data.write(\"{0} {1} {2}\\r\\n\" .format(it.idx+1, it.psi_k, it.psi_eq))\n",
    "\n",
    "            lammps_data.write(\"\\r\\n\")\n",
    "\n",
    "\n",
    "        # print atoms\n",
    "        lammps_data.write(\"Atoms\\r\\n\\r\\n\")\n",
    "        for atom in parmedmol.atoms:\n",
    "            lammps_data.write(\"{0} {1} {2} {3} \" .format(atom.idx+1, atom.residue.idx, atom.nb_idx, atom.charge))\n",
    "            if not mdmol.positions.any():        \n",
    "                lammps_data.write(\"{0} {1} {2} \" .format(0.00, 0.00, 0.00))        \n",
    "            else:\n",
    "                pos = mdmol.positions[atom.idx]\n",
    "                lammps_data.write(\"{0} {1} {2} \" .format(pos[0].value_in(u.angstrom), pos[1].value_in(u.angstrom), \n",
    "                    pos[2].value_in(u.angstrom)))\n",
    "            lammps_data.write(\"{0} {1} {2}\\r\\n\" .format(0, 0, 0)) # nx, ny, nz not defined    \n",
    "\n",
    "        lammps_data.write(\"\\r\\n\")\n",
    "\n",
    "\n",
    "        # print velocities\n",
    "        lammps_data.write(\"Velocities\\r\\n\\r\\n\")\n",
    "        for atom in mdmol.atoms:\n",
    "            xvel = atom.vx.value_in(u.angstrom/u.fs)\n",
    "            yvel = atom.vy.value_in(u.angstrom/u.fs)\n",
    "            zvel = atom.vz.value_in(u.angstrom/u.fs)\n",
    "            lammps_data.write(\"{0} {1} {2} {3}\\r\\n\" .format(atom.index+1, xvel, yvel, zvel))\n",
    "\n",
    "        lammps_data.write(\"\\r\\n\")\n",
    "\n",
    "\n",
    "        # print bonds\n",
    "        lammps_data.write(\"Bonds\\r\\n\\r\\n\")\n",
    "        for idx, bond in enumerate(parmedmol.bonds):\n",
    "            lammps_data.write(\"{0} {1} {2} {3}\\r\\n\" .format(idx+1, bond.type.idx+1, \n",
    "              bond.atom1.idx+1, bond.atom2.idx+1))\n",
    "\n",
    "        lammps_data.write(\"\\r\\n\")\n",
    "\n",
    "\n",
    "        # print angles\n",
    "        lammps_data.write(\"Angles\\r\\n\\r\\n\")\n",
    "        for idx, angle in enumerate(parmedmol.angles):\n",
    "            lammps_data.write(\"{0} {1} {2} {3} {4}\\r\\n\" .format(idx+1, angle.type.idx+1,\n",
    "              angle.atom1.idx+1, \n",
    "              angle.atom2.idx+1, angle.atom3.idx+1))\n",
    "\n",
    "        lammps_data.write(\"\\r\\n\")\n",
    "\n",
    "\n",
    "        # print dihedrals\n",
    "        if parmedmol.dihedrals:\n",
    "            lammps_data.write(\"Dihedrals\\r\\n\\r\\n\")\n",
    "            for idx, di in enumerate(parmedmol.dihedrals):\n",
    "                lammps_data.write(\"{0} {1} {2} {3} {4} {5}\\r\\n\" .format(idx+1, di.type.idx+1, \n",
    "                  di.atom1.idx+1, di.atom2.idx+1, \n",
    "                  di.atom3.idx+1, di.atom4.idx+1))\n",
    "\n",
    "            lammps_data.write(\"\\r\\n\")\n",
    "\n",
    "\n",
    "        # print impropers\n",
    "        if parmedmol.impropers:\n",
    "            lammps_data.write(\"Impropers\\r\\n\\r\\n\")\n",
    "            for im in parmedmol.impropers:\n",
    "                lammps_data.write(\"{0} {1} {2} {3} {4} {5}\\r\\n\" .format(im.idx+1, im.type.idx+1, \n",
    "                  im.atom1.idx+1, im.atom2.idx+1, \n",
    "                  im.atom3.idx+1, im.atom4.idx+1))\n",
    "\n",
    "            lammps_data.write(\"\\r\\n\")\n",
    "\n",
    "    \n",
    "    #lammps_data.close()\n",
    "    return path"
   ]
  },
  {
   "cell_type": "code",
   "execution_count": 14,
   "metadata": {
    "collapsed": false
   },
   "outputs": [
    {
     "name": "stdout",
     "output_type": "stream",
     "text": [
      "/var/folders/l9/th_rqp090gg3375t46j58vsm0000gq/T/tmpwolwJo/data.lammps_molecule\n"
     ]
    }
   ],
   "source": [
    "tmpdir = tempfile.mkdtemp()\n",
    "\n",
    "saved_umask = os.umask(0077)\n",
    "\n",
    "path = formatLammpsData(tmpdir)\n",
    "print path"
   ]
  },
  {
   "cell_type": "code",
   "execution_count": 15,
   "metadata": {
    "collapsed": false
   },
   "outputs": [],
   "source": [
    "def prepareLammps(dataPath):\n",
    "    L.command(\"units real\")\n",
    "    L.command(\"atom_style full\")\n",
    "    L.command(\"pair_style lj/charmm/coul/long 8.0 10.0 10.0\")\n",
    "    L.command(\"bond_style harmonic\")\n",
    "    L.command(\"angle_style harmonic\")\n",
    "    L.command(\"dihedral_style charmm\")\n",
    "    L.command(\"improper_style harmonic\")\n",
    "    L.command(\"kspace_style pppm 0.0001\")\n",
    "    L.command(\"read_data \" + dataPath)\n",
    "\n",
    "def calculateEnergy(timeStep, outputFreq):\n",
    "    #L.command(\"timestep \" + str(round(timeStep,1)))\n",
    "    L.command(\"thermo_style custom step temp pe etotal\")\n",
    "    #L.command(\"thermo \" + str(outputFreq))\n",
    "\n",
    "            \n",
    "def groupHydrogens():\n",
    "    groupCommand = \"group hbonds type\"\n",
    "    for nonbond_name, nonbond_idx in parmedmol.LJ_types.iteritems():\n",
    "        if(nonbond_name[0] == 'H'):\n",
    "            groupCommand = groupCommand + \" \" + str(nonbond_idx)\n",
    "    L.command(groupCommand)\n",
    "    \n",
    "    \n",
    "def runNvt(timeStep, temp, damp, outputFreq, applyShake):\n",
    "    L.command(\"neighbor 2.0 bin\")\n",
    "    #L.command(\"neigh_modify delay 5\")\n",
    "    L.command(\"timestep \" + str(round(timeStep,1)))\n",
    "    L.command(\"thermo_style custom step temp pe etotal\")\n",
    "    L.command(\"thermo \" + str(outputFreq))\n",
    "    nvt_command = \"fix 1 all nvt temp {0} {1} {2}\" .format(round(temp,1), round(temp,1), round(damp, 3))\n",
    "    L.command(nvt_command)\n",
    "    if(applyShake):\n",
    "        groupHydrogens()\n",
    "        shake_command = \"fix 2 hbonds rattle 0.0001 20 0 t 5 6 m 1.0 a 31\"\n",
    "        L.command(shake_command)\n"
   ]
  },
  {
   "cell_type": "code",
   "execution_count": 16,
   "metadata": {
    "collapsed": false
   },
   "outputs": [],
   "source": [
    "from lammps import lammps, PyLammps"
   ]
  },
  {
   "cell_type": "code",
   "execution_count": 17,
   "metadata": {
    "collapsed": false
   },
   "outputs": [
    {
     "name": "stdout",
     "output_type": "stream",
     "text": [
      "LAMMPS output is captured by PyLammps wrapper\n"
     ]
    }
   ],
   "source": [
    "lmp = lammps()\n",
    "L = PyLammps(ptr=lmp)"
   ]
  },
  {
   "cell_type": "code",
   "execution_count": 18,
   "metadata": {
    "collapsed": false
   },
   "outputs": [],
   "source": [
    "prepareLammps(path)\n",
    "# securely remove path\n",
    "os.remove(path)\n",
    "os.umask(saved_umask)\n",
    "os.rmdir(tmpdir)"
   ]
  },
  {
   "cell_type": "code",
   "execution_count": 19,
   "metadata": {
    "collapsed": false
   },
   "outputs": [
    {
     "name": "stdout",
     "output_type": "stream",
     "text": [
      "Before Evaluation\n",
      "(8.877, 11.103, 14.169)\n",
      "(0.0, 0.0, 0.0)\n",
      "(0.0, 0.0, 0.0)\n"
     ]
    }
   ],
   "source": [
    "print \"Before Evaluation\"\n",
    "print L.atoms[1012].position\n",
    "print L.atoms[1012].velocity\n",
    "print L.atoms[1012].force"
   ]
  },
  {
   "cell_type": "code",
   "execution_count": 20,
   "metadata": {
    "collapsed": false
   },
   "outputs": [
    {
     "name": "stdout",
     "output_type": "stream",
     "text": [
      "-4179.44402414\n",
      "(0.0, 0.0, 0.0)\n"
     ]
    }
   ],
   "source": [
    "calculateEnergy(1.0, 10)\n",
    "L.run(0)\n",
    "print L.eval(\"pe\")\n",
    "print L.atoms[1004].velocity\n",
    "\n",
    "\n"
   ]
  },
  {
   "cell_type": "code",
   "execution_count": null,
   "metadata": {
    "collapsed": false
   },
   "outputs": [],
   "source": [
    "if L.atoms[]\n",
    "# copy molecule's positions and velocities to LAMMPS object\n",
    "for atom in mdmol.atoms:\n",
    "    #print atom.index\n",
    "    L.atoms[atom.index].position = atom.position.value_in(u.angstrom)\n",
    "    L.set(\"atom\", atom.index, \"vx\", atom.velocity[0].value_in(u.angstrom / u.femtoseconds))\n",
    "    L.set(\"atom\", atom.index, \"vy\", atom.velocity[1].value_in(u.angstrom / u.femtoseconds))\n",
    "    L.set(\"atom\", atom.index, \"vz\", atom.velocity[2].value_in(u.angstrom / u.femtoseconds))"
   ]
  },
  {
   "cell_type": "code",
   "execution_count": null,
   "metadata": {
    "collapsed": false
   },
   "outputs": [],
   "source": [
    "print L.atoms.natoms"
   ]
  },
  {
   "cell_type": "code",
   "execution_count": null,
   "metadata": {
    "collapsed": false
   },
   "outputs": [],
   "source": [
    "L.atoms[1288].position"
   ]
  },
  {
   "cell_type": "code",
   "execution_count": null,
   "metadata": {
    "collapsed": true
   },
   "outputs": [],
   "source": [
    "print L.atoms[1012].position\n",
    "print L.atoms[1012].velocity\n",
    "print L.atoms[1012].force"
   ]
  },
  {
   "cell_type": "code",
   "execution_count": null,
   "metadata": {
    "collapsed": true
   },
   "outputs": [],
   "source": []
  },
  {
   "cell_type": "code",
   "execution_count": null,
   "metadata": {
    "collapsed": false
   },
   "outputs": [],
   "source": [
    "calculateEnergy(1.0, 10)\n",
    "L.run(0)\n",
    "print L.eval(\"pe\")\n",
    "print L.atoms[1004].velocity"
   ]
  },
  {
   "cell_type": "code",
   "execution_count": null,
   "metadata": {
    "collapsed": true
   },
   "outputs": [],
   "source": []
  },
  {
   "cell_type": "code",
   "execution_count": null,
   "metadata": {
    "collapsed": false
   },
   "outputs": [],
   "source": [
    "del L\n",
    "del lmp\n",
    "\n",
    "lmp = lammps()\n",
    "L = PyLammps(ptr=lmp)"
   ]
  },
  {
   "cell_type": "code",
   "execution_count": null,
   "metadata": {
    "collapsed": false
   },
   "outputs": [],
   "source": [
    "prepareLammps(name)"
   ]
  },
  {
   "cell_type": "code",
   "execution_count": null,
   "metadata": {
    "collapsed": false
   },
   "outputs": [],
   "source": [
    "print \"Before Simulation\"\n",
    "print L.atoms[1012].position\n",
    "print L.atoms[1012].velocity\n",
    "print L.atoms[1012].force"
   ]
  },
  {
   "cell_type": "code",
   "execution_count": null,
   "metadata": {
    "collapsed": true
   },
   "outputs": [],
   "source": [
    "runNvt(1.0, 300, 100, 10, True)\n"
   ]
  },
  {
   "cell_type": "code",
   "execution_count": null,
   "metadata": {
    "collapsed": true
   },
   "outputs": [],
   "source": [
    "# shake_command = \"fix 2 hbonds shake 0.0001 10 0 b 4 6 8 10 12 14 18 a 31\"\n",
    "# L.command(shake_command)\n"
   ]
  },
  {
   "cell_type": "code",
   "execution_count": null,
   "metadata": {
    "collapsed": false
   },
   "outputs": [],
   "source": [
    "L.run(200)"
   ]
  },
  {
   "cell_type": "code",
   "execution_count": null,
   "metadata": {
    "collapsed": false
   },
   "outputs": [],
   "source": [
    "print \"After Simulation\"\n",
    "print L.atoms[1012].position\n",
    "print L.atoms[1012].velocity\n",
    "print L.atoms[1012].force"
   ]
  },
  {
   "cell_type": "code",
   "execution_count": null,
   "metadata": {
    "collapsed": false
   },
   "outputs": [],
   "source": [
    "#"
   ]
  },
  {
   "cell_type": "code",
   "execution_count": null,
   "metadata": {
    "collapsed": false
   },
   "outputs": [],
   "source": [
    "# mdmol.draw3d() 17"
   ]
  },
  {
   "cell_type": "code",
   "execution_count": null,
   "metadata": {
    "collapsed": true
   },
   "outputs": [],
   "source": []
  },
  {
   "cell_type": "code",
   "execution_count": null,
   "metadata": {
    "collapsed": false
   },
   "outputs": [],
   "source": [
    "# for j in range(0, 10):\n",
    "#     L.run(200)\n",
    "#     print \"After Simulation\"\n",
    "#     print L.atoms[1012].position\n",
    "#     print L.atoms[1012].velocity\n",
    "#     print L.atoms[1012].force\n",
    "    "
   ]
  },
  {
   "cell_type": "code",
   "execution_count": null,
   "metadata": {
    "collapsed": false
   },
   "outputs": [],
   "source": [
    "L.run(10)"
   ]
  },
  {
   "cell_type": "code",
   "execution_count": null,
   "metadata": {
    "collapsed": false
   },
   "outputs": [],
   "source": [
    "for j in range(0, 10):\n",
    "    L.run(1)\n",
    "    print \"After Simulation\"\n",
    "    print L.atoms[1012].position\n",
    "    print L.atoms[1012].velocity\n",
    "    print L.atoms[1012].force"
   ]
  },
  {
   "cell_type": "code",
   "execution_count": null,
   "metadata": {
    "collapsed": false
   },
   "outputs": [],
   "source": [
    "print mdmol.atoms[1004].position.value_in(u.angstrom)"
   ]
  },
  {
   "cell_type": "code",
   "execution_count": null,
   "metadata": {
    "collapsed": false
   },
   "outputs": [],
   "source": [
    "print L.atoms[1004].position"
   ]
  },
  {
   "cell_type": "code",
   "execution_count": null,
   "metadata": {
    "collapsed": false
   },
   "outputs": [],
   "source": [
    "L.atoms[1004].position = mdmol.atoms[1004].position.value_in(u.angstrom)\n",
    "print L.atoms[1004].position"
   ]
  },
  {
   "cell_type": "code",
   "execution_count": null,
   "metadata": {
    "collapsed": false
   },
   "outputs": [],
   "source": [
    "print L.atoms[1004].velocity\n",
    "print mdmol.atoms[1004].velocity.value_in(u.angstrom / u.femtoseconds)"
   ]
  },
  {
   "cell_type": "code",
   "execution_count": null,
   "metadata": {
    "collapsed": false
   },
   "outputs": [],
   "source": [
    "L.atoms[1004].velocity = [0.11, 0.22, 0.33]\n",
    "print L.atoms[1004].velocity"
   ]
  },
  {
   "cell_type": "code",
   "execution_count": null,
   "metadata": {
    "collapsed": true
   },
   "outputs": [],
   "source": []
  }
 ],
 "metadata": {
  "kernelspec": {
   "display_name": "Python 2",
   "language": "python",
   "name": "python2"
  },
  "language_info": {
   "codemirror_mode": {
    "name": "ipython",
    "version": 2
   },
   "file_extension": ".py",
   "mimetype": "text/x-python",
   "name": "python",
   "nbconvert_exporter": "python",
   "pygments_lexer": "ipython2",
   "version": "2.7.13"
  }
 },
 "nbformat": 4,
 "nbformat_minor": 2
}
