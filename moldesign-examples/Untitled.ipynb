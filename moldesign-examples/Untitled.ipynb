{
 "cells": [
  {
   "cell_type": "code",
   "execution_count": 1,
   "metadata": {
    "collapsed": false
   },
   "outputs": [
    {
     "name": "stdout",
     "output_type": "stream",
     "text": [
      "OpenMM could not be imported; using remote docker container\n",
      "PDBFixer could not be imported; using remote docker container\n",
      "PySCF not installed; using remote docker container\n",
      "Reading configuration from /Users/t_leeday/.moldesign/moldesign.yml\n"
     ]
    }
   ],
   "source": [
    "import moldesign as mdt\n",
    "import moldesign.units as u"
   ]
  },
  {
   "cell_type": "code",
   "execution_count": 2,
   "metadata": {
    "collapsed": false
   },
   "outputs": [],
   "source": [
    "mdt.configure()"
   ]
  },
  {
   "cell_type": "code",
   "execution_count": 3,
   "metadata": {
    "collapsed": false
   },
   "outputs": [],
   "source": [
    "molecule = mdt.from_pdb('1yu8')"
   ]
  },
  {
   "cell_type": "code",
   "execution_count": 4,
   "metadata": {
    "collapsed": false
   },
   "outputs": [
    {
     "data": {
      "text/markdown": [
       "### Molecule: \"1yu8\" (600 atoms)\n",
       "\n",
       "<a href=\"http://www.rcsb.org/pdb/explore.do?structureId=1yu8\" target=\"_blank\">HIGH-RESOLUTION CRYSTAL STRUCTURES OF VILLIN HEADPIECE AND MUTANTS WITH REDUCED F-ACTIN BINDING ACTIVITY.</a>\n",
       "\n",
       "**Mass**: 8150.00 amu\n",
       "\n",
       "**Formula**: C<sub>325</sub>N<sub>85</sub>O<sub>189</sub>S<sub>1</sub>\n",
       "\n",
       "**Charge**: 0.0 elementary_charge\n",
       "\n",
       "### Residues\n",
       "\n",
       "| chain | protein | dna | rna | unknown | water | solvent |\n",
       "|-|-|-|-|-|-|-|-|\n",
       "| <b>X</b> | 64 |  |  |  | 92 |  ||\n",
       "\n",
       "### Biopolymer chains\n",
       "\n",
       "**X**: <span style=\"word-wrap:break-word;font-family:monospace\"><span title=\"PRO10 (MISSING), chain X\" style=\"color:Red\">P</span><span title=\"THR11 (MISSING), chain X\" style=\"color:Red\">T</span><span title=\"LYS12 (MISSING), chain X\" style=\"color:Red\">K</span><span title=\"LEU13 (idx 0), chain X\">L</span><span title=\"GLU14 (idx 1), chain X\">E</span><span title=\"THR15 (idx 2), chain X\">T</span><span title=\"PHE16 (idx 3), chain X\">F</span><span title=\"PRO17 (idx 4), chain X\">P</span><span title=\"LEU18 (idx 5), chain X\">L</span><span title=\"ASP19 (idx 6), chain X\">D</span><span title=\"VAL20 (idx 7), chain X\">V</span><span title=\"LEU21 (idx 8), chain X\">L</span><span title=\"VAL22 (idx 9), chain X\">V</span><span title=\"ASN23 (idx 10), chain X\">N</span><span title=\"THR24 (idx 11), chain X\">T</span><span title=\"ALA25 (idx 12), chain X\">A</span><span title=\"ALA26 (idx 13), chain X\">A</span><span title=\"GLU27 (idx 14), chain X\">E</span><span title=\"ASP28 (idx 15), chain X\">D</span><span title=\"LEU29 (idx 16), chain X\">L</span><span title=\"PRO30 (idx 17), chain X\">P</span><span title=\"ARG31 (idx 18), chain X\">R</span><span title=\"GLY32 (idx 19), chain X\">G</span><span title=\"VAL33 (idx 20), chain X\">V</span><span title=\"ASP34 (idx 21), chain X\">D</span><span title=\"PRO35 (idx 22), chain X\">P</span><span title=\"SER36 (idx 23), chain X\">S</span><span title=\"ALA37 (idx 24), chain X\">A</span><span title=\"LYS38 (idx 25), chain X\">K</span><span title=\"GLU39 (idx 26), chain X\">E</span><span title=\"ASN40 (idx 27), chain X\">N</span><span title=\"HIS41 (idx 28), chain X\">H</span><span title=\"LEU42 (idx 29), chain X\">L</span><span title=\"SER43 (idx 30), chain X\">S</span><span title=\"ASP44 (idx 31), chain X\">D</span><span title=\"GLU45 (idx 32), chain X\">E</span><span title=\"ASP46 (idx 33), chain X\">D</span><span title=\"PHE47 (idx 34), chain X\">F</span><span title=\"LYS48 (idx 35), chain X\">K</span><span title=\"ALA49 (idx 36), chain X\">A</span><span title=\"VAL50 (idx 37), chain X\">V</span><span title=\"PHE51 (idx 38), chain X\">F</span><span title=\"GLY52 (idx 39), chain X\">G</span><span title=\"MET53 (idx 40), chain X\">M</span><span title=\"THR54 (idx 41), chain X\">T</span><span title=\"ARG55 (idx 42), chain X\">R</span><span title=\"SER56 (idx 43), chain X\">S</span><span title=\"ALA57 (idx 44), chain X\">A</span><span title=\"PHE58 (idx 45), chain X\">F</span><span title=\"ALA59 (idx 46), chain X\">A</span><span title=\"ASN60 (idx 47), chain X\">N</span><span title=\"LEU61 (idx 48), chain X\">L</span><span title=\"PRO62 (idx 49), chain X\">P</span><span title=\"LEU63 (idx 50), chain X\">L</span><span title=\"TRP64 (idx 51), chain X\">W</span><span title=\"LYS65 (idx 52), chain X\">K</span><span title=\"GLN66 (idx 53), chain X\">Q</span><span title=\"GLN67 (idx 54), chain X\">Q</span><span title=\"ASN68 (idx 55), chain X\">N</span><span title=\"LEU69 (idx 56), chain X\">L</span><span title=\"LYS70 (idx 57), chain X\">K</span><span title=\"LYS71 (idx 58), chain X\">K</span><span title=\"GLU72 (idx 59), chain X\">E</span><span title=\"LYS73 (idx 60), chain X\">K</span><span title=\"GLY74 (idx 61), chain X\">G</span><span title=\"LEU75 (idx 62), chain X\">L</span><span title=\"PHE76 (idx 63), chain X\">F</span></span>"
      ],
      "text/plain": [
       "<1yu8 (Molecule), 600 atoms>"
      ]
     },
     "execution_count": 4,
     "metadata": {},
     "output_type": "execute_result"
    }
   ],
   "source": [
    "molecule\n",
    "#molecule = mdt.Molecule([res for res in molecule.residues if res.type == 'protein'])"
   ]
  },
  {
   "cell_type": "code",
   "execution_count": 5,
   "metadata": {
    "collapsed": false
   },
   "outputs": [
    {
     "data": {
      "text/html": [
       "fs"
      ],
      "text/latex": [
       "$fs$"
      ],
      "text/plain": [
       "<Unit('fs')>"
      ]
     },
     "execution_count": 5,
     "metadata": {},
     "output_type": "execute_result"
    }
   ],
   "source": [
    "molecule.draw()\n",
    "#len(molecule.atoms)\n",
    "u.femtoseconds"
   ]
  },
  {
   "cell_type": "code",
   "execution_count": 6,
   "metadata": {
    "collapsed": false
   },
   "outputs": [],
   "source": [
    "import parmed as med"
   ]
  },
  {
   "cell_type": "code",
   "execution_count": 7,
   "metadata": {
    "collapsed": false
   },
   "outputs": [
    {
     "name": "stdout",
     "output_type": "stream",
     "text": [
      "Connecting to docker host at unix://var/run/docker.sock... ERROR\n",
      "\n",
      "WARNING: Failed to connect to a computational engine - MDT won't be able to run anything outside of Python.\n",
      "\n",
      "You can fix this either:\n",
      "  1) interactively, in a notebook, by running `moldesign.configure()`, or,\n",
      "  2) by modifying the configuration dictionary `moldesign.compute.config`, then\n",
      "     running `moldesign.compute.reset_compute_engine()` to try again.\n"
     ]
    },
    {
     "ename": "AttributeError",
     "evalue": "'module' object has no attribute 'Client'",
     "output_type": "error",
     "traceback": [
      "\u001b[0;31m---------------------------------------------------------------------------\u001b[0m",
      "\u001b[0;31mAttributeError\u001b[0m                            Traceback (most recent call last)",
      "\u001b[0;32m<ipython-input-7-8a8ca55263ec>\u001b[0m in \u001b[0;36m<module>\u001b[0;34m()\u001b[0m\n\u001b[0;32m----> 1\u001b[0;31m \u001b[0mmdmol\u001b[0m \u001b[0;34m=\u001b[0m \u001b[0mmdt\u001b[0m\u001b[0;34m.\u001b[0m\u001b[0massign_forcefield\u001b[0m\u001b[0;34m(\u001b[0m\u001b[0mmolecule\u001b[0m\u001b[0;34m)\u001b[0m\u001b[0;34m\u001b[0m\u001b[0m\n\u001b[0m",
      "\u001b[0;32m/Users/t_leeday/Documents/autodesk/molecular-design-toolkit/moldesign/interfaces/ambertools.py\u001b[0m in \u001b[0;36massign_forcefield\u001b[0;34m(mol, **kwargs)\u001b[0m\n\u001b[1;32m    270\u001b[0m     \u001b[0mclean_molecule\u001b[0m \u001b[0;34m=\u001b[0m \u001b[0m_prep_for_tleap\u001b[0m\u001b[0;34m(\u001b[0m\u001b[0mmol\u001b[0m\u001b[0;34m)\u001b[0m\u001b[0;34m\u001b[0m\u001b[0m\n\u001b[1;32m    271\u001b[0m \u001b[0;34m\u001b[0m\u001b[0m\n\u001b[0;32m--> 272\u001b[0;31m     \u001b[0mjob\u001b[0m \u001b[0;34m=\u001b[0m \u001b[0mrun_tleap\u001b[0m\u001b[0;34m(\u001b[0m\u001b[0mclean_molecule\u001b[0m\u001b[0;34m,\u001b[0m \u001b[0;34m**\u001b[0m\u001b[0mkwargs\u001b[0m\u001b[0;34m)\u001b[0m\u001b[0;34m\u001b[0m\u001b[0m\n\u001b[0m\u001b[1;32m    273\u001b[0m \u001b[0;34m\u001b[0m\u001b[0m\n\u001b[1;32m    274\u001b[0m     \u001b[0;32mif\u001b[0m \u001b[0;34m'output.inpcrd'\u001b[0m \u001b[0;32min\u001b[0m \u001b[0mjob\u001b[0m\u001b[0;34m.\u001b[0m\u001b[0mget_output\u001b[0m\u001b[0;34m(\u001b[0m\u001b[0;34m)\u001b[0m\u001b[0;34m:\u001b[0m\u001b[0;34m\u001b[0m\u001b[0m\n",
      "\u001b[0;32m/Users/t_leeday/Documents/autodesk/molecular-design-toolkit/moldesign/interfaces/ambertools.py\u001b[0m in \u001b[0;36mrun_tleap\u001b[0;34m(mol, forcefields, parameters, **kwargs)\u001b[0m\n\u001b[1;32m    262\u001b[0m                     name=\"tleap, %s\" % mol.name)\n\u001b[1;32m    263\u001b[0m \u001b[0;34m\u001b[0m\u001b[0m\n\u001b[0;32m--> 264\u001b[0;31m     \u001b[0;32mreturn\u001b[0m \u001b[0mcompute\u001b[0m\u001b[0;34m.\u001b[0m\u001b[0mrun_job\u001b[0m\u001b[0;34m(\u001b[0m\u001b[0mjob\u001b[0m\u001b[0;34m,\u001b[0m \u001b[0;34m**\u001b[0m\u001b[0mkwargs\u001b[0m\u001b[0;34m)\u001b[0m\u001b[0;34m\u001b[0m\u001b[0m\n\u001b[0m\u001b[1;32m    265\u001b[0m \u001b[0;34m\u001b[0m\u001b[0m\n\u001b[1;32m    266\u001b[0m \u001b[0;34m\u001b[0m\u001b[0m\n",
      "\u001b[0;32m/Users/t_leeday/Documents/autodesk/molecular-design-toolkit/moldesign/compute/compute.pyc\u001b[0m in \u001b[0;36mrun_job\u001b[0;34m(job, engine, image, wait, jobname, display, _return_result)\u001b[0m\n\u001b[1;32m     92\u001b[0m     \"\"\"\n\u001b[1;32m     93\u001b[0m \u001b[0;34m\u001b[0m\u001b[0m\n\u001b[0;32m---> 94\u001b[0;31m     \u001b[0mengine\u001b[0m \u001b[0;34m=\u001b[0m \u001b[0mutils\u001b[0m\u001b[0;34m.\u001b[0m\u001b[0mif_not_none\u001b[0m\u001b[0;34m(\u001b[0m\u001b[0mengine\u001b[0m\u001b[0;34m,\u001b[0m \u001b[0mmdt\u001b[0m\u001b[0;34m.\u001b[0m\u001b[0mcompute\u001b[0m\u001b[0;34m.\u001b[0m\u001b[0mget_engine\u001b[0m\u001b[0;34m(\u001b[0m\u001b[0;34m)\u001b[0m\u001b[0;34m)\u001b[0m\u001b[0;34m\u001b[0m\u001b[0m\n\u001b[0m\u001b[1;32m     95\u001b[0m \u001b[0;34m\u001b[0m\u001b[0m\n\u001b[1;32m     96\u001b[0m     \u001b[0;32mif\u001b[0m \u001b[0mengine\u001b[0m \u001b[0;32mis\u001b[0m \u001b[0mNone\u001b[0m\u001b[0;34m:\u001b[0m\u001b[0;34m\u001b[0m\u001b[0m\n",
      "\u001b[0;32m/Users/t_leeday/Documents/autodesk/molecular-design-toolkit/moldesign/compute/configuration.pyc\u001b[0m in \u001b[0;36mget_engine\u001b[0;34m()\u001b[0m\n\u001b[1;32m    133\u001b[0m     \u001b[0;32mif\u001b[0m \u001b[0mcompute\u001b[0m\u001b[0;34m.\u001b[0m\u001b[0mdefault_engine\u001b[0m \u001b[0;32mis\u001b[0m \u001b[0mNone\u001b[0m\u001b[0;34m:\u001b[0m\u001b[0;34m\u001b[0m\u001b[0m\n\u001b[1;32m    134\u001b[0m         \u001b[0;32mtry\u001b[0m\u001b[0;34m:\u001b[0m\u001b[0;34m\u001b[0m\u001b[0m\n\u001b[0;32m--> 135\u001b[0;31m             \u001b[0mreset_compute_engine\u001b[0m\u001b[0;34m(\u001b[0m\u001b[0;34m)\u001b[0m\u001b[0;34m\u001b[0m\u001b[0m\n\u001b[0m\u001b[1;32m    136\u001b[0m         \u001b[0;32mexcept\u001b[0m\u001b[0;34m:\u001b[0m\u001b[0;34m\u001b[0m\u001b[0m\n\u001b[1;32m    137\u001b[0m             \u001b[0;32mprint\u001b[0m \u001b[0mCOMPUTE_CONNECTION_WARNING\u001b[0m\u001b[0;34m\u001b[0m\u001b[0m\n",
      "\u001b[0;32m/Users/t_leeday/Documents/autodesk/molecular-design-toolkit/moldesign/compute/configuration.pyc\u001b[0m in \u001b[0;36mreset_compute_engine\u001b[0;34m()\u001b[0m\n\u001b[1;32m    183\u001b[0m     \u001b[0;32melif\u001b[0m \u001b[0mconfig\u001b[0m\u001b[0;34m.\u001b[0m\u001b[0mengine_type\u001b[0m \u001b[0;34m==\u001b[0m \u001b[0;34m'docker'\u001b[0m\u001b[0;34m:\u001b[0m\u001b[0;34m\u001b[0m\u001b[0m\n\u001b[1;32m    184\u001b[0m         \u001b[0;32mwith\u001b[0m \u001b[0mutils\u001b[0m\u001b[0;34m.\u001b[0m\u001b[0mtextnotify\u001b[0m\u001b[0;34m(\u001b[0m\u001b[0;34m'Connecting to docker host at %s'\u001b[0m \u001b[0;34m%\u001b[0m \u001b[0mconfig\u001b[0m\u001b[0;34m.\u001b[0m\u001b[0mdefault_docker_host\u001b[0m\u001b[0;34m)\u001b[0m\u001b[0;34m:\u001b[0m\u001b[0;34m\u001b[0m\u001b[0m\n\u001b[0;32m--> 185\u001b[0;31m             \u001b[0mcompute\u001b[0m\u001b[0;34m.\u001b[0m\u001b[0mdefault_engine\u001b[0m \u001b[0;34m=\u001b[0m \u001b[0mengines\u001b[0m\u001b[0;34m.\u001b[0m\u001b[0mDocker\u001b[0m\u001b[0;34m(\u001b[0m\u001b[0mconfig\u001b[0m\u001b[0;34m.\u001b[0m\u001b[0mdefault_docker_host\u001b[0m\u001b[0;34m)\u001b[0m\u001b[0;34m\u001b[0m\u001b[0m\n\u001b[0m\u001b[1;32m    186\u001b[0m         \u001b[0m_connect_docker_registry\u001b[0m\u001b[0;34m(\u001b[0m\u001b[0;34m)\u001b[0m\u001b[0;34m\u001b[0m\u001b[0m\n\u001b[1;32m    187\u001b[0m \u001b[0;34m\u001b[0m\u001b[0m\n",
      "\u001b[0;32m/usr/local/lib/python2.7/site-packages/pyccc/engines/dockerengine.pyc\u001b[0m in \u001b[0;36m__init__\u001b[0;34m(self, client, workingdir)\u001b[0m\n\u001b[1;32m     34\u001b[0m         \"\"\"\n\u001b[1;32m     35\u001b[0m         \u001b[0;32mif\u001b[0m \u001b[0misinstance\u001b[0m\u001b[0;34m(\u001b[0m\u001b[0mclient\u001b[0m\u001b[0;34m,\u001b[0m \u001b[0mbasestring\u001b[0m\u001b[0;34m)\u001b[0m\u001b[0;34m:\u001b[0m\u001b[0;34m\u001b[0m\u001b[0m\n\u001b[0;32m---> 36\u001b[0;31m             \u001b[0mclient\u001b[0m \u001b[0;34m=\u001b[0m \u001b[0mdocker\u001b[0m\u001b[0;34m.\u001b[0m\u001b[0mClient\u001b[0m\u001b[0;34m(\u001b[0m\u001b[0mclient\u001b[0m\u001b[0;34m)\u001b[0m\u001b[0;34m\u001b[0m\u001b[0m\n\u001b[0m\u001b[1;32m     37\u001b[0m \u001b[0;34m\u001b[0m\u001b[0m\n\u001b[1;32m     38\u001b[0m         \u001b[0;32mif\u001b[0m \u001b[0mclient\u001b[0m \u001b[0;32mis\u001b[0m \u001b[0mNone\u001b[0m\u001b[0;34m:\u001b[0m\u001b[0;34m\u001b[0m\u001b[0m\n",
      "\u001b[0;31mAttributeError\u001b[0m: 'module' object has no attribute 'Client'"
     ]
    }
   ],
   "source": [
    "mdmol = mdt.assign_forcefield(molecule)\n"
   ]
  },
  {
   "cell_type": "code",
   "execution_count": 8,
   "metadata": {
    "collapsed": false
   },
   "outputs": [
    {
     "ename": "NameError",
     "evalue": "name 'mdmol' is not defined",
     "output_type": "error",
     "traceback": [
      "\u001b[0;31m---------------------------------------------------------------------------\u001b[0m",
      "\u001b[0;31mNameError\u001b[0m                                 Traceback (most recent call last)",
      "\u001b[0;32m<ipython-input-8-6d11f97a0abd>\u001b[0m in \u001b[0;36m<module>\u001b[0;34m()\u001b[0m\n\u001b[0;32m----> 1\u001b[0;31m \u001b[0mmdmol\u001b[0m\u001b[0;34m.\u001b[0m\u001b[0mff\u001b[0m\u001b[0;34m.\u001b[0m\u001b[0mamber_params\u001b[0m\u001b[0;34m.\u001b[0m\u001b[0mprmtop\u001b[0m\u001b[0;34m.\u001b[0m\u001b[0mput\u001b[0m\u001b[0;34m(\u001b[0m\u001b[0;34m'/tmp/tmp.prmtop'\u001b[0m\u001b[0;34m)\u001b[0m\u001b[0;34m\u001b[0m\u001b[0m\n\u001b[0m\u001b[1;32m      2\u001b[0m \u001b[0mparmedmol\u001b[0m \u001b[0;34m=\u001b[0m \u001b[0mmed\u001b[0m\u001b[0;34m.\u001b[0m\u001b[0mload_file\u001b[0m\u001b[0;34m(\u001b[0m\u001b[0;34m'/tmp/tmp.prmtop'\u001b[0m\u001b[0;34m)\u001b[0m\u001b[0;34m\u001b[0m\u001b[0m\n",
      "\u001b[0;31mNameError\u001b[0m: name 'mdmol' is not defined"
     ]
    }
   ],
   "source": [
    "mdmol.ff.amber_params.prmtop.put('/tmp/tmp.prmtop')\n",
    "parmedmol = med.load_file('/tmp/tmp.prmtop')"
   ]
  },
  {
   "cell_type": "code",
   "execution_count": 9,
   "metadata": {
    "collapsed": false
   },
   "outputs": [],
   "source": [
    "#mdmol.draw()"
   ]
  },
  {
   "cell_type": "code",
   "execution_count": 10,
   "metadata": {
    "collapsed": false
   },
   "outputs": [
    {
     "name": "stdout",
     "output_type": "stream",
     "text": [
      "0\n",
      "1\n",
      "2\n",
      "3\n",
      "4\n",
      "5\n",
      "6\n",
      "7\n",
      "8\n",
      "9\n",
      "10\n",
      "11\n",
      "12\n",
      "13\n",
      "14\n",
      "15\n",
      "16\n",
      "17\n",
      "18\n",
      "19\n",
      "20\n",
      "21\n",
      "22\n",
      "23\n",
      "24\n",
      "25\n",
      "26\n",
      "27\n",
      "28\n",
      "29\n",
      "30\n",
      "31\n",
      "32\n",
      "33\n",
      "34\n",
      "35\n",
      "36\n",
      "37\n",
      "38\n",
      "39\n",
      "40\n",
      "41\n",
      "42\n",
      "43\n",
      "44\n",
      "45\n",
      "46\n",
      "47\n",
      "48\n",
      "49\n",
      "50\n",
      "51\n",
      "52\n",
      "53\n",
      "54\n",
      "55\n",
      "56\n",
      "57\n",
      "58\n",
      "59\n",
      "60\n",
      "61\n",
      "62\n",
      "63\n",
      "64\n",
      "65\n",
      "66\n",
      "67\n",
      "68\n",
      "69\n",
      "70\n",
      "71\n",
      "72\n",
      "73\n",
      "74\n",
      "75\n",
      "76\n",
      "77\n",
      "78\n",
      "79\n",
      "80\n",
      "81\n",
      "82\n",
      "83\n",
      "84\n",
      "85\n",
      "86\n",
      "87\n",
      "88\n",
      "89\n",
      "90\n",
      "91\n",
      "92\n",
      "93\n",
      "94\n",
      "95\n",
      "96\n",
      "97\n",
      "98\n",
      "99\n",
      "100\n",
      "101\n",
      "102\n",
      "103\n",
      "104\n",
      "105\n",
      "106\n",
      "107\n",
      "108\n",
      "109\n",
      "110\n",
      "111\n",
      "112\n",
      "113\n",
      "114\n",
      "115\n",
      "116\n",
      "117\n",
      "118\n",
      "119\n",
      "120\n",
      "121\n",
      "122\n",
      "123\n",
      "124\n",
      "125\n",
      "126\n",
      "127\n",
      "128\n",
      "129\n",
      "130\n",
      "131\n",
      "132\n",
      "133\n",
      "134\n",
      "135\n",
      "136\n",
      "137\n",
      "138\n",
      "139\n",
      "140\n",
      "141\n",
      "142\n",
      "143\n",
      "144\n",
      "145\n",
      "146\n",
      "147\n",
      "148\n",
      "149\n",
      "150\n",
      "151\n",
      "152\n",
      "153\n",
      "154\n",
      "155\n"
     ]
    }
   ],
   "source": []
  },
  {
   "cell_type": "code",
   "execution_count": null,
   "metadata": {
    "collapsed": true
   },
   "outputs": [],
   "source": []
  },
  {
   "cell_type": "code",
   "execution_count": 11,
   "metadata": {
    "collapsed": false
   },
   "outputs": [],
   "source": [
    "\n",
    "# In order to simluate using LAMMPS, we need:\n",
    "#   get molecule from pdb, cif, or name\n",
    "#   assign forcefields\n",
    "#   load parmed structure\n",
    "\n",
    "\n",
    "# LAMMPS UNITS:\n",
    "# For style real, these are the units:\n",
    "\n",
    "# mass = grams/mole\n",
    "# distance = Angstroms\n",
    "# time = femtoseconds\n",
    "# energy = Kcal/mole\n",
    "# velocity = Angstroms/femtosecond\n",
    "# force = Kcal/mole-Angstrom\n",
    "# torque = Kcal/mole\n",
    "# temperature = Kelvin\n",
    "# pressure = atmospheres\n",
    "# dynamic viscosity = Poise\n",
    "# charge = multiple of electron charge (1.0 is a proton)\n",
    "# dipole = charge*Angstroms\n",
    "# electric field = volts/Angstrom\n",
    "# density = gram/cm^dim\n",
    "\n",
    "# See http://parmed.github.io/ParmEd/html/index.html for ParmEd units\n",
    "\n",
    "def formatLammpsData(dataName):\n",
    "    filePath = '/tmp/data.' + dataName\n",
    "    lammps_data = open(filePath, 'w')\n",
    "\n",
    "    # print description\n",
    "    lammps_data.write(\"LAMMPS Description\\r\\n\\r\\n\")\n",
    "    lammps_data.write(\"{0} atoms\\r\\n\" .format(len(parmedmol.atoms)))\n",
    "    lammps_data.write(\"{0} bonds\\r\\n\" .format(len(parmedmol.bonds)))\n",
    "    lammps_data.write(\"{0} angles\\r\\n\" .format(len(parmedmol.angles)))\n",
    "    lammps_data.write(\"{0} dihedrals\\r\\n\" .format(len(parmedmol.dihedrals)))\n",
    "    lammps_data.write(\"{0} impropers\\r\\n\" .format(len(parmedmol.impropers)))\n",
    "    \n",
    "    lammps_data.write(\"\\r\\n\")\n",
    "    \n",
    "    max_idx = 0\n",
    "    for nonbond_idx in parmedmol.LJ_types.itervalues():\n",
    "        if(nonbond_idx > max_idx):\n",
    "            max_idx = nonbond_idx\n",
    "\n",
    "    lammps_data.write(\"{0} atom types\\r\\n\" .format(max_idx))\n",
    "    lammps_data.write(\"{0} bond types\\r\\n\" .format(len(parmedmol.bond_types)))\n",
    "    lammps_data.write(\"{0} angle types\\r\\n\" .format(len(parmedmol.angle_types)))\n",
    "    lammps_data.write(\"{0} dihedral types\\r\\n\" .format(len(parmedmol.dihedral_types)))\n",
    "    lammps_data.write(\"{0} improper types\\r\\n\" .format(len(parmedmol.improper_types)))\n",
    "    \n",
    "    lammps_data.write(\"\\r\\n\")\n",
    "\n",
    "    # box size\n",
    "    # calculate lo and hi points\n",
    "    xlo = xhi = ylo = yhi = zlo = zhi = None\n",
    "    for atom in mdmol.atoms:\n",
    "        if xlo == None:\n",
    "            xlo = atom.x.value_in(u.angstrom)\n",
    "            xhi = atom.x.value_in(u.angstrom)\n",
    "            ylo = atom.y.value_in(u.angstrom)\n",
    "            yhi = atom.y.value_in(u.angstrom)\n",
    "            zlo = atom.z.value_in(u.angstrom)\n",
    "            zhi = atom.z.value_in(u.angstrom)\n",
    "        else:\n",
    "            xlo = min(xlo, atom.x.value_in(u.angstrom))\n",
    "            xhi = max(xhi, atom.x.value_in(u.angstrom))\n",
    "            ylo = min(ylo, atom.y.value_in(u.angstrom))\n",
    "            yhi = max(yhi, atom.y.value_in(u.angstrom))\n",
    "            zlo = min(zlo, atom.z.value_in(u.angstrom))\n",
    "            zhi = max(zhi, atom.z.value_in(u.angstrom))\n",
    "\n",
    "    lammps_data.write(\"{0} {1} xlo xhi\\r\\n\" .format(xlo, xhi))\n",
    "    lammps_data.write(\"{0} {1} ylo yhi\\r\\n\" .format(ylo, yhi))\n",
    "    lammps_data.write(\"{0} {1} zlo zhi\\r\\n\" .format(zlo, zhi))\n",
    "    \n",
    "    lammps_data.write(\"\\r\\n\")\n",
    "\n",
    "    # print masses -- Number of atom types\n",
    "    lammps_data.write(\"Masses\\r\\n\\r\\n\")\n",
    "    for i in range(1, max_idx+1):\n",
    "        for atom in parmedmol.atoms:\n",
    "            if atom.nb_idx == i:\n",
    "                lammps_data.write(\"{0} {1}\\r\\n\" .format(i, atom.mass))\n",
    "                break\n",
    "    \n",
    "    lammps_data.write(\"\\r\\n\")\n",
    "    \n",
    "\n",
    "    # Pair Coeffs -- Number of atom types\n",
    "    lammps_data.write(\"Pair Coeffs\\r\\n\\r\\n\")\n",
    "    for i in range(1, max_idx+1):\n",
    "        for atom in parmedmol.atoms:\n",
    "            if atom.nb_idx == i:\n",
    "                lammps_data.write(\"{0} {1} {2} {3} {4}\\r\\n\" .format(i, atom.epsilon, atom.sigma, \n",
    "                                                                    atom.epsilon_14, atom.sigma_14))\n",
    "                break\n",
    "    \n",
    "    lammps_data.write(\"\\r\\n\")\n",
    "    \n",
    "\n",
    "    # Bond Coeffs - Harmonic\n",
    "    if parmedmol.bond_types:\n",
    "        lammps_data.write(\"Bond Coeffs\\r\\n\\r\\n\")\n",
    "        for bt in parmedmol.bond_types:\n",
    "            lammps_data.write(\"{0} {1} {2}\\r\\n\" .format(bt.idx+1, bt.k, bt.req))\n",
    "        \n",
    "        lammps_data.write(\"\\r\\n\")\n",
    "\n",
    "\n",
    "    # Angle Coeffs - Harmonic\n",
    "    if parmedmol.angle_types:\n",
    "        lammps_data.write(\"Angle Coeffs\\r\\n\\r\\n\")\n",
    "        for at in parmedmol.angle_types:\n",
    "            lammps_data.write(\"{0} {1} {2}\\r\\n\" .format(at.idx+1, at.k, at.theteq))\n",
    "       \n",
    "        lammps_data.write(\"\\r\\n\")\n",
    "\n",
    "\n",
    "    # Dihedral Coeffs - Charmm\n",
    "    if parmedmol.dihedral_types:\n",
    "        lammps_data.write(\"Dihedral Coeffs\\r\\n\\r\\n\")\n",
    "        for dt in parmedmol.dihedral_types:\n",
    "            lammps_data.write(\"{0} {1} {2} {3} {4}\\r\\n\" .format(dt.idx+1, dt.phi_k, dt.per, \n",
    "                (180 if dt.phase >= 180 else 0), \n",
    "                (1.0 if dt.scnb == 1.0 else 0.0)))\n",
    "        \n",
    "        lammps_data.write(\"\\r\\n\")\n",
    "\n",
    "\n",
    "    # Improper Coeffs - Harmonic\n",
    "    if parmedmol.improper_types:\n",
    "        lammps_data.write(\"Improper Coeffs\\r\\n\\r\\n\")\n",
    "        for it in parmedmol.improper_types:\n",
    "            print\n",
    "            lammps_data.write(\"{0} {1} {2}\\r\\n\" .format(it.idx+1, it.psi_k, it.psi_eq))\n",
    "        \n",
    "        lammps_data.write(\"\\r\\n\")\n",
    "\n",
    "\n",
    "    # print atoms\n",
    "    lammps_data.write(\"Atoms\\r\\n\\r\\n\")\n",
    "    for atom in parmedmol.atoms:\n",
    "        lammps_data.write(\"{0} {1} {2} {3} \" .format(atom.idx+1, atom.residue.idx, atom.nb_idx, atom.charge))\n",
    "        if not mdmol.positions.any():        \n",
    "            lammps_data.write(\"{0} {1} {2} \" .format(0.00, 0.00, 0.00))        \n",
    "        else:\n",
    "            pos = mdmol.positions[atom.idx]\n",
    "            lammps_data.write(\"{0} {1} {2} \" .format(pos[0].value_in(u.angstrom), pos[1].value_in(u.angstrom), \n",
    "                pos[2].value_in(u.angstrom)))\n",
    "        lammps_data.write(\"{0} {1} {2}\\r\\n\" .format(0, 0, 0)) # nx, ny, nz not defined    \n",
    "\n",
    "    lammps_data.write(\"\\r\\n\")\n",
    "\n",
    "\n",
    "    # print velocities\n",
    "    lammps_data.write(\"Velocities\\r\\n\\r\\n\")\n",
    "    for atom in mdmol.atoms:\n",
    "        xvel = atom.vx.value_in(u.angstrom/u.fs)\n",
    "        yvel = atom.vy.value_in(u.angstrom/u.fs)\n",
    "        zvel = atom.vz.value_in(u.angstrom/u.fs)\n",
    "        lammps_data.write(\"{0} {1} {2} {3}\\r\\n\" .format(atom.index+1, xvel, yvel, zvel))\n",
    "        \n",
    "    lammps_data.write(\"\\r\\n\")\n",
    "\n",
    "\n",
    "    # print bonds\n",
    "    lammps_data.write(\"Bonds\\r\\n\\r\\n\")\n",
    "    for idx, bond in enumerate(parmedmol.bonds):\n",
    "        lammps_data.write(\"{0} {1} {2} {3}\\r\\n\" .format(idx+1, bond.type.idx+1, \n",
    "          bond.atom1.idx+1, bond.atom2.idx+1))\n",
    "        \n",
    "    lammps_data.write(\"\\r\\n\")\n",
    "\n",
    "\n",
    "    # print angles\n",
    "    lammps_data.write(\"Angles\\r\\n\\r\\n\")\n",
    "    for idx, angle in enumerate(parmedmol.angles):\n",
    "        lammps_data.write(\"{0} {1} {2} {3} {4}\\r\\n\" .format(idx+1, angle.type.idx+1,\n",
    "          angle.atom1.idx+1, \n",
    "          angle.atom2.idx+1, angle.atom3.idx+1))\n",
    "        \n",
    "    lammps_data.write(\"\\r\\n\")\n",
    "\n",
    "\n",
    "    # print dihedrals\n",
    "    if parmedmol.dihedrals:\n",
    "        lammps_data.write(\"Dihedrals\\r\\n\\r\\n\")\n",
    "        for idx, di in enumerate(parmedmol.dihedrals):\n",
    "            lammps_data.write(\"{0} {1} {2} {3} {4} {5}\\r\\n\" .format(idx+1, di.type.idx+1, \n",
    "              di.atom1.idx+1, di.atom2.idx+1, \n",
    "              di.atom3.idx+1, di.atom4.idx+1))\n",
    "            \n",
    "        lammps_data.write(\"\\r\\n\")\n",
    "\n",
    "\n",
    "    # print impropers\n",
    "    if parmedmol.impropers:\n",
    "        lammps_data.write(\"Impropers\\r\\n\\r\\n\")\n",
    "        for im in parmedmol.impropers:\n",
    "            lammps_data.write(\"{0} {1} {2} {3} {4} {5}\\r\\n\" .format(im.idx+1, im.type.idx+1, \n",
    "              im.atom1.idx+1, im.atom2.idx+1, \n",
    "              im.atom3.idx+1, im.atom4.idx+1))\n",
    "        \n",
    "        lammps_data.write(\"\\r\\n\")\n",
    "\n",
    "    \n",
    "    lammps_data.close()\n",
    "    return filePath"
   ]
  },
  {
   "cell_type": "code",
   "execution_count": 12,
   "metadata": {
    "collapsed": false
   },
   "outputs": [],
   "source": [
    "name = formatLammpsData('test')"
   ]
  },
  {
   "cell_type": "code",
   "execution_count": 13,
   "metadata": {
    "collapsed": false
   },
   "outputs": [],
   "source": [
    "def prepareLammps(dataPath):\n",
    "    L.command(\"units real\")\n",
    "    L.command(\"atom_style full\")\n",
    "    L.command(\"pair_style lj/charmm/coul/long 8.0 10.0 10.0\")\n",
    "    L.command(\"bond_style harmonic\")\n",
    "    L.command(\"angle_style harmonic\")\n",
    "    L.command(\"dihedral_style charmm\")\n",
    "    L.command(\"improper_style harmonic\")\n",
    "    L.command(\"kspace_style pppm 0.0001\")\n",
    "    L.command(\"read_data \" + dataPath)\n",
    "\n",
    "def calculateEnergy(timeStep, outputFreq):\n",
    "    #L.command(\"timestep \" + str(round(timeStep,1)))\n",
    "    L.command(\"thermo_style custom step temp pe etotal\")\n",
    "    #L.command(\"thermo \" + str(outputFreq))\n",
    "\n",
    "            \n",
    "def groupHydrogens():\n",
    "    groupCommand = \"group hbonds type\"\n",
    "    for nonbond_name, nonbond_idx in parmedmol.LJ_types.iteritems():\n",
    "        if(nonbond_name[0] == 'H'):\n",
    "            groupCommand = groupCommand + \" \" + str(nonbond_idx)\n",
    "    L.command(groupCommand)\n",
    "    \n",
    "    \n",
    "def runNvt(timeStep, temp, damp, outputFreq, applyShake):\n",
    "    L.command(\"neighbor 2.0 bin\")\n",
    "    #L.command(\"neigh_modify delay 5\")\n",
    "    L.command(\"timestep \" + str(round(timeStep,1)))\n",
    "    L.command(\"thermo_style custom step temp pe etotal\")\n",
    "    L.command(\"thermo \" + str(outputFreq))\n",
    "    nvt_command = \"fix 1 all nvt temp {0} {1} {2}\" .format(round(temp,1), round(temp,1), round(damp, 3))\n",
    "    L.command(nvt_command)\n",
    "    if(applyShake):\n",
    "        groupHydrogens()\n",
    "        shake_command = \"fix 2 hbonds rattle 0.0001 20 0 t 5 6 m 1.0 a 31\"\n",
    "        L.command(shake_command)\n"
   ]
  },
  {
   "cell_type": "code",
   "execution_count": 14,
   "metadata": {
    "collapsed": false
   },
   "outputs": [],
   "source": [
    "from lammps import lammps, PyLammps"
   ]
  },
  {
   "cell_type": "code",
   "execution_count": 15,
   "metadata": {
    "collapsed": false
   },
   "outputs": [
    {
     "name": "stdout",
     "output_type": "stream",
     "text": [
      "LAMMPS output is captured by PyLammps wrapper\n"
     ]
    }
   ],
   "source": [
    "lmp = lammps()\n",
    "L = PyLammps(ptr=lmp)"
   ]
  },
  {
   "cell_type": "code",
   "execution_count": 16,
   "metadata": {
    "collapsed": false
   },
   "outputs": [],
   "source": [
    "prepareLammps(name)"
   ]
  },
  {
   "cell_type": "code",
   "execution_count": 17,
   "metadata": {
    "collapsed": false
   },
   "outputs": [
    {
     "name": "stdout",
     "output_type": "stream",
     "text": [
      "Before Evaluation\n",
      "(8.877, 11.103, 14.169)\n",
      "(0.0, 0.0, 0.0)\n",
      "(8.487983166e-314, 8.487983166e-314, 8.487983166e-314)\n"
     ]
    }
   ],
   "source": [
    "print \"Before Evaluation\"\n",
    "print L.atoms[1012].position\n",
    "print L.atoms[1012].velocity\n",
    "print L.atoms[1012].force"
   ]
  },
  {
   "cell_type": "code",
   "execution_count": 18,
   "metadata": {
    "collapsed": false
   },
   "outputs": [
    {
     "name": "stdout",
     "output_type": "stream",
     "text": [
      "-4179.44402414\n"
     ]
    }
   ],
   "source": [
    "calculateEnergy(1.0, 10)\n",
    "L.run(1000)\n",
    "print L.eval(\"pe\")\n"
   ]
  },
  {
   "cell_type": "code",
   "execution_count": 19,
   "metadata": {
    "collapsed": false
   },
   "outputs": [
    {
     "name": "stdout",
     "output_type": "stream",
     "text": [
      "1289\n"
     ]
    }
   ],
   "source": [
    "print L.atoms.natoms\n",
    "#for i in range(0, L.atoms.natoms):\n",
    "    #print L.atoms[i].force"
   ]
  },
  {
   "cell_type": "code",
   "execution_count": 20,
   "metadata": {
    "collapsed": false
   },
   "outputs": [
    {
     "name": "stdout",
     "output_type": "stream",
     "text": [
      "After Evaluation\n",
      "(8.877, 11.103, 14.169)\n",
      "(0.0, 0.0, 0.0)\n",
      "(-7.6358182133318175, -7.891001958914227, 45.069846815993344)\n"
     ]
    }
   ],
   "source": [
    "print \"After Evaluation\"\n",
    "print L.atoms[1012].position\n",
    "print L.atoms[1012].velocity\n",
    "print L.atoms[1012].force"
   ]
  },
  {
   "cell_type": "code",
   "execution_count": 21,
   "metadata": {
    "collapsed": false
   },
   "outputs": [
    {
     "name": "stdout",
     "output_type": "stream",
     "text": [
      "LAMMPS output is captured by PyLammps wrapper\n"
     ]
    }
   ],
   "source": [
    "del L\n",
    "del lmp\n",
    "\n",
    "lmp = lammps()\n",
    "L = PyLammps(ptr=lmp)"
   ]
  },
  {
   "cell_type": "code",
   "execution_count": 22,
   "metadata": {
    "collapsed": false
   },
   "outputs": [],
   "source": [
    "prepareLammps(name)"
   ]
  },
  {
   "cell_type": "code",
   "execution_count": 23,
   "metadata": {
    "collapsed": false
   },
   "outputs": [
    {
     "name": "stdout",
     "output_type": "stream",
     "text": [
      "Before Simulation\n",
      "(8.877, 11.103, 14.169)\n",
      "(0.0, 0.0, 0.0)\n",
      "(0.0, 0.0, 0.0)\n"
     ]
    }
   ],
   "source": [
    "print \"Before Simulation\"\n",
    "print L.atoms[1012].position\n",
    "print L.atoms[1012].velocity\n",
    "print L.atoms[1012].force"
   ]
  },
  {
   "cell_type": "code",
   "execution_count": 24,
   "metadata": {
    "collapsed": true
   },
   "outputs": [],
   "source": [
    "runNvt(1.0, 300, 100, 10, True)\n"
   ]
  },
  {
   "cell_type": "code",
   "execution_count": 25,
   "metadata": {
    "collapsed": true
   },
   "outputs": [],
   "source": [
    "# shake_command = \"fix 2 hbonds shake 0.0001 10 0 b 4 6 8 10 12 14 18 a 31\"\n",
    "# L.command(shake_command)\n"
   ]
  },
  {
   "cell_type": "code",
   "execution_count": 26,
   "metadata": {
    "collapsed": false
   },
   "outputs": [
    {
     "data": {
      "text/plain": [
       "[u'PPPM initialization ...',\n",
       " u'WARNING: System is not charge neutral, net charge = -2 (../kspace.cpp:298)',\n",
       " u'WARNING: Using 12-bit tables for long-range coulomb (../kspace.cpp:317)',\n",
       " u'  G vector (1/distance) = 0.243816',\n",
       " u'  grid = 15 15 12',\n",
       " u'  stencil order = 5',\n",
       " u'  estimated absolute RMS force accuracy = 0.0251739',\n",
       " u'  estimated relative force accuracy = 7.58106e-05',\n",
       " u'  using double precision FFTs',\n",
       " u'  3d grid and FFT values/proc = 6800 2700',\n",
       " u'Neighbor list info ...',\n",
       " u'  1 neighbor list requests',\n",
       " u'  update every 1 steps, delay 10 steps, check yes',\n",
       " u'  max neighbors/atom: 2000, page size: 100000',\n",
       " u'  master list distance cutoff = 12',\n",
       " u'  ghost atom cutoff = 12',\n",
       " u'  binsize = 6, bins = 7 6 6',\n",
       " u'Setting up Verlet run ...',\n",
       " u'  Unit style    : real',\n",
       " u'  Current step  : 0',\n",
       " u'  Time step     : 1',\n",
       " u'Memory usage per processor = 19.8786 Mbytes',\n",
       " u'Step Temp PotEng TotEng ',\n",
       " u'       0            0   -4179.4486   -4179.4486 ',\n",
       " u'      10    144.04034   -4719.4291   -4179.5844 ',\n",
       " u'      20    277.46019   -5205.5623    -4165.677 ',\n",
       " u'      30    318.82877   -5344.9672   -4150.0378 ',\n",
       " u'      40    299.26578   -5262.1432   -4140.5334 ',\n",
       " u'      50    282.67358   -5193.8539   -4134.4296 ',\n",
       " u'      60    281.08847   -5181.8761   -4128.3925 ',\n",
       " u'      70    290.65138    -5211.586   -4122.2619 ',\n",
       " u'      80    298.87635   -5236.4983    -4116.348 ',\n",
       " u'      90    297.86912   -5226.2928   -4109.9175 ',\n",
       " u'     100    302.43081    -5238.005   -4104.5331 ',\n",
       " u'     110    317.75694   -5290.1682   -4099.2559 ',\n",
       " u'     120    313.02883   -5268.8831   -4095.6912 ',\n",
       " u'     130    296.83795   -5204.5817   -4092.0711 ',\n",
       " u'     140    313.75478   -5266.4548   -4090.5421 ',\n",
       " u'     150    322.05824   -5295.3643   -4088.3312 ',\n",
       " u'     160    323.17313   -5299.7748   -4088.5633 ',\n",
       " u'     170    317.07656   -5278.2833    -4089.921 ',\n",
       " u'     180    320.49039   -5294.5648   -4093.4079 ',\n",
       " u'     190    316.16636   -5283.0967   -4098.1457 ',\n",
       " u'     200    306.23636   -5251.6167   -4103.8821 ',\n",
       " u'Loop time of 1.55971 on 1 procs for 200 steps with 1289 atoms',\n",
       " u'',\n",
       " u'Performance: 11.079 ns/day, 2.166 hours/ns, 128.229 timesteps/s',\n",
       " u'98.5% CPU use with 1 MPI tasks x no OpenMP threads',\n",
       " u'',\n",
       " u'MPI task timing breakdown:',\n",
       " u'Section |  min time  |  avg time  |  max time  |%varavg| %total',\n",
       " u'---------------------------------------------------------------',\n",
       " u'Pair    | 1.0672     | 1.0672     | 1.0672     |   0.0 | 68.42',\n",
       " u'Bond    | 0.093294   | 0.093294   | 0.093294   |   0.0 |  5.98',\n",
       " u'Kspace  | 0.25184    | 0.25184    | 0.25184    |   0.0 | 16.15',\n",
       " u'Neigh   | 0.12876    | 0.12876    | 0.12876    |   0.0 |  8.26',\n",
       " u'Comm    | 0.0058558  | 0.0058558  | 0.0058558  |   0.0 |  0.38',\n",
       " u'Output  | 0.00032544 | 0.00032544 | 0.00032544 |   0.0 |  0.02',\n",
       " u'Modify  | 0.011181   | 0.011181   | 0.011181   |   0.0 |  0.72',\n",
       " u'Other   |            | 0.001282   |            |       |  0.08',\n",
       " u'',\n",
       " u'Nlocal:    1289 ave 1289 max 1289 min',\n",
       " u'Histogram: 1 0 0 0 0 0 0 0 0 0',\n",
       " u'Nghost:    3661 ave 3661 max 3661 min',\n",
       " u'Histogram: 1 0 0 0 0 0 0 0 0 0',\n",
       " u'Neighs:    271246 ave 271246 max 271246 min',\n",
       " u'Histogram: 1 0 0 0 0 0 0 0 0 0',\n",
       " u'',\n",
       " u'Total # of neighbors = 271246',\n",
       " u'Ave neighs/atom = 210.431',\n",
       " u'Ave special neighs/atom = 9.0706',\n",
       " u'Neighbor list builds = 19',\n",
       " u'Dangerous builds = 18']"
      ]
     },
     "execution_count": 26,
     "metadata": {},
     "output_type": "execute_result"
    }
   ],
   "source": [
    "L.run(200)"
   ]
  },
  {
   "cell_type": "code",
   "execution_count": 27,
   "metadata": {
    "collapsed": false
   },
   "outputs": [
    {
     "name": "stdout",
     "output_type": "stream",
     "text": [
      "After Simulation\n",
      "(9.19494075859492, 11.451470715040097, 15.346603769920547)\n",
      "(-0.00397251412118858, -0.0015766077350572762, -0.010748494668691991)\n",
      "(0.9883842516969316, -14.583172882856926, 8.907208281244325)\n"
     ]
    }
   ],
   "source": [
    "print \"After Simulation\"\n",
    "print L.atoms[1012].position\n",
    "print L.atoms[1012].velocity\n",
    "print L.atoms[1012].force"
   ]
  },
  {
   "cell_type": "code",
   "execution_count": 28,
   "metadata": {
    "collapsed": false
   },
   "outputs": [
    {
     "name": "stdout",
     "output_type": "stream",
     "text": [
      "(7.788610126744418, 10.530872852534074, 14.642204100255647)\n",
      "(-0.007559879676876478, -0.001795016071579182, 0.0026680477474389707)\n",
      "(-2.1826713735872714, 14.545634070314566, 3.0004310601325535)\n"
     ]
    }
   ],
   "source": [
    "#"
   ]
  },
  {
   "cell_type": "code",
   "execution_count": 29,
   "metadata": {
    "collapsed": false
   },
   "outputs": [],
   "source": [
    "# mdmol.draw3d() 17"
   ]
  },
  {
   "cell_type": "code",
   "execution_count": null,
   "metadata": {
    "collapsed": true
   },
   "outputs": [],
   "source": []
  },
  {
   "cell_type": "code",
   "execution_count": 30,
   "metadata": {
    "collapsed": false
   },
   "outputs": [
    {
     "name": "stdout",
     "output_type": "stream",
     "text": [
      "After Simulation\n",
      "(7.457580848092356, 10.69993265047156, 14.956169430314278)\n",
      "(0.005556983376549892, 0.0018551796995334708, -3.141111672232247e-05)\n",
      "(2.191356380785142, -6.627433362346804, -1.5312295043057897)\n",
      "After Simulation\n",
      "(7.721168668859181, 10.97800544000138, 14.947162795601557)\n",
      "(0.0006144565146105085, -4.639190940648405e-05, -0.0008430402012587128)\n",
      "(2.8094228602161753, 1.7414929341973215, -7.386455313419221)\n",
      "After Simulation\n",
      "(7.869852491935284, 10.936239989486067, 14.811540042196986)\n",
      "(0.00012977984968271205, -0.000522515180828844, 0.0009188572408656176)\n",
      "(3.761312657263911, -1.0842196733355531, -1.9149606833162571)\n",
      "After Simulation\n",
      "(7.871100018519319, 10.926784103576775, 14.82326176218348)\n",
      "(-0.0005161291641022777, 0.00010222442986587411, 9.83790687218567e-05)\n",
      "(-0.15044681444352428, 0.09599551605240592, -1.8462554568758622)\n",
      "After Simulation\n",
      "(7.893233854832725, 10.901471274266948, 14.664484256308727)\n",
      "(-0.00045665182134537233, -4.522541275381013e-07, -0.0007110559481191951)\n",
      "(0.3873709465761824, 1.0496916335272921, 0.03753715335077095)\n",
      "After Simulation\n",
      "(7.659706383399197, 10.82609668462374, 14.66494383279896)\n",
      "(-0.0017828966385971586, 0.0005372952747660677, -0.0008802644116878694)\n",
      "(2.6263101900823207, 1.9773883452322316, -2.224350165914367)\n",
      "After Simulation\n",
      "(7.679960925183242, 11.032013608152445, 14.564412183505484)\n",
      "(-0.001600907431942688, 0.002863988853203262, 0.0018766260093368353)\n",
      "(-2.2620887884508534, 0.4981738184380572, -0.22103732803291248)\n",
      "After Simulation\n",
      "(7.3549016415348865, 11.364201543745892, 15.13884622112064)\n",
      "(7.810602656848518e-05, -0.001970460449415148, 0.0007093108733259874)\n",
      "(2.5375927303140293, -1.8568370203876319, -1.7643931655408385)\n",
      "After Simulation\n",
      "(7.806215118827603, 11.785558611000063, 15.257753446058581)\n",
      "(0.0026160308297707357, 0.0024800515516804926, 0.0007616157708764161)\n",
      "(-1.6087246109602935, -7.023016284829172, 2.0832534886135883)\n",
      "After Simulation\n",
      "(8.130492069706087, 11.865443319894693, 15.015360437176588)\n",
      "(7.39536947966148e-05, 0.0008666063289726587, 0.00024432159070209274)\n",
      "(1.3482367096400893, 1.741609010822404, 1.3943925475825099)\n"
     ]
    }
   ],
   "source": [
    "for j in range(0, 10):\n",
    "    L.run(200)\n",
    "    print \"After Simulation\"\n",
    "    print L.atoms[1012].position\n",
    "    print L.atoms[1012].velocity\n",
    "    print L.atoms[1012].force\n",
    "    "
   ]
  },
  {
   "cell_type": "code",
   "execution_count": 31,
   "metadata": {
    "collapsed": false
   },
   "outputs": [
    {
     "data": {
      "text/plain": [
       "[u'PPPM initialization ...',\n",
       " u'WARNING: Using 12-bit tables for long-range coulomb (../kspace.cpp:317)',\n",
       " u'  G vector (1/distance) = 0.243816',\n",
       " u'  grid = 15 15 12',\n",
       " u'  stencil order = 5',\n",
       " u'  estimated absolute RMS force accuracy = 0.0251739',\n",
       " u'  estimated relative force accuracy = 7.58106e-05',\n",
       " u'  using double precision FFTs',\n",
       " u'  3d grid and FFT values/proc = 6800 2700',\n",
       " u'Setting up Verlet run ...',\n",
       " u'  Unit style    : real',\n",
       " u'  Current step  : 2400',\n",
       " u'  Time step     : 1',\n",
       " u'Memory usage per processor = 19.8786 Mbytes',\n",
       " u'Step Temp PotEng TotEng ',\n",
       " u'    2400      348.907   -6404.9213   -5097.2626 ',\n",
       " u'    2410    391.39516   -6552.3865   -5085.4876 ',\n",
       " u'Loop time of 0.081291 on 1 procs for 10 steps with 1289 atoms',\n",
       " u'',\n",
       " u'Performance: 10.628 ns/day, 2.258 hours/ns, 123.015 timesteps/s',\n",
       " u'99.2% CPU use with 1 MPI tasks x no OpenMP threads',\n",
       " u'',\n",
       " u'MPI task timing breakdown:',\n",
       " u'Section |  min time  |  avg time  |  max time  |%varavg| %total',\n",
       " u'---------------------------------------------------------------',\n",
       " u'Pair    | 0.056479   | 0.056479   | 0.056479   |   0.0 | 69.48',\n",
       " u'Bond    | 0.004709   | 0.004709   | 0.004709   |   0.0 |  5.79',\n",
       " u'Kspace  | 0.012438   | 0.012438   | 0.012438   |   0.0 | 15.30',\n",
       " u'Neigh   | 0.0067708  | 0.0067708  | 0.0067708  |   0.0 |  8.33',\n",
       " u'Comm    | 0.00026226 | 0.00026226 | 0.00026226 |   0.0 |  0.32',\n",
       " u'Output  | 1.5974e-05 | 1.5974e-05 | 1.5974e-05 |   0.0 |  0.02',\n",
       " u'Modify  | 0.0005517  | 0.0005517  | 0.0005517  |   0.0 |  0.68',\n",
       " u'Other   |            | 6.437e-05  |            |       |  0.08',\n",
       " u'',\n",
       " u'Nlocal:    1289 ave 1289 max 1289 min',\n",
       " u'Histogram: 1 0 0 0 0 0 0 0 0 0',\n",
       " u'Nghost:    3480 ave 3480 max 3480 min',\n",
       " u'Histogram: 1 0 0 0 0 0 0 0 0 0',\n",
       " u'Neighs:    278083 ave 278083 max 278083 min',\n",
       " u'Histogram: 1 0 0 0 0 0 0 0 0 0',\n",
       " u'',\n",
       " u'Total # of neighbors = 278083',\n",
       " u'Ave neighs/atom = 215.735',\n",
       " u'Ave special neighs/atom = 9.0706',\n",
       " u'Neighbor list builds = 1',\n",
       " u'Dangerous builds = 1']"
      ]
     },
     "execution_count": 31,
     "metadata": {},
     "output_type": "execute_result"
    }
   ],
   "source": [
    "L.run(10)"
   ]
  },
  {
   "cell_type": "code",
   "execution_count": 34,
   "metadata": {
    "collapsed": false
   },
   "outputs": [
    {
     "name": "stdout",
     "output_type": "stream",
     "text": [
      "After Simulation\n",
      "(8.6383729709806, 11.997737928448526, 14.997921995573893)\n",
      "(0.0016438358961545381, -0.00013722269212715254, -0.00384629634136644)\n",
      "(-0.19733122030875017, -0.9099831571712238, -6.018102449696341)\n",
      "After Simulation\n",
      "(8.640014771306522, 11.997588762270365, 14.993995738422633)\n",
      "(0.0016416456888421202, -0.00016147075696782386, -0.004001437557920804)\n",
      "(-0.05470652367141737, -0.9368591754884609, -5.645418413058776)\n",
      "After Simulation\n",
      "(8.64165627814647, 11.99741498538168, 14.989919081975053)\n",
      "(0.001643390994006622, -0.00018684691407759506, -0.0041452705933842215)\n",
      "(0.09952048904172772, -0.9945506178215493, -5.135279988380687)\n",
      "After Simulation\n",
      "(8.643301550038975, 11.997215068812354, 14.985705205447646)\n",
      "(0.0016493852658386338, -0.00021456246321972919, -0.004274999485737021)\n",
      "(0.2708260405446806, -1.1144506707521866, -4.561343737586456)\n",
      "After Simulation\n",
      "(8.644955033827605, 11.996985862387092, 14.981369121494316)\n",
      "(0.001659805378445211, -0.00024627583565876133, -0.004389828051340082)\n",
      "(0.4416686062160706, -1.2992950100777236, -3.999847162370122)\n",
      "After Simulation\n",
      "(8.64662114803947, 11.996722519033783, 14.976925583082883)\n",
      "(0.0016742495006905245, -0.0002835906369035152, -0.0044909441351611)\n",
      "(0.5814064375444261, -1.5416393399061943, -3.5162487557792907)\n",
      "After Simulation\n",
      "(8.648303535865345, 11.996418680598975, 14.972387225079375)\n",
      "(0.0016914588018409086, -0.0003276851399623038, -0.004581120600456917)\n",
      "(0.6514586178357004, -1.8156438172765563, -3.1559802555412797)\n",
      "After Simulation\n",
      "(8.650004085703955, 11.996067144867492, 14.9677632875496)\n",
      "(0.0017093987184150494, -0.00037879128721198197, -0.004663738741239192)\n",
      "(0.6311978910355092, -2.0744545589921968, -2.9197123112652044)\n",
      "After Simulation\n",
      "(8.65172234717582, 11.995661094950243, 14.963059709745544)\n",
      "(0.001725759430458458, -0.00043587140034833305, -0.004741731180925574)\n",
      "(0.5261220691231155, -2.268846323028453, -2.787980143497931)\n",
      "After Simulation\n",
      "(8.653455597897041, 11.995195403750875, 14.958279843508416)\n",
      "(0.0017387273603635372, -0.0004966958803578447, -0.004817288968990866)\n",
      "(0.3726166085354524, -2.3580837575961864, -2.734028597557687)\n"
     ]
    }
   ],
   "source": [
    "for j in range(0, 10):\n",
    "    L.run(1)\n",
    "    print \"After Simulation\"\n",
    "    print L.atoms[1012].position\n",
    "    print L.atoms[1012].velocity\n",
    "    print L.atoms[1012].force"
   ]
  },
  {
   "cell_type": "code",
   "execution_count": 39,
   "metadata": {
    "collapsed": false
   },
   "outputs": [
    {
     "name": "stdout",
     "output_type": "stream",
     "text": [
      "1289\n",
      "1289\n"
     ]
    }
   ],
   "source": [
    "print L.atoms.natoms\n",
    "i = 0\n",
    "for atom in mdmol.velocities:\n",
    "    i+=1\n",
    "print i\n",
    "\n"
   ]
  },
  {
   "cell_type": "code",
   "execution_count": null,
   "metadata": {
    "collapsed": false
   },
   "outputs": [],
   "source": []
  },
  {
   "cell_type": "code",
   "execution_count": null,
   "metadata": {
    "collapsed": false
   },
   "outputs": [],
   "source": []
  },
  {
   "cell_type": "code",
   "execution_count": null,
   "metadata": {
    "collapsed": false
   },
   "outputs": [],
   "source": []
  },
  {
   "cell_type": "code",
   "execution_count": null,
   "metadata": {
    "collapsed": false
   },
   "outputs": [],
   "source": []
  },
  {
   "cell_type": "code",
   "execution_count": null,
   "metadata": {
    "collapsed": true
   },
   "outputs": [],
   "source": []
  }
 ],
 "metadata": {
  "kernelspec": {
   "display_name": "Python 2",
   "language": "python",
   "name": "python2"
  },
  "language_info": {
   "codemirror_mode": {
    "name": "ipython",
    "version": 2
   },
   "file_extension": ".py",
   "mimetype": "text/x-python",
   "name": "python",
   "nbconvert_exporter": "python",
   "pygments_lexer": "ipython2",
   "version": "2.7.13"
  }
 },
 "nbformat": 4,
 "nbformat_minor": 2
}
