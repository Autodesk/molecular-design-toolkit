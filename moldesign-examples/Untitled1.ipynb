{
 "cells": [
  {
   "cell_type": "code",
   "execution_count": 1,
   "metadata": {
    "collapsed": false
   },
   "outputs": [
    {
     "name": "stdout",
     "output_type": "stream",
     "text": [
      "OpenMM could not be imported; using remote docker container\n",
      "PDBFixer could not be imported; using remote docker container\n",
      "PySCF not installed; using remote docker container\n",
      "Reading configuration from /Users/t_leeday/.moldesign/moldesign.yml\n"
     ]
    }
   ],
   "source": [
    "import moldesign as mdt\n",
    "from moldesign import units as u"
   ]
  },
  {
   "cell_type": "code",
   "execution_count": 2,
   "metadata": {
    "collapsed": false
   },
   "outputs": [],
   "source": [
    "from moldesign.models.lammps_model import LAMMPSPotential\n",
    "import parmed as med"
   ]
  },
  {
   "cell_type": "code",
   "execution_count": 3,
   "metadata": {
    "collapsed": false
   },
   "outputs": [],
   "source": [
    "mol = mdt.from_pdb('1yu8')\n"
   ]
  },
  {
   "cell_type": "code",
   "execution_count": null,
   "metadata": {
    "collapsed": false
   },
   "outputs": [],
   "source": []
  },
  {
   "cell_type": "code",
   "execution_count": 4,
   "metadata": {
    "collapsed": false
   },
   "outputs": [
    {
     "name": "stdout",
     "output_type": "stream",
     "text": [
      "Connecting to docker host at unix://var/run/docker.sock... done\n"
     ]
    },
    {
     "name": "stderr",
     "output_type": "stream",
     "text": [
      "Widget Javascript not detected.  It may not be installed or enabled properly.\n"
     ]
    },
    {
     "data": {
      "application/vnd.jupyter.widget-view+json": {
       "model_id": "d31379c6a78c43cd950b2a916a30a117"
      }
     },
     "metadata": {},
     "output_type": "display_data"
    },
    {
     "name": "stdout",
     "output_type": "stream",
     "text": [
      "Done parameterizing\n"
     ]
    }
   ],
   "source": [
    "mdmol = mdt.assign_forcefield(mol)\n",
    "\n",
    "print \"Done parameterizing\"\n",
    "\n"
   ]
  },
  {
   "cell_type": "code",
   "execution_count": null,
   "metadata": {
    "collapsed": false
   },
   "outputs": [],
   "source": []
  },
  {
   "cell_type": "code",
   "execution_count": 5,
   "metadata": {
    "collapsed": false
   },
   "outputs": [],
   "source": [
    "mdmol.set_energy_model(LAMMPSPotential)\n"
   ]
  },
  {
   "cell_type": "code",
   "execution_count": 6,
   "metadata": {
    "collapsed": false
   },
   "outputs": [
    {
     "name": "stdout",
     "output_type": "stream",
     "text": [
      "LAMMPS output is captured by PyLammps wrapper\n",
      "LAMMPS Description\n",
      "\n",
      "1289 atoms\n",
      "1300 bonds\n",
      "1862 angles\n",
      "4484 dihedrals\n",
      "0 impropers\n",
      "\n",
      "16 atom types\n",
      "62 bond types\n",
      "140 angle types\n",
      "163 dihedral types\n",
      "\n",
      "-50 100 xlo xhi\n",
      "-50 100 ylo yhi\n",
      "-50 100 zlo zhi\n",
      "\n"
     ]
    }
   ],
   "source": [
    "hello = mdmol.calculate()\n"
   ]
  },
  {
   "cell_type": "code",
   "execution_count": 7,
   "metadata": {
    "collapsed": false
   },
   "outputs": [
    {
     "data": {
      "text/html": [
       "-4029.93149462 kcalpermol"
      ],
      "text/latex": [
       "$-4029.93149462 kcalpermol$"
      ],
      "text/plain": [
       "<Quantity(-4029.93149462, 'kcalpermol')>"
      ]
     },
     "execution_count": 7,
     "metadata": {},
     "output_type": "execute_result"
    }
   ],
   "source": [
    "hello['potential_energy']"
   ]
  },
  {
   "cell_type": "code",
   "execution_count": 8,
   "metadata": {
    "collapsed": false
   },
   "outputs": [],
   "source": [
    "mdmol.set_integrator(mdt.integrators.LAMMPSNvt,\n",
    "                   timestep=1.0*u.fs,\n",
    "                   temperature=295.0*u.kelvin,\n",
    "                   frame_interval=5.0*u.fs)"
   ]
  },
  {
   "cell_type": "code",
   "execution_count": 9,
   "metadata": {
    "collapsed": false
   },
   "outputs": [
    {
     "name": "stdout",
     "output_type": "stream",
     "text": [
      "[ 11.254   7.626  12.101] ang\n"
     ]
    }
   ],
   "source": [
    "print mdmol.atoms[1004].position"
   ]
  },
  {
   "cell_type": "code",
   "execution_count": 10,
   "metadata": {
    "collapsed": false
   },
   "outputs": [
    {
     "data": {
      "text/plain": [
       "array([ 10.367,  29.903,  18.753])"
      ]
     },
     "execution_count": 10,
     "metadata": {},
     "output_type": "execute_result"
    }
   ],
   "source": [
    "mdmol.positions[0].value_in(u.angstrom)"
   ]
  },
  {
   "cell_type": "code",
   "execution_count": 11,
   "metadata": {
    "collapsed": false
   },
   "outputs": [
    {
     "name": "stdout",
     "output_type": "stream",
     "text": [
      "LAMMPS output is captured by PyLammps wrapper\n",
      "LAMMPS Description\n",
      "\n",
      "1289 atoms\n",
      "1300 bonds\n",
      "1862 angles\n",
      "4484 dihedrals\n",
      "0 impropers\n",
      "\n",
      "16 atom types\n",
      "62 bond types\n",
      "140 angle types\n",
      "163 dihedral types\n",
      "\n",
      "-50 100 xlo xhi\n",
      "-50 100 ylo yhi\n",
      "-50 100 zlo zhi\n",
      "\n",
      "Done - integrated \"Molecule: Unnamed molecule from OpenMM\" from 0.0 fs to 50.0 fs\n"
     ]
    }
   ],
   "source": [
    "traj = mdmol.run(50.0*u.fs)"
   ]
  },
  {
   "cell_type": "code",
   "execution_count": 12,
   "metadata": {
    "collapsed": false
   },
   "outputs": [
    {
     "name": "stdout",
     "output_type": "stream",
     "text": [
      "[ 11.2517    7.63655  12.1003 ] ang\n",
      "[ 0.00081034 -0.00018579 -0.00149236] ang / fs\n"
     ]
    }
   ],
   "source": [
    "print mdmol.atoms[1004].position\n",
    "print mdmol.atoms[1004].velocity"
   ]
  },
  {
   "cell_type": "code",
   "execution_count": 13,
   "metadata": {
    "collapsed": false
   },
   "outputs": [
    {
     "name": "stderr",
     "output_type": "stream",
     "text": [
      "Widget Javascript not detected.  It may not be installed or enabled properly.\n"
     ]
    },
    {
     "data": {
      "application/vnd.jupyter.widget-view+json": {
       "model_id": "3c2292bb4fb140328fd9ab6c47cfc37b"
      }
     },
     "metadata": {},
     "output_type": "display_data"
    }
   ],
   "source": [
    "traj.draw()"
   ]
  },
  {
   "cell_type": "code",
   "execution_count": 14,
   "metadata": {
    "collapsed": false
   },
   "outputs": [],
   "source": [
    "mdmol.set_integrator(mdt.integrators.LAMMPSNvt,\n",
    "                   timestep=1.0*u.fs,\n",
    "                   temperature=295.0*u.kelvin,\n",
    "                   frame_interval=10.0*u.fs)"
   ]
  },
  {
   "cell_type": "code",
   "execution_count": 15,
   "metadata": {
    "collapsed": false
   },
   "outputs": [
    {
     "name": "stdout",
     "output_type": "stream",
     "text": [
      "Done - integrated \"Molecule: Unnamed molecule from OpenMM\" from 50.0 fs to 100.0 fs\n"
     ]
    }
   ],
   "source": [
    "traj = mdmol.run(100.0*u.fs)"
   ]
  },
  {
   "cell_type": "code",
   "execution_count": 16,
   "metadata": {
    "collapsed": false
   },
   "outputs": [
    {
     "data": {
      "application/vnd.jupyter.widget-view+json": {
       "model_id": "e96f6e5e4d3742cc97a7adef3bc578a3"
      }
     },
     "metadata": {},
     "output_type": "display_data"
    }
   ],
   "source": [
    "traj.draw()"
   ]
  },
  {
   "cell_type": "code",
   "execution_count": null,
   "metadata": {
    "collapsed": true
   },
   "outputs": [],
   "source": []
  },
  {
   "cell_type": "code",
   "execution_count": null,
   "metadata": {
    "collapsed": true
   },
   "outputs": [],
   "source": []
  },
  {
   "cell_type": "code",
   "execution_count": null,
   "metadata": {
    "collapsed": true
   },
   "outputs": [],
   "source": []
  }
 ],
 "metadata": {
  "kernelspec": {
   "display_name": "Python 2",
   "language": "python",
   "name": "python2"
  },
  "language_info": {
   "codemirror_mode": {
    "name": "ipython",
    "version": 2
   },
   "file_extension": ".py",
   "mimetype": "text/x-python",
   "name": "python",
   "nbconvert_exporter": "python",
   "pygments_lexer": "ipython2",
   "version": "2.7.13"
  }
 },
 "nbformat": 4,
 "nbformat_minor": 2
}
