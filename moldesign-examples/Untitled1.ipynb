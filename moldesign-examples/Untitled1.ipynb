{
 "cells": [
  {
   "cell_type": "code",
   "execution_count": 1,
   "metadata": {
    "collapsed": false
   },
   "outputs": [
    {
     "name": "stdout",
     "output_type": "stream",
     "text": [
      "OpenMM could not be imported; using remote docker container\n",
      "PDBFixer could not be imported; using remote docker container\n",
      "PySCF not installed; using remote docker container\n",
      "Reading configuration from /Users/t_leeday/.moldesign/moldesign.yml\n"
     ]
    }
   ],
   "source": [
    "import moldesign as mdt\n",
    "from moldesign import units as u"
   ]
  },
  {
   "cell_type": "code",
   "execution_count": 2,
   "metadata": {
    "collapsed": false
   },
   "outputs": [],
   "source": [
    "from moldesign.models.lammps_model import LAMMPSPotential\n",
    "import parmed as med"
   ]
  },
  {
   "cell_type": "code",
   "execution_count": 3,
   "metadata": {
    "collapsed": false
   },
   "outputs": [],
   "source": [
    "mol = mdt.from_pdb('1yu8')\n"
   ]
  },
  {
   "cell_type": "code",
   "execution_count": 4,
   "metadata": {
    "collapsed": false
   },
   "outputs": [],
   "source": [
    "mol = mdt.Molecule([res for res in mol.residues if res.type == \"protein\"])"
   ]
  },
  {
   "cell_type": "code",
   "execution_count": 5,
   "metadata": {
    "collapsed": false
   },
   "outputs": [
    {
     "name": "stdout",
     "output_type": "stream",
     "text": [
      "Connecting to docker host at unix://var/run/docker.sock... done\n"
     ]
    },
    {
     "name": "stderr",
     "output_type": "stream",
     "text": [
      "Widget Javascript not detected.  It may not be installed or enabled properly.\n"
     ]
    },
    {
     "data": {
      "application/vnd.jupyter.widget-view+json": {
       "model_id": "786dd8aa226c4333859eeb2e28a82603"
      }
     },
     "metadata": {},
     "output_type": "display_data"
    },
    {
     "name": "stdout",
     "output_type": "stream",
     "text": [
      "Done parameterizing\n"
     ]
    }
   ],
   "source": [
    "mdmol = mdt.assign_forcefield(mol)\n",
    "\n",
    "print \"Done parameterizing\"\n",
    "\n"
   ]
  },
  {
   "cell_type": "code",
   "execution_count": 6,
   "metadata": {
    "collapsed": false
   },
   "outputs": [],
   "source": [
    "mdmol.set_energy_model(LAMMPSPotential)\n"
   ]
  },
  {
   "cell_type": "code",
   "execution_count": 7,
   "metadata": {
    "collapsed": false
   },
   "outputs": [],
   "source": [
    "hydrogens = [atom for atom in mdmol.atoms if atom.atnum == 1]\n",
    "dist_before = []\n",
    "for atom in hydrogens:\n",
    "    assert atom.num_bonds ==1\n",
    "    d = atom.distance(atom.bonded_atoms[0])\n",
    "    dist_before.append(d)"
   ]
  },
  {
   "cell_type": "code",
   "execution_count": 8,
   "metadata": {
    "collapsed": false
   },
   "outputs": [
    {
     "name": "stdout",
     "output_type": "stream",
     "text": [
      "Creating system\n",
      "LAMMPS output is captured by PyLammps wrapper\n"
     ]
    }
   ],
   "source": [
    "hello = mdmol.calculate()\n"
   ]
  },
  {
   "cell_type": "code",
   "execution_count": 9,
   "metadata": {
    "collapsed": false
   },
   "outputs": [
    {
     "data": {
      "text/html": [
       "-4354.13539812 kcalpermol"
      ],
      "text/latex": [
       "$-4354.13539812 kcalpermol$"
      ],
      "text/plain": [
       "<Quantity(-4354.13539812, 'kcalpermol')>"
      ]
     },
     "execution_count": 9,
     "metadata": {},
     "output_type": "execute_result"
    }
   ],
   "source": [
    "hello['potential_energy']"
   ]
  },
  {
   "cell_type": "code",
   "execution_count": 10,
   "metadata": {
    "collapsed": false
   },
   "outputs": [],
   "source": [
    "mdmol.set_integrator(mdt.integrators.LAMMPSNvt,\n",
    "                   timestep=1.0*u.fs,\n",
    "                   temperature=300.0*u.kelvin,\n",
    "                   frame_interval=1*u.ps)"
   ]
  },
  {
   "cell_type": "code",
   "execution_count": 11,
   "metadata": {
    "collapsed": false
   },
   "outputs": [
    {
     "name": "stdout",
     "output_type": "stream",
     "text": [
      "Creating system\n",
      "LAMMPS output is captured by PyLammps wrapper\n",
      "1.0\n",
      "fix 1 all nvt temp 300.0 300.0 100.0\n",
      "fix 2 all shake 0.0001 20 0 m 1.008\n",
      "Done - integrated \"Molecule: Unnamed molecule from OpenMM\" from 0.0 fs to 10000.0 fs\n"
     ]
    }
   ],
   "source": [
    "traj = mdmol.run(10*u.ps)"
   ]
  },
  {
   "cell_type": "code",
   "execution_count": null,
   "metadata": {
    "collapsed": false
   },
   "outputs": [],
   "source": []
  },
  {
   "cell_type": "code",
   "execution_count": 12,
   "metadata": {
    "collapsed": false
   },
   "outputs": [],
   "source": [
    "import parmed as med\n",
    "parmedmol = med.load_file('/tmp/tmp.prmtop')"
   ]
  },
  {
   "cell_type": "code",
   "execution_count": 13,
   "metadata": {
    "collapsed": false,
    "scrolled": false
   },
   "outputs": [
    {
     "name": "stdout",
     "output_type": "stream",
     "text": [
      "32\n"
     ]
    }
   ],
   "source": [
    "numNonConstrained = 0\n",
    "for idx, atom in enumerate(hydrogens):\n",
    "    assert atom.num_bonds ==1\n",
    "    d = atom.distance(atom.bonded_atoms[0])\n",
    "    if abs(d-dist_before[idx]).value_in(u.angstrom) > 0.0001:\n",
    "        numNonConstrained+=1\n",
    "print numNonConstrained"
   ]
  },
  {
   "cell_type": "code",
   "execution_count": 14,
   "metadata": {
    "collapsed": false
   },
   "outputs": [
    {
     "name": "stderr",
     "output_type": "stream",
     "text": [
      "Widget Javascript not detected.  It may not be installed or enabled properly.\n"
     ]
    },
    {
     "data": {
      "application/vnd.jupyter.widget-view+json": {
       "model_id": "f7078148a80b4f2b92cd190b19abd0fb"
      }
     },
     "metadata": {},
     "output_type": "display_data"
    }
   ],
   "source": [
    "traj.draw()\n"
   ]
  },
  {
   "cell_type": "code",
   "execution_count": null,
   "metadata": {
    "collapsed": true
   },
   "outputs": [],
   "source": []
  },
  {
   "cell_type": "code",
   "execution_count": null,
   "metadata": {
    "collapsed": true
   },
   "outputs": [],
   "source": []
  }
 ],
 "metadata": {
  "kernelspec": {
   "display_name": "Python 2",
   "language": "python",
   "name": "python2"
  },
  "language_info": {
   "codemirror_mode": {
    "name": "ipython",
    "version": 2
   },
   "file_extension": ".py",
   "mimetype": "text/x-python",
   "name": "python",
   "nbconvert_exporter": "python",
   "pygments_lexer": "ipython2",
   "version": "2.7.13"
  }
 },
 "nbformat": 4,
 "nbformat_minor": 2
}
