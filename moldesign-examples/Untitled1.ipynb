{
 "cells": [
  {
   "cell_type": "code",
   "execution_count": 1,
   "metadata": {
    "collapsed": false
   },
   "outputs": [
    {
     "name": "stdout",
     "output_type": "stream",
     "text": [
      "OpenMM could not be imported; using remote docker container\n",
      "PDBFixer could not be imported; using remote docker container\n",
      "PySCF not installed; using remote docker container\n",
      "Reading configuration from /Users/t_leeday/.moldesign/moldesign.yml\n"
     ]
    }
   ],
   "source": [
    "import moldesign as mdt\n",
    "from moldesign import units as u"
   ]
  },
  {
   "cell_type": "code",
   "execution_count": 2,
   "metadata": {
    "collapsed": false
   },
   "outputs": [],
   "source": [
    "from moldesign.models.lammps_model import LAMMPSPotential\n",
    "import parmed as med\n",
    "# mdt.configure()"
   ]
  },
  {
   "cell_type": "code",
   "execution_count": 3,
   "metadata": {
    "collapsed": false
   },
   "outputs": [
    {
     "data": {
      "text/plain": [
       "moldesign.molecules.atoms.Atom"
      ]
     },
     "execution_count": 3,
     "metadata": {},
     "output_type": "execute_result"
    }
   ],
   "source": [
    "mdt.Atom"
   ]
  },
  {
   "cell_type": "code",
   "execution_count": 4,
   "metadata": {
    "collapsed": false
   },
   "outputs": [],
   "source": [
    "mol = mdt.from_pdb('1yu8')"
   ]
  },
  {
   "cell_type": "code",
   "execution_count": 5,
   "metadata": {
    "collapsed": false
   },
   "outputs": [],
   "source": [
    "mol = mdt.Molecule([res for res in mol.residues if res.type == \"protein\"])"
   ]
  },
  {
   "cell_type": "code",
   "execution_count": 6,
   "metadata": {
    "collapsed": false
   },
   "outputs": [
    {
     "name": "stdout",
     "output_type": "stream",
     "text": [
      "Connecting to docker host at unix://var/run/docker.sock... done\n"
     ]
    },
    {
     "name": "stderr",
     "output_type": "stream",
     "text": [
      "Widget Javascript not detected.  It may not be installed or enabled properly.\n"
     ]
    },
    {
     "data": {
      "application/vnd.jupyter.widget-view+json": {
       "model_id": "cb7dd777081b440692fa88812096ad34"
      }
     },
     "metadata": {},
     "output_type": "display_data"
    },
    {
     "name": "stdout",
     "output_type": "stream",
     "text": [
      "Done parameterizing\n"
     ]
    }
   ],
   "source": [
    "mdmol = mdt.assign_forcefield(mol)\n",
    "\n",
    "print \"Done parameterizing\""
   ]
  },
  {
   "cell_type": "code",
   "execution_count": 7,
   "metadata": {
    "collapsed": false
   },
   "outputs": [
    {
     "name": "stderr",
     "output_type": "stream",
     "text": [
      "Widget Javascript not detected.  It may not be installed or enabled properly.\n"
     ]
    },
    {
     "data": {
      "application/vnd.jupyter.widget-view+json": {
       "model_id": "5be3323f01bf41f79ba3c5a4672a9091"
      }
     },
     "metadata": {},
     "output_type": "display_data"
    }
   ],
   "source": [
    "rs = mdt.widgets.ResidueSelector(mdmol)\n",
    "rs"
   ]
  },
  {
   "cell_type": "code",
   "execution_count": 9,
   "metadata": {
    "collapsed": false
   },
   "outputs": [],
   "source": [
    "from moldesign.models.lammps_model import LAMMPSInteractive\n",
    "\n",
    "mdmol.set_energy_model(LAMMPSInteractive, affected_atom=rs.selected_atoms[0])\n",
    "# hello = mdmol.calculate()\n",
    "mdmol.set_integrator(mdt.integrators.LAMMPSNvt,\n",
    "                   timestep=1.0*u.fs,\n",
    "                   temperature=300.0*u.kelvin)"
   ]
  },
  {
   "cell_type": "code",
   "execution_count": 10,
   "metadata": {
    "collapsed": false
   },
   "outputs": [],
   "source": [
    "canvas = mdmol.draw()\n"
   ]
  },
  {
   "cell_type": "code",
   "execution_count": 11,
   "metadata": {
    "collapsed": false
   },
   "outputs": [
    {
     "name": "stdout",
     "output_type": "stream",
     "text": [
      "[ 23.473  10.403  20.76 ] ang\n"
     ]
    }
   ],
   "source": [
    "print rs.selected_atoms[0].position"
   ]
  },
  {
   "cell_type": "code",
   "execution_count": 12,
   "metadata": {
    "collapsed": false
   },
   "outputs": [
    {
     "name": "stderr",
     "output_type": "stream",
     "text": [
      "Widget Javascript not detected.  It may not be installed or enabled properly.\n"
     ]
    },
    {
     "data": {
      "application/vnd.jupyter.widget-view+json": {
       "model_id": "48c0d4f9fe124f949eae6b3ac5ab4dcc"
      }
     },
     "metadata": {},
     "output_type": "display_data"
    }
   ],
   "source": [
    "canvas"
   ]
  },
  {
   "cell_type": "code",
   "execution_count": 13,
   "metadata": {
    "collapsed": false
   },
   "outputs": [],
   "source": [
    "canvas.stick()"
   ]
  },
  {
   "cell_type": "code",
   "execution_count": 14,
   "metadata": {
    "collapsed": false
   },
   "outputs": [
    {
     "name": "stdout",
     "output_type": "stream",
     "text": [
      "LAMMPS output is captured by PyLammps wrapper\n",
      "Done - integrated \"Molecule: Unnamed molecule from OpenMM\" from 0.0 fs to 50.0 fs\n",
      "Done - integrated \"Molecule: Unnamed molecule from OpenMM\" from 50.0 fs to 100.0 fs\n",
      "Done - integrated \"Molecule: Unnamed molecule from OpenMM\" from 100.0 fs to 150.0 fs\n",
      "Done - integrated \"Molecule: Unnamed molecule from OpenMM\" from 150.0 fs to 200.0 fs\n",
      "Done - integrated \"Molecule: Unnamed molecule from OpenMM\" from 200.0 fs to 250.0 fs\n",
      "Done - integrated \"Molecule: Unnamed molecule from OpenMM\" from 250.0 fs to 300.0 fs\n",
      "Done - integrated \"Molecule: Unnamed molecule from OpenMM\" from 300.0 fs to 350.0 fs\n",
      "Done - integrated \"Molecule: Unnamed molecule from OpenMM\" from 350.0 fs to 400.0 fs\n",
      "Done - integrated \"Molecule: Unnamed molecule from OpenMM\" from 400.0 fs to 450.0 fs\n",
      "Done - integrated \"Molecule: Unnamed molecule from OpenMM\" from 450.0 fs to 500.0 fs\n",
      "Done - integrated \"Molecule: Unnamed molecule from OpenMM\" from 500.0 fs to 550.0 fs\n",
      "Done - integrated \"Molecule: Unnamed molecule from OpenMM\" from 550.0 fs to 600.0 fs\n",
      "Done - integrated \"Molecule: Unnamed molecule from OpenMM\" from 600.0 fs to 650.0 fs\n",
      "Done - integrated \"Molecule: Unnamed molecule from OpenMM\" from 650.0 fs to 700.0 fs\n",
      "Done - integrated \"Molecule: Unnamed molecule from OpenMM\" from 700.0 fs to 750.0 fs\n",
      "Done - integrated \"Molecule: Unnamed molecule from OpenMM\" from 750.0 fs to 800.0 fs\n",
      "Done - integrated \"Molecule: Unnamed molecule from OpenMM\" from 800.0 fs to 850.0 fs\n",
      "Done - integrated \"Molecule: Unnamed molecule from OpenMM\" from 850.0 fs to 900.0 fs\n",
      "Done - integrated \"Molecule: Unnamed molecule from OpenMM\" from 900.0 fs to 950.0 fs\n",
      "Done - integrated \"Molecule: Unnamed molecule from OpenMM\" from 950.0 fs to 1000.0 fs\n"
     ]
    }
   ],
   "source": [
    "for step in xrange(20):\n",
    "    mdmol.run(50 * u.fs)\n",
    "    mdmol.energy_model.reset_position()\n",
    "    canvas.set_positions()\n",
    "\n"
   ]
  },
  {
   "cell_type": "code",
   "execution_count": 15,
   "metadata": {
    "collapsed": true
   },
   "outputs": [],
   "source": [
    "mdmol.energy_model.finish_interaction()\n",
    "canvas.set_positions()"
   ]
  },
  {
   "cell_type": "code",
   "execution_count": 20,
   "metadata": {
    "collapsed": false
   },
   "outputs": [],
   "source": [
    "mdmol.set_energy_model(LAMMPSInteractive, affected_atom=rs.selected_atoms[0])\n"
   ]
  },
  {
   "cell_type": "code",
   "execution_count": 21,
   "metadata": {
    "collapsed": false
   },
   "outputs": [
    {
     "name": "stderr",
     "output_type": "stream",
     "text": [
      "Widget Javascript not detected.  It may not be installed or enabled properly.\n"
     ]
    },
    {
     "data": {
      "application/vnd.jupyter.widget-view+json": {
       "model_id": "48c0d4f9fe124f949eae6b3ac5ab4dcc"
      }
     },
     "metadata": {},
     "output_type": "display_data"
    }
   ],
   "source": [
    "canvas.stick()\n",
    "canvas"
   ]
  },
  {
   "cell_type": "code",
   "execution_count": null,
   "metadata": {
    "collapsed": false
   },
   "outputs": [
    {
     "name": "stdout",
     "output_type": "stream",
     "text": [
      "LAMMPS output is captured by PyLammps wrapper\n"
     ]
    }
   ],
   "source": [
    "for step in xrange(10):\n",
    "    mdmol.run(200 * u.fs)\n",
    "    mdmol.energy_model.reset_position()\n",
    "    canvas.set_positions()"
   ]
  },
  {
   "cell_type": "code",
   "execution_count": null,
   "metadata": {
    "collapsed": false
   },
   "outputs": [],
   "source": []
  },
  {
   "cell_type": "code",
   "execution_count": null,
   "metadata": {
    "collapsed": false
   },
   "outputs": [],
   "source": []
  },
  {
   "cell_type": "code",
   "execution_count": null,
   "metadata": {
    "collapsed": true
   },
   "outputs": [],
   "source": []
  },
  {
   "cell_type": "code",
   "execution_count": null,
   "metadata": {
    "collapsed": true
   },
   "outputs": [],
   "source": []
  },
  {
   "cell_type": "code",
   "execution_count": null,
   "metadata": {
    "collapsed": true
   },
   "outputs": [],
   "source": []
  }
 ],
 "metadata": {
  "kernelspec": {
   "display_name": "Python 2",
   "language": "python",
   "name": "python2"
  },
  "language_info": {
   "codemirror_mode": {
    "name": "ipython",
    "version": 2
   },
   "file_extension": ".py",
   "mimetype": "text/x-python",
   "name": "python",
   "nbconvert_exporter": "python",
   "pygments_lexer": "ipython2",
   "version": "2.7.13"
  }
 },
 "nbformat": 4,
 "nbformat_minor": 0
}
