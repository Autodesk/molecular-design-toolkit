{
 "cells": [
  {
   "cell_type": "code",
   "execution_count": 17,
   "metadata": {
    "collapsed": false
   },
   "outputs": [],
   "source": [
    "import moldesign as mdt\n",
    "from moldesign import units as u"
   ]
  },
  {
   "cell_type": "code",
   "execution_count": 18,
   "metadata": {
    "collapsed": false
   },
   "outputs": [],
   "source": [
    "from moldesign.models.lammps_model import LAMMPSPotential\n",
    "import parmed as med\n",
    "# mdt.configure()"
   ]
  },
  {
   "cell_type": "code",
   "execution_count": 19,
   "metadata": {
    "collapsed": false
   },
   "outputs": [
    {
     "data": {
      "text/plain": [
       "moldesign.molecules.atoms.Atom"
      ]
     },
     "execution_count": 19,
     "metadata": {},
     "output_type": "execute_result"
    }
   ],
   "source": [
    "mdt.Atom"
   ]
  },
  {
   "cell_type": "code",
   "execution_count": 20,
   "metadata": {
    "collapsed": false
   },
   "outputs": [],
   "source": [
    "mol = mdt.from_pdb('1yu8')"
   ]
  },
  {
   "cell_type": "code",
   "execution_count": 21,
   "metadata": {
    "collapsed": false
   },
   "outputs": [],
   "source": [
    "mol = mdt.Molecule([res for res in mol.residues if res.type == \"protein\"])"
   ]
  },
  {
   "cell_type": "code",
   "execution_count": 22,
   "metadata": {
    "collapsed": false
   },
   "outputs": [
    {
     "data": {
      "application/vnd.jupyter.widget-view+json": {
       "model_id": "7abd874e52f543159424cf404754b056"
      }
     },
     "metadata": {},
     "output_type": "display_data"
    },
    {
     "name": "stdout",
     "output_type": "stream",
     "text": [
      "Done parameterizing\n"
     ]
    }
   ],
   "source": [
    "mdmol = mdt.assign_forcefield(mol)\n",
    "\n",
    "print \"Done parameterizing\""
   ]
  },
  {
   "cell_type": "code",
   "execution_count": 23,
   "metadata": {
    "collapsed": false
   },
   "outputs": [
    {
     "data": {
      "application/vnd.jupyter.widget-view+json": {
       "model_id": "91254543572e45009cc1961ddf98eeb0"
      }
     },
     "metadata": {},
     "output_type": "display_data"
    }
   ],
   "source": [
    "rs = mdt.widgets.ResidueSelector(mdmol)\n",
    "rs"
   ]
  },
  {
   "cell_type": "code",
   "execution_count": 27,
   "metadata": {
    "collapsed": false
   },
   "outputs": [],
   "source": [
    "canvas = mdmol.draw()\n"
   ]
  },
  {
   "cell_type": "code",
   "execution_count": 28,
   "metadata": {
    "collapsed": false
   },
   "outputs": [
    {
     "data": {
      "application/vnd.jupyter.widget-view+json": {
       "model_id": "01050dde31ba4e048974a5f55614016e"
      }
     },
     "metadata": {},
     "output_type": "display_data"
    }
   ],
   "source": [
    "canvas"
   ]
  },
  {
   "cell_type": "code",
   "execution_count": 29,
   "metadata": {
    "collapsed": false
   },
   "outputs": [],
   "source": [
    "canvas.stick()"
   ]
  },
  {
   "cell_type": "code",
   "execution_count": 46,
   "metadata": {
    "collapsed": false
   },
   "outputs": [
    {
     "name": "stdout",
     "output_type": "stream",
     "text": [
      "LAMMPS output is captured by PyLammps wrapper\n"
     ]
    },
    {
     "data": {
      "text/plain": [
       "MolecularProperties({'positions': <Quantity([[  7.23601  24.9827   18.9266 ]\n",
       " [  7.35015  24.249    18.3138 ]\n",
       " [  6.60335  25.5278   18.344  ]\n",
       " ..., \n",
       " [  6.72514  11.4155   15.7258 ]\n",
       " [  5.7928   10.9817   16.4379 ]\n",
       " [  6.69959  12.48     15.0927 ]], 'ang')>, 'potential_energy': <Quantity(-4203.82208638, 'kcalpermol')>, 'forces': <Quantity([[-65.19555959  59.33027917  58.68044854]\n",
       " [ 32.1670877  -37.43101146 -12.10001145]\n",
       " [ -3.22912761   7.64447221  20.6087919 ]\n",
       " ..., \n",
       " [ -0.72295908   3.68778149   3.07903951]\n",
       " [  1.35024335  -2.02894755  -7.07215742]\n",
       " [  2.89448036 -10.04805327 -12.23105869]], 'kcalpermol / ang')>})"
      ]
     },
     "execution_count": 46,
     "metadata": {},
     "output_type": "execute_result"
    }
   ],
   "source": [
    "mdmol.set_energy_model(mdt.models.LAMMPSInteractive, affected_atom=rs.selected_atoms[0])\n",
    "mdmol.calculate()"
   ]
  },
  {
   "cell_type": "code",
   "execution_count": 47,
   "metadata": {
    "collapsed": false
   },
   "outputs": [
    {
     "data": {
      "application/vnd.jupyter.widget-view+json": {
       "model_id": "01050dde31ba4e048974a5f55614016e"
      }
     },
     "metadata": {},
     "output_type": "display_data"
    }
   ],
   "source": [
    "canvas.set_positions()\n",
    "canvas.stick()\n",
    "canvas"
   ]
  },
  {
   "cell_type": "code",
   "execution_count": 48,
   "metadata": {
    "collapsed": false
   },
   "outputs": [
    {
     "name": "stdout",
     "output_type": "stream",
     "text": [
      "[-0.15373798400000002, -0.038434496000000005, 0.0]\n",
      "Done - integrated \"Molecule: Unnamed molecule from OpenMM\" from 1200.0 fs to 1220.0 fs\n",
      "Done - integrated \"Molecule: Unnamed molecule from OpenMM\" from 1220.0 fs to 1240.0 fs\n",
      "Done - integrated \"Molecule: Unnamed molecule from OpenMM\" from 1240.0 fs to 1260.0 fs\n",
      "Done - integrated \"Molecule: Unnamed molecule from OpenMM\" from 1260.0 fs to 1280.0 fs\n",
      "Done - integrated \"Molecule: Unnamed molecule from OpenMM\" from 1280.0 fs to 1300.0 fs\n",
      "Done - integrated \"Molecule: Unnamed molecule from OpenMM\" from 1300.0 fs to 1320.0 fs\n",
      "Done - integrated \"Molecule: Unnamed molecule from OpenMM\" from 1320.0 fs to 1340.0 fs\n",
      "Done - integrated \"Molecule: Unnamed molecule from OpenMM\" from 1340.0 fs to 1360.0 fs\n",
      "Done - integrated \"Molecule: Unnamed molecule from OpenMM\" from 1360.0 fs to 1380.0 fs\n",
      "Done - integrated \"Molecule: Unnamed molecule from OpenMM\" from 1380.0 fs to 1400.0 fs\n"
     ]
    }
   ],
   "source": [
    "mdmol.set_integrator(integrator=mdt.integrators.LAMMPSNvt, timestep=1.0*u.fs, \n",
    "                     temperature=300.0*u.kelvin, frame_interval=20.0*u.fs)\n",
    "mdmol.energy_model.apply_force([-20.0, -10.0, 00.0])\n",
    "for step in xrange(10):\n",
    "    mdmol.run(20 * u.fs)\n",
    "    mdmol.energy_model.render_molecule()\n",
    "    canvas.set_positions()\n",
    "    \n",
    "mdmol.energy_model.finish_interaction()\n",
    "canvas.set_positions()\n",
    "\n",
    "# mdmol.set_integrator(integrator=mdt.integrators.LAMMPSNvt, timestep=1.0*u.fs, \n",
    "#                      temperature=300.0*u.kelvin, frame_interval=10.0*u.fs)\n",
    "# mdmol.energy_model.apply_force([10.0, 0.0, 0.0])\n",
    "# my_traj = mdmol.run(200 * u.fs)\n",
    "\n",
    "# canvas.stick()\n",
    "# canvas"
   ]
  },
  {
   "cell_type": "code",
   "execution_count": 30,
   "metadata": {
    "collapsed": false
   },
   "outputs": [],
   "source": [
    "# for traj in my_traj:\n",
    "#     mdmol.energy_model.render_molecule(traj)\n",
    "#     canvas.set_positions(positions=traj.positions.value_in(u.angstrom))\n",
    "    \n"
   ]
  },
  {
   "cell_type": "code",
   "execution_count": 31,
   "metadata": {
    "collapsed": false
   },
   "outputs": [],
   "source": [
    "# mdmol.energy_model.finish_interaction()\n",
    "# canvas.set_positions()"
   ]
  },
  {
   "cell_type": "code",
   "execution_count": null,
   "metadata": {
    "collapsed": false
   },
   "outputs": [],
   "source": []
  },
  {
   "cell_type": "code",
   "execution_count": null,
   "metadata": {
    "collapsed": true
   },
   "outputs": [],
   "source": []
  },
  {
   "cell_type": "code",
   "execution_count": null,
   "metadata": {
    "collapsed": true
   },
   "outputs": [],
   "source": []
  },
  {
   "cell_type": "code",
   "execution_count": null,
   "metadata": {
    "collapsed": true
   },
   "outputs": [],
   "source": []
  }
 ],
 "metadata": {
  "kernelspec": {
   "display_name": "Python 2",
   "language": "python",
   "name": "python2"
  },
  "language_info": {
   "codemirror_mode": {
    "name": "ipython",
    "version": 2
   },
   "file_extension": ".py",
   "mimetype": "text/x-python",
   "name": "python",
   "nbconvert_exporter": "python",
   "pygments_lexer": "ipython2",
   "version": "2.7.13"
  }
 },
 "nbformat": 4,
 "nbformat_minor": 0
}
