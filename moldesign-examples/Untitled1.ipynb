{
 "cells": [
  {
   "cell_type": "code",
   "execution_count": 1,
   "metadata": {
    "collapsed": false
   },
   "outputs": [
    {
     "name": "stdout",
     "output_type": "stream",
     "text": [
      "OpenMM could not be imported; using remote docker container\n",
      "PDBFixer could not be imported; using remote docker container\n",
      "PySCF not installed; using remote docker container\n",
      "Reading configuration from /Users/t_leeday/.moldesign/moldesign.yml\n"
     ]
    }
   ],
   "source": [
    "import moldesign as mdt\n",
    "from moldesign import units as u\n",
    "import ipywidgets as ipy"
   ]
  },
  {
   "cell_type": "code",
   "execution_count": 2,
   "metadata": {
    "collapsed": false
   },
   "outputs": [],
   "source": [
    "from moldesign.models.lammps_model import LAMMPSPotential\n",
    "import parmed as med\n",
    "# mdt.configure()"
   ]
  },
  {
   "cell_type": "code",
   "execution_count": 3,
   "metadata": {
    "collapsed": false
   },
   "outputs": [
    {
     "data": {
      "text/plain": [
       "moldesign.molecules.atoms.Atom"
      ]
     },
     "execution_count": 3,
     "metadata": {},
     "output_type": "execute_result"
    }
   ],
   "source": [
    "mdt.Atom"
   ]
  },
  {
   "cell_type": "code",
   "execution_count": 4,
   "metadata": {
    "collapsed": false
   },
   "outputs": [],
   "source": [
    "mol = mdt.from_pdb('1yu8')"
   ]
  },
  {
   "cell_type": "code",
   "execution_count": 5,
   "metadata": {
    "collapsed": false
   },
   "outputs": [],
   "source": [
    "mol = mdt.Molecule([res for res in mol.residues if res.type == \"protein\"])"
   ]
  },
  {
   "cell_type": "code",
   "execution_count": 6,
   "metadata": {
    "collapsed": false
   },
   "outputs": [
    {
     "name": "stdout",
     "output_type": "stream",
     "text": [
      "Connecting to docker host at unix://var/run/docker.sock... done\n"
     ]
    },
    {
     "name": "stderr",
     "output_type": "stream",
     "text": [
      "Widget Javascript not detected.  It may not be installed or enabled properly.\n"
     ]
    },
    {
     "data": {
      "application/vnd.jupyter.widget-view+json": {
       "model_id": "453e171c2af84f10b6c0d12ba698b563"
      }
     },
     "metadata": {},
     "output_type": "display_data"
    },
    {
     "name": "stdout",
     "output_type": "stream",
     "text": [
      "Done parameterizing\n"
     ]
    }
   ],
   "source": [
    "mdmol = mdt.assign_forcefield(mol)\n",
    "\n",
    "print \"Done parameterizing\""
   ]
  },
  {
   "cell_type": "code",
   "execution_count": 7,
   "metadata": {
    "collapsed": false
   },
   "outputs": [
    {
     "name": "stderr",
     "output_type": "stream",
     "text": [
      "Widget Javascript not detected.  It may not be installed or enabled properly.\n"
     ]
    },
    {
     "data": {
      "application/vnd.jupyter.widget-view+json": {
       "model_id": "3f425cc2656d482b92bd5c1e3deaf0f2"
      }
     },
     "metadata": {},
     "output_type": "display_data"
    }
   ],
   "source": [
    "rs = mdt.widgets.ResidueSelector(mdmol)\n",
    "rs"
   ]
  },
  {
   "cell_type": "code",
   "execution_count": 9,
   "metadata": {
    "collapsed": false
   },
   "outputs": [],
   "source": [
    "canvas = mdmol.draw()"
   ]
  },
  {
   "cell_type": "code",
   "execution_count": 10,
   "metadata": {
    "collapsed": false
   },
   "outputs": [
    {
     "name": "stdout",
     "output_type": "stream",
     "text": [
      "LAMMPS output is captured by PyLammps wrapper\n"
     ]
    },
    {
     "data": {
      "text/plain": [
       "MolecularProperties({'positions': <Quantity([[ 10.367      29.903      18.753    ]\n",
       " [  9.6081971  30.4339133  19.1560511]\n",
       " [ 10.3127893  29.9718557  17.7468089]\n",
       " ..., \n",
       " [  8.242      10.473      15.05     ]\n",
       " [  7.004      10.292      15.052    ]\n",
       " [  8.877      11.103      14.169    ]], 'ang')>, 'potential_energy': <Quantity(-4354.13539812, 'kcalpermol')>, 'forces': <Quantity([[-22.01450917 -39.97082631  15.02823307]\n",
       " [ -3.75360413  -4.4598381    3.53402641]\n",
       " [ 10.36030096   8.57141355   2.72603121]\n",
       " ..., \n",
       " [ -4.10467713  11.80953405  -0.20540562]\n",
       " [  9.94705074  -5.52989577  16.52583564]\n",
       " [  2.38928098 -12.58205002  17.15230766]], 'kcalpermol / ang')>})"
      ]
     },
     "execution_count": 10,
     "metadata": {},
     "output_type": "execute_result"
    }
   ],
   "source": [
    "mdmol.set_energy_model(mdt.models.LAMMPSInteractive, affected_atom=rs.selected_atoms[0])\n",
    "mdmol.calculate()\n",
    "mdmol.set_integrator(integrator=mdt.integrators.LAMMPSNvt, timestep=1.0*u.fs, \n",
    "                     temperature=300.0*u.kelvin, frame_interval=20.0*u.fs)"
   ]
  },
  {
   "cell_type": "code",
   "execution_count": 14,
   "metadata": {
    "collapsed": true
   },
   "outputs": [],
   "source": [
    "def apply_user_force(x=0.0, y=-10.0, z=0.0):\n",
    "    vec = [x, y, z]\n",
    "    if all(v==0.0 for v in vec):\n",
    "        return;\n",
    "    vec = vec * u.angstrom\n",
    "    mdmol.energy_model.apply_force(vec)\n",
    "    mytraj = mdmol.run(100*u.fs)\n",
    "    for step in mytraj:\n",
    "        mdmol.energy_model.render_molecule(traj=step)\n",
    "        canvas.set_positions(step.positions.value_in(u.angstrom))\n",
    "#     for step in xrange(10):\n",
    "#         mdmol.run(20 * u.fs)\n",
    "#         mdmol.energy_model.render_molecule()\n",
    "#         canvas.set_positions()\n",
    "    mdmol.energy_model.finish_interaction()\n",
    "    canvas.set_positions()\n",
    "    \n",
    "    mdmol.set_energy_model(mdt.models.LAMMPSInteractive, affected_atom=rs.selected_atoms[0])\n",
    "    mdmol.calculate()"
   ]
  },
  {
   "cell_type": "code",
   "execution_count": 15,
   "metadata": {
    "collapsed": false
   },
   "outputs": [
    {
     "data": {
      "application/vnd.jupyter.widget-view+json": {
       "model_id": "80dc1de524234ea98e24cd263cccffe1"
      }
     },
     "metadata": {},
     "output_type": "display_data"
    }
   ],
   "source": [
    "canvas.set_positions()\n",
    "canvas.stick()\n",
    "canvas"
   ]
  },
  {
   "cell_type": "code",
   "execution_count": 16,
   "metadata": {
    "collapsed": false
   },
   "outputs": [
    {
     "name": "stdout",
     "output_type": "stream",
     "text": [
      "[0.0010676248888888892, 0.017081998222222228, 0.0024021560000000003]\n"
     ]
    }
   ],
   "source": [
    "ipy.interact(apply_user_force, x=ipy.FloatSlider(min=-10.0, max=10.0, step=1.0, continuous_update=False),\n",
    "            y=ipy.FloatSlider(min=-10.0, max=10.0, step=1.0, continuous_update=False),\n",
    "            z=ipy.FloatSlider(min=-10.0, max=10.0, step=1.0, continuous_update=False))"
   ]
  },
  {
   "cell_type": "code",
   "execution_count": 13,
   "metadata": {
    "collapsed": false
   },
   "outputs": [],
   "source": [
    "\n",
    "\n",
    "# mdmol.set_integrator(integrator=mdt.integrators.LAMMPSNvt, timestep=1.0*u.fs, \n",
    "#                      temperature=300.0*u.kelvin, frame_interval=10.0*u.fs)\n",
    "# mdmol.energy_model.apply_force([10.0, 0.0, 0.0])\n",
    "# my_traj = mdmol.run(200 * u.fs)\n",
    "\n",
    "# canvas.stick()\n",
    "# canvas"
   ]
  },
  {
   "cell_type": "code",
   "execution_count": 14,
   "metadata": {
    "collapsed": false
   },
   "outputs": [],
   "source": [
    "# for traj in my_traj:\n",
    "#     mdmol.energy_model.render_molecule(traj)\n",
    "#     canvas.set_positions(positions=traj.positions.value_in(u.angstrom))\n",
    "    \n"
   ]
  },
  {
   "cell_type": "code",
   "execution_count": null,
   "metadata": {
    "collapsed": false
   },
   "outputs": [],
   "source": [
    "# mdmol.energy_model.finish_interaction()\n",
    "# canvas.set_positions()"
   ]
  },
  {
   "cell_type": "code",
   "execution_count": null,
   "metadata": {
    "collapsed": false
   },
   "outputs": [],
   "source": []
  },
  {
   "cell_type": "code",
   "execution_count": null,
   "metadata": {
    "collapsed": true
   },
   "outputs": [],
   "source": []
  },
  {
   "cell_type": "code",
   "execution_count": null,
   "metadata": {
    "collapsed": true
   },
   "outputs": [],
   "source": []
  },
  {
   "cell_type": "code",
   "execution_count": null,
   "metadata": {
    "collapsed": true
   },
   "outputs": [],
   "source": []
  },
  {
   "cell_type": "code",
   "execution_count": null,
   "metadata": {
    "collapsed": true
   },
   "outputs": [],
   "source": []
  }
 ],
 "metadata": {
  "kernelspec": {
   "display_name": "Python 2",
   "language": "python",
   "name": "python2"
  },
  "language_info": {
   "codemirror_mode": {
    "name": "ipython",
    "version": 2
   },
   "file_extension": ".py",
   "mimetype": "text/x-python",
   "name": "python",
   "nbconvert_exporter": "python",
   "pygments_lexer": "ipython2",
   "version": "2.7.13"
  }
 },
 "nbformat": 4,
 "nbformat_minor": 0
}
