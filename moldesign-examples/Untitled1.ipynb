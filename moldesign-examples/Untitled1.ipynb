{
 "cells": [
  {
   "cell_type": "code",
   "execution_count": 1,
   "metadata": {
    "collapsed": false
   },
   "outputs": [
    {
     "name": "stdout",
     "output_type": "stream",
     "text": [
      "OpenMM could not be imported; using remote docker container\n",
      "PDBFixer could not be imported; using remote docker container\n",
      "PySCF not installed; using remote docker container\n",
      "Reading configuration from /Users/t_leeday/.moldesign/moldesign.yml\n"
     ]
    }
   ],
   "source": [
    "import moldesign as mdt\n",
    "from moldesign import units as u"
   ]
  },
  {
   "cell_type": "code",
   "execution_count": 2,
   "metadata": {
    "collapsed": false
   },
   "outputs": [],
   "source": [
    "from moldesign.models.lammps_model import LAMMPSPotential\n",
    "import parmed as med\n",
    "# mdt.configure()"
   ]
  },
  {
   "cell_type": "code",
   "execution_count": 3,
   "metadata": {
    "collapsed": false
   },
   "outputs": [
    {
     "data": {
      "text/plain": [
       "moldesign.molecules.atoms.Atom"
      ]
     },
     "execution_count": 3,
     "metadata": {},
     "output_type": "execute_result"
    }
   ],
   "source": [
    "mdt.Atom"
   ]
  },
  {
   "cell_type": "code",
   "execution_count": 4,
   "metadata": {
    "collapsed": false
   },
   "outputs": [],
   "source": [
    "mol = mdt.from_pdb('1yu8')"
   ]
  },
  {
   "cell_type": "code",
   "execution_count": 5,
   "metadata": {
    "collapsed": false
   },
   "outputs": [],
   "source": [
    "mol = mdt.Molecule([res for res in mol.residues if res.type == \"protein\"])"
   ]
  },
  {
   "cell_type": "code",
   "execution_count": 6,
   "metadata": {
    "collapsed": false
   },
   "outputs": [
    {
     "name": "stdout",
     "output_type": "stream",
     "text": [
      "Connecting to docker host at unix://var/run/docker.sock... done\n"
     ]
    },
    {
     "data": {
      "application/vnd.jupyter.widget-view+json": {
       "model_id": "749db3ee53ca4a998d7d24a89a887038"
      }
     },
     "metadata": {},
     "output_type": "display_data"
    },
    {
     "name": "stdout",
     "output_type": "stream",
     "text": [
      "Done parameterizing\n"
     ]
    }
   ],
   "source": [
    "mdmol = mdt.assign_forcefield(mol)\n",
    "\n",
    "print \"Done parameterizing\""
   ]
  },
  {
   "cell_type": "code",
   "execution_count": 7,
   "metadata": {
    "collapsed": false
   },
   "outputs": [
    {
     "data": {
      "application/vnd.jupyter.widget-view+json": {
       "model_id": "6c6e6132bb794ee387e2570cd2211dc0"
      }
     },
     "metadata": {},
     "output_type": "display_data"
    }
   ],
   "source": [
    "rs = mdt.widgets.ResidueSelector(mdmol)\n",
    "rs"
   ]
  },
  {
   "cell_type": "code",
   "execution_count": 8,
   "metadata": {
    "collapsed": false
   },
   "outputs": [
    {
     "name": "stdout",
     "output_type": "stream",
     "text": [
      "LAMMPS output is captured by PyLammps wrapper\n"
     ]
    }
   ],
   "source": [
    "from moldesign.models.lammps_model import LAMMPSInteractive\n",
    "\n",
    "mdmol.set_energy_model(LAMMPSInteractive, affected_atom=rs.selected_atoms[0])\n",
    "hello = mdmol.calculate()\n",
    "mdmol.set_integrator(mdt.integrators.LAMMPSNvt,\n",
    "                   timestep=1.0*u.fs,\n",
    "                   temperature=300.0*u.kelvin)"
   ]
  },
  {
   "cell_type": "code",
   "execution_count": 9,
   "metadata": {
    "collapsed": false
   },
   "outputs": [],
   "source": [
    "canvas = mdmol.draw()\n"
   ]
  },
  {
   "cell_type": "code",
   "execution_count": 10,
   "metadata": {
    "collapsed": false
   },
   "outputs": [
    {
     "name": "stdout",
     "output_type": "stream",
     "text": [
      "[ 19.367   6.23   18.568] ang\n"
     ]
    }
   ],
   "source": [
    "print rs.selected_atoms[0].position"
   ]
  },
  {
   "cell_type": "code",
   "execution_count": 11,
   "metadata": {
    "collapsed": false
   },
   "outputs": [
    {
     "data": {
      "application/vnd.jupyter.widget-view+json": {
       "model_id": "41ecfbf939284958a2c0d3b994ec2f5f"
      }
     },
     "metadata": {},
     "output_type": "display_data"
    }
   ],
   "source": [
    "canvas"
   ]
  },
  {
   "cell_type": "code",
   "execution_count": 12,
   "metadata": {
    "collapsed": false
   },
   "outputs": [],
   "source": [
    "canvas.stick()"
   ]
  },
  {
   "cell_type": "code",
   "execution_count": 13,
   "metadata": {
    "collapsed": false
   },
   "outputs": [
    {
     "name": "stdout",
     "output_type": "stream",
     "text": [
      "[0.0, -0.69182092800000006, 0.0]\n",
      "Done - integrated \"Molecule: Unnamed molecule from OpenMM\" from 0.0 fs to 50.0 fs\n",
      "Done - integrated \"Molecule: Unnamed molecule from OpenMM\" from 50.0 fs to 100.0 fs\n",
      "Done - integrated \"Molecule: Unnamed molecule from OpenMM\" from 100.0 fs to 150.0 fs\n",
      "Done - integrated \"Molecule: Unnamed molecule from OpenMM\" from 150.0 fs to 200.0 fs\n",
      "Done - integrated \"Molecule: Unnamed molecule from OpenMM\" from 200.0 fs to 250.0 fs\n"
     ]
    }
   ],
   "source": [
    "mdmol.energy_model.apply_force([0.0, -30.0, 0.0])\n",
    "for step in xrange(5):\n",
    "    mdmol.run(50 * u.fs)\n",
    "    mdmol.energy_model.render_molecule()\n",
    "    canvas.set_positions()\n",
    "\n",
    "mdmol.energy_model.finish_interaction()\n",
    "canvas.set_positions()"
   ]
  },
  {
   "cell_type": "code",
   "execution_count": null,
   "metadata": {
    "collapsed": true
   },
   "outputs": [],
   "source": []
  },
  {
   "cell_type": "code",
   "execution_count": 14,
   "metadata": {
    "collapsed": false
   },
   "outputs": [
    {
     "name": "stdout",
     "output_type": "stream",
     "text": [
      "LAMMPS output is captured by PyLammps wrapper\n"
     ]
    },
    {
     "data": {
      "text/plain": [
       "MolecularProperties({'positions': <Quantity([[  9.39795  27.4614   17.2637 ]\n",
       " [  8.90826  26.6073   17.0302 ]\n",
       " [ 10.3309   27.448    16.8755 ]\n",
       " ..., \n",
       " [  8.03984  10.4783   15.653  ]\n",
       " [  7.06605  10.2751   16.3742 ]\n",
       " [  8.073    11.0035   14.5331 ]], 'ang')>, 'potential_energy': <Quantity(-2421.60170933, 'kcalpermol')>, 'forces': <Quantity([[ -3.22757058 -12.74636955  39.48524541]\n",
       " [ -4.71619186   4.30709452  -4.23980333]\n",
       " [ -9.3539764    1.83354188  -7.02023746]\n",
       " ..., \n",
       " [  2.36345518   9.73398164   9.24546826]\n",
       " [-36.33507535   2.93163196 -12.64781338]\n",
       " [ 10.89352016  -2.78432583   3.40792592]], 'kcalpermol / ang')>})"
      ]
     },
     "execution_count": 14,
     "metadata": {},
     "output_type": "execute_result"
    }
   ],
   "source": [
    "mdmol.set_energy_model(LAMMPSInteractive, affected_atom=rs.selected_atoms[0])\n",
    "mdmol.calculate()"
   ]
  },
  {
   "cell_type": "code",
   "execution_count": 15,
   "metadata": {
    "collapsed": false
   },
   "outputs": [
    {
     "data": {
      "application/vnd.jupyter.widget-view+json": {
       "model_id": "41ecfbf939284958a2c0d3b994ec2f5f"
      }
     },
     "metadata": {},
     "output_type": "display_data"
    }
   ],
   "source": [
    "canvas.set_positions()\n",
    "canvas.stick()\n",
    "canvas"
   ]
  },
  {
   "cell_type": "code",
   "execution_count": 16,
   "metadata": {
    "collapsed": false
   },
   "outputs": [
    {
     "name": "stdout",
     "output_type": "stream",
     "text": [
      "[0.076868992000000011, 0.0, -0.69182092800000006]\n",
      "Done - integrated \"Molecule: Unnamed molecule from OpenMM\" from 250.0 fs to 300.0 fs\n",
      "Done - integrated \"Molecule: Unnamed molecule from OpenMM\" from 300.0 fs to 350.0 fs\n",
      "Done - integrated \"Molecule: Unnamed molecule from OpenMM\" from 350.0 fs to 400.0 fs\n",
      "Done - integrated \"Molecule: Unnamed molecule from OpenMM\" from 400.0 fs to 450.0 fs\n",
      "Done - integrated \"Molecule: Unnamed molecule from OpenMM\" from 450.0 fs to 500.0 fs\n"
     ]
    }
   ],
   "source": [
    "mdmol.energy_model.apply_force([10.0, 0.0, -30.0])\n",
    "for step in xrange(5):\n",
    "    mdmol.run(50 * u.fs)\n",
    "    mdmol.energy_model.render_molecule()\n",
    "    canvas.set_positions()\n",
    "    \n",
    "mdmol.energy_model.finish_interaction()\n",
    "canvas.set_positions()"
   ]
  },
  {
   "cell_type": "code",
   "execution_count": null,
   "metadata": {
    "collapsed": false
   },
   "outputs": [],
   "source": []
  },
  {
   "cell_type": "code",
   "execution_count": null,
   "metadata": {
    "collapsed": false
   },
   "outputs": [],
   "source": []
  },
  {
   "cell_type": "code",
   "execution_count": null,
   "metadata": {
    "collapsed": true
   },
   "outputs": [],
   "source": []
  },
  {
   "cell_type": "code",
   "execution_count": null,
   "metadata": {
    "collapsed": true
   },
   "outputs": [],
   "source": []
  },
  {
   "cell_type": "code",
   "execution_count": null,
   "metadata": {
    "collapsed": true
   },
   "outputs": [],
   "source": []
  }
 ],
 "metadata": {
  "kernelspec": {
   "display_name": "Python 2",
   "language": "python",
   "name": "python2"
  },
  "language_info": {
   "codemirror_mode": {
    "name": "ipython",
    "version": 2
   },
   "file_extension": ".py",
   "mimetype": "text/x-python",
   "name": "python",
   "nbconvert_exporter": "python",
   "pygments_lexer": "ipython2",
   "version": "2.7.13"
  }
 },
 "nbformat": 4,
 "nbformat_minor": 0
}
