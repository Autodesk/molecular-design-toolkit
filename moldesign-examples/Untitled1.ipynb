{
 "cells": [
  {
   "cell_type": "code",
   "execution_count": 8,
   "metadata": {
    "collapsed": false
   },
   "outputs": [],
   "source": [
    "import moldesign as mdt\n",
    "from moldesign import units as u\n",
    "import ipywidgets as ipy"
   ]
  },
  {
   "cell_type": "code",
   "execution_count": 2,
   "metadata": {
    "collapsed": false
   },
   "outputs": [],
   "source": [
    "from moldesign.models.lammps_model import LAMMPSPotential\n",
    "import parmed as med\n",
    "# mdt.configure()"
   ]
  },
  {
   "cell_type": "code",
   "execution_count": 3,
   "metadata": {
    "collapsed": false
   },
   "outputs": [
    {
     "data": {
      "text/plain": [
       "moldesign.molecules.atoms.Atom"
      ]
     },
     "execution_count": 3,
     "metadata": {},
     "output_type": "execute_result"
    }
   ],
   "source": [
    "mdt.Atom"
   ]
  },
  {
   "cell_type": "code",
   "execution_count": 4,
   "metadata": {
    "collapsed": false
   },
   "outputs": [],
   "source": [
    "mol = mdt.from_pdb('1yu8')"
   ]
  },
  {
   "cell_type": "code",
   "execution_count": 5,
   "metadata": {
    "collapsed": false
   },
   "outputs": [],
   "source": [
    "mol = mdt.Molecule([res for res in mol.residues if res.type == \"protein\"])"
   ]
  },
  {
   "cell_type": "code",
   "execution_count": 6,
   "metadata": {
    "collapsed": false
   },
   "outputs": [
    {
     "name": "stdout",
     "output_type": "stream",
     "text": [
      "Connecting to docker host at unix://var/run/docker.sock... done\n"
     ]
    },
    {
     "name": "stderr",
     "output_type": "stream",
     "text": [
      "Widget Javascript not detected.  It may not be installed or enabled properly.\n"
     ]
    },
    {
     "data": {
      "application/vnd.jupyter.widget-view+json": {
       "model_id": "2c113472c3514ea5a510be9e8aa478bb"
      }
     },
     "metadata": {},
     "output_type": "display_data"
    },
    {
     "name": "stdout",
     "output_type": "stream",
     "text": [
      "Done parameterizing\n"
     ]
    }
   ],
   "source": [
    "mdmol = mdt.assign_forcefield(mol)\n",
    "\n",
    "print \"Done parameterizing\""
   ]
  },
  {
   "cell_type": "code",
   "execution_count": 9,
   "metadata": {
    "collapsed": false
   },
   "outputs": [
    {
     "data": {
      "application/vnd.jupyter.widget-view+json": {
       "model_id": "5a911e5dc32043bda1ad844453d12b1b"
      }
     },
     "metadata": {},
     "output_type": "display_data"
    }
   ],
   "source": [
    "rs = mdt.widgets.ResidueSelector(mdmol)\n",
    "rs"
   ]
  },
  {
   "cell_type": "code",
   "execution_count": 10,
   "metadata": {
    "collapsed": false
   },
   "outputs": [],
   "source": [
    "canvas = mdmol.draw()\n"
   ]
  },
  {
   "cell_type": "code",
   "execution_count": 11,
   "metadata": {
    "collapsed": false
   },
   "outputs": [
    {
     "name": "stdout",
     "output_type": "stream",
     "text": [
      "LAMMPS output is captured by PyLammps wrapper\n"
     ]
    },
    {
     "data": {
      "text/plain": [
       "MolecularProperties({'positions': <Quantity([[ 10.367      29.903      18.753    ]\n",
       " [  9.6081971  30.4339133  19.1560511]\n",
       " [ 10.3127893  29.9718557  17.7468089]\n",
       " ..., \n",
       " [  8.242      10.473      15.05     ]\n",
       " [  7.004      10.292      15.052    ]\n",
       " [  8.877      11.103      14.169    ]], 'ang')>, 'potential_energy': <Quantity(-4354.13539812, 'kcalpermol')>, 'forces': <Quantity([[-22.01450917 -39.97082631  15.02823307]\n",
       " [ -3.75360413  -4.4598381    3.53402641]\n",
       " [ 10.36030096   8.57141355   2.72603121]\n",
       " ..., \n",
       " [ -4.10467713  11.80953405  -0.20540562]\n",
       " [  9.94705074  -5.52989577  16.52583564]\n",
       " [  2.38928098 -12.58205002  17.15230766]], 'kcalpermol / ang')>})"
      ]
     },
     "execution_count": 11,
     "metadata": {},
     "output_type": "execute_result"
    }
   ],
   "source": [
    "mdmol.set_energy_model(mdt.models.LAMMPSInteractive, affected_atom=mdmol.atoms[931])\n",
    "mdmol.calculate()"
   ]
  },
  {
   "cell_type": "code",
   "execution_count": 12,
   "metadata": {
    "collapsed": true
   },
   "outputs": [],
   "source": [
    "def apply_user_force(x=0.0, y=-10.0, z=0.0):\n",
    "    mdmol.set_integrator(integrator=mdt.integrators.LAMMPSNvt, timestep=1.0*u.fs, \n",
    "                     temperature=300.0*u.kelvin, frame_interval=20.0*u.fs)\n",
    "    mdmol.energy_model.apply_force([x, y, z])\n",
    "    for step in xrange(10):\n",
    "        mdmol.run(20 * u.fs)\n",
    "        mdmol.energy_model.render_molecule()\n",
    "        canvas.set_positions()\n",
    "\n",
    "    mdmol.energy_model.finish_interaction()\n",
    "    canvas.set_positions()\n",
    "    \n",
    "    mdmol.set_energy_model(mdt.models.LAMMPSInteractive, affected_atom=mdmol.atoms[931])\n",
    "    mdmol.calculate()"
   ]
  },
  {
   "cell_type": "code",
   "execution_count": 13,
   "metadata": {
    "collapsed": false
   },
   "outputs": [
    {
     "data": {
      "application/vnd.jupyter.widget-view+json": {
       "model_id": "7db2a9fab90d40faab7780c03bdda740"
      }
     },
     "metadata": {},
     "output_type": "display_data"
    }
   ],
   "source": [
    "canvas.set_positions()\n",
    "canvas.stick()\n",
    "canvas"
   ]
  },
  {
   "cell_type": "code",
   "execution_count": 14,
   "metadata": {
    "collapsed": false
   },
   "outputs": [
    {
     "name": "stdout",
     "output_type": "stream",
     "text": [
      "[0.0, -0.031131941759999997, 0.0]\n",
      "Done - integrated \"Molecule: Unnamed molecule from OpenMM\" from 200.0 fs to 220.0 fs\n",
      "Done - integrated \"Molecule: Unnamed molecule from OpenMM\" from 220.0 fs to 240.0 fs\n",
      "Done - integrated \"Molecule: Unnamed molecule from OpenMM\" from 240.0 fs to 260.0 fs\n",
      "Done - integrated \"Molecule: Unnamed molecule from OpenMM\" from 260.0 fs to 280.0 fs\n",
      "Done - integrated \"Molecule: Unnamed molecule from OpenMM\" from 280.0 fs to 300.0 fs\n",
      "Done - integrated \"Molecule: Unnamed molecule from OpenMM\" from 300.0 fs to 320.0 fs\n",
      "Done - integrated \"Molecule: Unnamed molecule from OpenMM\" from 320.0 fs to 340.0 fs\n",
      "Done - integrated \"Molecule: Unnamed molecule from OpenMM\" from 340.0 fs to 360.0 fs\n",
      "Done - integrated \"Molecule: Unnamed molecule from OpenMM\" from 360.0 fs to 380.0 fs\n",
      "Done - integrated \"Molecule: Unnamed molecule from OpenMM\" from 380.0 fs to 400.0 fs\n",
      "LAMMPS output is captured by PyLammps wrapper\n"
     ]
    }
   ],
   "source": [
    "ipy.interact(apply_user_force, x=ipy.FloatSlider(min=-10.0, max=10.0, step=1.0, continuous_update=False),\n",
    "            y=ipy.FloatSlider(min=-10.0, max=10.0, step=1.0, continuous_update=False),\n",
    "            z=ipy.FloatSlider(min=-10.0, max=10.0, step=1.0, continuous_update=False))"
   ]
  },
  {
   "cell_type": "code",
   "execution_count": 48,
   "metadata": {
    "collapsed": false
   },
   "outputs": [
    {
     "name": "stdout",
     "output_type": "stream",
     "text": [
      "[-0.15373798400000002, -0.038434496000000005, 0.0]\n",
      "Done - integrated \"Molecule: Unnamed molecule from OpenMM\" from 1200.0 fs to 1220.0 fs\n",
      "Done - integrated \"Molecule: Unnamed molecule from OpenMM\" from 1220.0 fs to 1240.0 fs\n",
      "Done - integrated \"Molecule: Unnamed molecule from OpenMM\" from 1240.0 fs to 1260.0 fs\n",
      "Done - integrated \"Molecule: Unnamed molecule from OpenMM\" from 1260.0 fs to 1280.0 fs\n",
      "Done - integrated \"Molecule: Unnamed molecule from OpenMM\" from 1280.0 fs to 1300.0 fs\n",
      "Done - integrated \"Molecule: Unnamed molecule from OpenMM\" from 1300.0 fs to 1320.0 fs\n",
      "Done - integrated \"Molecule: Unnamed molecule from OpenMM\" from 1320.0 fs to 1340.0 fs\n",
      "Done - integrated \"Molecule: Unnamed molecule from OpenMM\" from 1340.0 fs to 1360.0 fs\n",
      "Done - integrated \"Molecule: Unnamed molecule from OpenMM\" from 1360.0 fs to 1380.0 fs\n",
      "Done - integrated \"Molecule: Unnamed molecule from OpenMM\" from 1380.0 fs to 1400.0 fs\n"
     ]
    }
   ],
   "source": [
    "\n",
    "\n",
    "# mdmol.set_integrator(integrator=mdt.integrators.LAMMPSNvt, timestep=1.0*u.fs, \n",
    "#                      temperature=300.0*u.kelvin, frame_interval=10.0*u.fs)\n",
    "# mdmol.energy_model.apply_force([10.0, 0.0, 0.0])\n",
    "# my_traj = mdmol.run(200 * u.fs)\n",
    "\n",
    "# canvas.stick()\n",
    "# canvas"
   ]
  },
  {
   "cell_type": "code",
   "execution_count": 30,
   "metadata": {
    "collapsed": false
   },
   "outputs": [],
   "source": [
    "# for traj in my_traj:\n",
    "#     mdmol.energy_model.render_molecule(traj)\n",
    "#     canvas.set_positions(positions=traj.positions.value_in(u.angstrom))\n",
    "    \n"
   ]
  },
  {
   "cell_type": "code",
   "execution_count": 31,
   "metadata": {
    "collapsed": false
   },
   "outputs": [],
   "source": [
    "# mdmol.energy_model.finish_interaction()\n",
    "# canvas.set_positions()"
   ]
  },
  {
   "cell_type": "code",
   "execution_count": null,
   "metadata": {
    "collapsed": false
   },
   "outputs": [],
   "source": []
  },
  {
   "cell_type": "code",
   "execution_count": null,
   "metadata": {
    "collapsed": true
   },
   "outputs": [],
   "source": []
  },
  {
   "cell_type": "code",
   "execution_count": null,
   "metadata": {
    "collapsed": true
   },
   "outputs": [],
   "source": []
  },
  {
   "cell_type": "code",
   "execution_count": null,
   "metadata": {
    "collapsed": true
   },
   "outputs": [],
   "source": []
  }
 ],
 "metadata": {
  "kernelspec": {
   "display_name": "Python 2",
   "language": "python",
   "name": "python2"
  },
  "language_info": {
   "codemirror_mode": {
    "name": "ipython",
    "version": 2
   },
   "file_extension": ".py",
   "mimetype": "text/x-python",
   "name": "python",
   "nbconvert_exporter": "python",
   "pygments_lexer": "ipython2",
   "version": "2.7.13"
  }
 },
 "nbformat": 4,
 "nbformat_minor": 0
}
