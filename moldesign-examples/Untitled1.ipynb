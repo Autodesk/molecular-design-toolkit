{
 "cells": [
  {
   "cell_type": "code",
   "execution_count": 1,
   "metadata": {
    "collapsed": false
   },
   "outputs": [
    {
     "name": "stdout",
     "output_type": "stream",
     "text": [
      "OpenMM could not be imported; using remote docker container\n",
      "PDBFixer could not be imported; using remote docker container\n",
      "PySCF not installed; using remote docker container\n",
      "Reading configuration from /Users/t_leeday/.moldesign/moldesign.yml\n"
     ]
    }
   ],
   "source": [
    "import moldesign as mdt\n",
    "from moldesign import units as u\n",
    "import ipywidgets as ipy"
   ]
  },
  {
   "cell_type": "code",
   "execution_count": 2,
   "metadata": {
    "collapsed": false
   },
   "outputs": [],
   "source": [
    "from moldesign.models.lammps_model import LAMMPSPotential\n",
    "import parmed as med\n",
    "# mdt.configure()"
   ]
  },
  {
   "cell_type": "code",
   "execution_count": 3,
   "metadata": {
    "collapsed": false
   },
   "outputs": [
    {
     "data": {
      "text/plain": [
       "moldesign.molecules.atoms.Atom"
      ]
     },
     "execution_count": 3,
     "metadata": {},
     "output_type": "execute_result"
    }
   ],
   "source": [
    "mdt.Atom"
   ]
  },
  {
   "cell_type": "code",
   "execution_count": 4,
   "metadata": {
    "collapsed": false
   },
   "outputs": [],
   "source": [
    "mol = mdt.from_pdb('1yu8')"
   ]
  },
  {
   "cell_type": "code",
   "execution_count": 5,
   "metadata": {
    "collapsed": false
   },
   "outputs": [],
   "source": [
    "mol = mdt.Molecule([res for res in mol.residues if res.type == \"protein\"])"
   ]
  },
  {
   "cell_type": "code",
   "execution_count": 6,
   "metadata": {
    "collapsed": false
   },
   "outputs": [
    {
     "name": "stdout",
     "output_type": "stream",
     "text": [
      "Connecting to docker host at unix://var/run/docker.sock... done\n"
     ]
    },
    {
     "name": "stderr",
     "output_type": "stream",
     "text": [
      "Widget Javascript not detected.  It may not be installed or enabled properly.\n"
     ]
    },
    {
     "data": {
      "application/vnd.jupyter.widget-view+json": {
       "model_id": "733dc319333c41feaf955205237434c9"
      }
     },
     "metadata": {},
     "output_type": "display_data"
    },
    {
     "name": "stdout",
     "output_type": "stream",
     "text": [
      "Done parameterizing\n"
     ]
    }
   ],
   "source": [
    "mdmol = mdt.assign_forcefield(mol)\n",
    "\n",
    "print \"Done parameterizing\""
   ]
  },
  {
   "cell_type": "code",
   "execution_count": 7,
   "metadata": {
    "collapsed": false
   },
   "outputs": [
    {
     "name": "stderr",
     "output_type": "stream",
     "text": [
      "Widget Javascript not detected.  It may not be installed or enabled properly.\n"
     ]
    },
    {
     "data": {
      "application/vnd.jupyter.widget-view+json": {
       "model_id": "1951bc0be6d84c3d9597aacc23967619"
      }
     },
     "metadata": {},
     "output_type": "display_data"
    }
   ],
   "source": [
    "rs = mdt.widgets.ResidueSelector(mdmol)\n",
    "rs"
   ]
  },
  {
   "cell_type": "code",
   "execution_count": 8,
   "metadata": {
    "collapsed": false
   },
   "outputs": [],
   "source": [
    "canvas = mdmol.draw()"
   ]
  },
  {
   "cell_type": "code",
   "execution_count": 9,
   "metadata": {
    "collapsed": false
   },
   "outputs": [
    {
     "name": "stdout",
     "output_type": "stream",
     "text": [
      "LAMMPS output is captured by PyLammps wrapper\n"
     ]
    }
   ],
   "source": [
    "mdmol.set_energy_model(mdt.models.LAMMPSInteractive, affected_atom=mdmol.atoms[657])\n",
    "mdmol.calculate()\n",
    "mdmol.set_integrator(integrator=mdt.integrators.LAMMPSNvt, timestep=1.0*u.fs, \n",
    "                     temperature=300.0*u.kelvin, frame_interval=40.0*u.fs)"
   ]
  },
  {
   "cell_type": "code",
   "execution_count": 10,
   "metadata": {
    "collapsed": true
   },
   "outputs": [],
   "source": [
    "def apply_user_force(x, y, z):\n",
    "    vec = [x, y, z]\n",
    "    if all(v==0.0 for v in vec):\n",
    "        return;\n",
    "    vec = vec * u.angstrom\n",
    "    mdmol.energy_model.apply_force(vec)\n",
    "    mytraj = mdmol.run(200*u.fs)\n",
    "    \n",
    "    for step in mytraj:\n",
    "        mdmol.energy_model.render_molecule(traj=step)\n",
    "        canvas.set_positions(step.positions.value_in(u.angstrom))\n",
    "#     for step in xrange(5):\n",
    "#         mdmol.run(50 * u.fs)\n",
    "#         mdmol.energy_model.render_molecule()\n",
    "#         canvas.set_positions()\n",
    "    \n",
    "    mdmol.energy_model.finish_interaction()\n",
    "    canvas.set_positions()\n",
    "    \n",
    "#     mdmol.set_energy_model(mdt.models.LAMMPSInteractive, affected_atom=mdmol.atoms[657])\n",
    "#     mdmol.calculate()"
   ]
  },
  {
   "cell_type": "code",
   "execution_count": 11,
   "metadata": {
    "collapsed": false
   },
   "outputs": [
    {
     "name": "stderr",
     "output_type": "stream",
     "text": [
      "Widget Javascript not detected.  It may not be installed or enabled properly.\n"
     ]
    },
    {
     "data": {
      "application/vnd.jupyter.widget-view+json": {
       "model_id": "6baf80ec8da14f4ab86767320b0af9c6"
      }
     },
     "metadata": {},
     "output_type": "display_data"
    }
   ],
   "source": [
    "canvas.set_positions()\n",
    "canvas.stick()\n",
    "canvas"
   ]
  },
  {
   "cell_type": "code",
   "execution_count": 12,
   "metadata": {
    "collapsed": false
   },
   "outputs": [
    {
     "name": "stdout",
     "output_type": "stream",
     "text": [
      "[0.56855763313609475, 0.56855763313609475, -0.56855763313609475]\n",
      "Done - integrated \"Molecule: Unnamed molecule from OpenMM\" from 1000.0 fs to 1200.0 fs\n"
     ]
    }
   ],
   "source": [
    "from ipywidgets import interact, interactive, fixed\n",
    "interact(apply_user_force, x=ipy.FloatSlider(min=-20.0, max=20.0, step=10.0, continuous_update=False),\n",
    "            y=ipy.FloatSlider(min=-20.0, max=20.0, step=10.0, continuous_update=False),\n",
    "            z=ipy.FloatSlider(min=-20.0, max=20.0, step=10.0, continuous_update=False))"
   ]
  },
  {
   "cell_type": "code",
   "execution_count": null,
   "metadata": {
    "collapsed": false
   },
   "outputs": [],
   "source": []
  },
  {
   "cell_type": "code",
   "execution_count": null,
   "metadata": {
    "collapsed": true
   },
   "outputs": [],
   "source": []
  },
  {
   "cell_type": "code",
   "execution_count": null,
   "metadata": {
    "collapsed": true
   },
   "outputs": [],
   "source": []
  },
  {
   "cell_type": "code",
   "execution_count": null,
   "metadata": {
    "collapsed": true
   },
   "outputs": [],
   "source": []
  },
  {
   "cell_type": "code",
   "execution_count": null,
   "metadata": {
    "collapsed": true
   },
   "outputs": [],
   "source": []
  },
  {
   "cell_type": "code",
   "execution_count": null,
   "metadata": {
    "collapsed": true
   },
   "outputs": [],
   "source": []
  },
  {
   "cell_type": "code",
   "execution_count": null,
   "metadata": {
    "collapsed": true
   },
   "outputs": [],
   "source": []
  }
 ],
 "metadata": {
  "kernelspec": {
   "display_name": "Python 2",
   "language": "python",
   "name": "python2"
  },
  "language_info": {
   "codemirror_mode": {
    "name": "ipython",
    "version": 2
   },
   "file_extension": ".py",
   "mimetype": "text/x-python",
   "name": "python",
   "nbconvert_exporter": "python",
   "pygments_lexer": "ipython2",
   "version": "2.7.13"
  }
 },
 "nbformat": 4,
 "nbformat_minor": 0
}
