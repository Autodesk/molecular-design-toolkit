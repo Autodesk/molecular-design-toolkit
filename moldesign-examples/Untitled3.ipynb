{
 "cells": [
  {
   "cell_type": "code",
   "execution_count": 140,
   "metadata": {
    "collapsed": false
   },
   "outputs": [],
   "source": [
    "import moldesign as mdt\n",
    "import parmed as med\n"
   ]
  },
  {
   "cell_type": "code",
   "execution_count": 141,
   "metadata": {
    "collapsed": true
   },
   "outputs": [],
   "source": [
    "mol = mdt.from_pdb('1YU8')"
   ]
  },
  {
   "cell_type": "code",
   "execution_count": 142,
   "metadata": {
    "collapsed": false
   },
   "outputs": [],
   "source": [
    "mol_med = med.download_PDB(mol.name)"
   ]
  },
  {
   "cell_type": "code",
   "execution_count": 149,
   "metadata": {
    "collapsed": false
   },
   "outputs": [
    {
     "data": {
      "application/vnd.jupyter.widget-view+json": {
       "model_id": "086d4de421f94a88a5eb3d16480c4602"
      }
     },
     "metadata": {},
     "output_type": "display_data"
    },
    {
     "ename": "RuntimeError",
     "evalue": "Electron number 4073 and spin 0 are not consistent\nNote spin = 2S = Nalpha-Nbeta, not the definition 2S+1",
     "output_type": "error",
     "traceback": [
      "\u001b[0;31m---------------------------------------------------------------------------\u001b[0m",
      "\u001b[0;31mRuntimeError\u001b[0m                              Traceback (most recent call last)",
      "\u001b[0;32m<ipython-input-149-0b1681ce41e2>\u001b[0m in \u001b[0;36m<module>\u001b[0;34m()\u001b[0m\n\u001b[1;32m      1\u001b[0m \u001b[0mmol\u001b[0m\u001b[0;34m.\u001b[0m\u001b[0mset_energy_model\u001b[0m\u001b[0;34m(\u001b[0m\u001b[0mmdt\u001b[0m\u001b[0;34m.\u001b[0m\u001b[0mmodels\u001b[0m\u001b[0;34m.\u001b[0m\u001b[0mRHF\u001b[0m\u001b[0;34m,\u001b[0m \u001b[0mbasis\u001b[0m\u001b[0;34m=\u001b[0m\u001b[0;34m'sto-3g'\u001b[0m\u001b[0;34m)\u001b[0m\u001b[0;34m\u001b[0m\u001b[0m\n\u001b[0;32m----> 2\u001b[0;31m \u001b[0mproperties\u001b[0m \u001b[0;34m=\u001b[0m \u001b[0mmol\u001b[0m\u001b[0;34m.\u001b[0m\u001b[0mcalculate\u001b[0m\u001b[0;34m(\u001b[0m\u001b[0;34m)\u001b[0m\u001b[0;34m\u001b[0m\u001b[0m\n\u001b[0m",
      "\u001b[0;32m/Users/t_leeday/Documents/autodesk/molecular-design-toolkit/moldesign/molecules/molecule.pyc\u001b[0m in \u001b[0;36mcalculate\u001b[0;34m(self, requests, wait, use_cache)\u001b[0m\n\u001b[1;32m    772\u001b[0m             \u001b[0mjob\u001b[0m \u001b[0;34m=\u001b[0m \u001b[0mself\u001b[0m\u001b[0;34m.\u001b[0m\u001b[0mproperties\u001b[0m\u001b[0;34m\u001b[0m\u001b[0m\n\u001b[1;32m    773\u001b[0m         \u001b[0;32melse\u001b[0m\u001b[0;34m:\u001b[0m\u001b[0;34m\u001b[0m\u001b[0m\n\u001b[0;32m--> 774\u001b[0;31m             \u001b[0mjob\u001b[0m \u001b[0;34m=\u001b[0m \u001b[0mself\u001b[0m\u001b[0;34m.\u001b[0m\u001b[0menergy_model\u001b[0m\u001b[0;34m.\u001b[0m\u001b[0mcalculate\u001b[0m\u001b[0;34m(\u001b[0m\u001b[0mto_calculate\u001b[0m\u001b[0;34m)\u001b[0m\u001b[0;34m\u001b[0m\u001b[0m\n\u001b[0m\u001b[1;32m    775\u001b[0m \u001b[0;34m\u001b[0m\u001b[0m\n\u001b[1;32m    776\u001b[0m         \u001b[0;32mif\u001b[0m \u001b[0mwait\u001b[0m\u001b[0;34m:\u001b[0m\u001b[0;34m\u001b[0m\u001b[0m\n",
      "\u001b[0;32m/Users/t_leeday/Documents/autodesk/molecular-design-toolkit/moldesign/compute/runsremotely.pyc\u001b[0m in \u001b[0;36mwrapper\u001b[0;34m(*args, **kwargs)\u001b[0m\n\u001b[1;32m    104\u001b[0m             \u001b[0;32mif\u001b[0m \u001b[0mwait\u001b[0m\u001b[0;34m:\u001b[0m\u001b[0;34m\u001b[0m\u001b[0m\n\u001b[1;32m    105\u001b[0m                 \u001b[0mjob\u001b[0m\u001b[0;34m.\u001b[0m\u001b[0mwait\u001b[0m\u001b[0;34m(\u001b[0m\u001b[0;34m)\u001b[0m\u001b[0;34m\u001b[0m\u001b[0m\n\u001b[0;32m--> 106\u001b[0;31m                 \u001b[0;32mreturn\u001b[0m \u001b[0mjob\u001b[0m\u001b[0;34m.\u001b[0m\u001b[0mresult\u001b[0m\u001b[0;34m\u001b[0m\u001b[0m\n\u001b[0m\u001b[1;32m    107\u001b[0m             \u001b[0;32melse\u001b[0m\u001b[0;34m:\u001b[0m\u001b[0;34m\u001b[0m\u001b[0m\n\u001b[1;32m    108\u001b[0m                 \u001b[0;32mreturn\u001b[0m \u001b[0mjob\u001b[0m\u001b[0;34m\u001b[0m\u001b[0m\n",
      "\u001b[0;32m/usr/local/lib/python2.7/site-packages/pyccc/python.pyc\u001b[0m in \u001b[0;36mresult\u001b[0;34m(self)\u001b[0m\n\u001b[1;32m    126\u001b[0m \u001b[0;34m\u001b[0m\u001b[0m\n\u001b[1;32m    127\u001b[0m         \u001b[0;32mif\u001b[0m \u001b[0mself\u001b[0m\u001b[0;34m.\u001b[0m\u001b[0mwhen_finished\u001b[0m \u001b[0;32mis\u001b[0m \u001b[0mNone\u001b[0m\u001b[0;34m:\u001b[0m\u001b[0;34m\u001b[0m\u001b[0m\n\u001b[0;32m--> 128\u001b[0;31m             \u001b[0;32mreturn\u001b[0m \u001b[0mself\u001b[0m\u001b[0;34m.\u001b[0m\u001b[0mfunction_result\u001b[0m\u001b[0;34m\u001b[0m\u001b[0m\n\u001b[0m\u001b[1;32m    129\u001b[0m         \u001b[0;32melse\u001b[0m\u001b[0;34m:\u001b[0m\u001b[0;34m\u001b[0m\u001b[0m\n\u001b[1;32m    130\u001b[0m             \u001b[0;32mreturn\u001b[0m \u001b[0mself\u001b[0m\u001b[0;34m.\u001b[0m\u001b[0m_callback_result\u001b[0m\u001b[0;34m\u001b[0m\u001b[0m\n",
      "\u001b[0;32m/usr/local/lib/python2.7/site-packages/pyccc/python.pyc\u001b[0m in \u001b[0;36mfunction_result\u001b[0;34m(self)\u001b[0m\n\u001b[1;32m    136\u001b[0m         \u001b[0mself\u001b[0m\u001b[0;34m.\u001b[0m\u001b[0m_finish_job\u001b[0m\u001b[0;34m(\u001b[0m\u001b[0;34m)\u001b[0m\u001b[0;34m\u001b[0m\u001b[0m\n\u001b[1;32m    137\u001b[0m         \u001b[0;32mif\u001b[0m \u001b[0mself\u001b[0m\u001b[0;34m.\u001b[0m\u001b[0m_function_result\u001b[0m \u001b[0;32mis\u001b[0m \u001b[0mNone\u001b[0m\u001b[0;34m:\u001b[0m\u001b[0;34m\u001b[0m\u001b[0m\n\u001b[0;32m--> 138\u001b[0;31m             \u001b[0mself\u001b[0m\u001b[0;34m.\u001b[0m\u001b[0mreraise_remote_exception\u001b[0m\u001b[0;34m(\u001b[0m\u001b[0mforce\u001b[0m\u001b[0;34m=\u001b[0m\u001b[0mTrue\u001b[0m\u001b[0;34m)\u001b[0m  \u001b[0;31m# there's no result to return\u001b[0m\u001b[0;34m\u001b[0m\u001b[0m\n\u001b[0m\u001b[1;32m    139\u001b[0m             \u001b[0;32mtry\u001b[0m\u001b[0;34m:\u001b[0m\u001b[0;34m\u001b[0m\u001b[0m\n\u001b[1;32m    140\u001b[0m                 \u001b[0mreturnval\u001b[0m \u001b[0;34m=\u001b[0m \u001b[0mself\u001b[0m\u001b[0;34m.\u001b[0m\u001b[0mget_output\u001b[0m\u001b[0;34m(\u001b[0m\u001b[0;34m'_function_return.pkl'\u001b[0m\u001b[0;34m)\u001b[0m\u001b[0;34m\u001b[0m\u001b[0m\n",
      "\u001b[0;32mrun_job.py\u001b[0m in \u001b[0;36m<module>\u001b[0;34m()\u001b[0m\n",
      "\u001b[0;32m/workingdir/source.py\u001b[0m in \u001b[0;36mrun\u001b[0;34m()\u001b[0m\n",
      "\u001b[0;32m/usr/local/lib/python2.7/dist-packages/moldesign/compute/runsremotely.py\u001b[0m in \u001b[0;36mwrapper\u001b[0;34m()\u001b[0m\n",
      "\u001b[0;32m/usr/local/lib/python2.7/dist-packages/moldesign/models/pyscf.py\u001b[0m in \u001b[0;36mcalculate\u001b[0;34m()\u001b[0m\n",
      "\u001b[0;32m/usr/local/lib/python2.7/dist-packages/moldesign/models/pyscf.py\u001b[0m in \u001b[0;36mprep\u001b[0;34m()\u001b[0m\n",
      "\u001b[0;32m/usr/local/lib/python2.7/dist-packages/moldesign/models/pyscf.py\u001b[0m in \u001b[0;36m_build_mol\u001b[0;34m()\u001b[0m\n",
      "\u001b[0;32m/usr/local/lib/python2.7/dist-packages/moldesign/interfaces/pyscf_interface.py\u001b[0m in \u001b[0;36mmol_to_pyscf\u001b[0;34m()\u001b[0m\n",
      "\u001b[0;32m/opt/pyscf/gto/mole.py\u001b[0m in \u001b[0;36mbuild\u001b[0;34m()\u001b[0m\n",
      "\u001b[0;32m/opt/pyscf/gto/mole.py\u001b[0m in \u001b[0;36mbuild_\u001b[0;34m()\u001b[0m\n",
      "\u001b[0;31mRuntimeError\u001b[0m: Electron number 4073 and spin 0 are not consistent\nNote spin = 2S = Nalpha-Nbeta, not the definition 2S+1"
     ]
    }
   ],
   "source": [
    "mol.set_energy_model(mdt.models.RHF, basis='sto-3g')\n",
    "properties = mol.calculate()"
   ]
  },
  {
   "cell_type": "code",
   "execution_count": null,
   "metadata": {
    "collapsed": true
   },
   "outputs": [],
   "source": [
    "mol.draw_orbitals()"
   ]
  },
  {
   "cell_type": "code",
   "execution_count": 147,
   "metadata": {
    "collapsed": false
   },
   "outputs": [],
   "source": [
    "lammps_data = open('/Users/t_leeday/Documents/data.test', 'w');\n",
    "\n",
    "# print description\n",
    "lammps_data.write(\"LAMMPS Description\\r\\n\\r\\n\")\n",
    "lammps_data.write(\"{0} atoms\\r\\n\" .format(len(mol.atoms)))\n",
    "lammps_data.write(\"{0} bonds\\r\\n\" .format(len(mol_med.bonds())))\n",
    "# TODO: ANGLES Need parmed structure \n",
    "# TODO: DIHEDRALS Need parmed structure \n",
    "# TODO: IMPROPERS Need parmed structure \n",
    "lammps_data.write(\"\\r\\n\\r\\n\")\n",
    "\n",
    "# TODO: ATOM TYPES Need parmed structure \n",
    "# TODO: BOND TYPES Need parmed structure \n",
    "# TODO: ANGLES TYPES Need parmed structure \n",
    "# TODO: DIHEDRALS TYPES Need parmed structure \n",
    "# TODO: IMPROPERS TYPES Need parmed structure \n",
    "lammps_data.write(\"\\r\\n\\r\\n\")\n",
    "\n",
    "# TODO: box size\n",
    "\n",
    "# print masses\n",
    "lammps_data.write(\"Masses\\r\\n\\r\\n\")\n",
    "for atom in mol.atoms:\n",
    "    lammps_data.write(\"{0} {1}\\r\\n\" .format(atom.index+1, atom.mass.m))\n",
    "lammps_data.write(\"\\r\\n\\r\\n\")\n",
    "\n",
    "# TODO: Coeffs\n",
    "\n",
    "# print atoms\n",
    "lammps_data.write(\"Atoms\\r\\n\\r\\n\")\n",
    "for atom in mol.atoms:\n",
    "    lammps_data.write(\"{0} {1} {2} {3} {4} {5} {6}\\r\\n\" .format(atom.index+1,atom.residue.index, atom.atomic_number,\n",
    "                                                           atom.formal_charge, atom.x, atom.y, atom.z))\n",
    "lammps_data.write(\"\\r\\n\\r\\n\")\n",
    "\n",
    "# print velocities\n",
    "lammps_data.write(\"Velocities\\r\\n\\r\\n\")\n",
    "for atom in mol.atoms:\n",
    "    lammps_data.write(\"{0} {1} {2} {3}\\n\\r\" .format(atom.index+1, atom.vx, atom.vy, atom.vz))\n",
    "lammps_data.write(\"\\r\\n\\r\\n\")\n",
    "\n",
    "# print bonds\n",
    "lammps_data.write(\"Bonds\\r\\n\\r\\n\")\n",
    "for idx, bond in enumerate(mol.bonds):\n",
    "    lammps_data.write(\"{0} {1} {2} {3}\\r\\n\" .format(idx, bond.order, bond.a1, bond.a2))\n",
    "lammps_data.write(\"\\r\\n\\r\\n\")\n",
    "\n",
    "# TODO: ANGLES, DIHEDRALS, IMPROPERS\n",
    "\n",
    "lammps_data.close()"
   ]
  },
  {
   "cell_type": "code",
   "execution_count": 60,
   "metadata": {
    "collapsed": false
   },
   "outputs": [
    {
     "data": {
      "text/plain": [
       "600"
      ]
     },
     "execution_count": 60,
     "metadata": {},
     "output_type": "execute_result"
    }
   ],
   "source": []
  },
  {
   "cell_type": "code",
   "execution_count": 61,
   "metadata": {
    "collapsed": false
   },
   "outputs": [
    {
     "data": {
      "text/plain": [
       "0"
      ]
     },
     "execution_count": 61,
     "metadata": {},
     "output_type": "execute_result"
    }
   ],
   "source": []
  },
  {
   "cell_type": "code",
   "execution_count": null,
   "metadata": {
    "collapsed": true
   },
   "outputs": [],
   "source": []
  }
 ],
 "metadata": {
  "kernelspec": {
   "display_name": "Python 2",
   "language": "python",
   "name": "python2"
  },
  "language_info": {
   "codemirror_mode": {
    "name": "ipython",
    "version": 2
   },
   "file_extension": ".py",
   "mimetype": "text/x-python",
   "name": "python",
   "nbconvert_exporter": "python",
   "pygments_lexer": "ipython2",
   "version": "2.7.13"
  }
 },
 "nbformat": 4,
 "nbformat_minor": 2
}
