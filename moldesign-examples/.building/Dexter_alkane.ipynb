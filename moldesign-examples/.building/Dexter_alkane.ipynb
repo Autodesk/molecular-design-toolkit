{
 "cells": [
  {
   "cell_type": "code",
   "execution_count": null,
   "metadata": {
    "collapsed": false,
    "scrolled": false,
    "urth": {
     "dashboard": {
      "hidden": true
     }
    }
   },
   "outputs": [],
   "source": [
    "%pylab inline\n",
    "import sys\n",
    "from scipy.linalg import eigh\n",
    "import moldesign as mdt\n",
    "from moldesign import units as u\n",
    "from moldesign.interfaces import nbo_interface\n",
    "from itertools import product"
   ]
  },
  {
   "cell_type": "code",
   "execution_count": null,
   "metadata": {
    "collapsed": false
   },
   "outputs": [],
   "source": [
    "MOLNAME = 'conjugated_5'\n",
    "QMMODEL = mdt.models.RHF(basis='6-31g')"
   ]
  },
  {
   "cell_type": "markdown",
   "metadata": {
    "urth": {
     "dashboard": {
      "layout": {
       "col": 0,
       "height": 4,
       "row": 0,
       "width": 12
      }
     }
    }
   },
   "source": [
    "# Pathway analysis for triplet exciton transfer\n",
    " 1. [Build the molecule](#Build)\n",
    " 1. [Optimize the structure](#Minimize)\n",
    " 1. [Set up analysis](#Setting-up-the-data-analysis)\n",
    " 1. [Calculate the coupling](#Running-the-analysis)\n",
    " 1. [Analyze the coupling pathways](#Coupling-pathway-analysis)"
   ]
  },
  {
   "cell_type": "markdown",
   "metadata": {
    "urth": {
     "dashboard": {
      "layout": {
       "col": 0,
       "height": 3,
       "row": 4,
       "width": 12
      }
     }
    }
   },
   "source": [
    "# Build\n",
    "First, we build a symmetric molecule."
   ]
  },
  {
   "cell_type": "code",
   "execution_count": null,
   "metadata": {
    "collapsed": false,
    "urth": {
     "dashboard": {
      "layout": {
       "col": 0,
       "height": 4,
       "row": 7,
       "width": 12
      }
     }
    }
   },
   "outputs": [],
   "source": [
    "mol = mdt.from_smiles('C=CC#CC#CC#CC#CC=C')\n",
    "mdt.ui.GeometryBuilder(mol)"
   ]
  },
  {
   "cell_type": "code",
   "execution_count": null,
   "metadata": {
    "collapsed": false
   },
   "outputs": [],
   "source": [
    "bb.symmetry.Symmetrizer(mol)"
   ]
  },
  {
   "cell_type": "code",
   "execution_count": null,
   "metadata": {
    "collapsed": false,
    "urth": {
     "dashboard": {
      "hidden": true
     }
    }
   },
   "outputs": [],
   "source": [
    "mol.write(filename='dexterMols/%s.sdf' % MOLNAME) # TODO: shouldn't need keyword name\n",
    "print 'wrote to ','dexterMols/%s.sdf'%MOLNAME"
   ]
  },
  {
   "cell_type": "markdown",
   "metadata": {
    "urth": {
     "dashboard": {
      "hidden": true
     }
    }
   },
   "source": [
    "# Minimize\n",
    "Next, we do a small - not necessarily converged - minimization to remove any energetic impossibilities.\n",
    "\n",
    "TODO: use steepest descent for forces > 1 eV/Å; bfgs otherwise\n",
    "TODO: output tables not text\n",
    "TODO: visualize while running"
   ]
  },
  {
   "cell_type": "code",
   "execution_count": null,
   "metadata": {
    "collapsed": false,
    "urth": {
     "dashboard": {}
    }
   },
   "outputs": [],
   "source": [
    "mol = bb.read('dexterMols/%s.sdf' % MOLNAME, format='sdf')"
   ]
  },
  {
   "cell_type": "code",
   "execution_count": null,
   "metadata": {
    "collapsed": false,
    "urth": {
     "dashboard": {}
    }
   },
   "outputs": [],
   "source": [
    "mol.set_energy_model(QMMODEL)"
   ]
  },
  {
   "cell_type": "code",
   "execution_count": null,
   "metadata": {
    "collapsed": false,
    "scrolled": true,
    "urth": {
     "dashboard": {
      "hidden": true
     }
    }
   },
   "outputs": [],
   "source": [
    "traj = mol.minimize(method='gradient descent', nsteps=40, frame_interval=1)\n",
    "t2 = mol.minimize(method='bfgs', nsteps=60, frame_interval=2)  # TODO: monospace log fonts"
   ]
  },
  {
   "cell_type": "code",
   "execution_count": null,
   "metadata": {
    "collapsed": false
   },
   "outputs": [],
   "source": [
    "t2.draw_orbitals()"
   ]
  },
  {
   "cell_type": "code",
   "execution_count": null,
   "metadata": {
    "collapsed": false
   },
   "outputs": [],
   "source": [
    "bb.symmetry.Symmetrizer(mol)"
   ]
  },
  {
   "cell_type": "code",
   "execution_count": null,
   "metadata": {
    "collapsed": false,
    "urth": {
     "dashboard": {}
    }
   },
   "outputs": [],
   "source": [
    "print 'Wrote dexterMols/%s_minimized.sdf' % MOLNAME\n",
    "mol.write(filename='dexterMols/%s_minimized.sdf' % MOLNAME) # TODO: shouldn't need keyword \"filename\""
   ]
  },
  {
   "cell_type": "markdown",
   "metadata": {
    "urth": {
     "dashboard": {
      "hidden": true
     }
    }
   },
   "source": [
    "# Setting up the data analysis\n",
    "Next, we set up some involved analysis functions for the orbitals. This requires diving deeply into the results of the electronic structure."
   ]
  },
  {
   "cell_type": "code",
   "execution_count": null,
   "metadata": {
    "collapsed": false,
    "urth": {
     "dashboard": {}
    }
   },
   "outputs": [],
   "source": [
    "def get_valence_orbs(nboset):\n",
    "    \"\"\"Gives a truncated set of NBO orbitals with only bonding\n",
    "    and anti-bonding orbitals on heavy atoms\n",
    "    \"\"\"\n",
    "    val_orbs = []\n",
    "    for orb in nboset:\n",
    "        if orb.nbotype in ('core','rydberg'): continue            \n",
    "        isH = False\n",
    "        for atom in orb.atoms:\n",
    "            if atom.elem == 'H':\n",
    "                isH = True\n",
    "                break\n",
    "        if isH: continue\n",
    "            \n",
    "        val_orbs.append(orb)\n",
    "        \n",
    "    valence = bb.orbitals.MolecularOrbitals(val_orbs,wfn=nboset.wfn,\n",
    "                                                orbtype=nboset.orbtype+'_valence')\n",
    "    return valence"
   ]
  },
  {
   "cell_type": "markdown",
   "metadata": {
    "urth": {
     "dashboard": {
      "hidden": true
     }
    }
   },
   "source": [
    "<h3>Triplet CIS (Configuration Interaction with Single excitations)</h3>\n",
    "Now, we'll set up a hamiltonian in a basis of triplet-spin, singly-excited excitons. Each exciton is described in terms of the NLMO basis. Specifically, the basis function $|i,a>$ describes an electronic configuration in which spin-up electron was removed from excited NLMO orbital $i$, and a spin-down electron was created in NLMO anti-bonding orbital $a$.\n",
    "\n",
    "The Hamiltonian in this basis is given by $$<i,a|H|j,b> = \\delta_{ij} F_{ba} - \\delta_{ab} F_{ij} - (ij|ab),$$\n",
    "where $F_{xy}$ is the Fock matrix element between orbitals $x$ and $y$ and $(ij|ab)$ is the electron repulsion integral (ERI) between the four NLMO orbitals. We'll assemble an object to calculate these elements on the fly (since the matrix is really big and sparse, even for our limited set of orbitals)."
   ]
  },
  {
   "cell_type": "code",
   "execution_count": null,
   "metadata": {
    "collapsed": false,
    "urth": {
     "dashboard": {}
    }
   },
   "outputs": [],
   "source": [
    "class TripletHamiltonian(object):\n",
    "    def __init__(self, orbitals, eris=None, fock=None):\n",
    "        self.orbs = orbitals\n",
    "        if eris is None:\n",
    "            print 'Computing 2e integrals ...',\n",
    "            sys.stdout.flush()\n",
    "            self.eri = orbitals.wfn.aobasis.get_eris_in_basis(self.orbs)\n",
    "            print 'done.'\n",
    "            sys.stdout.flush()\n",
    "        else:\n",
    "            self.eri = eris\n",
    "            \n",
    "        if fock is None:\n",
    "            self.fock = orbitals.fock.defunits()\n",
    "        else:\n",
    "            self.fock = fock.defunits()\n",
    "        \n",
    "        self.delta = np.identity( len(orbitals) )\n",
    "        \n",
    "    def __getitem__(self,item):\n",
    "        i,a,j,b = item\n",
    "        return (self.delta[i,j]*self.fock[b,a] - self.delta[b,a]*self.fock[i,j]\n",
    "                - self.eri[i,j,a,b])\n",
    "    \n",
    "    def fock_elem(self,i,a,j,b):\n",
    "        return self.delta[i,j]*self.fock[b,a] - self.delta[b,a]*self.fock[i,j]\n",
    "    \n",
    "    def fock_exch_mod(self,i,a,j,b):\n",
    "        # exch_delta is 1 if i==j AND/OR a==b\n",
    "        exch_delta = self.delta[i,j] + self.delta[a,b] - self.delta[i,j]*self.delta[a,b]\n",
    "        return (self.delta[i,j]*self.fock[b,a] \n",
    "                - self.delta[b,a]*self.fock[i,j]\n",
    "                - exch_delta *self.eri[i,j,a,b])\n",
    "        \n",
    "    \n",
    "class TripletCISWfn(object):\n",
    "    def __init__(self, orbitals, nstates=10, _build=True, donor=None, acceptor=None):\n",
    "        self.orbs = orbitals\n",
    "        self.nstates = nstates\n",
    "\n",
    "        self.occ = []\n",
    "        self.virt = []\n",
    "\n",
    "        for iorb,orb in enumerate(self.orbs):\n",
    "            if orb.occupation == 2.0:\n",
    "                self.occ.append(iorb)\n",
    "            elif orb.occupation == 0.0:\n",
    "                self.virt.append(iorb)\n",
    "            else: raise ValueError('Orbital must have exactly 2 or 0 occupation')\n",
    "                \n",
    "        self.num_occ = len(self.occ)\n",
    "                \n",
    "        self.configs = [(i,j) for i,j in product(self.occ,self.virt)]\n",
    "        self.config_index = {cfg:i for i,cfg in enumerate(self.configs)}\n",
    "        self.nconfig = len(self.configs)\n",
    "        self.config_orbs = [(self.orbs[i], self.orbs[j]) for i,j in self.configs]\n",
    "        self.hamil = None\n",
    "        if _build: self.build()\n",
    "        if donor is not None and acceptor is not None:\n",
    "            self.set_donor_acceptor(donor, acceptor)\n",
    "            \n",
    "        self.bonds, self.bond_dists = self.calc_bond_distances()\n",
    "        self.bond_idxs = {b:i for i,b in enumerate(self.bonds)}\n",
    "        self.bond_orbs = {}\n",
    "        for iorb, orb in enumerate(self.orbs):\n",
    "            if orb.bond is not None:\n",
    "                self.bond_orbs.setdefault(orb.bond,[]).append(iorb)\n",
    "            \n",
    "    def build(self):\n",
    "        if self.hamil is None: self.hamil = TripletHamiltonian(self.orbs)\n",
    "        self.H, self.exch = self.buildh()\n",
    "        self.evals = self.evecs = None\n",
    "        self.state_coeffs, self.state_energies = self.diagonalize(self.nstates)\n",
    "        self.dexter_coupling = (self.state_energies[1]-self.state_energies[0])/2.0\n",
    "    \n",
    "    def set_donor_acceptor(self, donor_tuple, acceptor_tuple):\n",
    "        self.donor = tuple(donor_tuple)\n",
    "        self.acceptor = tuple(acceptor_tuple)\n",
    "        self.dstate = ciswfn.config_index[self.donor]\n",
    "        self.astate = ciswfn.config_index[self.acceptor]\n",
    "        self.etstate = ciswfn.config_index[self.donor[0],self.acceptor[1]]\n",
    "        self.htstate = ciswfn.config_index[self.acceptor[0],self.donor[1]]\n",
    "        \n",
    "    def __getitem__(self, item):\n",
    "        if len(item) == 2:\n",
    "            return self.H[item]\n",
    "        else:\n",
    "            assert len(item) == 4\n",
    "            return self.hamil[item]\n",
    "    \n",
    "    def buildh(self):\n",
    "        \"\"\"Use numpy indexing magic to make this super-fast\"\"\"\n",
    "        i,a = zip(*self.configs)\n",
    "        j,b = zip(*self.configs)\n",
    "        ia = np.ix_(i,a)\n",
    "        jb = np.ix_(j,b)\n",
    "        H = self.hamil[ia[0],ia[1],jb[0].T,jb[1].T].defunits()\n",
    "        exch = self.hamil.eri[ia[0],ia[1],jb[0].T,jb[1].T].defunits()\n",
    "        return H, exch\n",
    "    \n",
    "    def shift_da_energies(self,shift):\n",
    "        \"\"\"\n",
    "        A positive shift will move the donor and acceptor orbitals away from the fermi level\n",
    "        (i.e. moves virtual orbitals up by +shift, moves occupied orbitals down by -shift)\n",
    "        \"\"\"\n",
    "        newwfn = TripletCISWfn(self.orbs, nstates=self.nstates, _build=False,\n",
    "                               donor=self.donor, acceptor=self.acceptor)\n",
    "        newwfn.hamil = TripletHamiltonian(self.orbs,\n",
    "                                          eris=self.hamil.eri, fock=self.hamil.fock.copy())\n",
    "        for o in (self.donor, self.acceptor):\n",
    "            newwfn.hamil.fock[o[0],o[0]] -= shift\n",
    "            newwfn.hamil.fock[o[1],o[1]] += shift\n",
    "        newwfn.build()\n",
    "        return newwfn\n",
    "    \n",
    "    def H_no_exchange(self):\n",
    "        i,a = zip(*self.configs)\n",
    "        j,b = zip(*self.configs)\n",
    "        ia = np.ix_(i,a)\n",
    "        jb = np.ix_(j,b)\n",
    "        H = self.hamil.fock_elem(ia[0],ia[1],jb[0].T,jb[1].T).defunits()\n",
    "        for idx in xrange(len(self.configs)): H[idx,idx] = self.H[idx,idx]\n",
    "        return H\n",
    "                        \n",
    "    def diagonalize(self, nstates):\n",
    "        \"\"\"\n",
    "        Solve for the lowest nstates states\n",
    "        \"\"\"\n",
    "        #print 'diagonalizing ...',;sys.stdout.flush()\n",
    "        evals, evecs = eigh(self.H, eigvals=(0,nstates-1))\n",
    "        self.evals = evals * self.H.get_units()\n",
    "        self.evecs = evecs.T\n",
    "        #print 'done.'\n",
    "        return self.evecs, self.evals\n",
    "\n",
    "    def kill_bonds(self, bondlist):\n",
    "        killbonds = set(bondlist)\n",
    "        mediating_configs = []\n",
    "        for cfg,(orbh,orbe) in zip(self.configs,self.config_orbs):\n",
    "            if cfg in (self.donor, self.acceptor): continue\n",
    "            elif orbh.bond in killbonds: continue\n",
    "            elif orbe.bond in killbonds: continue\n",
    "            else: mediating_configs.append(cfg)\n",
    "        bridge_ids = [self.config_index[x] for x in mediating_configs]\n",
    "        return self.analyze(bridge=bridge_ids)\n",
    "    \n",
    "    def analyze(self, H=None, bridge=None):\n",
    "        if H is None:\n",
    "            H = self.H\n",
    "        if bridge is None: \n",
    "            bridge = [i for i in xrange(self.nconfig) if i not in (self.dstate, self.astate)]\n",
    "        newbridge = [b for b in bridge if b not in (self.etstate,self.htstate)]\n",
    "        result = bb.utils.DotDict()           \n",
    "        result.TET_G0 = self.lowdin_mediated_coupling(self.dstate, \n",
    "                                                      self.astate, bridge=bridge, H=H,\n",
    "                                                      direct=True)\n",
    "        result.HT_G0 = self.lowdin_mediated_coupling(self.dstate, \n",
    "                                                     self.htstate, \n",
    "                                                     bridge=newbridge, H=H,\n",
    "                                                     direct=True, resonant=False)\n",
    "        result.ET_G0 = self.lowdin_mediated_coupling(self.dstate, \n",
    "                                                     self.etstate, bridge=newbridge, H=H,\n",
    "                                                     direct=True, resonant=False)\n",
    "        result.direct = H[self.dstate,self.astate].defunits()\n",
    "        result.CT = 2.0*(result.HT_G0 * result.ET_G0)/(\n",
    "            H[self.dstate,self.dstate]-H[self.etstate,self.etstate])\n",
    "        result.scholes = result.CT + result.direct\n",
    "        \n",
    "        result.BE = self.lowdin_mediated_coupling(self.dstate, \n",
    "                                                  self.astate, bridge=newbridge, H=H,\n",
    "                                                     direct=False, resonant=False)\n",
    "        result.BE_subt = result.TET_G0 - result.scholes\n",
    "        return result\n",
    "    \n",
    "    def lowdin_mediated_coupling(self, istate,fstate,H=None,\n",
    "                                 bridge=None,E=None,direct=False, resonant=True):\n",
    "        \"\"\"\n",
    "        Calculates first-order superexchange coupling using first order perturbation theory\n",
    "        :param istate: index of initial state\n",
    "        :param fstate: index of the final state\n",
    "        :param E: tunneling energy (default: H[iState,iState])\n",
    "        :param direct: include the 0th-order contribution H[iState,fState]\n",
    "        \"\"\"\n",
    "        #Make sure calculation is reasonable\n",
    "        if H is None: H = self.H\n",
    "        if E is None: E=H[istate,istate]\n",
    "        if resonant: assert np.allclose(H[istate,istate],H[fstate,fstate],rtol=1e-3)\n",
    "        dimension = H.shape[0]\n",
    "        assert H.shape[0] == H.shape[1]\n",
    "        if bridge is None:\n",
    "            bridge = [i for i in xrange(H.shape[0]) if i not in (istate,fstate)]\n",
    "        assert istate not in bridge\n",
    "        assert fstate not in bridge\n",
    "\n",
    "        #Diagonalize subspace\n",
    "        bridge_indices = np.array(bridge)\n",
    "        bridge_selector = np.ix_(bridge_indices,bridge_indices)\n",
    "        bridge_H = H[bridge_selector]\n",
    "        ssevals,ssevecs = eigh(bridge_H)\n",
    "        ssevals = ssevals * bridge_H.get_units()\n",
    "\n",
    "        #Add it up\n",
    "        lhs = H[istate,bridge_indices].dot(ssevecs)\n",
    "        rhs = H[fstate,bridge_indices].dot(ssevecs)\n",
    "        coup = (lhs/(E-ssevals)).dot(rhs)\n",
    "\n",
    "        if direct: coup += H[istate,fstate]\n",
    "        return coup\n",
    "    \n",
    "            \n",
    "    def calc_bond_distances(self):\n",
    "        bonds = set()\n",
    "        for orb in self.orbs: bonds.add(orb.bond)\n",
    "        bonds = list(bonds)\n",
    "        nbonds = len(bonds)\n",
    "        dists = np.inf*np.ones((nbonds,nbonds), dtype='int')\n",
    "        np.fill_diagonal(dists,0)\n",
    "        for ibond, b in enumerate(bonds):\n",
    "            for jbond in xrange(ibond+1,nbonds):\n",
    "                nbr = bonds[jbond]\n",
    "                if set([b.a1,b.a2]).intersection([nbr.a1,nbr.a2]):\n",
    "                    dists[ibond, jbond] = dists[jbond, ibond] = 1\n",
    "                    \n",
    "        for kbond in xrange(nbonds):\n",
    "            for ibond in xrange(nbonds):\n",
    "                for jbond in xrange(nbonds):\n",
    "                    if dists[ibond,jbond] > dists[ibond, kbond] + dists[kbond, jbond]:\n",
    "                        dists[ibond, jbond] = dists[jbond, ibond] = \\\n",
    "                        dists[ibond, kbond] + dists[kbond, jbond]\n",
    "                        \n",
    "        return bonds, dists\n",
    "    \n",
    "    def only_nn_exchange(self, maxdist=1):\n",
    "        H = self.H_no_exchange()\n",
    "        occpairs = []\n",
    "        virtpairs = []\n",
    "        for iorb,orb1 in enumerate(self.orbs):\n",
    "            if orb1.bond is None: continue\n",
    "            for jorb in xrange(iorb,len(self.orbs)):\n",
    "                orb2 = self.orbs[jorb]\n",
    "                if orb2.bond is None: continue\n",
    "                if orb1.occupation != orb2.occupation: continue\n",
    "                ib = self.bond_idxs[orb1.bond]\n",
    "                jb = self.bond_idxs[orb2.bond]\n",
    "                if self.bond_dists[ib,jb] > maxdist: continue\n",
    "                if orb1.occupation == 2.0:\n",
    "                    occpairs.append((iorb,jorb))\n",
    "                else:\n",
    "                    assert orb1.occupation == 0.0\n",
    "                    virtpairs.append((iorb,jorb))\n",
    "                    \n",
    "        for i,j in occpairs:\n",
    "            for a,b in virtpairs:\n",
    "                if (i==j) and (a==b): continue  # don't modify diagonals\n",
    "                exch = self.hamil.eri[i,j,a,b]\n",
    "                \n",
    "                icfg = self.config_index[i,a]\n",
    "                jcfg = self.config_index[j,b]\n",
    "                H[icfg,jcfg] -= exch\n",
    "                H[jcfg,icfg] -= exch\n",
    "                \n",
    "                if (i==j) or (a==b): continue\n",
    "                icfg = self.config_index[i,b]\n",
    "                jcfg = self.config_index[j,a]\n",
    "                H[icfg,jcfg] -= exch\n",
    "                H[jcfg,icfg] -= exch\n",
    "        return H"
   ]
  },
  {
   "cell_type": "markdown",
   "metadata": {
    "urth": {
     "dashboard": {
      "hidden": true
     }
    }
   },
   "source": [
    "# Running the analysis\n",
    "### NLMO Orbital rotation\n",
    "We'll rotate the molecular orbitals into a more useful basis - Natural Localized Molecular Orbitals, which reproduce  Lewis-structure electron bonding."
   ]
  },
  {
   "cell_type": "code",
   "execution_count": null,
   "metadata": {
    "collapsed": false
   },
   "outputs": [],
   "source": [
    "#!ls dexterMols/"
   ]
  },
  {
   "cell_type": "code",
   "execution_count": null,
   "metadata": {
    "collapsed": true
   },
   "outputs": [],
   "source": [
    "#MOLNAME = "
   ]
  },
  {
   "cell_type": "code",
   "execution_count": null,
   "metadata": {
    "collapsed": false,
    "urth": {
     "dashboard": {
      "layout": {
       "col": 0,
       "height": 18,
       "row": 15,
       "width": 11
      }
     }
    }
   },
   "outputs": [],
   "source": [
    "mol = bb.read('dexterMols/%s_minimized.sdf' % MOLNAME)\n",
    "mol.draw()"
   ]
  },
  {
   "cell_type": "code",
   "execution_count": null,
   "metadata": {
    "collapsed": false
   },
   "outputs": [],
   "source": [
    "mol.set_energy_model(QMMODEL)\n",
    "mol.calculate()\n",
    "mol.electronic_state.run_nbo()"
   ]
  },
  {
   "cell_type": "code",
   "execution_count": null,
   "metadata": {
    "collapsed": false,
    "urth": {
     "dashboard": {}
    }
   },
   "outputs": [],
   "source": [
    "nlmo_v = get_valence_orbs(mol.electronic_state.orbitals.NLMO)\n",
    "mol.electronic_state.orbitals.nlmo_valence = nlmo_v"
   ]
  },
  {
   "cell_type": "code",
   "execution_count": null,
   "metadata": {
    "collapsed": false,
    "urth": {
     "dashboard": {
      "layout": {
       "col": 0,
       "height": 15,
       "row": 37,
       "width": 11
      }
     }
    }
   },
   "outputs": [],
   "source": [
    "mol.draw_orbitals()"
   ]
  },
  {
   "cell_type": "markdown",
   "metadata": {
    "urth": {
     "dashboard": {
      "hidden": true
     }
    }
   },
   "source": [
    "Several sets of molecular orbitals should be available in the dropdown menu. We're interested specifically in the NLMOs, and even more specifically the truncated set that includes only heavy atom bonding/anti-bonding orbitals. It's important to verify that the localized donor and acceptor orbitals (the *π* and *π*\\* orbitals on the ethylenic moieties) are exactly degenerate with one another."
   ]
  },
  {
   "cell_type": "markdown",
   "metadata": {},
   "source": [
    "## Angle scan"
   ]
  },
  {
   "cell_type": "code",
   "execution_count": null,
   "metadata": {
    "collapsed": false
   },
   "outputs": [],
   "source": [
    "rot_atoms = [mol.atoms[i] for i in (0,1,2,3)]\n",
    "scan = bb.trajectory.Trajectory(mol)\n",
    "mol.constrain_dihedral(*[mol.atoms[i] for i in (7,6,5,4)])\n",
    "mol.constrain_dihedral(*rot_atoms)"
   ]
  },
  {
   "cell_type": "code",
   "execution_count": null,
   "metadata": {
    "collapsed": false
   },
   "outputs": [],
   "source": [
    "mol.set_energy_model(bb.models.PySCFPotential(theory='rhf',basis='sto-3g'))\n",
    "wfns = []\n",
    "mins = []\n",
    "for deg in np.arange(-180,1.0,30)*u.degrees:\n",
    "    print 'Dihedral:', deg\n",
    "    bb.set_dihedral(*rot_atoms, theta=deg)\n",
    "    mol.constraints[-1].value = deg\n",
    "    mins.append(mol.minimize(nsteps=30,frame_interval=1))\n",
    "    mol.electronic_state.run_nbo()\n",
    "    scan.new_frame(annotation='dihedral:%s' % deg)\n",
    "    nlmo_v = get_valence_orbs(mol.electronic_state.orbitals.NLMO)\n",
    "    wfns.append(TripletCISWfn(nlmo_v))"
   ]
  },
  {
   "cell_type": "code",
   "execution_count": null,
   "metadata": {
    "collapsed": true
   },
   "outputs": [],
   "source": []
  },
  {
   "cell_type": "code",
   "execution_count": null,
   "metadata": {
    "collapsed": false
   },
   "outputs": [],
   "source": [
    "mins[0].draw3d()"
   ]
  },
  {
   "cell_type": "markdown",
   "metadata": {
    "urth": {
     "dashboard": {
      "hidden": true
     }
    }
   },
   "source": [
    "### Calcuating the overall coupling\n",
    "Now, we build the CIS valence Hamiltonian"
   ]
  },
  {
   "cell_type": "code",
   "execution_count": null,
   "metadata": {
    "collapsed": true
   },
   "outputs": [],
   "source": [
    "bb.ui.GeometryBuilder(mol)"
   ]
  },
  {
   "cell_type": "code",
   "execution_count": null,
   "metadata": {
    "collapsed": false
   },
   "outputs": [],
   "source": [
    "bb.geometry.dihedral_gradient(*rot_atoms)"
   ]
  },
  {
   "cell_type": "code",
   "execution_count": null,
   "metadata": {
    "collapsed": false,
    "urth": {
     "dashboard": {
      "hidden": true
     }
    }
   },
   "outputs": [],
   "source": [
    "ciswfn = TripletCISWfn(nlmo_v)\n",
    "print ciswfn.dexter_coupling"
   ]
  },
  {
   "cell_type": "markdown",
   "metadata": {
    "urth": {
     "dashboard": {
      "hidden": true
     }
    }
   },
   "source": [
    "# Coupling pathway analysis\n",
    "### Select the donor and acceptor bonds"
   ]
  },
  {
   "cell_type": "code",
   "execution_count": null,
   "metadata": {
    "collapsed": false,
    "urth": {
     "dashboard": {
      "layout": {
       "col": 0,
       "height": 16,
       "row": 52,
       "width": 11
      }
     }
    }
   },
   "outputs": [],
   "source": [
    "da_selector = bb.ui.SelectionBuilder(mol)\n",
    "da_selector"
   ]
  },
  {
   "cell_type": "code",
   "execution_count": null,
   "metadata": {
    "collapsed": false,
    "urth": {
     "dashboard": {
      "hidden": true
     }
    }
   },
   "outputs": [],
   "source": [
    "dbond, abond = da_selector.selected_bonds\n",
    "d_idx = [None,None]\n",
    "a_idx = [None, None]\n",
    "for i,orb in enumerate(nlmo_v):\n",
    "    if orb.nbotype != 'pi': continue\n",
    "    if orb.bond == dbond: arr = d_idx\n",
    "    elif orb.bond == abond: arr = a_idx\n",
    "    else: continue # this isn't the pi-bond we're looking for\n",
    "    if orb.occupation==2.0: arr[0] = i\n",
    "    else: arr[1] = i\n",
    "ciswfn.set_donor_acceptor(d_idx, a_idx)\n",
    "                               \n",
    "tunneling_E = (ciswfn.state_energies[1]+ciswfn.state_energies[0])/2.0\n",
    "TET_GE = ciswfn.lowdin_mediated_coupling(ciswfn.dstate, ciswfn.astate, direct=True, E=tunneling_E).defunits()\n",
    "print 'Actual coupling', ciswfn.dexter_coupling\n",
    "print 'Perturbative with full tunneling energy',TET_GE"
   ]
  },
  {
   "cell_type": "code",
   "execution_count": null,
   "metadata": {
    "collapsed": false,
    "urth": {
     "dashboard": {
      "hidden": true
     }
    }
   },
   "outputs": [],
   "source": [
    "ciswfn.analyze()"
   ]
  },
  {
   "cell_type": "code",
   "execution_count": null,
   "metadata": {
    "collapsed": false,
    "urth": {
     "dashboard": {}
    }
   },
   "outputs": [],
   "source": [
    "class Slicer(list):\n",
    "    def __getattr__(self, attr):\n",
    "        return u.to_units_array([getattr(x,attr) for x in self])"
   ]
  },
  {
   "cell_type": "markdown",
   "metadata": {},
   "source": [
    "### Shift the D/A energies\n",
    "These plots show how the coupling pathways are affected by the energetics of the donor and bridge. We apply an energy shift to the donor/acceptor orbitals - a positive shift moves them "
   ]
  },
  {
   "cell_type": "code",
   "execution_count": null,
   "metadata": {
    "collapsed": false,
    "urth": {
     "dashboard": {
      "hidden": true
     }
    }
   },
   "outputs": [],
   "source": [
    "energies = np.arange(3,9,0.75) * u.eV\n",
    "plot(ciswfn.hamil.fock.diagonal()[:ciswfn.num_occ], marker='_', ls='none',\n",
    "     markersize=20.0, markeredgewidth=3.0, color='black')\n",
    "plot(ciswfn.hamil.fock.diagonal()[ciswfn.num_occ:], marker='_', \n",
    "     ls='none', markersize=20.0, markeredgewidth=3.0, color='blue')\n",
    "\n",
    "de = list()\n",
    "results = Slicer()\n",
    "no_exchange = Slicer()\n",
    "for ee in energies:\n",
    "    r = ciswfn.shift_da_energies(-ee)\n",
    "    plot(r.hamil.fock.diagonal()[:ciswfn.num_occ], marker='_', ls='none',\n",
    "     markersize=20.0, markeredgewidth=1.5, color='black')\n",
    "    plot(r.hamil.fock.diagonal()[ciswfn.num_occ:], marker='_', \n",
    "     ls='none', markersize=20.0, markeredgewidth=1.5, color='blue')\n",
    "    de.append(r.H[ciswfn.dstate,ciswfn.dstate])\n",
    "    no_exchange.append(r.analyze(r.H_no_exchange()))\n",
    "    results.append(r.analyze())\n",
    "\n",
    "grid(); xlabel('orbital index ->'); ylabel('orbital energy $F_{ii}$')\n",
    "xlim(-0.5,ciswfn.num_occ+1)\n",
    "title('Shifted orbital energies')\n",
    "figure()\n",
    "#plot(energies, results.TET_G0, label='total (w/exchange)')\n",
    "#plot(energies, no_exchange.TET_G0, label='total (no exchange)')\n",
    "#grid(); xlabel('shift / eV'); ylabel('Coupling / eV')\n",
    "#legend(); title(MOLNAME)\n",
    "#figure()\n",
    "#plot(energies, results.scholes, label='scholes (w/exchange)', color='darkorange',lw=2)\n",
    "#plot(energies, no_exchange.scholes, label='scholes (no exchange)', color='red')\n",
    "#plot(energies, results.BE, label='BE (w/exchange)', color='darkblue', lw=2)\n",
    "#plot(energies, no_exchange.BE, label='BE (no exchange)', color='blue')\n",
    "#grid(); xlabel('shift / eV'); ylabel('Coupling / eV')\n",
    "#legend(); title(MOLNAME+' without cross-exciton exchange')\n",
    "\n",
    "figure()\n",
    "plot(energies, results.TET_G0, label='total', lw=3, color='#0600ff')\n",
    "plot(energies, results.BE, label='BE',lw=2, color='black')\n",
    "plot(energies, results.scholes, label='scholes',lw=2, color='#00ff0b')\n",
    "plot(energies, results.direct, label='$(da|d^*a^*)$', color='#ff0005', ls='--',lw=2)\n",
    "\n",
    "legend(); title(MOLNAME)\n",
    "grid(); xlabel('shift / eV'); ylabel('Coupling / eV')\n"
   ]
  },
  {
   "cell_type": "code",
   "execution_count": null,
   "metadata": {
    "collapsed": false
   },
   "outputs": [],
   "source": [
    "results = Slicer()\n",
    "energies = np.arange(-2.5,5.0,1.0) * u.eV\n",
    "\n",
    "nn_results = [Slicer() for i in xrange(4)]\n",
    "for ee in energies:\n",
    "    r = ciswfn.shift_da_energies(-ee)\n",
    "    for i in xrange(4):\n",
    "        H_nn = r.only_nn_exchange(maxdist=i)\n",
    "        nn_results[i].append(r.analyze(H_nn))\n",
    "    results.append(r.analyze())"
   ]
  },
  {
   "cell_type": "code",
   "execution_count": null,
   "metadata": {
    "collapsed": false
   },
   "outputs": [],
   "source": [
    "plot(energies, nn_results[0].TET_G0, label='$T_{ET}$ (no exch)', color=cm.inferno.colors[15], lw=2)\n",
    "plot(energies, nn_results[1].TET_G0, label='$T_{ET}$ (NN exch)', color=cm.inferno.colors[1*256/4], lw=2)\n",
    "plot(energies, nn_results[2].TET_G0, label='$T_{ET}$ (2nd NN exch)', color=cm.inferno.colors[2*256/4], lw=2)\n",
    "plot(energies, nn_results[3].TET_G0, label='$T_{ET}$ (3rd NN exch)', color=cm.inferno.colors[3*256/4], lw=2)\n",
    "plot(energies, results.TET_G0, label='$T_{ET}$ (full)', color=cm.inferno.colors[-15], lw=4)\n",
    "grid(); xlabel('shift / eV'); ylabel('Coupling / eV')\n",
    "legend(); title(MOLNAME+' dexter coupling')\n",
    "\n",
    "figure()\n",
    "plot(energies, nn_results[0].CT, label='CT (no exch)', color=cm.inferno.colors[15], lw=2)\n",
    "plot(energies, nn_results[1].CT, label='CT (NN exch)', color=cm.inferno.colors[1*256/4], lw=2)\n",
    "plot(energies, nn_results[2].CT, label='CT (2nd NN exch)', color=cm.inferno.colors[2*256/4], lw=2)\n",
    "plot(energies, nn_results[3].CT, label='CT (3rd NN exch)', color=cm.inferno.colors[3*256/4], lw=2)\n",
    "plot(energies, results.CT, label='CT (full)', color=cm.inferno.colors[-15], lw=4)\n",
    "grid(); xlabel('shift / eV'); ylabel('Coupling / eV')\n",
    "legend(); title(MOLNAME+' coupling through CT states')\n",
    "\n",
    "figure()\n",
    "plot(energies, nn_results[0].BE, label='BE (no exch)', color=cm.inferno.colors[15], lw=2)\n",
    "plot(energies, nn_results[1].BE, label='BE (NN exch)', color=cm.inferno.colors[1*256/4], lw=2)\n",
    "plot(energies, nn_results[2].BE, label='BE (2nd NN exch)', color=cm.inferno.colors[2*256/4], lw=2)\n",
    "plot(energies, nn_results[3].BE, label='BE (3rd NN exch)', color=cm.inferno.colors[3*256/4], lw=2)\n",
    "plot(energies, results.BE, label='BE (full)', color=cm.inferno.colors[-15], lw=4)\n",
    "grid(); xlabel('shift / eV'); ylabel('Coupling / eV')\n",
    "legend(); title(MOLNAME+' Bridge exciton coupling')"
   ]
  },
  {
   "cell_type": "markdown",
   "metadata": {
    "urth": {
     "dashboard": {
      "hidden": true
     }
    }
   },
   "source": [
    "### Select the bridge bonds to turn off"
   ]
  },
  {
   "cell_type": "code",
   "execution_count": null,
   "metadata": {
    "collapsed": true,
    "urth": {
     "dashboard": {}
    }
   },
   "outputs": [],
   "source": [
    "kill_selector = bb.ui.SelectionBuilder(mol)\n",
    "kill_selector"
   ]
  },
  {
   "cell_type": "code",
   "execution_count": null,
   "metadata": {
    "collapsed": false
   },
   "outputs": [],
   "source": [
    "ciswfn.analyze()"
   ]
  },
  {
   "cell_type": "code",
   "execution_count": null,
   "metadata": {
    "collapsed": false,
    "urth": {
     "dashboard": {
      "hidden": true
     }
    }
   },
   "outputs": [],
   "source": [
    "# Find bridge orbital indices\n",
    "ciswfn.kill_bonds(kill_selector.selected_bonds)"
   ]
  },
  {
   "cell_type": "code",
   "execution_count": null,
   "metadata": {
    "collapsed": true,
    "urth": {
     "dashboard": {}
    }
   },
   "outputs": [],
   "source": []
  }
 ],
 "metadata": {
  "celltoolbar": "Hide code",
  "kernelspec": {
   "display_name": "Python 2",
   "language": "python",
   "name": "python2"
  },
  "language_info": {
   "codemirror_mode": {
    "name": "ipython",
    "version": 2
   },
   "file_extension": ".py",
   "mimetype": "text/x-python",
   "name": "python",
   "nbconvert_exporter": "python",
   "pygments_lexer": "ipython2",
   "version": "2.7.11"
  },
  "urth": {
   "dashboard": {
    "cellMargin": 10,
    "defaultCellHeight": 20,
    "layoutStrategy": "packed",
    "maxColumns": 12
   }
  }
 },
 "nbformat": 4,
 "nbformat_minor": 0
}