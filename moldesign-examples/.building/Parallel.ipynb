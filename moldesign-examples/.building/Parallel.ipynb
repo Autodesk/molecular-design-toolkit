{
 "cells": [
  {
   "cell_type": "code",
   "execution_count": null,
   "metadata": {
    "collapsed": false
   },
   "outputs": [],
   "source": [
    "import buckyball as bb"
   ]
  },
  {
   "cell_type": "markdown",
   "metadata": {},
   "source": [
    "# Basic job launching\n",
    "At its core, the ComputeCannon is all about launching jobs as easily as possible. Let's start by kicking off some basic linux commands."
   ]
  },
  {
   "cell_type": "code",
   "execution_count": null,
   "metadata": {
    "collapsed": true
   },
   "outputs": [],
   "source": [
    "image = bb.compute.get_image_tag('opsin')"
   ]
  },
  {
   "cell_type": "code",
   "execution_count": null,
   "metadata": {
    "collapsed": false
   },
   "outputs": [],
   "source": [
    "def echo_stdout(job):\n",
    "    print job.stdout\n",
    "\n",
    "def return_stdout(job):\n",
    "    return job.stdout.strip()\n",
    "\n",
    "job = bb.compute.launch(image, 'echo \"hello world\"', name='Hello world', when_finished=return_stdout)\n",
    "job.get_display_object()"
   ]
  },
  {
   "cell_type": "code",
   "execution_count": null,
   "metadata": {
    "collapsed": false
   },
   "outputs": [],
   "source": [
    "job.wait()"
   ]
  },
  {
   "cell_type": "code",
   "execution_count": null,
   "metadata": {
    "collapsed": false
   },
   "outputs": [],
   "source": [
    "mol."
   ]
  },
  {
   "cell_type": "code",
   "execution_count": null,
   "metadata": {
    "collapsed": false
   },
   "outputs": [],
   "source": [
    "\"\"\"Test a function in a subprocess and with docker\"\"\"\n",
    "def get_natoms(mol):\n",
    "    return mol.natoms\n",
    "python_call = bp.PythonCall(get_natoms,[mol],{})\n",
    "job = bp.PythonJob(python_call,bpi.SubprocessJob,'buckyball/buckyball_base',{})\n",
    "job.wait()\n",
    "assert job.result == 3334\n",
    "\n",
    "client = du.docker_machine_client()\n",
    "job2 = bp.PythonJob(python_call,bpi.DockerJob,'buckyball/buckyball_base',{'config':{'client':client}})\n",
    "job2.wait()\n",
    "assert job.result == 3334"
   ]
  }
 ],
 "metadata": {
  "kernelspec": {
   "display_name": "Python 2",
   "language": "python",
   "name": "python2"
  },
  "language_info": {
   "codemirror_mode": {
    "name": "ipython",
    "version": 2
   },
   "file_extension": ".py",
   "mimetype": "text/x-python",
   "name": "python",
   "nbconvert_exporter": "python",
   "pygments_lexer": "ipython2",
   "version": "2.7.6"
  }
 },
 "nbformat": 4,
 "nbformat_minor": 0
}