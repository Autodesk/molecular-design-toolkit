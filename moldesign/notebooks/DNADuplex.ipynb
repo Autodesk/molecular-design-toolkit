{
 "cells": [
  {
   "cell_type": "markdown",
   "metadata": {},
   "source": [
    "# DNA Dynamics\n",
    "In this notebook, we use AmberTools and OpenMM to perform a quick molecular dynamics simulation of a small DNA duplex."
   ]
  },
  {
   "cell_type": "code",
   "execution_count": null,
   "metadata": {
    "collapsed": false
   },
   "outputs": [],
   "source": [
    "%matplotlib notebook\n",
    "from matplotlib.pyplot import *\n",
    "import moldesign as mdt\n",
    "from moldesign import units as u\n",
    "mdt.config.print_configuration()"
   ]
  },
  {
   "cell_type": "markdown",
   "metadata": {},
   "source": [
    "### Unit system\n",
    "To begin, go ahead and select your preferred unit system."
   ]
  },
  {
   "cell_type": "code",
   "execution_count": null,
   "metadata": {
    "collapsed": false
   },
   "outputs": [],
   "source": [
    "mdt.units.default.energy = u.kcalpermol\n",
    "mdt.units.default.length = u.nm\n",
    "mdt.units.default.time = u.ps"
   ]
  },
  {
   "cell_type": "markdown",
   "metadata": {},
   "source": [
    "## Simulation parameters\n",
    "All integrators and models can tell you about the parameters they accept - let's take a look at the OpenMM methods."
   ]
  },
  {
   "cell_type": "code",
   "execution_count": null,
   "metadata": {
    "collapsed": false
   },
   "outputs": [],
   "source": [
    "print 'OpenMMPotential:'\n",
    "print mdt.models.OpenMMPotential.print_parameters()\n",
    "print '\\nOpenMMIntegrator:'\n",
    "print mdt.integrators.OpenMMLangevin.print_parameters()"
   ]
  },
  {
   "cell_type": "markdown",
   "metadata": {},
   "source": [
    "## Prepping the structure\n",
    "Let's download a DNA crystal structure and get it ready to simulate. First, we'll download [PDB 1BNA](http://www.rcsb.org/pdb/explore/jmol.do?structureId=1BNA&bionumber=1) and visualize it.\n",
    "\n",
    "Click on an atom in the 3D view to get more information about it."
   ]
  },
  {
   "cell_type": "code",
   "execution_count": null,
   "metadata": {
    "collapsed": false,
    "scrolled": true
   },
   "outputs": [],
   "source": [
    "xtal_structure = mdt.read('data/1BNA.pdb')\n",
    "viewer = xtal_structure.draw()\n",
    "viewer"
   ]
  },
  {
   "cell_type": "markdown",
   "metadata": {},
   "source": [
    "As you can see, we've got a nice strand of DNA with a bunch of not-so-nice water molecules surrounding it. We'll remove those before going any farther."
   ]
  },
  {
   "cell_type": "code",
   "execution_count": null,
   "metadata": {
    "collapsed": false
   },
   "outputs": [],
   "source": [
    "bare_dna = mdt.Molecule([atom for atom in xtal_structure.atoms\n",
    "                        if atom.residue.type != 'water'], copy_atoms=True)\n",
    "bare_dna.draw()"
   ]
  },
  {
   "cell_type": "markdown",
   "metadata": {},
   "source": [
    "### Set up forcefield\n",
    "Next, we'll assign forcefield parameters to our system. This will also add any missing hydrogens to the molecule.\n",
    "\n",
    "Notice that, while this runs, a tab named \"tleap\" will appear under the cell. Go ahead and click on this - it indicates that the tleap command was run remotely using Docker. Especially during \"production\", it's important to examine the program's logs and understand the meaning of any warnings or errors it emits."
   ]
  },
  {
   "cell_type": "code",
   "execution_count": null,
   "metadata": {
    "collapsed": false
   },
   "outputs": [],
   "source": [
    "mol = mdt.assign_forcefield(bare_dna)\n",
    "mol.draw()"
   ]
  },
  {
   "cell_type": "markdown",
   "metadata": {},
   "source": [
    "### Set up geometry constraints\n",
    "Because this a very small piece of DNA, it's likely to unravel as we simulate it. To keep this from happening, let's **freeze the terminal base pairs on each strand**.\n",
    "\n",
    "**Click on the base pairs to be constrained:**"
   ]
  },
  {
   "cell_type": "code",
   "execution_count": null,
   "metadata": {
    "collapsed": false,
    "scrolled": true
   },
   "outputs": [],
   "source": [
    "rs = mdt.ui.ResidueSelector(mol)\n",
    "rs"
   ]
  },
  {
   "cell_type": "code",
   "execution_count": null,
   "metadata": {
    "collapsed": false
   },
   "outputs": [],
   "source": [
    "for atom in rs.selected_atoms:\n",
    "    mol.constrain_atom(atom)"
   ]
  },
  {
   "cell_type": "markdown",
   "metadata": {},
   "source": [
    "Of course, fixing the positions of the terminal base pairs is a fairly extreme step. For extra credit, see if you can find a less heavy-handed keep the terminal base pairs bonded. (Try using tab-completion to see what other constraint methods are available)"
   ]
  },
  {
   "cell_type": "markdown",
   "metadata": {},
   "source": [
    "## Simulation\n",
    "We're set up - let's run dynamics! We'll:\n",
    " 1. Add an OpenMM energy model and a Langevin integrator to our molecule\n",
    " 1. run a short energy minimization to remove any large instabilities, and\n",
    " 1. Run 50 ps of dynamics"
   ]
  },
  {
   "cell_type": "code",
   "execution_count": null,
   "metadata": {
    "collapsed": false
   },
   "outputs": [],
   "source": [
    "model = mdt.models.OpenMMPotential(implicit_solvent='obc',\n",
    "                                  cutoff=5.0*u.angstrom)\n",
    "integrator = mdt.integrators.OpenMMLangevin(timestep=2.0*u.fs, constraints=['hbonds'],\n",
    "                                          temperature=300.0*u.kelvin,\n",
    "                                          frame_interval=1.0*u.ps)\n",
    "mol.set_energy_model(model)\n",
    "mol.set_integrator(integrator)"
   ]
  },
  {
   "cell_type": "markdown",
   "metadata": {},
   "source": [
    "The parameters for the energy model, integrator, and constraints can be reviewed (and modified) at any time:"
   ]
  },
  {
   "cell_type": "code",
   "execution_count": null,
   "metadata": {
    "collapsed": false
   },
   "outputs": [],
   "source": [
    "model.params"
   ]
  },
  {
   "cell_type": "code",
   "execution_count": null,
   "metadata": {
    "collapsed": false
   },
   "outputs": [],
   "source": [
    "integrator.params"
   ]
  },
  {
   "cell_type": "code",
   "execution_count": null,
   "metadata": {
    "collapsed": false
   },
   "outputs": [],
   "source": [
    "for constraint in mol.constraints: print constraint"
   ]
  },
  {
   "cell_type": "markdown",
   "metadata": {},
   "source": [
    "Nearly every MD simulation should be preceded by an energy minimization, especially for crystal structure data. This will remove any energetically catastrophic clashes between atoms and prevent our simulation from blowing up."
   ]
  },
  {
   "cell_type": "code",
   "execution_count": null,
   "metadata": {
    "collapsed": false
   },
   "outputs": [],
   "source": [
    "trajectory = mol.minimize(nsteps=200)"
   ]
  },
  {
   "cell_type": "code",
   "execution_count": null,
   "metadata": {
    "collapsed": false
   },
   "outputs": [],
   "source": [
    "trajectory = mol.minimize(nsteps=200)\n",
    "plot(trajectory.potential_energy)\n",
    "xlabel('steps');ylabel('energy / %s'%trajectory.potential_energy.units)\n",
    "title('Energy relaxation')\n",
    "grid()\n",
    "viz = trajectory.draw3d()\n",
    "viz.licorice()\n",
    "viz"
   ]
  },
  {
   "cell_type": "markdown",
   "metadata": {},
   "source": [
    "### Dynamics\n",
    "We're ready to run 50 picoseconds of dynamics at room temperature (that's 300º Kelvin). This will probably take a few minutes - if you're on an especially pokey computer, you might want to reduce the length of the simulation."
   ]
  },
  {
   "cell_type": "code",
   "execution_count": null,
   "metadata": {
    "collapsed": false
   },
   "outputs": [],
   "source": [
    "integrator.params.frame_interval=500\n",
    "traj = mol.run(run_for=50.0*u.ps)"
   ]
  },
  {
   "cell_type": "markdown",
   "metadata": {},
   "source": [
    "## Analysis\n",
    "Let's look at the results of our trajectory. The trajectory object (named `traj`) gives us direct access to the timeseries data:"
   ]
  },
  {
   "cell_type": "code",
   "execution_count": null,
   "metadata": {
    "collapsed": false
   },
   "outputs": [],
   "source": [
    "figure()\n",
    "plot(traj.time, traj.kinetic_energy, label='kinetic energy')\n",
    "plot(traj.time, traj.potential_energy - traj.potential_energy[0], label='potential_energy')\n",
    "xlabel('time / {time.units}'.format(time=traj.time))\n",
    "ylabel('energy / {energy.units}'.format(energy=traj.kinetic_energy))\n",
    "grid()\n",
    "legend(loc='center right')\n",
    "\n",
    "figure()\n",
    "# Using the trajectory's 'plot' method will autogenerate axes labels with the appropriate units\n",
    "traj.plot('time','kinetic_temperature')"
   ]
  },
  {
   "cell_type": "markdown",
   "metadata": {},
   "source": [
    "Of course, it's always nice to see the 3D structure:"
   ]
  },
  {
   "cell_type": "code",
   "execution_count": null,
   "metadata": {
    "collapsed": false
   },
   "outputs": [],
   "source": [
    "debug"
   ]
  },
  {
   "cell_type": "code",
   "execution_count": null,
   "metadata": {
    "collapsed": false
   },
   "outputs": [],
   "source": [
    "viewer = traj.draw3d()\n",
    "viewer"
   ]
  },
  {
   "cell_type": "markdown",
   "metadata": {},
   "source": [
    "If you examine the dynamics, you'll likely observe one or more base pairs flipping out of the double helix. They'll be different every time because the simulation uses random numbers to generate the thermal fluctuations.\n",
    "\n",
    "In the next cell, try plotting the RMSDs of a few base pairs. You can get the residue's names by clicking on them in the trajectory animation."
   ]
  },
  {
   "cell_type": "code",
   "execution_count": null,
   "metadata": {
    "collapsed": false
   },
   "outputs": [],
   "source": [
    "res0 = mol.atoms[679].residue\n",
    "res1 = mol.atoms[142].residue\n",
    "res2 = mol.atoms[100].residue\n",
    "\n",
    "figure()\n",
    "plot(traj.time, traj.rmsd(), lw=2, label='overall rmsd')\n",
    "plot(traj.time, traj.rmsd(res0.atoms), label='fixed residue')\n",
    "plot(traj.time, traj.rmsd(res1.atoms), label='flipped residue')\n",
    "plot(traj.time, traj.rmsd(res2.atoms), label='unflipped residue')\n",
    "grid()\n",
    "xlabel('time / fs')\n",
    "ylabel(u'rmsd / {}'.format(u.default.length))\n",
    "legend(loc='upper left')"
   ]
  },
  {
   "cell_type": "code",
   "execution_count": null,
   "metadata": {
    "collapsed": true
   },
   "outputs": [],
   "source": []
  }
 ],
 "metadata": {
  "kernelspec": {
   "display_name": "Python 2",
   "language": "python",
   "name": "python2"
  },
  "language_info": {
   "codemirror_mode": {
    "name": "ipython",
    "version": 2
   },
   "file_extension": ".py",
   "mimetype": "text/x-python",
   "name": "python",
   "nbconvert_exporter": "python",
   "pygments_lexer": "ipython2",
   "version": "2.7.11"
  }
 },
 "nbformat": 4,
 "nbformat_minor": 0
}