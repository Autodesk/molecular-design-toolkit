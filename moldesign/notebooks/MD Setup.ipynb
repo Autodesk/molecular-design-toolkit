{
 "cells": [
  {
   "cell_type": "code",
   "execution_count": null,
   "metadata": {
    "collapsed": false
   },
   "outputs": [],
   "source": [
    "import moldesign as mdt\n",
    "import moldesign.units as u"
   ]
  },
  {
   "cell_type": "markdown",
   "metadata": {},
   "source": [
    "This notebook demonstrates how to prepare an experimental crystal structure for simulation. We'll work with the crystal structure of HIV-1 protease (PDB:3AID) in complex with a small organic molecule.\n",
    "\n",
    "This structure demonstrates two common obstacles to simulation:\n",
    " * a non-biochemical component (the small molecule inhibitor), and\n",
    " * histidine residues.\n",
    "\n",
    "\n",
    "# The crystal structure\n",
    "First, we'll read in the file and take a look at its contents. As you can see, there are two chains, consisting mostly of protein residues with some water mixed in. Chain `A` also includes an unknown residue, `ARQ401`."
   ]
  },
  {
   "cell_type": "code",
   "execution_count": null,
   "metadata": {
    "collapsed": false
   },
   "outputs": [],
   "source": [
    "mol = mdt.read('data/3AID.pdb')\n",
    "mol"
   ]
  },
  {
   "cell_type": "markdown",
   "metadata": {},
   "source": [
    "Next, we'll draw the molecule. By default, the protein polymers will be drawn as ribbons, water molecules as lines, and the drug molecule in the \"stick\" representation."
   ]
  },
  {
   "cell_type": "markdown",
   "metadata": {},
   "source": [
    "Next, let's try to assign a forcefield to this structure - the procedure will fail (it show raise a `ParameterizationError` Exception), but we'll get some useful information. When the calcualtion is finished, click on the \"ERRORS/WARNINGS\" tab to see why it failed."
   ]
  },
  {
   "cell_type": "code",
   "execution_count": null,
   "metadata": {
    "collapsed": false
   },
   "outputs": [],
   "source": [
    "newmol = mdt.assign_forcefield(mol)"
   ]
  },
  {
   "cell_type": "markdown",
   "metadata": {},
   "source": [
    "You should see 3 errors: \n",
    " * The residue name `ARQ` not recognized\n",
    " * Atom `HD1` in residue `HIS69`, chain `A` was not recognized\n",
    " * Atom `HD1` in residue `HIS69`, chain `B` was not recognized\n",
    " \n",
    "(There's also a warning about bond distances, but these can be generally be fixed with an energy minimization before running dynamics)\n",
    "\n",
    "We'll deal with the histidine residues first."
   ]
  },
  {
   "cell_type": "markdown",
   "metadata": {},
   "source": [
    "## Dealing with histidine\n",
    "Histidine is notoriously tricky, because it exists in no less than three different protonation states at biological pH (7.4) - the \"delta-protonated\" form, referred to with residue name `HID`; the \"epsilon-protonated\" form aka `HIE`; and the doubly-protonated form `HIP`, which has a +1 charge. These are drawn below."
   ]
  },
  {
   "cell_type": "code",
   "execution_count": null,
   "metadata": {
    "collapsed": false
   },
   "outputs": [],
   "source": [
    "hid = mdt.from_smiles('O=C(O)[C@@H](N)Cc1c[nH]cn1')\n",
    "hid.draw3d()"
   ]
  },
  {
   "cell_type": "code",
   "execution_count": null,
   "metadata": {
    "collapsed": false
   },
   "outputs": [],
   "source": [
    "hie = mdt.from_smiles('O=C(O)[C@@H](N)Cc1cnc[nH]1')\n",
    "hie.draw3d()"
   ]
  },
  {
   "cell_type": "markdown",
   "metadata": {},
   "source": [
    "Crystallographers usually can't resolve hydrogen positions, and so can't tell you which form of histidine you have. PDB files thus refer to histidine as `HIS`, which leaves the protonation state ambiguous. In general, picking the right protontation is both extremely important and extremely difficult.\n",
    "\n",
    "We're in luck for this simulation, however - the histidines are located on the surface of the protein, quite far from the drug binding site, and so their state is not likely to be important for a drug binding calculation. Further, the presence of the `HD1` atoms in the crystal structure indicates that we should probably go ahead and change our `HIS` residues to `HID`.\n",
    "\n",
    "The fix is easy - just change the name. We'll rerun the paramterization to confirm that the histidine errors disappeared (although the small molecule errors remain)."
   ]
  },
  {
   "cell_type": "code",
   "execution_count": null,
   "metadata": {
    "collapsed": false
   },
   "outputs": [],
   "source": [
    "for residue in mol.residues:\n",
    "    if residue.resname == 'HIS':\n",
    "        residue.resname = 'HID'\n",
    "        print 'I changed %s in chain %s to HID' % (residue.name, residue.chain.name)"
   ]
  },
  {
   "cell_type": "code",
   "execution_count": null,
   "metadata": {
    "collapsed": false
   },
   "outputs": [],
   "source": [
    "md_ready_molecule = mdt.forcefield.assign_forcefield(mol)"
   ]
  },
  {
   "cell_type": "markdown",
   "metadata": {},
   "source": [
    "## Focusing on the protein\n",
    "First, we'll just run dynamics without the small molecule at all - for instance, maybe we're just interested in the dynamical conformations of the protein in its unbound state. We'll create a new molecule using only the amino acid atoms, parameterize it, and run some preliminary dynamics."
   ]
  },
  {
   "cell_type": "code",
   "execution_count": null,
   "metadata": {
    "collapsed": false
   },
   "outputs": [],
   "source": [
    "receptor_structure = mdt.Molecule([atom for atom in mol.atoms if atom.residue.type == 'protein'])\n",
    "receptor = mdt.assign_forcefield(receptor_structure)"
   ]
  },
  {
   "cell_type": "code",
   "execution_count": null,
   "metadata": {
    "collapsed": false
   },
   "outputs": [],
   "source": [
    "debug"
   ]
  },
  {
   "cell_type": "code",
   "execution_count": null,
   "metadata": {
    "collapsed": false
   },
   "outputs": [],
   "source": [
    "model = mdt.models.OpenMMPotential()\n",
    "print model.print_parameters()"
   ]
  },
  {
   "cell_type": "code",
   "execution_count": null,
   "metadata": {
    "collapsed": false
   },
   "outputs": [],
   "source": [
    "model.params.implicit_solvent = 'obc'\n",
    "model.cutoff = 8.0 * u.angstrom\n",
    "receptor.set_energy_model(model)"
   ]
  },
  {
   "cell_type": "code",
   "execution_count": null,
   "metadata": {
    "collapsed": false
   },
   "outputs": [],
   "source": [
    "integrator = mdt.integrators.OpenMMLangevin(timestep=2.0*u.fs)\n",
    "receptor.set_integrator(integrator)"
   ]
  },
  {
   "cell_type": "markdown",
   "metadata": {},
   "source": [
    "#### 1) Minimize the entire structure"
   ]
  },
  {
   "cell_type": "code",
   "execution_count": null,
   "metadata": {
    "collapsed": false
   },
   "outputs": [],
   "source": [
    "receptor.draw()"
   ]
  },
  {
   "cell_type": "code",
   "execution_count": null,
   "metadata": {
    "collapsed": false
   },
   "outputs": [],
   "source": [
    "min1 = receptor.minimize()"
   ]
  },
  {
   "cell_type": "code",
   "execution_count": null,
   "metadata": {
    "collapsed": false
   },
   "outputs": [],
   "source": [
    "min1.draw()"
   ]
  },
  {
   "cell_type": "markdown",
   "metadata": {},
   "source": [
    "#### 2) Freeze the protein backbone and heat the system at 300 K\n",
    "We might consider slowly heating the system in production, but we'll jump to 300 K for now."
   ]
  },
  {
   "cell_type": "code",
   "execution_count": null,
   "metadata": {
    "collapsed": false
   },
   "outputs": [],
   "source": [
    "receptor.write('recpt.pkl.bz2')"
   ]
  },
  {
   "cell_type": "code",
   "execution_count": null,
   "metadata": {
    "collapsed": true
   },
   "outputs": [],
   "source": [
    "receptor = mdt.read('recpt.pkl.bz2')"
   ]
  },
  {
   "cell_type": "code",
   "execution_count": null,
   "metadata": {
    "collapsed": false,
    "scrolled": true
   },
   "outputs": [],
   "source": [
    "for residue in receptor.residues:\n",
    "    for atom in residue.backbone:\n",
    "        receptor.constrain_atom(atom)\n",
    "print 'Constrained %d atoms' % len(receptor.constraints)"
   ]
  },
  {
   "cell_type": "code",
   "execution_count": null,
   "metadata": {
    "collapsed": false,
    "scrolled": false
   },
   "outputs": [],
   "source": [
    "warmup = receptor.run(20.0*u.ps)"
   ]
  },
  {
   "cell_type": "code",
   "execution_count": null,
   "metadata": {
    "collapsed": false
   },
   "outputs": [],
   "source": [
    "receptor.clear_constraints()\n",
    "receptor.integrator.params.frame_interval=0.1*u.ps\n",
    "equil = receptor.run(5.0*u.ps)"
   ]
  },
  {
   "cell_type": "code",
   "execution_count": null,
   "metadata": {
    "collapsed": false
   },
   "outputs": [],
   "source": [
    "equilmovie = equil.draw()\n",
    "sidechains = []\n",
    "for res in receptor.residues: sidechains += [atom for atom in res.sidechain if atom.atnum != 1]\n",
    "for residue in receptor.residues: sidechains.append(residue['CA'])\n",
    "equilmovie.cartoon()\n",
    "equilmovie.color_by(lambda x:float(x.index))\n",
    "equilmovie.add_style(style='licorice',atoms=sidechains, opacity=0.8)\n",
    "equilmovie"
   ]
  },
  {
   "cell_type": "markdown",
   "metadata": {},
   "source": [
    "## Dealing with small molecules\n",
    "Small molecules present a different set of challenges - the commonly used CHARMM- and AMBER-type force fields only contain parameters for biopolymers.\n",
    "\n",
    "In this notebook, we'll use the GAFF (generalized Amber force field), which was designed to address this very problem. We'll:\n",
    " 1. Assign GAFF force field terms for bonded and dispersive (Lennard-Jones) interactions\n",
    " 2. Calculate partial electrostatic charges that reproduce the molecule's electric field\n",
    " \n",
    "First, let's isolate the drug molecule and add hydrogens to it. Click on the drug residue in the following widget:"
   ]
  },
  {
   "cell_type": "code",
   "execution_count": null,
   "metadata": {
    "collapsed": false
   },
   "outputs": [],
   "source": [
    "!pwd"
   ]
  },
  {
   "cell_type": "code",
   "execution_count": null,
   "metadata": {
    "collapsed": false
   },
   "outputs": [],
   "source": [
    "!cp MD\\ Setup_new.ipynb /opt/moldesign/notebooks/"
   ]
  },
  {
   "cell_type": "code",
   "execution_count": null,
   "metadata": {
    "collapsed": false
   },
   "outputs": [],
   "source": [
    "sel = bb.ui.ResidueSelector(mol)\n",
    "sel"
   ]
  },
  {
   "cell_type": "code",
   "execution_count": null,
   "metadata": {
    "collapsed": true
   },
   "outputs": [],
   "source": [
    "drugres = sel.selected_residues[0]"
   ]
  },
  {
   "cell_type": "code",
   "execution_count": null,
   "metadata": {
    "collapsed": true
   },
   "outputs": [],
   "source": [
    "drugmol = bb.add_hydrogen(bb.Molecule(drugres)) # TODO: unique hydrogen names\n",
    "drugmol.draw()"
   ]
  },
  {
   "cell_type": "code",
   "execution_count": null,
   "metadata": {
    "collapsed": true
   },
   "outputs": [],
   "source": [
    "drugmol.draw2d(show_hydrogens=True, width=700)"
   ]
  },
  {
   "cell_type": "markdown",
   "metadata": {},
   "source": [
    "For a production-level calculation, you would need to A) perform a quantum chemical minimization at the RHF/6-31g\\* level, B) calculate a set of electrostatic potentials around the molecule, and C) use the RESP procedure to fit atomic charges to the molecule that reproduce the calculated potential.\n",
    "\n",
    "For this tutorial, however, we'll just use a procedure called AM1-BCC; it's less accurate but MUCH faster.\n",
    "\n",
    "Also, now's a good time to think about formal charge. Note the quaternary nitrogen (`N2`) has a formal charge of +1; we should check to make sure"
   ]
  },
  {
   "cell_type": "code",
   "execution_count": null,
   "metadata": {
    "collapsed": false
   },
   "outputs": [],
   "source": [
    "assert drugmol.charge == +1"
   ]
  },
  {
   "cell_type": "code",
   "execution_count": null,
   "metadata": {
    "collapsed": true
   },
   "outputs": [],
   "source": [
    "result = drugmol.get_gaff_parameters(charge='am1-bcc', )"
   ]
  },
  {
   "cell_type": "code",
   "execution_count": null,
   "metadata": {
    "collapsed": false
   },
   "outputs": [],
   "source": [
    "print drugmol.write(format='pdb')"
   ]
  },
  {
   "cell_type": "code",
   "execution_count": null,
   "metadata": {
    "collapsed": true
   },
   "outputs": [],
   "source": []
  },
  {
   "cell_type": "code",
   "execution_count": null,
   "metadata": {
    "collapsed": true
   },
   "outputs": [],
   "source": [
    "mol = bb.from_smiles('C1=CCNOC1')"
   ]
  },
  {
   "cell_type": "code",
   "execution_count": null,
   "metadata": {
    "collapsed": true
   },
   "outputs": [],
   "source": [
    "#include commands as file ... stdout, stderr in main display"
   ]
  },
  {
   "cell_type": "code",
   "execution_count": null,
   "metadata": {
    "collapsed": false
   },
   "outputs": [],
   "source": [
    "reload(bb.interfaces.ambertools)\n",
    "bb.interfaces.ambertools.am1_bcc_charges(mol)"
   ]
  },
  {
   "cell_type": "code",
   "execution_count": null,
   "metadata": {
    "collapsed": true
   },
   "outputs": [],
   "source": []
  },
  {
   "cell_type": "code",
   "execution_count": null,
   "metadata": {
    "collapsed": true
   },
   "outputs": [],
   "source": []
  },
  {
   "cell_type": "code",
   "execution_count": null,
   "metadata": {
    "collapsed": true
   },
   "outputs": [],
   "source": []
  },
  {
   "cell_type": "code",
   "execution_count": null,
   "metadata": {
    "collapsed": true
   },
   "outputs": [],
   "source": []
  }
 ],
 "metadata": {
  "kernelspec": {
   "display_name": "Python 2",
   "language": "python",
   "name": "python2"
  },
  "language_info": {
   "codemirror_mode": {
    "name": "ipython",
    "version": 2
   },
   "file_extension": ".py",
   "mimetype": "text/x-python",
   "name": "python",
   "nbconvert_exporter": "python",
   "pygments_lexer": "ipython2",
   "version": "2.7.11"
  }
 },
 "nbformat": 4,
 "nbformat_minor": 0
}