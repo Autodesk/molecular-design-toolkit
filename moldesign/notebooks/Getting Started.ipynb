{
 "cells": [
  {
   "cell_type": "markdown",
   "metadata": {
    "collapsed": true
   },
   "source": [
    "![Molecular Design Toolkit](img/header.png)\n",
    "\n",
    "<br>\n",
    "\n",
    "# Tutorials\n",
    "\n",
    "Check out our growing list of [video tutorials](https://www.youtube.com/channel/UCRmzThLOYJ3Tx1e81fXRfOA) to get started in no time.\n",
    "\n",
    "\n",
    "# Examples\n",
    "\n",
    "The best way to dive deeper is to run our step by step examples below. More examples are available in [GitHub](https://github.com/autodesk/molecular-design-toolkit\n",
    " \"GitHub\").\n",
    "\n",
    "* [Simulate a small piece of DNA](http://example.com/ \"Title\")\n",
    "* [Visualize molecular orbitals](http://example.com/ \"Title\")\n",
    "* [Simulate a molecule from the Protein Database](http://example.com/ \"Title\")\n",
    "* [Create custom and interactive visualizations](http://example.com/ \"Title\")\n",
    "\n",
    "\n",
    "# Documentation\n",
    "\n",
    "* [User Guide](http://example.com/ \"Title\")\n",
    "* [Using Jupiter Notebooks](http://jupyter-notebook-beginner-guide.readthedocs.io/en/latest/what_is_jupyter.html \"Title\")\n",
    "\n",
    "\n",
    "# Forum\n",
    "\n",
    "Visit our [forum](https://forum.bionano.autodesk.com/c/Molecular-Design-Toolkit \"Forum\") to submit feedback, future suggestions and to meet fellow toolkit enthusiasts.\n",
    "\n",
    "# Direct Support\n",
    "\n",
    "Contact us at moleculardesigntoolkit@autodesk.com\n",
    "\n",
    "<br>\n",
    "<br>\n",
    "Enjoy!\n",
    "Your MDT team\n",
    "\n",
    "![Molecular Design Toolkit](Molecules.png)\n",
    "\n",
    "<br>\n",
    "<br>"
   ]
  },
  {
   "cell_type": "code",
   "execution_count": null,
   "metadata": {
    "collapsed": true
   },
   "outputs": [],
   "source": []
  },
  {
   "cell_type": "code",
   "execution_count": null,
   "metadata": {
    "collapsed": true
   },
   "outputs": [],
   "source": []
  }
 ],
 "metadata": {
  "kernelspec": {
   "display_name": "Python 2",
   "language": "python",
   "name": "python2"
  },
  "language_info": {
   "codemirror_mode": {
    "name": "ipython",
    "version": 2
   },
   "file_extension": ".py",
   "mimetype": "text/x-python",
   "name": "python",
   "nbconvert_exporter": "python",
   "pygments_lexer": "ipython2",
   "version": "2.7.11"
  },
  "widgets": {
   "state": {},
   "version": "1.1.2"
  }
 },
 "nbformat": 4,
 "nbformat_minor": 0
}