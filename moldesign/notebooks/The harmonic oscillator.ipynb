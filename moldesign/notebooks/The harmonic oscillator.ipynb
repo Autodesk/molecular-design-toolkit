{
 "cells": [
  {
   "cell_type": "markdown",
   "metadata": {},
   "source": [
    "<h3>The Harmonic Oscillator</h3>\n",
    "This notebook sets up some basic classical and thermodyanmic simulations with the harmonic oscillator potential.\n",
    "\n",
    "The Harmonic Oscillator is one of the most important systems in both quantum and classical physics. Here, we'll use it to explore Buckyball's dynamics simulatinos."
   ]
  },
  {
   "cell_type": "code",
   "execution_count": null,
   "metadata": {
    "collapsed": false
   },
   "outputs": [],
   "source": [
    "%matplotlib inline\n",
    "import numpy as np\n",
    "from matplotlib.pyplot import *\n",
    "\n",
    "import moldesign as mdt\n",
    "from moldesign import units as u"
   ]
  },
  {
   "cell_type": "markdown",
   "metadata": {},
   "source": [
    "First, let's set up the potential. We're using a simple 1-d harmonic oscillator that will be applied to the x coordinate of the first atom in the system. The potential has the form $$V_{HO}(x) = \\frac{1}{2} k x^2,$$\n",
    "where $k$ is the \"SPRING_CONSTANT\" variable.\n",
    "\n",
    "As with more realistic chemical systems, we'll need to specify the units of all physical quantities."
   ]
  },
  {
   "cell_type": "code",
   "execution_count": null,
   "metadata": {
    "collapsed": false
   },
   "outputs": [],
   "source": [
    "SPRING_CONSTANT = 1.0*u.kcalpermol/(u.angstrom**2)\n",
    "model = mdt.models.HarmonicOscillator(k=SPRING_CONSTANT)"
   ]
  },
  {
   "cell_type": "markdown",
   "metadata": {},
   "source": [
    "Next, we'll set up a simple 1-atom system to play with. The atom we use isn't important - we're just going to subject it to the external harmonic potential."
   ]
  },
  {
   "cell_type": "code",
   "execution_count": null,
   "metadata": {
    "collapsed": false
   },
   "outputs": [],
   "source": [
    "atom = mdt.Atom(atnum=8, mass=1.0*u.amu)\n",
    "mol = mdt.Molecule([atom])\n",
    "mol.set_energy_model(model)"
   ]
  },
  {
   "cell_type": "markdown",
   "metadata": {},
   "source": [
    "Let's take a look at this model's potential energy and forces. Because this is a 1-dimensional model, we can just scan along the x-coordinate of the first atom."
   ]
  },
  {
   "cell_type": "code",
   "execution_count": null,
   "metadata": {
    "collapsed": false
   },
   "outputs": [],
   "source": [
    "scan = mdt.trajectory.Trajectory(mol)\n",
    "for x in u.angstrom*np.arange(-2.0,2.0,0.05):\n",
    "    atom.x = x\n",
    "    mol.calculate()\n",
    "    scan.new_frame()"
   ]
  },
  {
   "cell_type": "code",
   "execution_count": null,
   "metadata": {
    "collapsed": false
   },
   "outputs": [],
   "source": [
    "xs = scan.positions[:,0]\n",
    "subplot(211).set_title('Energy')\n",
    "plot(xs,scan.potential_energy,label='potential')\n",
    "ylabel('energy / {}'.format(scan.potential_energy.units))\n",
    "tick_params(axis='x',labelbottom='off'); grid()\n",
    "subplot(212).set_title('Force')\n",
    "plot(xs,scan.forces[:,0],label=u'force')\n",
    "grid()\n",
    "xlabel(u'position / Å'); ylabel('force / {}'.format(scan.forces.units))"
   ]
  },
  {
   "cell_type": "markdown",
   "metadata": {},
   "source": [
    "## Modeling\n",
    "Next, let's actually do something with the model. We'll move the atom far away from the equilibrium position at $x=0$, and then run a basic minimization to find the equilibrium again."
   ]
  },
  {
   "cell_type": "code",
   "execution_count": null,
   "metadata": {
    "collapsed": false
   },
   "outputs": [],
   "source": [
    "atom.x = 4.0 * u.angstrom\n",
    "minimization = mol.minimize(frame_interval=1)"
   ]
  },
  {
   "cell_type": "markdown",
   "metadata": {},
   "source": [
    "That likely went very quickly - most minimization techniques will perform extremely well with harmonic potentials. Let's take a look at what happened during the minimization:"
   ]
  },
  {
   "cell_type": "code",
   "execution_count": null,
   "metadata": {
    "collapsed": false
   },
   "outputs": [],
   "source": [
    "plot(minimization.minimization_step, minimization.positions[:,0])\n",
    "grid(); xlabel('minimization step'); ylabel('atom position')\n",
    "\n",
    "viewer = minimization.draw3d()\n",
    "viewer.vdw()\n",
    "viewer"
   ]
  },
  {
   "cell_type": "markdown",
   "metadata": {},
   "source": [
    "## Dynamics\n",
    "We can also model the atom's motion under this potential.  We'll set up a timestep based \"integrator\" that solves the Newton's equations of motion to generate a trajectory."
   ]
  },
  {
   "cell_type": "code",
   "execution_count": null,
   "metadata": {
    "collapsed": false
   },
   "outputs": [],
   "source": [
    "integrator = mdt.integrators.VelocityVerlet(timestep=0.5*u.fs, frame_interval=30)\n",
    "mol.set_integrator(integrator)"
   ]
  },
  {
   "cell_type": "markdown",
   "metadata": {},
   "source": [
    "Next, let's specify the system's initial state - what are the starting positions and velocities?"
   ]
  },
  {
   "cell_type": "code",
   "execution_count": null,
   "metadata": {
    "collapsed": false
   },
   "outputs": [],
   "source": [
    "mol.positions[0] = 1.0*u.angstrom\n",
    "mol.time = 0.0*u.fs\n",
    "mol.integrator.time = 0.0*u.fs\n",
    "mol.momenta = 0.0 * u.default.momentum"
   ]
  },
  {
   "cell_type": "code",
   "execution_count": null,
   "metadata": {
    "collapsed": false
   },
   "outputs": [],
   "source": [
    "trajectory = mol.run(1.0*u.ps)"
   ]
  },
  {
   "cell_type": "code",
   "execution_count": null,
   "metadata": {
    "collapsed": false
   },
   "outputs": [],
   "source": [
    "lone = [atom for atom in mol.atoms if atom.num_bonds == 0]\n",
    "lone"
   ]
  },
  {
   "cell_type": "markdown",
   "metadata": {},
   "source": [
    "Running the dynamics should take a few seconds. When it's done, let's start by animating the results:"
   ]
  },
  {
   "cell_type": "code",
   "execution_count": null,
   "metadata": {
    "collapsed": false
   },
   "outputs": [],
   "source": [
    "trajectory.draw3d()"
   ]
  },
  {
   "cell_type": "markdown",
   "metadata": {},
   "source": [
    "Next, let's do some deeper analysis - generate some plots to visualize the trajectory. By now, it should be clear why we call this an \"oscillator\"."
   ]
  },
  {
   "cell_type": "code",
   "execution_count": null,
   "metadata": {
    "collapsed": false
   },
   "outputs": [],
   "source": [
    "l1 = plot(trajectory.time,trajectory.positions[:,0], label='position')\n",
    "grid(axis='x', color='black'); grid(color='blue',axis='y')\n",
    "tick_params(axis='x',labelbottom='off');\n",
    "ylabel(u'position / Å', color='blue'); yticks(color='blue')\n",
    "ax2=gca().twinx()\n",
    "l2 = ax2.plot(trajectory.time,trajectory.momenta[:,0], color='red', label='momentum')\n",
    "ax2.patch.set_alpha(0.0)\n",
    "grid(color='red',axis='y'); xlabel('time / fs')\n",
    "ylabel(u'momentum / {}'.format(u.default.momentum), color='red'); yticks(color='red')\n",
    "tick_params(axis='x',labelbottom='off')\n",
    "\n",
    "figure()\n",
    "pe = trajectory.potential_energy\n",
    "ke = trajectory.kinetic_energy\n",
    "plot(trajectory.time, pe,label='potential energy')\n",
    "plot(trajectory.time, ke,label='kinetic energy')\n",
    "legend()\n",
    "grid();xlabel('time / {}'.format(trajectory.time.units));ylabel('energy / {}'.format(pe.units))"
   ]
  },
  {
   "cell_type": "code",
   "execution_count": null,
   "metadata": {
    "collapsed": true
   },
   "outputs": [],
   "source": []
  }
 ],
 "metadata": {
  "kernelspec": {
   "display_name": "Python 2",
   "language": "python",
   "name": "python2"
  },
  "language_info": {
   "codemirror_mode": {
    "name": "ipython",
    "version": 2
   },
   "file_extension": ".py",
   "mimetype": "text/x-python",
   "name": "python",
   "nbconvert_exporter": "python",
   "pygments_lexer": "ipython2",
   "version": "2.7.11"
  }
 },
 "nbformat": 4,
 "nbformat_minor": 0
}