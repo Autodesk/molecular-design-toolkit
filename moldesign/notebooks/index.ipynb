{
 "cells": [
  {
   "cell_type": "markdown",
   "metadata": {},
   "source": [
    "<style type=\"text/css\">\n",
    ".tg  {border-collapse:collapse;border-spacing:0;}\n",
    ".tg td{font-family:Arial, sans-serif;font-size:14px;padding:10px 5px;border-style:solid;border-width:1px;overflow:hidden;word-break:normal;}\n",
    ".tg th{font-family:Arial, sans-serif;font-size:14px;font-weight:normal;padding:10px 5px;border-style:solid;border-width:1px;overflow:hidden;word-break:normal;}\n",
    ".tg .tg-yw4l{vertical-align:top}\n",
    "</style>\n",
    "<table class=\"tg\">\n",
    "  <tr>\n",
    "    <th class=\"tg-yw4l\">\n",
    "    [Build and simulate a small piece of DNA](DNADuplex.ipynb)<br><img src=\"img/dna.jpg\" align=\"left\">\n",
    "    </th>\n",
    "    <th class=\"tg-yw4l\">\n",
    "    [Run some quantum chemistry](QuantumChemistry.ipynb)<br><img src=\"img/dna.jpg\" align=\"left\">\n",
    "    </th>\n",
    "  </tr>\n",
    "  <tr>\n",
    "    <th class=\"tg-yw4l\">\n",
    "    [Build and simulate a small piece of DNA](DNADuplex.ipynb)<br><img src=\"img/dna.jpg\" align=\"left\">\n",
    "    </th>\n",
    "    <th class=\"tg-yw4l\">\n",
    "    [Simulate an HIV Protease crystal structure](MD Setup.ipynb)<br><img src=\"img/dna.jpg\" align=\"left\">\n",
    "    </th>\n",
    "  </tr>\n",
    "</table>"
   ]
  },
  {
   "cell_type": "code",
   "execution_count": null,
   "metadata": {
    "collapsed": true
   },
   "outputs": [],
   "source": []
  }
 ],
 "metadata": {
  "kernelspec": {
   "display_name": "Python 2",
   "language": "python",
   "name": "python2"
  },
  "language_info": {
   "codemirror_mode": {
    "name": "ipython",
    "version": 2
   },
   "file_extension": ".py",
   "mimetype": "text/x-python",
   "name": "python",
   "nbconvert_exporter": "python",
   "pygments_lexer": "ipython2",
   "version": "2.7.11"
  }
 },
 "nbformat": 4,
 "nbformat_minor": 0
}