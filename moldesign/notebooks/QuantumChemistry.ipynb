{
 "cells": [
  {
   "cell_type": "code",
   "execution_count": null,
   "metadata": {
    "collapsed": false,
    "scrolled": true
   },
   "outputs": [],
   "source": [
    "%matplotlib inline\n",
    "import numpy as np\n",
    "from matplotlib.pylab import *\n",
    "\n",
    "import moldesign as mdt\n",
    "from moldesign import units as u"
   ]
  },
  {
   "cell_type": "markdown",
   "metadata": {},
   "source": [
    "<h3>Build a molecule</h3>\n",
    "Let's start by playing with a simple 2-atom (i.e., diatomic) molecule. In this example, it's set to be two hydrogens, but it doesn't have to be - just make sure there's an even number of electrons. Try, for instance, making HeH+ (make sure to set the charge to 1)."
   ]
  },
  {
   "cell_type": "code",
   "execution_count": null,
   "metadata": {
    "collapsed": false
   },
   "outputs": [],
   "source": [
    "atom1 = mdt.Atom('H')\n",
    "atom2 = mdt.Atom('H')\n",
    "atom2.x = 2.0 * u.angstrom\n",
    "h2 = mdt.Molecule([atom1,atom2], name='H2', charge=0)\n",
    "atom1.bond_to(atom2,1)\n",
    "h2.draw()"
   ]
  },
  {
   "cell_type": "markdown",
   "metadata": {},
   "source": [
    "<h3>Run quantum chemistry</h3>\n",
    "Now, we'll use a quantum chemistry model to calculate the electronic state of our molecule. After running the calculation, we'll check out the potential energy and then visualize the molecular orbitals."
   ]
  },
  {
   "cell_type": "code",
   "execution_count": null,
   "metadata": {
    "collapsed": false
   },
   "outputs": [],
   "source": [
    "model = mdt.models.PySCFPotential(theory='hf',basis='6-311g*')\n",
    "h2.set_energy_model(model)\n",
    "h2.calculate()\n",
    "print 'Potential energy:', h2.potential_energy.to(u.eV)\n",
    "h2.draw_orbitals()"
   ]
  },
  {
   "cell_type": "code",
   "execution_count": null,
   "metadata": {
    "collapsed": false
   },
   "outputs": [],
   "source": [
    "minimization = h2.minimize(frame_interval=1)\n",
    "minimization.draw_orbitals()"
   ]
  },
  {
   "cell_type": "markdown",
   "metadata": {},
   "source": [
    "<h3>Scan the potential energy surface</h3>\n",
    "Now, let's look at how the molecule's energy depends on the distance between the two atoms. First, let's create a series of snapshots of the molecule at different positions:"
   ]
  },
  {
   "cell_type": "code",
   "execution_count": null,
   "metadata": {
    "collapsed": false
   },
   "outputs": [],
   "source": [
    "distances = np.arange(0.3,7.0,0.2)*u.angstrom\n",
    "scan = mdt.trajectory.Trajectory(h2)\n",
    "h2.atoms[0].x = 0.0*u.angstrom\n",
    "for r in distances:\n",
    "    h2.atoms[1].x = r\n",
    "    h2.calc_potential_energy()\n",
    "    scan.new_frame(annotation='Separation: %s'%r)"
   ]
  },
  {
   "cell_type": "markdown",
   "metadata": {},
   "source": [
    "Now, we'll plot how the energy and charges on the atoms change with position. For hydrogen, we'll see a potential energy minimum around 0.75 Å - this is the _H<sub>2</sub>_ equilibrium bond length! We can also see, for instance, that the minimum energy at 0.75Å is about 12 eV lower than the energy when we move the atoms far apart - that's the bond energy."
   ]
  },
  {
   "cell_type": "code",
   "execution_count": null,
   "metadata": {
    "collapsed": false
   },
   "outputs": [],
   "source": [
    "plot(distances,scan.potential_energy)\n",
    "grid(); xlabel('separation / ang'); ylabel('energy / eV')\n",
    "figure()\n",
    "#plot(distances, scan.mulliken[:,0], label='atom 1 partial charge')\n",
    "#plot(distances, scan.mulliken[:,1], label='atom 2 partial charge')\n",
    "grid(); xlabel('separation / ang'); ylabel('partial charge'); legend()"
   ]
  },
  {
   "cell_type": "markdown",
   "metadata": {},
   "source": [
    "We can also look at what the electronic orbitals are doing as we pull the atoms apart."
   ]
  },
  {
   "cell_type": "code",
   "execution_count": null,
   "metadata": {
    "collapsed": false
   },
   "outputs": [],
   "source": [
    "scan.draw_orbitals()"
   ]
  },
  {
   "cell_type": "markdown",
   "metadata": {},
   "source": [
    "<h3>Something organic</h3>\n",
    "Let's move on to <a href=\"https://en.wikipedia.org/wiki/1,3-Butadiene\">butadiene</a>, something a little bigger. We'll build the molecule using a <a href=\"https://en.wikipedia.org/wiki/Simplified_molecular-input_line-entry_system\">SMILES string</a> (C=CC=C), associate a model with it, and then minimize its energy.\n",
    "\n",
    "The visualization, by default, will show you the HOMO orbital. Try setting the \"Orbital isovalue\" to 0 to see the nodal planes (i.e., the places where the wavefunction value crosses 0)."
   ]
  },
  {
   "cell_type": "code",
   "execution_count": null,
   "metadata": {
    "collapsed": true
   },
   "outputs": [],
   "source": [
    "mol.draw()"
   ]
  },
  {
   "cell_type": "code",
   "execution_count": null,
   "metadata": {
    "collapsed": false
   },
   "outputs": [],
   "source": [
    "mol = mdt.from_smiles('C=CC=C')\n",
    "mol.set_energy_model(mdt.models.RHF(basis='3-21g'))\n",
    "result = mol.calculate(['potential_energy','orbitals'], wait=True)\n",
    "print 'Potential energy:',result.potential_energy.to(u.kcalpermol)\n",
    "mol.draw_orbitals()"
   ]
  },
  {
   "cell_type": "markdown",
   "metadata": {},
   "source": [
    "Now, let's scan through an internal coordinate, then minimize it."
   ]
  },
  {
   "cell_type": "code",
   "execution_count": null,
   "metadata": {
    "collapsed": true
   },
   "outputs": [],
   "source": [
    "mdt.ui.BondSelector(mol)"
   ]
  },
  {
   "cell_type": "code",
   "execution_count": null,
   "metadata": {
    "collapsed": false
   },
   "outputs": [],
   "source": [
    "traj = mdt.Trajectory(mol)\n",
    "traj.new_frame()\n",
    "for angle in np.arange(180, 360.0, 5.0)*u.degrees:\n",
    "    mdt.set_dihedral(mol.atoms[0], mol.atoms[1], mol.atoms[2], mol.atoms[3], angle)\n",
    "    mdt.set_dihedral(mol.atoms[1], mol.atoms[2], mol.atoms[3], mol.atoms[9], (angle-180.0*u.degrees)/3.0)\n",
    "    mol.calculate()\n",
    "    traj.new_frame()\n",
    "traj.draw_orbitals()"
   ]
  },
  {
   "cell_type": "code",
   "execution_count": null,
   "metadata": {
    "collapsed": false
   },
   "outputs": [],
   "source": [
    "mintraj = mol.minimize(nsteps=40, frame_interval=1)"
   ]
  },
  {
   "cell_type": "code",
   "execution_count": null,
   "metadata": {
    "collapsed": false
   },
   "outputs": [],
   "source": [
    "mintraj = mol.minimize(nsteps=40, frame_interval=1)\n",
    "newtraj = mdt.Trajectory(mol)\n",
    "newtraj.frames = traj.frames + mintraj.frames\n",
    "plot(newtraj.potential_energy); ylabel('energy / eV'); grid()\n",
    "newtraj.draw_orbitals()"
   ]
  },
  {
   "cell_type": "code",
   "execution_count": null,
   "metadata": {
    "collapsed": false
   },
   "outputs": [],
   "source": [
    "newtraj.property_keys"
   ]
  },
  {
   "cell_type": "markdown",
   "metadata": {},
   "source": [
    "# Other Features"
   ]
  },
  {
   "cell_type": "markdown",
   "metadata": {},
   "source": [
    "### Symmetry\n",
    "You can use buckyball's symmetrization tools to build symmetric molecules, which can often lead to huge improvements in computational efficiency.\n",
    "\n",
    "First, let's look at the simplest possible organic molecule, methane. Its simplicity actually leads to some very complex symmetry."
   ]
  },
  {
   "cell_type": "code",
   "execution_count": null,
   "metadata": {
    "collapsed": false
   },
   "outputs": [],
   "source": [
    "methane = mdt.from_name('methane')\n",
    "mdt.symmetry.Symmetrizer(methane)"
   ]
  },
  {
   "cell_type": "markdown",
   "metadata": {},
   "source": [
    "The list of items on the right is the list of individual symmetry elements - for methane, there are a lot. Click on one to see it illustrated in 3D. Larger molecules will generally have far less symmetry.\n",
    "\n",
    "Let's take a look at ethane. We'll add some noise to the molecule's coordinates to destroy exact symmetry."
   ]
  },
  {
   "cell_type": "code",
   "execution_count": null,
   "metadata": {
    "collapsed": false
   },
   "outputs": [],
   "source": [
    "ethane = mdt.from_smiles('CC')\n",
    "for atom in ethane.atoms: atom.position += 0.1 * u.angstrom * np.random.random(3)\n",
    "mdt.symmetry.Symmetrizer(ethane)"
   ]
  },
  {
   "cell_type": "markdown",
   "metadata": {},
   "source": [
    "You can use the \"symmetrize\" button to impose individual symmetry elements exactly."
   ]
  },
  {
   "cell_type": "markdown",
   "metadata": {},
   "source": [
    "### Introspection\n",
    "You can dive deeply into the quantum wavefunction results by examining the `h2.electronic_state` object. For instance, we can verify that the MO basis diagonalizes the Fock matrix:"
   ]
  },
  {
   "cell_type": "code",
   "execution_count": null,
   "metadata": {
    "collapsed": false
   },
   "outputs": [],
   "source": [
    "fock_ao = h2.electronic_state.fock_ao\n",
    "mos_in_ao = h2.electronic_state.molecular_orbitals\n",
    "\n",
    "matshow( h2.electronic_state.orbitals.canonical.fock )\n",
    "title('Fock matrix in canonical MO basis'); cb = colorbar()\n",
    "cb.set_label('energy / eV')\n",
    "\n",
    "matshow( h2.electronic_state.orbitals.atomic.fock )\n",
    "title('Fock matrix in atomic orbital basis'); cb = colorbar()\n",
    "cb.set_label('energy / eV')"
   ]
  }
 ],
 "metadata": {
  "kernelspec": {
   "display_name": "Python 2",
   "language": "python",
   "name": "python2"
  },
  "language_info": {
   "codemirror_mode": {
    "name": "ipython",
    "version": 2
   },
   "file_extension": ".py",
   "mimetype": "text/x-python",
   "name": "python",
   "nbconvert_exporter": "python",
   "pygments_lexer": "ipython2",
   "version": "2.7.6"
  }
 },
 "nbformat": 4,
 "nbformat_minor": 0
}