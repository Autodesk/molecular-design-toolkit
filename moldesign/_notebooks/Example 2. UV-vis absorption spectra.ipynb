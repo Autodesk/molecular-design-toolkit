{
 "cells": [
  {
   "cell_type": "markdown",
   "metadata": {},
   "source": [
    "<span style=\"float:right\"><a href=\"http://moldesign.bionano.autodesk.com/\" target=\"_blank\" title=\"About\">About</a>&nbsp;&nbsp;&nbsp;&nbsp;&nbsp;&nbsp;<a href=\"https://github.com/autodesk/molecular-design-toolkit/issues\" target=\"_blank\" title=\"Issues\">Issues</a>&nbsp;&nbsp;&nbsp;&nbsp;&nbsp;&nbsp;<a href=\"http://bionano.autodesk.com/MolecularDesignToolkit/explore.html\" target=\"_blank\" title=\"Tutorials\">Tutorials</a>&nbsp;&nbsp;&nbsp;&nbsp;&nbsp;&nbsp;<a href=\"http://autodesk.github.io/molecular-design-toolkit/\" target=\"_blank\" title=\"Documentation\">Documentation</a></span>\n",
    "</span>\n",
    "![Molecular Design Toolkit](img/Top.png)\n",
    "<br>\n",
    "\n",
    "<center><h1>Example 2: Using MD sampling to calculate UV-Vis spectra</h1> </center>\n",
    "\n",
    "---\n",
    "\n",
    "This notebook uses basic quantum chemical calculations to calculate the absorption spectra of a small molecule.\n",
    "\n",
    " - _Author_: [Aaron Virshup](https://github.com/avirshup), Autodesk Research<br>\n",
    " - _Created on_: September 23, 2016\n",
    " - _Tags_: excited states, CASSCF, absorption, sampling\n"
   ]
  },
  {
   "cell_type": "code",
   "execution_count": null,
   "metadata": {},
   "outputs": [],
   "source": [
    "%matplotlib inline\n",
    "import numpy as np\n",
    "from matplotlib.pylab import *\n",
    "\n",
    "try: import seaborn  #optional, makes plots look nicer\n",
    "except ImportError: pass\n",
    "\n",
    "import moldesign as mdt\n",
    "from moldesign import units as u"
   ]
  },
  {
   "cell_type": "markdown",
   "metadata": {},
   "source": [
    "Contents\n",
    "=======\n",
    "---\n",
    "   - [Single point](#Single-point)\n",
    "   - [Sampling](#Sampling)\n",
    "   - [Post-processing](#Post-processing)\n",
    "   - [Create spectrum](#Create-spectrum)"
   ]
  },
  {
   "cell_type": "markdown",
   "metadata": {},
   "source": [
    "## Single point\n",
    "\n",
    "Let's start with calculating the vertical excitation energy and oscillator strengths at the ground state minimum (aka Franck-Condon) geometry.\n",
    "\n",
    "Note that the active space and number of included states here is system-specific."
   ]
  },
  {
   "cell_type": "code",
   "execution_count": null,
   "metadata": {},
   "outputs": [],
   "source": [
    "qmmol = mdt.from_name('benzene')\n",
    "qmmol.set_energy_model(mdt.models.CASSCF, active_electrons=6,\n",
    "                       active_orbitals=6, state_average=6, basis='sto-3g')"
   ]
  },
  {
   "cell_type": "code",
   "execution_count": null,
   "metadata": {},
   "outputs": [],
   "source": [
    "properties = qmmol.calculate()"
   ]
  },
  {
   "cell_type": "markdown",
   "metadata": {},
   "source": [
    "This cell print a summary of the possible transitions. \n",
    "\n",
    "Note: you can convert excitation energies directly to nanometers using [Pint](https://pint.readthedocs.io) by calling `energy.to('nm', 'spectroscopy')`."
   ]
  },
  {
   "cell_type": "code",
   "execution_count": null,
   "metadata": {},
   "outputs": [],
   "source": [
    "for fstate in range(1, len(qmmol.properties.state_energies)):\n",
    "    excitation_energy = properties.state_energies[fstate] - properties.state_energies[0]\n",
    "    \n",
    "    print('--- Transition from S0 to S%d ---' % fstate )   \n",
    "    print('Excitation wavelength: %s' % excitation_energy.to('nm', 'spectroscopy'))\n",
    "    print('Oscillator strength: %s' % qmmol.properties.oscillator_strengths[0,fstate])"
   ]
  },
  {
   "cell_type": "markdown",
   "metadata": {},
   "source": [
    "## Sampling\n",
    "\n",
    "Of course, molecular spectra aren't just a set of discrete lines - they're broadened by several mechanisms. We'll treat vibrations here by sampling the molecule's motion on the ground state at 300 Kelvin.\n",
    "\n",
    "To do this, we'll sample its geometries as it moves on the ground state by:\n",
    " 1. Create a copy of the molecule\n",
    " 2. Assign a forcefield (GAFF2/AM1-BCC)\n",
    " 3. Run dynamics for 5 ps, taking a snapshot every 250 fs, for a total of 20 separate geometries."
   ]
  },
  {
   "cell_type": "code",
   "execution_count": null,
   "metadata": {},
   "outputs": [],
   "source": [
    "mdmol = mdt.Molecule(qmmol)\n",
    "mdmol.set_energy_model(mdt.models.GaffSmallMolecule)\n",
    "mdmol.minimize()"
   ]
  },
  {
   "cell_type": "code",
   "execution_count": null,
   "metadata": {},
   "outputs": [],
   "source": [
    "mdmol.set_integrator(mdt.integrators.OpenMMLangevin, frame_interval=250*u.fs,\n",
    "                     timestep=0.5*u.fs, constrain_hbonds=False, remove_rotation=True,\n",
    "                     remove_translation=True, constrain_water=False)\n",
    "mdtraj = mdmol.run(5.0 * u.ps)"
   ]
  },
  {
   "cell_type": "markdown",
   "metadata": {},
   "source": [
    "## Post-processing\n",
    "\n",
    "Next, we calculate the spectrum at each sampled geometry."
   ]
  },
  {
   "cell_type": "code",
   "execution_count": null,
   "metadata": {},
   "outputs": [],
   "source": [
    "post_traj = mdt.Trajectory(qmmol)\n",
    "for frame in mdtraj:\n",
    "    qmmol.positions = frame.positions\n",
    "    qmmol.calculate()\n",
    "    post_traj.new_frame()"
   ]
  },
  {
   "cell_type": "markdown",
   "metadata": {},
   "source": [
    "This cell plots the results - wavelength vs. oscillator strength at each geometry for each transition:"
   ]
  },
  {
   "cell_type": "code",
   "execution_count": null,
   "metadata": {},
   "outputs": [],
   "source": [
    "wavelengths_to_state = []\n",
    "oscillators_to_state = []\n",
    "\n",
    "for i in range(1, len(qmmol.properties.state_energies)):\n",
    "    wavelengths_to_state.append(\n",
    "        (post_traj.state_energies[:,i] - post_traj.potential_energy).to('nm', 'spectroscopy'))\n",
    "    oscillators_to_state.append([o[0,i] for o in post_traj.oscillator_strengths])\n",
    "    \n",
    "for istate, (w,o) in enumerate(zip(wavelengths_to_state, oscillators_to_state)):\n",
    "    plot(w,o, label='S0 -> S%d'%(istate+1),\n",
    "         marker='o', linestyle='none')\n",
    "xlabel('wavelength / nm'); ylabel('oscillator strength'); legend()"
   ]
  },
  {
   "cell_type": "markdown",
   "metadata": {},
   "source": [
    "## Create spectrum\n",
    "\n",
    "We're finally ready to calculate a spectrum - we'll create a histogram of all calculated transition wavelengths over all states, weighted by the oscillator strengths."
   ]
  },
  {
   "cell_type": "code",
   "execution_count": null,
   "metadata": {},
   "outputs": [],
   "source": [
    "from itertools import chain\n",
    "all_wavelengths = u.array(list(chain(*wavelengths_to_state)))\n",
    "all_oscs = u.array(list(chain(*oscillators_to_state)))\n",
    "hist(all_wavelengths, weights=all_oscs, bins=50)\n",
    "xlabel('wavelength / nm')"
   ]
  },
  {
   "cell_type": "code",
   "execution_count": null,
   "metadata": {},
   "outputs": [],
   "source": []
  }
 ],
 "metadata": {
  "kernelspec": {
   "display_name": "Python 3",
   "language": "python",
   "name": "python3"
  },
  "language_info": {
   "codemirror_mode": {
    "name": "ipython",
    "version": 3
   },
   "file_extension": ".py",
   "mimetype": "text/x-python",
   "name": "python",
   "nbconvert_exporter": "python",
   "pygments_lexer": "ipython3"
  }
 },
 "nbformat": 4,
 "nbformat_minor": 1
}