{
 "cells": [
  {
   "cell_type": "markdown",
   "metadata": {},
   "source": [
    "\n",
    "<span style=\"float:right\"><a href=\"http://moldesign.bionano.autodesk.com/\" target=\"_blank\" title=\"About\">About</a>&nbsp;&nbsp;&nbsp;&nbsp;&nbsp;&nbsp;<a href=\"https://forum.bionano.autodesk.com/c/Molecular-Design-Toolkit\" target=\"_blank\" title=\"Forum\">Forum</a>&nbsp;&nbsp;&nbsp;&nbsp;&nbsp;&nbsp;<a href=\"https://github.com/autodesk/molecular-design-toolkit/issues\" target=\"_blank\" title=\"Issues\">Issues</a>&nbsp;&nbsp;&nbsp;&nbsp;&nbsp;&nbsp;<a href=\"http://bionano.autodesk.com/MolecularDesignToolkit/explore.html\" target=\"_blank\" title=\"Tutorials\">Tutorials</a>&nbsp;&nbsp;&nbsp;&nbsp;&nbsp;&nbsp;<a href=\"http://autodesk.github.io/molecular-design-toolkit/\" target=\"_blank\" title=\"Documentation\">Documentation</a></span>\n",
    "</span>\n",
    "![Molecular Design Toolkit](img/Top.png)\n",
    "<br>\n",
    "\n",
    "\n",
    "<center><h1>Tutorial 2: Playing with proteins</h1></center>\n",
    "\n",
    "Here, you'll see how to build, visualize, and simulate a protein structure from the PDB."
   ]
  },
  {
   "cell_type": "code",
   "execution_count": 1,
   "metadata": {
    "ExecuteTime": {
     "end_time": "2017-06-13T23:28:40.807225Z",
     "start_time": "2017-06-13T23:28:33.490754Z"
    }
   },
   "outputs": [
    {
     "name": "stdout",
     "output_type": "stream",
     "text": [
      "PDBFixer could not be imported; using remote docker container\n",
      "PySCF not installed; using remote docker container\n",
      "Reading configuration from /Users/aaronvirshup/.moldesign/moldesign.yml\n"
     ]
    }
   ],
   "source": [
    "import moldesign as mdt\n",
    "from moldesign import units as u\n",
    "\n",
    "%matplotlib inline\n",
    "import numpy as np\n",
    "from matplotlib.pylab import *\n",
    "try: import seaborn\n",
    "except ImportError: pass"
   ]
  },
  {
   "cell_type": "markdown",
   "metadata": {},
   "source": [
    "Contents\n",
    "=======\n",
    "---\n",
    " - [1. Download from PDB](#1.-Download-from-PDB)\n",
    " - [2. Strip water and assign forcefield](#2.-Strip-water-and-assign-forcefield)\n",
    " - [3. Set up energy model and minimize](#3.-Set-up-energy-model-and-minimize)\n",
    " - [4. Add integrator and run dynamics](#4.-Add-integrator-and-run-dynamics)\n",
    " - [5. Some simple analysis](#5.-Some-simple-analysis)"
   ]
  },
  {
   "cell_type": "markdown",
   "metadata": {},
   "source": [
    "# 1. Download from PDB\n",
    "In this example, we'll download `1YU8`, a structure of the Villin Headpiece."
   ]
  },
  {
   "cell_type": "code",
   "execution_count": 2,
   "metadata": {
    "ExecuteTime": {
     "end_time": "2017-06-13T23:28:41.845273Z",
     "start_time": "2017-06-13T23:28:40.812863Z"
    }
   },
   "outputs": [
    {
     "name": "stderr",
     "output_type": "stream",
     "text": [
      "Widget Javascript not detected.  It may not be installed or enabled properly.\n"
     ]
    },
    {
     "data": {
      "application/vnd.jupyter.widget-view+json": {
       "model_id": "d183e61f8d16492a83f7a48cac90c046"
      }
     },
     "metadata": {},
     "output_type": "display_data"
    }
   ],
   "source": [
    "one_yu8 = mdt.from_pdb('1YU8')\n",
    "one_yu8.draw()"
   ]
  },
  {
   "cell_type": "code",
   "execution_count": 3,
   "metadata": {
    "ExecuteTime": {
     "end_time": "2017-06-13T23:28:41.876811Z",
     "start_time": "2017-06-13T23:28:41.846624Z"
    }
   },
   "outputs": [
    {
     "data": {
      "text/markdown": [
       "### Molecule: \"1YU8\" (600 atoms)\n",
       "\n",
       "<a href=\"http://www.rcsb.org/pdb/explore.do?structureId=1YU8\" target=\"_blank\">HIGH-RESOLUTION CRYSTAL STRUCTURES OF VILLIN HEADPIECE AND MUTANTS WITH REDUCED F-ACTIN BINDING ACTIVITY.</a>\n",
       "\n",
       "**Mass**: 8150.00 amu\n",
       "\n",
       "**Formula**: C<sub>325</sub>N<sub>85</sub>O<sub>189</sub>S<sub>1</sub>\n",
       "\n",
       "**Charge**: 0.0 elementary_charge\n",
       "\n",
       "### Residues\n",
       "\n",
       "| chain | protein | dna | rna | unknown | water | solvent |\n",
       "|-|-|-|-|-|-|-|-|\n",
       "| <b>X</b> | 64 |  |  |  | 92 |  ||\n",
       "\n",
       "### Biopolymer chains\n",
       "\n",
       "**X**: <span style=\"word-wrap:break-word;font-family:monospace\"><span title=\"PRO10 (MISSING), chain X\" style=\"color:Red\">P</span><span title=\"THR11 (MISSING), chain X\" style=\"color:Red\">T</span><span title=\"LYS12 (MISSING), chain X\" style=\"color:Red\">K</span><span title=\"LEU13 (idx 0), chain X\">L</span><span title=\"GLU14 (idx 1), chain X\">E</span><span title=\"THR15 (idx 2), chain X\">T</span><span title=\"PHE16 (idx 3), chain X\">F</span><span title=\"PRO17 (idx 4), chain X\">P</span><span title=\"LEU18 (idx 5), chain X\">L</span><span title=\"ASP19 (idx 6), chain X\">D</span><span title=\"VAL20 (idx 7), chain X\">V</span><span title=\"LEU21 (idx 8), chain X\">L</span><span title=\"VAL22 (idx 9), chain X\">V</span><span title=\"ASN23 (idx 10), chain X\">N</span><span title=\"THR24 (idx 11), chain X\">T</span><span title=\"ALA25 (idx 12), chain X\">A</span><span title=\"ALA26 (idx 13), chain X\">A</span><span title=\"GLU27 (idx 14), chain X\">E</span><span title=\"ASP28 (idx 15), chain X\">D</span><span title=\"LEU29 (idx 16), chain X\">L</span><span title=\"PRO30 (idx 17), chain X\">P</span><span title=\"ARG31 (idx 18), chain X\">R</span><span title=\"GLY32 (idx 19), chain X\">G</span><span title=\"VAL33 (idx 20), chain X\">V</span><span title=\"ASP34 (idx 21), chain X\">D</span><span title=\"PRO35 (idx 22), chain X\">P</span><span title=\"SER36 (idx 23), chain X\">S</span><span title=\"ALA37 (idx 24), chain X\">A</span><span title=\"LYS38 (idx 25), chain X\">K</span><span title=\"GLU39 (idx 26), chain X\">E</span><span title=\"ASN40 (idx 27), chain X\">N</span><span title=\"HIS41 (idx 28), chain X\">H</span><span title=\"LEU42 (idx 29), chain X\">L</span><span title=\"SER43 (idx 30), chain X\">S</span><span title=\"ASP44 (idx 31), chain X\">D</span><span title=\"GLU45 (idx 32), chain X\">E</span><span title=\"ASP46 (idx 33), chain X\">D</span><span title=\"PHE47 (idx 34), chain X\">F</span><span title=\"LYS48 (idx 35), chain X\">K</span><span title=\"ALA49 (idx 36), chain X\">A</span><span title=\"VAL50 (idx 37), chain X\">V</span><span title=\"PHE51 (idx 38), chain X\">F</span><span title=\"GLY52 (idx 39), chain X\">G</span><span title=\"MET53 (idx 40), chain X\">M</span><span title=\"THR54 (idx 41), chain X\">T</span><span title=\"ARG55 (idx 42), chain X\">R</span><span title=\"SER56 (idx 43), chain X\">S</span><span title=\"ALA57 (idx 44), chain X\">A</span><span title=\"PHE58 (idx 45), chain X\">F</span><span title=\"ALA59 (idx 46), chain X\">A</span><span title=\"ASN60 (idx 47), chain X\">N</span><span title=\"LEU61 (idx 48), chain X\">L</span><span title=\"PRO62 (idx 49), chain X\">P</span><span title=\"LEU63 (idx 50), chain X\">L</span><span title=\"TRP64 (idx 51), chain X\">W</span><span title=\"LYS65 (idx 52), chain X\">K</span><span title=\"GLN66 (idx 53), chain X\">Q</span><span title=\"GLN67 (idx 54), chain X\">Q</span><span title=\"ASN68 (idx 55), chain X\">N</span><span title=\"LEU69 (idx 56), chain X\">L</span><span title=\"LYS70 (idx 57), chain X\">K</span><span title=\"LYS71 (idx 58), chain X\">K</span><span title=\"GLU72 (idx 59), chain X\">E</span><span title=\"LYS73 (idx 60), chain X\">K</span><span title=\"GLY74 (idx 61), chain X\">G</span><span title=\"LEU75 (idx 62), chain X\">L</span><span title=\"PHE76 (idx 63), chain X\">F</span></span>"
      ],
      "text/plain": [
       "<1YU8 (Molecule), 600 atoms>"
      ]
     },
     "execution_count": 3,
     "metadata": {},
     "output_type": "execute_result"
    }
   ],
   "source": [
    "one_yu8"
   ]
  },
  {
   "cell_type": "markdown",
   "metadata": {},
   "source": [
    "# 2. Strip water and assign forcefield"
   ]
  },
  {
   "cell_type": "code",
   "execution_count": 4,
   "metadata": {
    "ExecuteTime": {
     "end_time": "2017-06-13T23:28:52.606104Z",
     "start_time": "2017-06-13T23:28:52.272130Z"
    },
    "collapsed": true
   },
   "outputs": [],
   "source": [
    "headpiece = mdt.Molecule([res for res in one_yu8.residues if res.type == 'protein'])"
   ]
  },
  {
   "cell_type": "code",
   "execution_count": 7,
   "metadata": {
    "ExecuteTime": {
     "end_time": "2017-06-13T23:29:42.137749Z",
     "start_time": "2017-06-13T23:29:35.782660Z"
    }
   },
   "outputs": [
    {
     "name": "stdout",
     "output_type": "stream",
     "text": [
      "Connecting to docker host at... done\n",
      "<pyccc.ui.JobStatusDisplay object at 0x115b88cc0>\n",
      "Forcefield assignment: Success\n"
     ]
    }
   ],
   "source": [
    "ff = mdt.forcefields.DefaultAmber()\n",
    "protein = ff.create_prepped_molecule(headpiece)"
   ]
  },
  {
   "cell_type": "markdown",
   "metadata": {},
   "source": [
    "# 3. Set up energy model and minimize"
   ]
  },
  {
   "cell_type": "code",
   "execution_count": 8,
   "metadata": {
    "ExecuteTime": {
     "end_time": "2017-06-13T23:29:47.198661Z",
     "start_time": "2017-06-13T23:29:47.184144Z"
    },
    "collapsed": true
   },
   "outputs": [],
   "source": [
    "protein.set_energy_model(mdt.models.OpenMMPotential, implicit_solvent='obc')"
   ]
  },
  {
   "cell_type": "code",
   "execution_count": 9,
   "metadata": {
    "ExecuteTime": {
     "end_time": "2017-06-13T23:29:52.005417Z",
     "start_time": "2017-06-13T23:29:47.993471Z"
    }
   },
   "outputs": [
    {
     "name": "stdout",
     "output_type": "stream",
     "text": [
      "Created OpenMM kernel (Platform: OpenCL)\n",
      "Reduced energy from -99.2682075377658 eV to -110.70757228527638 eV\n"
     ]
    }
   ],
   "source": [
    "mintraj = protein.minimize()"
   ]
  },
  {
   "cell_type": "code",
   "execution_count": 10,
   "metadata": {
    "ExecuteTime": {
     "end_time": "2017-06-13T23:29:53.689080Z",
     "start_time": "2017-06-13T23:29:53.020229Z"
    }
   },
   "outputs": [
    {
     "data": {
      "application/vnd.jupyter.widget-view+json": {
       "model_id": "555167d7b2ec4215b781f4bc21eb8ff9"
      }
     },
     "metadata": {},
     "output_type": "display_data"
    }
   ],
   "source": [
    "mintraj.draw(display=False)"
   ]
  },
  {
   "cell_type": "markdown",
   "metadata": {},
   "source": [
    "# 4. Add integrator and run dynamics"
   ]
  },
  {
   "cell_type": "code",
   "execution_count": 11,
   "metadata": {
    "ExecuteTime": {
     "end_time": "2017-06-13T23:30:09.795801Z",
     "start_time": "2017-06-13T23:30:09.781744Z"
    },
    "collapsed": true
   },
   "outputs": [],
   "source": [
    "protein.set_integrator(mdt.integrators.OpenMMLangevin,\n",
    "                       temperature=300*u.kelvin,\n",
    "                       timestep=2.0*u.fs,\n",
    "                       frame_interval=2.0*u.ps)"
   ]
  },
  {
   "cell_type": "code",
   "execution_count": 12,
   "metadata": {
    "ExecuteTime": {
     "end_time": "2017-06-13T23:31:01.506024Z",
     "start_time": "2017-06-13T23:30:10.531366Z"
    }
   },
   "outputs": [
    {
     "name": "stdout",
     "output_type": "stream",
     "text": [
      "Created OpenMM kernel (Platform: OpenCL)\n",
      "time / fs                 potential / eV                  kinetic / eV                    T / kelvin\n",
      "0.0                    -110.707571364464                           0.0                           0.0\n",
      "1998.0000000000014            -81.75115507028912            29.124189005182803             267.0661446907951\n",
      "3995.9999999997813            -76.46193567913342            32.901638023671026            301.70500608378194\n",
      "5993.999999999562            -76.46793927932444             33.63816605760306            308.45890067098964\n",
      "7991.999999999341            -77.50788540420635             34.74905400282512            318.64564134421965\n",
      "9990.000000000004            -75.63011217387931             33.46861699668099             306.9041513171676\n",
      "11988.000000000671             -77.7501635867188             32.45585512702218             297.6172177661084\n",
      "13986.000000001339            -77.46865308426227              33.0564295626339            303.12443031338756\n",
      "15984.000000002006            -77.00760933732988             32.79459844886624            300.72346299026026\n",
      "17982.00000000091             -77.1127820400727            33.841874478280005            310.32688822393277\n",
      "19979.999999999804            -78.10567548222586             34.14605519269467             313.1161975047357\n",
      "21977.999999998694            -75.42900480872319            34.439133630453824            315.80369992584724\n",
      "23975.999999997588            -76.55756649660458             32.76507632927039             300.4527478585133\n",
      "25973.99999999648            -78.79508664629053             33.19174148225794            304.36522821846467\n",
      "27971.999999995372            -76.29059917302453             32.95141897637996             302.1614928589723\n",
      "29969.999999994267              -76.914069326234             34.15895876083294            313.23452204228175\n",
      "31967.999999993157            -76.67546010839622              36.2282115621162             332.2093806359753\n",
      "33965.99999999554            -78.94194051942326             32.71065006239817             299.9536639780697\n",
      "35963.999999997985            -78.00472029899505             35.14767971334471            322.30100258583747\n",
      "37962.00000000042            -78.78203729997847             36.46221727919934             334.3551916209912\n",
      "39960.00000000287             -76.1389904637887             35.40092653414118             324.6232527289497\n",
      "41958.00000000531            -78.02616884257824             33.37581138001133            306.05313231556687\n",
      "43956.00000000775            -76.40665284224501             34.63853785062389             317.6322183545121\n",
      "45954.00000001019            -78.98412829434963            33.957248858222336              311.384860716894\n",
      "47952.00000001263            -77.47871406832775            34.168218365769384             313.3194317711431\n",
      "49950.000000015076            -76.89508087800016             34.58906016801684            317.17851253836903\n",
      "49998.00000001513            -77.07563364825529              33.5694583033563             307.8288568598545\n",
      "49998.00000001513            -77.07563364825529              33.5694583033563             307.8288568598545\n",
      "Done - integrated \"Molecule: Unnamed molecule from OpenMM copy\" from 0.0 fs to 49998.000000015134 fs\n"
     ]
    }
   ],
   "source": [
    "traj = protein.run(50*u.ps)"
   ]
  },
  {
   "cell_type": "code",
   "execution_count": 13,
   "metadata": {
    "ExecuteTime": {
     "end_time": "2017-06-13T23:31:09.441051Z",
     "start_time": "2017-06-13T23:31:01.507595Z"
    }
   },
   "outputs": [
    {
     "data": {
      "application/vnd.jupyter.widget-view+json": {
       "model_id": "d5c2f89df5234b14b0f9093898d0247f"
      }
     },
     "metadata": {},
     "output_type": "display_data"
    },
    {
     "name": "stderr",
     "output_type": "stream",
     "text": [
      "IOPub data rate exceeded.\n",
      "The notebook server will temporarily stop sending output\n",
      "to the client in order to avoid crashing it.\n",
      "To change this limit, set the config variable\n",
      "`--NotebookApp.iopub_data_rate_limit`.\n"
     ]
    }
   ],
   "source": [
    "traj.draw()"
   ]
  },
  {
   "cell_type": "markdown",
   "metadata": {},
   "source": [
    "# 5. Some simple analysis\n",
    "As in tutorial 1, tutorial objects permit a range of timeseries-based analyses."
   ]
  },
  {
   "cell_type": "code",
   "execution_count": 14,
   "metadata": {
    "ExecuteTime": {
     "end_time": "2017-06-13T23:31:26.217029Z",
     "start_time": "2017-06-13T23:31:25.959304Z"
    }
   },
   "outputs": [
    {
     "data": {
      "text/plain": [
       "<matplotlib.text.Text at 0x115368160>"
      ]
     },
     "execution_count": 14,
     "metadata": {},
     "output_type": "execute_result"
    },
    {
     "data": {
      "image/png": "[encoded data removed]",
      "text/plain": [
       "<matplotlib.figure.Figure at 0x115701e80>"
      ]
     },
     "metadata": {},
     "output_type": "display_data"
    }
   ],
   "source": [
    "plot(traj.time, traj.kinetic_energy)\n",
    "xlabel('time / %s' % u.default.time); ylabel('energy / %s' % u.default.energy)"
   ]
  },
  {
   "cell_type": "code",
   "execution_count": 21,
   "metadata": {
    "ExecuteTime": {
     "end_time": "2017-06-13T23:32:10.805142Z",
     "start_time": "2017-06-13T23:32:10.755491Z"
    }
   },
   "outputs": [
    {
     "data": {
      "text/markdown": [
       "### Molecule: \"Unnamed molecule from OpenMM copy\" (1013 atoms)\n",
       "\n",
       "**Mass**: 7187.10 amu\n",
       "\n",
       "**Formula**: C<sub>325</sub>H<sub>505</sub>N<sub>85</sub>O<sub>97</sub>S<sub>1</sub>\n",
       "\n",
       "**Charge**: 0.0 elementary_charge\n",
       "\n",
       "**Potential model**: <moldesign.models.openmm.OpenMMPotential object at 0x119958208>\n",
       "\n",
       "**Integrator**: <moldesign.integrators.openmm.OpenMMLangevin object at 0x115c92240>\n",
       "\n",
       "### Residues\n",
       "\n",
       "| chain | protein | dna | rna | unknown | water | solvent |\n",
       "|-|-|-|-|-|-|-|-|\n",
       "| <b>X</b> | 64 |  |  |  |  |  ||\n",
       "\n",
       "### Biopolymer chains\n",
       "\n",
       "**X**: <span style=\"word-wrap:break-word;font-family:monospace\"><span title=\"LEU13 (idx 0), chain X\">L</span><span title=\"GLU14 (idx 1), chain X\">E</span><span title=\"THR15 (idx 2), chain X\">T</span><span title=\"PHE16 (idx 3), chain X\">F</span><span title=\"PRO17 (idx 4), chain X\">P</span><span title=\"LEU18 (idx 5), chain X\">L</span><span title=\"ASP19 (idx 6), chain X\">D</span><span title=\"VAL20 (idx 7), chain X\">V</span><span title=\"LEU21 (idx 8), chain X\">L</span><span title=\"VAL22 (idx 9), chain X\">V</span><span title=\"ASN23 (idx 10), chain X\">N</span><span title=\"THR24 (idx 11), chain X\">T</span><span title=\"ALA25 (idx 12), chain X\">A</span><span title=\"ALA26 (idx 13), chain X\">A</span><span title=\"GLU27 (idx 14), chain X\">E</span><span title=\"ASP28 (idx 15), chain X\">D</span><span title=\"LEU29 (idx 16), chain X\">L</span><span title=\"PRO30 (idx 17), chain X\">P</span><span title=\"ARG31 (idx 18), chain X\">R</span><span title=\"GLY32 (idx 19), chain X\">G</span><span title=\"VAL33 (idx 20), chain X\">V</span><span title=\"ASP34 (idx 21), chain X\">D</span><span title=\"PRO35 (idx 22), chain X\">P</span><span title=\"SER36 (idx 23), chain X\">S</span><span title=\"ALA37 (idx 24), chain X\">A</span><span title=\"LYS38 (idx 25), chain X\">K</span><span title=\"GLU39 (idx 26), chain X\">E</span><span title=\"ASN40 (idx 27), chain X\">N</span><span title=\"HIS41 (idx 28), chain X\">H</span><span title=\"LEU42 (idx 29), chain X\">L</span><span title=\"SER43 (idx 30), chain X\">S</span><span title=\"ASP44 (idx 31), chain X\">D</span><span title=\"GLU45 (idx 32), chain X\">E</span><span title=\"ASP46 (idx 33), chain X\">D</span><span title=\"PHE47 (idx 34), chain X\">F</span><span title=\"LYS48 (idx 35), chain X\">K</span><span title=\"ALA49 (idx 36), chain X\">A</span><span title=\"VAL50 (idx 37), chain X\">V</span><span title=\"PHE51 (idx 38), chain X\">F</span><span title=\"GLY52 (idx 39), chain X\">G</span><span title=\"MET53 (idx 40), chain X\">M</span><span title=\"THR54 (idx 41), chain X\">T</span><span title=\"ARG55 (idx 42), chain X\">R</span><span title=\"SER56 (idx 43), chain X\">S</span><span title=\"ALA57 (idx 44), chain X\">A</span><span title=\"PHE58 (idx 45), chain X\">F</span><span title=\"ALA59 (idx 46), chain X\">A</span><span title=\"ASN60 (idx 47), chain X\">N</span><span title=\"LEU61 (idx 48), chain X\">L</span><span title=\"PRO62 (idx 49), chain X\">P</span><span title=\"LEU63 (idx 50), chain X\">L</span><span title=\"TRP64 (idx 51), chain X\">W</span><span title=\"LYS65 (idx 52), chain X\">K</span><span title=\"GLN66 (idx 53), chain X\">Q</span><span title=\"GLN67 (idx 54), chain X\">Q</span><span title=\"ASN68 (idx 55), chain X\">N</span><span title=\"LEU69 (idx 56), chain X\">L</span><span title=\"LYS70 (idx 57), chain X\">K</span><span title=\"LYS71 (idx 58), chain X\">K</span><span title=\"GLU72 (idx 59), chain X\">E</span><span title=\"LYS73 (idx 60), chain X\">K</span><span title=\"GLY74 (idx 61), chain X\">G</span><span title=\"LEU75 (idx 62), chain X\">L</span><span title=\"PHE76 (idx 63), chain X\">F</span></span>"
      ],
      "text/plain": [
       "<Unnamed molecule from OpenMM copy (Molecule), 1013 atoms>"
      ]
     },
     "execution_count": 21,
     "metadata": {},
     "output_type": "execute_result"
    }
   ],
   "source": [
    "protein"
   ]
  },
  {
   "cell_type": "code",
   "execution_count": 25,
   "metadata": {
    "ExecuteTime": {
     "end_time": "2017-06-13T23:33:29.192069Z",
     "start_time": "2017-06-13T23:33:29.007736Z"
    }
   },
   "outputs": [
    {
     "data": {
      "text/plain": [
       "<matplotlib.text.Text at 0x11c38cf60>"
      ]
     },
     "execution_count": 25,
     "metadata": {},
     "output_type": "execute_result"
    },
    {
     "data": {
      "image/png": "[encoded data removed]",
      "text/plain": [
       "<matplotlib.figure.Figure at 0x11c39a978>"
      ]
     },
     "metadata": {},
     "output_type": "display_data"
    }
   ],
   "source": [
    "myres = protein.chains[0].residues['PHE47']\n",
    "plot(traj.time, traj.dihedral(myres['CG'], myres['CB']).to(u.degrees))\n",
    "title('dihedral angle vs time')\n",
    "xlabel('time / %s' % u.default.time); ylabel('angle / degrees')"
   ]
  },
  {
   "cell_type": "code",
   "execution_count": 27,
   "metadata": {
    "ExecuteTime": {
     "end_time": "2017-06-13T23:33:37.486802Z",
     "start_time": "2017-06-13T23:33:37.302233Z"
    }
   },
   "outputs": [
    {
     "data": {
      "image/png": "[encoded data removed]",
      "text/plain": [
       "<matplotlib.figure.Figure at 0x11c483710>"
      ]
     },
     "metadata": {},
     "output_type": "display_data"
    }
   ],
   "source": [
    "plot(traj.time, traj.distance(myres['CG'], myres['CB']))\n",
    "plt.title('bond length vs time')\n",
    "xlabel('time / %s' % u.default.time); ylabel('distance / %s' % u.default.length)"
   ]
  },
  {
   "cell_type": "code",
   "execution_count": null,
   "metadata": {
    "collapsed": true
   },
   "outputs": [],
   "source": []
  }
 ],
 "metadata": {
  "kernelspec": {
   "display_name": "Python 3",
   "language": "python",
   "name": "python3"
  },
  "language_info": {
   "codemirror_mode": {
    "name": "ipython",
    "version": 3
   },
   "file_extension": ".py",
   "mimetype": "text/x-python",
   "name": "python",
   "nbconvert_exporter": "python",
   "pygments_lexer": "ipython3",
   "version": "3.5.2"
  }
 },
 "nbformat": 4,
 "nbformat_minor": 1
}
