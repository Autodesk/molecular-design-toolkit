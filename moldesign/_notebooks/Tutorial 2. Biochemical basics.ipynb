{
 "cells": [
  {
   "cell_type": "markdown",
   "metadata": {},
   "source": [
    "<span style=\"float:right\"><a href=\"http://moldesign.bionano.autodesk.com/\" target=\"_blank\" title=\"About\">About</a>&nbsp;&nbsp;&nbsp;&nbsp;&nbsp;&nbsp;<a href=\"https://github.com/autodesk/molecular-design-toolkit/issues\" target=\"_blank\" title=\"Issues\">Issues</a>&nbsp;&nbsp;&nbsp;&nbsp;&nbsp;&nbsp;<a href=\"http://bionano.autodesk.com/MolecularDesignToolkit/explore.html\" target=\"_blank\" title=\"Tutorials\">Tutorials</a>&nbsp;&nbsp;&nbsp;&nbsp;&nbsp;&nbsp;<a href=\"http://autodesk.github.io/molecular-design-toolkit/\" target=\"_blank\" title=\"Documentation\">Documentation</a></span>\n",
    "</span>\n",
    "![Molecular Design Toolkit](img/Top.png)\n",
    "<br>\n",
    "\n",
    "\n",
    "<center><h1>Tutorial 2: Playing with proteins</h1></center>\n",
    "\n",
    "Here, you'll see how to build, visualize, and simulate a protein structure from the PDB."
   ]
  },
  {
   "cell_type": "code",
   "execution_count": null,
   "metadata": {},
   "outputs": [],
   "source": [
    "# First, import MDT\n",
    "import moldesign as mdt\n",
    "from moldesign import units as u\n",
    "\n",
    "# This sets up your notebook to draw inline plots:\n",
    "%matplotlib inline\n",
    "import numpy as np\n",
    "from matplotlib.pylab import *\n",
    "\n",
    "try: import seaborn\n",
    "except ImportError: pass"
   ]
  },
  {
   "cell_type": "markdown",
   "metadata": {},
   "source": [
    "Contents\n",
    "=======\n",
    "---\n",
    " - [1. Download from PDB](#1.-Download-from-PDB)\n",
    " - [2. Strip water and assign forcefield](#2.-Strip-water-and-assign-forcefield)\n",
    " - [3. Set up energy model and minimize](#3.-Set-up-energy-model-and-minimize)\n",
    " - [4. Add integrator and run dynamics](#4.-Add-integrator-and-run-dynamics)\n",
    " - [5. Some simple analysis](#5.-Some-simple-analysis)"
   ]
  },
  {
   "cell_type": "markdown",
   "metadata": {},
   "source": [
    "# 1. Download from PDB\n",
    "In this example, we'll look at `1YU8`, a crystal structure of the Villin Headpiece."
   ]
  },
  {
   "cell_type": "code",
   "execution_count": null,
   "metadata": {},
   "outputs": [],
   "source": [
    "one_yu8 = mdt.read('data/1yu8.pdb')\n",
    "one_yu8.draw()"
   ]
  },
  {
   "cell_type": "markdown",
   "metadata": {},
   "source": [
    "By evaluating the `one_yu8` variable, you can get some basic biochemical information, including metadata about missing residues in this crystal structure (hover over the amino acid sequence to get more information)."
   ]
  },
  {
   "cell_type": "code",
   "execution_count": null,
   "metadata": {},
   "outputs": [],
   "source": [
    "one_yu8"
   ]
  },
  {
   "cell_type": "markdown",
   "metadata": {},
   "source": [
    "# 2. Strip water and assign forcefield\n",
    "\n",
    "Next, we isolate the protein and prepare it using the default Amber forcefield parameters."
   ]
  },
  {
   "cell_type": "code",
   "execution_count": null,
   "metadata": {},
   "outputs": [],
   "source": [
    "headpiece = mdt.Molecule([res for res in one_yu8.residues if res.type == 'protein'])"
   ]
  },
  {
   "cell_type": "code",
   "execution_count": null,
   "metadata": {},
   "outputs": [],
   "source": [
    "ff = mdt.forcefields.DefaultAmber()\n",
    "protein = ff.create_prepped_molecule(headpiece)"
   ]
  },
  {
   "cell_type": "markdown",
   "metadata": {},
   "source": [
    "# 3. Set up energy model and minimize\n",
    "\n",
    "Next, we'll set up a full molecular mechanics model using OpenMM, then run a minimization and visualize it."
   ]
  },
  {
   "cell_type": "code",
   "execution_count": null,
   "metadata": {},
   "outputs": [],
   "source": [
    "protein.set_energy_model(mdt.models.OpenMMPotential)"
   ]
  },
  {
   "cell_type": "code",
   "execution_count": null,
   "metadata": {},
   "outputs": [],
   "source": [
    "protein.configure_methods()"
   ]
  },
  {
   "cell_type": "code",
   "execution_count": null,
   "metadata": {},
   "outputs": [],
   "source": [
    "mintraj = protein.minimize()"
   ]
  },
  {
   "cell_type": "code",
   "execution_count": null,
   "metadata": {},
   "outputs": [],
   "source": [
    "mintraj.draw()"
   ]
  },
  {
   "cell_type": "markdown",
   "metadata": {},
   "source": [
    "# 4. Add integrator and run dynamics"
   ]
  },
  {
   "cell_type": "code",
   "execution_count": null,
   "metadata": {},
   "outputs": [],
   "source": [
    "protein.set_integrator(mdt.integrators.OpenMMLangevin,\n",
    "                       temperature=300*u.kelvin,\n",
    "                       timestep=2.0*u.fs,\n",
    "                       frame_interval=2.0*u.ps)"
   ]
  },
  {
   "cell_type": "code",
   "execution_count": null,
   "metadata": {},
   "outputs": [],
   "source": [
    "traj = protein.run(20*u.ps)"
   ]
  },
  {
   "cell_type": "code",
   "execution_count": null,
   "metadata": {},
   "outputs": [],
   "source": [
    "traj.draw()"
   ]
  },
  {
   "cell_type": "markdown",
   "metadata": {},
   "source": [
    "# 5. Some simple analysis\n",
    "As in tutorial 1, tutorial objects permit a range of timeseries-based analyses."
   ]
  },
  {
   "cell_type": "code",
   "execution_count": null,
   "metadata": {},
   "outputs": [],
   "source": [
    "# Plot kinetic energy vs. time\n",
    "plot(traj.time, traj.kinetic_energy)\n",
    "xlabel('time / %s' % u.default.time); ylabel('energy / %s' % u.default.energy)"
   ]
  },
  {
   "cell_type": "code",
   "execution_count": null,
   "metadata": {},
   "outputs": [],
   "source": [
    "# Plot time evolution of PHE47's sidechain rotation\n",
    "residue = protein.chains[0].residues['PHE47']\n",
    "plot(traj.time, traj.dihedral(residue['CA'], residue['CB']).to(u.degrees))\n",
    "\n",
    "title('sidechain rotation vs time')\n",
    "xlabel('time / %s' % u.default.time); ylabel(u'angle / º')"
   ]
  },
  {
   "cell_type": "code",
   "execution_count": null,
   "metadata": {},
   "outputs": [],
   "source": [
    "# Plot distance between C-terminus and N-terminus\n",
    "chain = protein.chains[0]\n",
    "plot(traj.time, traj.distance(chain.n_terminal.atoms['N'],\n",
    "                              chain.c_terminal.atoms['C']))\n",
    "\n",
    "plt.title('bond length vs time')\n",
    "xlabel('time / %s' % u.default.time); ylabel('distance / %s' % u.default.length)"
   ]
  }
 ],
 "metadata": {
  "kernelspec": {
   "display_name": "Python 3",
   "language": "python",
   "name": "python3"
  },
  "language_info": {
   "codemirror_mode": {
    "name": "ipython",
    "version": 3
   },
   "file_extension": ".py",
   "mimetype": "text/x-python",
   "name": "python",
   "nbconvert_exporter": "python",
   "pygments_lexer": "ipython3"
  }
 },
 "nbformat": 4,
 "nbformat_minor": 1
}