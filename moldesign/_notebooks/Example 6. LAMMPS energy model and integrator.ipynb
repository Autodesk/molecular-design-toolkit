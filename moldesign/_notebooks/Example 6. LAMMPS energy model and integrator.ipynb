{
 "cells": [
  {
   "cell_type": "code",
   "execution_count": null,
   "metadata": {},
   "outputs": [],
   "source": [
    "import moldesign as mdt\n",
    "from moldesign import units as u\n",
    "import ipywidgets as ipy"
   ]
  },
  {
   "cell_type": "code",
   "execution_count": null,
   "metadata": {},
   "outputs": [],
   "source": [
    "from moldesign.models.lammps_model import LAMMPSPotential\n",
    "import parmed as med\n",
    "# mdt.configure()"
   ]
  },
  {
   "cell_type": "code",
   "execution_count": null,
   "metadata": {},
   "outputs": [],
   "source": [
    "mol = mdt.from_pdb('1yu8')"
   ]
  },
  {
   "cell_type": "code",
   "execution_count": null,
   "metadata": {},
   "outputs": [],
   "source": [
    "mol = mdt.Molecule(mol.residues[0:10])"
   ]
  },
  {
   "cell_type": "code",
   "execution_count": null,
   "metadata": {},
   "outputs": [],
   "source": [
    "mdmol = mdt.assign_forcefield(mol)\n",
    "atom = mdmol.atoms[13]\n",
    "print \"Done parameterizing\""
   ]
  },
  {
   "cell_type": "code",
   "execution_count": null,
   "metadata": {},
   "outputs": [],
   "source": [
    "print mdmol.write('pdb')"
   ]
  },
  {
   "cell_type": "code",
   "execution_count": null,
   "metadata": {},
   "outputs": [],
   "source": [
    "######### Create LAMMPSInteractive model and run NVT simulation #########\n",
    "mdmol.set_energy_model(mdt.models.LAMMPSInteractive)\n",
    "\n",
    "data = mdmol.energy_model.get_lammps_data()\n",
    "print"
   ]
  },
  {
   "cell_type": "code",
   "execution_count": null,
   "metadata": {},
   "outputs": [],
   "source": [
    "print data"
   ]
  },
  {
   "cell_type": "code",
   "execution_count": null,
   "metadata": {},
   "outputs": [],
   "source": [
    "mdmol.calculate()\n",
    "mdmol.set_integrator(integrator=mdt.integrators.LAMMPSLangevin, timestep=1.0*u.fs,\n",
    "                     temperature=300.0*u.kelvin, frame_interval=50.0*u.fs, constrain_hbonds=False, constrain_water=False)\n"
   ]
  },
  {
   "cell_type": "code",
   "execution_count": null,
   "metadata": {},
   "outputs": [],
   "source": [
    "\n",
    "mdmol.energy_model.apply_force(mdmol.atoms[11:20], [10.0, 0.0, 3.0] * u.kcalpermol/u.angstrom)\n",
    "mytraj = mdmol.run(200 * u.fs)\n"
   ]
  },
  {
   "cell_type": "code",
   "execution_count": null,
   "metadata": {},
   "outputs": [],
   "source": []
  },
  {
   "cell_type": "code",
   "execution_count": null,
   "metadata": {},
   "outputs": [],
   "source": []
  },
  {
   "cell_type": "code",
   "execution_count": null,
   "metadata": {},
   "outputs": [],
   "source": []
  }
 ],
 "metadata": {
  "kernelspec": {
   "display_name": "Python 2",
   "language": "python",
   "name": "python2"
  },
  "language_info": {
   "codemirror_mode": {
    "name": "ipython",
    "version": 2
   },
   "file_extension": ".py",
   "mimetype": "text/x-python",
   "name": "python",
   "nbconvert_exporter": "python",
   "pygments_lexer": "ipython2",
   "version": "2.7.13"
  }
 },
 "nbformat": 4,
 "nbformat_minor": 0
}