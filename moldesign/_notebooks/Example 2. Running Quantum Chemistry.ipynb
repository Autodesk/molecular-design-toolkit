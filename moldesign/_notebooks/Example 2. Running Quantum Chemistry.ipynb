{
 "cells": [
  {
   "cell_type": "markdown",
   "metadata": {},
   "source": [
    "<span style=\"float:right\">\n",
    "<a href=\"http://moldesign.bionano.autodesk.com/\" target=\"_blank\" title=\"About\">About</a>&nbsp;&nbsp;&nbsp;&nbsp;&nbsp;&nbsp;\n",
    "<a href=\"https://forum.bionano.autodesk.com/c/Molecular-Design-Toolkit\" target=\"_blank\" title=\"Forum\">Forum</a>&nbsp;&nbsp;&nbsp;&nbsp;&nbsp;&nbsp;\n",
    "<a href=\"https://github.com/autodesk/molecular-design-toolkit/issues\" target=\"_blank\" title=\"Issues\">Issues</a>&nbsp;&nbsp;&nbsp;&nbsp;&nbsp;&nbsp;\n",
    "<a href=\"http://bionano.autodesk.com/MolecularDesignToolkit/explore.html\" target=\"_blank\" title=\"Tutorials\">Tutorials</a>&nbsp;&nbsp;&nbsp;&nbsp;&nbsp;&nbsp;\n",
    "<a href=\"http://autodesk.github.io/molecular-design-toolkit/\" target=\"_blank\" title=\"Documentation\">Documentation</a></span>\n",
    "</span>\n",
    "![Molecular Design Toolkit](img/top.png)\n",
    "<br>\n",
    "<center><h1>Example 2: Orbitals, Wavefunctions, and Potential Energy Surfaces </h2> </center>\n",
    "\n",
    "---\n",
    "\n",
    "This notebook shows a few different ways that Molecular Design Toolkit can be used to run and visualize electronic structure calculations."
   ]
  },
  {
   "cell_type": "code",
   "execution_count": null,
   "metadata": {
    "collapsed": false,
    "scrolled": true
   },
   "outputs": [],
   "source": [
    "%matplotlib inline\n",
    "import numpy as np\n",
    "from matplotlib.pylab import *\n",
    "\n",
    "import moldesign as mdt\n",
    "from moldesign import units as u"
   ]
  },
  {
   "cell_type": "markdown",
   "metadata": {},
   "source": [
    "<h1>Contents</h1>\n",
    "\n",
    "---\n",
    "\n",
    "   - [I. Molecular hydrogen](#I.-Molecular-hydrogen)\n",
    "     - [A. Build the molecule](#A.-Build-the-molecule)\n",
    "     - [B. Run a hartree-fock calculation](#B.-Run-a-hartree-fock-calculation)\n",
    "     - [C. Visualize the orbitals](#C.-Visualize-the-orbitals)\n",
    "     - [D. Minimize the energy](#D.-Minimize-the-energy)\n",
    "     - [E. Scan the potential energy surface](#E.-Scan-the-potential-energy-surface)\n",
    "   - [II. Butadiene](#II.-Butadiene)\n",
    "     - [A. Build the molecule and calculate its energy](#A.-Build-the-molecule-and-calculate-its-energy)\n",
    "     - [B. Select a bond](#B.-Select-a-bond)\n",
    "     - [C. Calculate the initial dihedral angle](#C.-Calculate-the-initial-dihedral-angle)\n",
    "     - [D. Scan over the dihedral angle](#D.-Scan-over-the-dihedral-angle)\n",
    "     - [E. Minimize the new form](#E.-Minimize-the-new-form)\n",
    "   - [III. Advanced topics](#III.-Advanced-topics)\n",
    "     - [A. Symmetry](#A.-Symmetry)\n",
    "     - [B. Examining the wavefunction](#B.-Examining-the-wavefunction)"
   ]
  },
  {
   "cell_type": "markdown",
   "metadata": {},
   "source": [
    "## I. Molecular hydrogen\n",
    "\n",
    "### A. Build the molecule\n",
    "This cell builds H<sub>2</sub> by creating the two atoms, and explicitly setting their positions.\n",
    "\n",
    "**Try editing this cell to**:\n",
    " * Create HeH<sup>+</sup>\n",
    " * Create H<sub>3</sub><sup>+</sup>\n",
    " * Change the atoms' initial positions"
   ]
  },
  {
   "cell_type": "code",
   "execution_count": null,
   "metadata": {
    "collapsed": false
   },
   "outputs": [],
   "source": [
    "atom1 = mdt.Atom('H')\n",
    "atom2 = mdt.Atom('H')\n",
    "atom1.bond_to(atom2,1)\n",
    "atom2.x = 2.0 * u.angstrom\n",
    "\n",
    "h2 = mdt.Molecule([atom1,atom2], name='H2', charge=0)\n",
    "h2.draw(height=300)"
   ]
  },
  {
   "cell_type": "markdown",
   "metadata": {},
   "source": [
    "### B. Run a hartree-fock calculation\n",
    "The next cell adds the RHF energy model to our molecule, then triggers a calculation.\n",
    "\n",
    "**Try editing this cell to**:\n",
    " * Change the atomic basis\n",
    " * Get a list of other available energy models (type `mdt.models.` and then hit the `[tab]` key)"
   ]
  },
  {
   "cell_type": "code",
   "execution_count": null,
   "metadata": {
    "collapsed": false
   },
   "outputs": [],
   "source": [
    "h2.set_energy_model(mdt.models.RHF, basis='3-21g')\n",
    "h2.calculate()\n",
    "\n",
    "print 'Calculated properties:', h2.properties.keys()\n",
    "print 'Potential energy:', h2.potential_energy"
   ]
  },
  {
   "cell_type": "markdown",
   "metadata": {},
   "source": [
    "### C. Visualize the orbitals\n",
    "After running the calculation, we have enough information to visualize the molecular orbitals."
   ]
  },
  {
   "cell_type": "code",
   "execution_count": null,
   "metadata": {
    "collapsed": false
   },
   "outputs": [],
   "source": [
    "h2.draw_orbitals()"
   ]
  },
  {
   "cell_type": "markdown",
   "metadata": {},
   "source": [
    "### D. Minimize the energy\n",
    "Here, we'll run a quick energy minimization then visualize how the hydrogen nuclei AND the atomic wavefunctions changed."
   ]
  },
  {
   "cell_type": "code",
   "execution_count": null,
   "metadata": {
    "collapsed": false,
    "scrolled": true
   },
   "outputs": [],
   "source": [
    "minimization = h2.minimize(frame_interval=1, nsteps=10)\n",
    "minimization.draw_orbitals()"
   ]
  },
  {
   "cell_type": "code",
   "execution_count": null,
   "metadata": {
    "collapsed": false
   },
   "outputs": [],
   "source": [
    "minimization"
   ]
  },
  {
   "cell_type": "markdown",
   "metadata": {},
   "source": [
    "### E. Scan the potential energy surface\n",
    "This cell calculates the potential energy at a series of interatomic separations, from 0.3 to 7.0 Å; the results are collections in a `Trajectory` object, named `scan` here."
   ]
  },
  {
   "cell_type": "code",
   "execution_count": null,
   "metadata": {
    "collapsed": false
   },
   "outputs": [],
   "source": [
    "distances = np.arange(0.3,7.0,0.5)*u.angstrom\n",
    "scan = mdt.Trajectory(h2)\n",
    "h2.atoms[0].x = 0.0*u.angstrom\n",
    "for r in distances:\n",
    "    h2.atoms[1].x = r\n",
    "    h2.calc_potential_energy()\n",
    "    scan.new_frame(annotation='Separation: %s'%r)\n",
    "\n",
    "scan.draw_orbitals()"
   ]
  },
  {
   "cell_type": "markdown",
   "metadata": {},
   "source": [
    "The results can also be plotted directly in `matplotlib`:"
   ]
  },
  {
   "cell_type": "code",
   "execution_count": null,
   "metadata": {
    "collapsed": false
   },
   "outputs": [],
   "source": [
    "plot(distances, scan.potential_energy)\n",
    "grid(); xlabel('separation / ang'); ylabel('energy / eV')\n",
    "\n",
    "figure()\n",
    "plot(distances, scan.atoms[0].mulliken, label='atom 1 partial charge')\n",
    "plot(distances, scan.atoms[1].mulliken, label='atom 2 partial charge')\n",
    "grid(); xlabel('separation / ang'); ylabel('partial charge'); legend()"
   ]
  },
  {
   "cell_type": "markdown",
   "metadata": {},
   "source": [
    "## II. Butadiene\n",
    "This example deals with <a href=\"https://en.wikipedia.org/wiki/1,3-Butadiene\">butadiene</a>, a slightly larger molecule. Here, we'll scan its potential energy surface over its central dihedral angle.\n",
    "\n",
    "### A. Build the molecule and calculate its energy\n",
    "The following code cell uses a <a href=\"https://en.wikipedia.org/wiki/Simplified_molecular-input_line-entry_system\">SMILES string</a> to create the molecule."
   ]
  },
  {
   "cell_type": "code",
   "execution_count": null,
   "metadata": {
    "collapsed": false
   },
   "outputs": [],
   "source": [
    "mol = mdt.from_smiles('C=CC=C')\n",
    "mol.set_energy_model(mdt.models.RHF(basis='sto-3g'))\n",
    "result = mol.calculate(['potential_energy','orbitals'], wait=True)\n",
    "\n",
    "print 'Potential energy:',result.potential_energy.to(u.kcalpermol)\n",
    "mol.draw_orbitals()"
   ]
  },
  {
   "cell_type": "markdown",
   "metadata": {},
   "source": [
    "### B. Select a bond\n",
    "Next, we pull up an interactive widget to select a specific bond."
   ]
  },
  {
   "cell_type": "code",
   "execution_count": null,
   "metadata": {
    "collapsed": false
   },
   "outputs": [],
   "source": [
    "selector = mdt.widgets.BondSelector(mol)\n",
    "selector"
   ]
  },
  {
   "cell_type": "markdown",
   "metadata": {},
   "source": [
    "Click on any bond you like in the above widget. We can programatically access that selection using `selector.selected_bonds`:"
   ]
  },
  {
   "cell_type": "code",
   "execution_count": null,
   "metadata": {
    "collapsed": false
   },
   "outputs": [],
   "source": [
    "selector.selected_bonds"
   ]
  },
  {
   "cell_type": "markdown",
   "metadata": {},
   "source": [
    "### C. Calculate the initial dihedral angle\n",
    "Next, we'll gather the four atoms involved in the central dihedral and calculate the current angle."
   ]
  },
  {
   "cell_type": "code",
   "execution_count": null,
   "metadata": {
    "collapsed": false
   },
   "outputs": [],
   "source": [
    "bond = selector.selected_bonds[0]\n",
    "a1 = bond.a1\n",
    "a2 = bond.a2\n",
    "a0 = [atom for atom in a1.bond_graph \n",
    "      if atom.atnum==6 and atom is not a2][0]\n",
    "a3 = [atom for atom in a2.bond_graph \n",
    "      if atom.atnum==6 and atom is not a1][0]\n",
    "\n",
    "print 'Dihedral:', mdt.dihedral(a0, a1, a2, a3).to(u.degrees)"
   ]
  },
  {
   "cell_type": "markdown",
   "metadata": {},
   "source": [
    "### D. Scan over the dihedral angle\n",
    "\n",
    "This code loops over values of the dihedral angle from 180º to 360º, calcualting the wavefunction along the way."
   ]
  },
  {
   "cell_type": "code",
   "execution_count": null,
   "metadata": {
    "collapsed": false
   },
   "outputs": [],
   "source": [
    "traj = mdt.Trajectory(mol)\n",
    "traj.new_frame()\n",
    "for angle in np.arange(180, 360.0, 15.0)*u.degrees:\n",
    "    mdt.set_dihedral(a0, a1, a2, a3, angle)\n",
    "    mol.calculate()\n",
    "    traj.new_frame(annotation='dihedral:%s' % angle) "
   ]
  },
  {
   "cell_type": "code",
   "execution_count": null,
   "metadata": {
    "collapsed": false
   },
   "outputs": [],
   "source": [
    "traj.draw_orbitals()"
   ]
  },
  {
   "cell_type": "markdown",
   "metadata": {
    "collapsed": false
   },
   "source": [
    "### E. Minimize the new form\n",
    "\n",
    "In the new *cis* form, we search for a new energy minimum:"
   ]
  },
  {
   "cell_type": "code",
   "execution_count": null,
   "metadata": {
    "collapsed": false
   },
   "outputs": [],
   "source": [
    "mintraj = mol.minimize(frame_interval=1)"
   ]
  },
  {
   "cell_type": "code",
   "execution_count": null,
   "metadata": {
    "collapsed": false
   },
   "outputs": [],
   "source": [
    "plot(mintraj.potential_energy); ylabel('energy / eV'); grid()\n",
    "mintraj.draw_orbitals()"
   ]
  },
  {
   "cell_type": "markdown",
   "metadata": {},
   "source": [
    "## III. Advanced topics"
   ]
  },
  {
   "cell_type": "markdown",
   "metadata": {},
   "source": [
    "### A. Symmetry\n",
    "You can use buckyball's symmetrization tools to build symmetric molecules, which can often lead to huge improvements in computational efficiency.\n",
    "\n",
    "First, let's look at the simplest possible organic molecule, methane. Its simplicity actually leads to some very complex symmetry."
   ]
  },
  {
   "cell_type": "code",
   "execution_count": null,
   "metadata": {
    "collapsed": false
   },
   "outputs": [],
   "source": [
    "methane = mdt.from_name('methane')\n",
    "mdt.widgets.Symmetrizer(methane)"
   ]
  },
  {
   "cell_type": "markdown",
   "metadata": {},
   "source": [
    "The list of items on the right is the list of individual symmetry elements - for methane, there are a lot. Click on one to see it illustrated in 3D. Larger molecules will generally have far less symmetry.\n",
    "\n",
    "Let's take a look at ethane. We'll add some noise to the molecule's coordinates to destroy exact symmetry."
   ]
  },
  {
   "cell_type": "code",
   "execution_count": null,
   "metadata": {
    "collapsed": false
   },
   "outputs": [],
   "source": [
    "ethane = mdt.from_smiles('CC')\n",
    "for atom in ethane.atoms: atom.position += 0.1 * u.angstrom * np.random.random(3)\n",
    "mdt.widgets.Symmetrizer(ethane)"
   ]
  },
  {
   "cell_type": "markdown",
   "metadata": {},
   "source": [
    "You can use the \"symmetrize\" button to impose individual symmetry elements exactly."
   ]
  },
  {
   "cell_type": "markdown",
   "metadata": {},
   "source": [
    "### B. Examining the wavefunction\n",
    "You can dive deeply into the quantum wavefunction results by examining the `h2.electronic_state` object. For instance, we can verify that the MO basis diagonalizes the Fock matrix:"
   ]
  },
  {
   "cell_type": "code",
   "execution_count": null,
   "metadata": {
    "collapsed": false
   },
   "outputs": [],
   "source": [
    "fock_ao = h2.wfn.fock_ao\n",
    "mos_in_ao = h2.wfn.molecular_orbitals\n",
    "\n",
    "matshow( h2.wfn.orbitals.canonical.fock )\n",
    "title('Fock matrix in canonical MO basis'); cb = colorbar()\n",
    "cb.set_label('energy / eV')\n",
    "\n",
    "matshow( h2.wfn.orbitals.atomic.fock )\n",
    "title('Fock matrix in atomic orbital basis'); cb = colorbar()\n",
    "cb.set_label('energy / eV')"
   ]
  }
 ],
 "metadata": {
  "kernelspec": {
   "display_name": "Python 2",
   "language": "python",
   "name": "python2"
  },
  "language_info": {
   "codemirror_mode": {
    "name": "ipython",
    "version": 2
   },
   "file_extension": ".py",
   "mimetype": "text/x-python",
   "name": "python",
   "nbconvert_exporter": "python",
   "pygments_lexer": "ipython2",
   "version": "2.7.12"
  }
 },
 "nbformat": 4,
 "nbformat_minor": 0
}