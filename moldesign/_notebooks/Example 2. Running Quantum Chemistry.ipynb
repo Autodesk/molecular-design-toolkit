{
 "cells": [
  {
   "cell_type": "markdown",
   "metadata": {},
   "source": [
    "<span style=\"float:right\">\n",
    "<a href=\"http://moldesign.bionano.autodesk.com/\" target=\"_blank\" title=\"About\">About</a>&nbsp;&nbsp;&nbsp;&nbsp;&nbsp;&nbsp;\n",
    "<a href=\"https://forum.bionano.autodesk.com/c/Molecular-Design-Toolkit\" target=\"_blank\" title=\"Forum\">Forum</a>&nbsp;&nbsp;&nbsp;&nbsp;&nbsp;&nbsp;\n",
    "<a href=\"https://github.com/autodesk/molecular-design-toolkit/issues\" target=\"_blank\" title=\"Issues\">Issues</a>&nbsp;&nbsp;&nbsp;&nbsp;&nbsp;&nbsp;\n",
    "<a href=\"http://bionano.autodesk.com/MolecularDesignToolkit/explore.html\" target=\"_blank\" title=\"Tutorials\">Tutorials</a>&nbsp;&nbsp;&nbsp;&nbsp;&nbsp;&nbsp;\n",
    "<a href=\"http://autodesk.github.io/molecular-design-toolkit/\" target=\"_blank\" title=\"Documentation\">Documentation</a></span>\n",
    "</span>\n",
    "![Molecular Design Toolkit](img/Top.png)\n",
    "<br>\n",
    "<center><h1>Example 2: Calculating a torsional barrier </h1> </center>\n",
    "\n",
    "---\n",
    "\n",
    "This notebook shows how to use constrained minimizations to calculate barriers to torsional rotation.\n",
    "\n",
    " - _Author_: [Aaron Virshup](https://github.com/avirshup), Autodesk Research<br>\n",
    " - _Created on_: July 1, 2016\n",
    " - _Tags_: RHF, quantum chemistry, PES, scan\n"
   ]
  },
  {
   "cell_type": "code",
   "execution_count": null,
   "metadata": {
    "collapsed": false,
    "scrolled": true
   },
   "outputs": [],
   "source": [
    "%matplotlib inline\n",
    "import numpy as np\n",
    "from matplotlib.pylab import *\n",
    "\n",
    "try: import seaborn  #optional, makes plots look nicer\n",
    "except ImportError: pass\n",
    "\n",
    "import moldesign as mdt\n",
    "from moldesign import units as u"
   ]
  },
  {
   "cell_type": "markdown",
   "metadata": {},
   "source": [
    "<h1>Contents</h1>\n",
    "\n",
    "---\n",
    "\n"
   ]
  },
  {
   "cell_type": "markdown",
   "metadata": {},
   "source": [
    "## I. Build butadiene\n",
    "This example deals with <a href=\"https://en.wikipedia.org/wiki/1,3-Butadiene\">butadiene</a>, a slightly larger molecule. Here, we'll scan its potential energy surface over its central dihedral angle.\n",
    "\n",
    "### A. Build the molecule and calculate its energy\n",
    "The following code cell uses a <a href=\"https://en.wikipedia.org/wiki/Simplified_molecular-input_line-entry_system\">SMILES string</a> to create the molecule."
   ]
  },
  {
   "cell_type": "code",
   "execution_count": null,
   "metadata": {
    "collapsed": false
   },
   "outputs": [],
   "source": [
    "mol = mdt.from_smiles('C=CC=C')"
   ]
  },
  {
   "cell_type": "markdown",
   "metadata": {},
   "source": [
    "### B. Break symmetry\n",
    "\n",
    "Note that there's a fair amount of symmetry in this molecule, which can prevent the optimizer from finding the correct minimum. It's often necessary to introduce a little geometric noise into the geometry before minimizing. In the case, I recommend adjusting the dihedral angles around the two double bonds."
   ]
  },
  {
   "cell_type": "code",
   "execution_count": null,
   "metadata": {
    "collapsed": true
   },
   "outputs": [],
   "source": [
    "mdt.widgets.GeometryBuilder(mol)"
   ]
  },
  {
   "cell_type": "code",
   "execution_count": null,
   "metadata": {
    "collapsed": false
   },
   "outputs": [],
   "source": [
    "mol.set_energy_model(mdt.models.RHF, basis='sto-3g')\n",
    "min_traj = mol.minimize(nsteps=100)\n",
    "min_traj.draw_orbitals()"
   ]
  },
  {
   "cell_type": "code",
   "execution_count": null,
   "metadata": {
    "collapsed": false
   },
   "outputs": [],
   "source": [
    "selector = mdt.widgets.BondSelector(mol)\n",
    "selector"
   ]
  },
  {
   "cell_type": "markdown",
   "metadata": {},
   "source": [
    "We've stored this bond to use in the next step - it can be programatically accessed using `selector.selected_bonds`:"
   ]
  },
  {
   "cell_type": "code",
   "execution_count": null,
   "metadata": {
    "collapsed": false
   },
   "outputs": [],
   "source": [
    "bond = selector.selected_bonds[0]"
   ]
  },
  {
   "cell_type": "markdown",
   "metadata": {},
   "source": [
    "# II. Rigid torsion scan\n",
    "\n",
    "First, we'll rotate the molecule around the selected bond WITHOUT allowing the molecule to relax. This will produce an upper limit on the size of the torsional barrier."
   ]
  },
  {
   "cell_type": "markdown",
   "metadata": {},
   "source": [
    "### A. Create a dihedral object\n",
    "\n",
    "To make this easier, we'll create a `DihedralMonitor` object to keep track of this dihedral angle."
   ]
  },
  {
   "cell_type": "code",
   "execution_count": null,
   "metadata": {
    "collapsed": false
   },
   "outputs": [],
   "source": [
    "dihedral = mdt.DihedralMonitor(selector.selected_bonds[0])\n",
    "print 'Dihedral:', dihedral.value"
   ]
  },
  {
   "cell_type": "markdown",
   "metadata": {},
   "source": [
    "### B. Scan over the dihedral angle\n",
    "\n",
    "Next, we'll rotate the dihedral from 0 to 180º, calculating the potential energy as we do:"
   ]
  },
  {
   "cell_type": "code",
   "execution_count": null,
   "metadata": {
    "collapsed": false
   },
   "outputs": [],
   "source": [
    "rigid = mdt.Trajectory(mol)\n",
    "\n",
    "angles = np.linspace(0, 180, 8)*u.degrees\n",
    "for angle in angles:\n",
    "    dihedral.value = angle\n",
    "    mol.calculate()\n",
    "    rigid.new_frame(annotation='dihedral:%s' % angle) "
   ]
  },
  {
   "cell_type": "code",
   "execution_count": null,
   "metadata": {
    "collapsed": false
   },
   "outputs": [],
   "source": [
    "rigid.draw_orbitals()"
   ]
  },
  {
   "cell_type": "markdown",
   "metadata": {},
   "source": [
    "Here's the potential energy as a function of the twist angle. Note that the molecule is symmetric around 180º."
   ]
  },
  {
   "cell_type": "code",
   "execution_count": null,
   "metadata": {
    "collapsed": false
   },
   "outputs": [],
   "source": [
    "plot(angles, rigid.potential_energy)"
   ]
  },
  {
   "cell_type": "markdown",
   "metadata": {
    "collapsed": false
   },
   "source": [
    "# III. Relaxed scan\n",
    "\n",
    "The previous calculation didn't allow the molecule to relax during the calculation. Here, we'll repeat the process, but doing a _constrained minimization_ at every step - we'll allow all degrees of freedom *except the dihedral angle* to relax.\n",
    "\n",
    "This will take a lot longer than before. We also need to break symmetry; and so add a small amount of gaussian noise before each minimization."
   ]
  },
  {
   "cell_type": "code",
   "execution_count": null,
   "metadata": {
    "collapsed": true
   },
   "outputs": [],
   "source": [
    "mdt.widgets.GeometryBuilder(mol)"
   ]
  },
  {
   "cell_type": "code",
   "execution_count": null,
   "metadata": {
    "collapsed": true
   },
   "outputs": [],
   "source": [
    "mol.positions = rigid.positions[0]\n",
    "mol.clear_constraints()"
   ]
  },
  {
   "cell_type": "code",
   "execution_count": null,
   "metadata": {
    "collapsed": false,
    "scrolled": false
   },
   "outputs": [],
   "source": [
    "relax = mdt.Trajectory(mol)\n",
    "constraint = dihedral.constrain()\n",
    "\n",
    "angles = np.linspace(0, 180, 6)*u.degrees\n",
    "for angle in angles:\n",
    "    dihedral.value = angle\n",
    "    constraint.value = angle\n",
    "    mol.minimize()\n",
    "    \n",
    "    relax.new_frame(annotation='dihedral:%s' % angle) "
   ]
  },
  {
   "cell_type": "code",
   "execution_count": null,
   "metadata": {
    "collapsed": false
   },
   "outputs": [],
   "source": [
    "relax.draw_orbitals()"
   ]
  },
  {
   "cell_type": "code",
   "execution_count": null,
   "metadata": {
    "collapsed": false
   },
   "outputs": [],
   "source": [
    "plot(np.linspace(0, 180, 6), relax.potential_energy, label='relax')\n",
    "plot(np.linspace(0, 180, 8), rigid.potential_energy, label='rigid')\n",
    "legend()"
   ]
  },
  {
   "cell_type": "markdown",
   "metadata": {},
   "source": [
    "## III. Advanced topics"
   ]
  },
  {
   "cell_type": "markdown",
   "metadata": {},
   "source": [
    "### A. Symmetry\n",
    "You can use buckyball's symmetrization tools to build symmetric molecules, which can often lead to huge improvements in computational efficiency.\n",
    "\n",
    "First, let's look at the simplest possible organic molecule, methane. Its simplicity actually leads to some very complex symmetry."
   ]
  },
  {
   "cell_type": "code",
   "execution_count": null,
   "metadata": {
    "collapsed": false
   },
   "outputs": [],
   "source": [
    "methane = mdt.from_name('methane')\n",
    "mdt.widgets.Symmetrizer(methane)"
   ]
  },
  {
   "cell_type": "markdown",
   "metadata": {},
   "source": [
    "The list of items on the right is the list of individual symmetry elements - for methane, there are a lot. Click on one to see it illustrated in 3D. Larger molecules will generally have far less symmetry.\n",
    "\n",
    "Let's take a look at ethane. We'll add some noise to the molecule's coordinates to destroy exact symmetry."
   ]
  },
  {
   "cell_type": "code",
   "execution_count": null,
   "metadata": {
    "collapsed": false
   },
   "outputs": [],
   "source": [
    "ethane = mdt.from_smiles('CC')\n",
    "for atom in ethane.atoms: atom.position += 0.1 * u.angstrom * np.random.random(3)\n",
    "mdt.widgets.Symmetrizer(ethane)"
   ]
  },
  {
   "cell_type": "markdown",
   "metadata": {},
   "source": [
    "You can use the \"symmetrize\" button to impose individual symmetry elements exactly."
   ]
  },
  {
   "cell_type": "markdown",
   "metadata": {},
   "source": [
    "### B. Examining the wavefunction\n",
    "You can dive deeply into the quantum wavefunction results by examining the `h2.electronic_state` object. For instance, we can verify that the MO basis diagonalizes the Fock matrix:"
   ]
  },
  {
   "cell_type": "code",
   "execution_count": null,
   "metadata": {
    "collapsed": false
   },
   "outputs": [],
   "source": [
    "fock_ao = h2.wfn.fock_ao\n",
    "mos_in_ao = h2.wfn.molecular_orbitals\n",
    "\n",
    "matshow( h2.wfn.orbitals.canonical.fock )\n",
    "title('Fock matrix in canonical MO basis'); cb = colorbar()\n",
    "cb.set_label('energy / eV')\n",
    "\n",
    "matshow( h2.wfn.orbitals.atomic.fock )\n",
    "title('Fock matrix in atomic orbital basis'); cb = colorbar()\n",
    "cb.set_label('energy / eV')"
   ]
  }
 ],
 "metadata": {
  "kernelspec": {
   "display_name": "Python 2",
   "language": "python",
   "name": "python2"
  },
  "language_info": {
   "codemirror_mode": {
    "name": "ipython",
    "version": 2
   },
   "file_extension": ".py",
   "mimetype": "text/x-python",
   "name": "python",
   "nbconvert_exporter": "python",
   "pygments_lexer": "ipython2",
   "version": "2.7.12"
  }
 },
 "nbformat": 4,
 "nbformat_minor": 0
}