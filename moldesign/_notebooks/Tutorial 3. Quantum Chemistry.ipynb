{
 "cells": [
  {
   "cell_type": "markdown",
   "metadata": {},
   "source": [
    "<span style=\"float:right\"><a href=\"http://moldesign.bionano.autodesk.com/\" target=\"_blank\" title=\"About\">About</a>&nbsp;&nbsp;&nbsp;&nbsp;&nbsp;&nbsp;<a href=\"https://forum.bionano.autodesk.com/c/Molecular-Design-Toolkit\" target=\"_blank\" title=\"Forum\">Forum</a>&nbsp;&nbsp;&nbsp;&nbsp;&nbsp;&nbsp;<a href=\"https://github.com/autodesk/molecular-design-toolkit/issues\" target=\"_blank\" title=\"Issues\">Issues</a>&nbsp;&nbsp;&nbsp;&nbsp;&nbsp;&nbsp;<a href=\"http://bionano.autodesk.com/MolecularDesignToolkit/explore.html\" target=\"_blank\" title=\"Tutorials\">Tutorials</a>&nbsp;&nbsp;&nbsp;&nbsp;&nbsp;&nbsp;<a href=\"http://autodesk.github.io/molecular-design-toolkit/\" target=\"_blank\" title=\"Documentation\">Documentation</a></span>\n",
    "</span>\n",
    "![Molecular Design Toolkit](img/Top.png)\n",
    "\n",
    "\n",
    "<center><h1>Tutorial 3: Intro to Quantum Chemistry </h1> </center>\n",
    "---\n",
    "\n",
    "This tutorial shows how to select a quantum chemistry method, visualize orbitals, and analyze the electronic wavefunction."
   ]
  },
  {
   "cell_type": "code",
   "execution_count": null,
   "metadata": {},
   "outputs": [],
   "source": [
    "%matplotlib inline\n",
    "import numpy as np\n",
    "from matplotlib.pylab import *\n",
    "try: import seaborn  #optional, makes plots look nicer\n",
    "except ImportError: pass\n",
    "\n",
    "import moldesign as mdt\n",
    "from moldesign import units as u"
   ]
  },
  {
   "cell_type": "markdown",
   "metadata": {},
   "source": [
    "## I. Build and minimize minimal basis set hydrogen\n",
    "\n",
    "### A. Build the molecule\n",
    "This cell builds H<sub>2</sub> by creating the two atoms, and explicitly setting their positions.\n",
    "\n",
    "**Try editing this cell to**:\n",
    " * Create HeH<sup>+</sup>\n",
    " * Create H<sub>3</sub><sup>+</sup>\n",
    " * Change the atoms' initial positions"
   ]
  },
  {
   "cell_type": "code",
   "execution_count": null,
   "metadata": {},
   "outputs": [],
   "source": [
    "atom1 = mdt.Atom('H')\n",
    "atom2 = mdt.Atom('H')\n",
    "atom1.bond_to(atom2,1)\n",
    "atom2.x = 2.0 * u.angstrom\n",
    "\n",
    "h2 = mdt.Molecule([atom1,atom2], name='H2', charge=0)\n",
    "h2.draw(height=300)"
   ]
  },
  {
   "cell_type": "markdown",
   "metadata": {},
   "source": [
    "### B. Run a hartree-fock calculation\n",
    "The next cell adds the RHF energy model to our molecule, then triggers a calculation.\n",
    "\n",
    "**Try editing this cell to**:\n",
    " * Change the atomic basis\n",
    " * Get a list of other available energy models (type `mdt.models.` and then hit the `[tab]` key)"
   ]
  },
  {
   "cell_type": "code",
   "execution_count": null,
   "metadata": {},
   "outputs": [],
   "source": [
    "h2.set_energy_model(mdt.models.RHF, basis='3-21g')\n",
    "h2.calculate()\n",
    "\n",
    "print 'Calculated properties:', h2.properties.keys()\n",
    "print 'Potential energy:', h2.potential_energy"
   ]
  },
  {
   "cell_type": "markdown",
   "metadata": {},
   "source": [
    "### C. Visualize the orbitals\n",
    "After running the calculation, we have enough information to visualize the molecular orbitals."
   ]
  },
  {
   "cell_type": "code",
   "execution_count": null,
   "metadata": {},
   "outputs": [],
   "source": [
    "h2.draw_orbitals()"
   ]
  },
  {
   "cell_type": "markdown",
   "metadata": {},
   "source": [
    "### D. Minimize the energy\n",
    "Here, we'll run a quick energy minimization then visualize how the hydrogen nuclei AND the atomic wavefunctions changed."
   ]
  },
  {
   "cell_type": "code",
   "execution_count": null,
   "metadata": {},
   "outputs": [],
   "source": [
    "minimization = h2.minimize(frame_interval=1, nsteps=10)\n",
    "minimization.draw_orbitals()"
   ]
  },
  {
   "cell_type": "markdown",
   "metadata": {},
   "source": [
    "# II. Analyzing the wavefunction\n",
    "\n",
    "The wavefunction created during QM calculations will be stored as an easy-to-analyze python object:"
   ]
  },
  {
   "cell_type": "code",
   "execution_count": null,
   "metadata": {},
   "outputs": [],
   "source": [
    "wfn = h2.wfn\n",
    "wfn"
   ]
  },
  {
   "cell_type": "markdown",
   "metadata": {},
   "source": [
    "## A. The atomic basis set\n",
    "First, let's examine the atomic orbitals. The overlaps, fock matrix, coefficents, and density matrix are all available as 2D numpy arrays (with units where applicable):"
   ]
  },
  {
   "cell_type": "code",
   "execution_count": null,
   "metadata": {},
   "outputs": [],
   "source": [
    "# Overlap matrix\n",
    "wfn.aobasis.overlaps"
   ]
  },
  {
   "cell_type": "code",
   "execution_count": null,
   "metadata": {},
   "outputs": [],
   "source": [
    "# Fock matrix\n",
    "matshow(wfn.aobasis.fock.value_in(u.eV))\n",
    "colorbar(label='fock element / eV')"
   ]
  },
  {
   "cell_type": "code",
   "execution_count": null,
   "metadata": {},
   "outputs": [],
   "source": [
    "# The AO orbital coefficients (in the AO basis, this is the identity)\n",
    "wfn.aobasis.coeffs"
   ]
  },
  {
   "cell_type": "code",
   "execution_count": null,
   "metadata": {},
   "outputs": [],
   "source": [
    "wfn.aobasis.density_matrix"
   ]
  },
  {
   "cell_type": "markdown",
   "metadata": {},
   "source": [
    "The 1- and 2-electron parts of the hamiltonian are also available:"
   ]
  },
  {
   "cell_type": "code",
   "execution_count": null,
   "metadata": {},
   "outputs": [],
   "source": [
    "matshow(wfn.aobasis.h1e.value_in(u.eV))\n",
    "colorbar(label='1-electron hamiltonian term / eV')\n",
    "\n",
    "matshow(wfn.aobasis.h2e.value_in(u.eV))\n",
    "colorbar(label='2-electron hamiltonian term / eV')"
   ]
  },
  {
   "cell_type": "markdown",
   "metadata": {},
   "source": [
    "## B. The canonical molecular orbitals\n",
    "\n",
    "These are the orbitals that result from Hartree-Fock calculations - they diagonalize the fock matrix. All quantities that we looked at for the atomic orbitals are also available for the canonical orbitals."
   ]
  },
  {
   "cell_type": "code",
   "execution_count": null,
   "metadata": {},
   "outputs": [],
   "source": [
    "mos = wfn.orbitals.canonical\n",
    "mos"
   ]
  },
  {
   "cell_type": "markdown",
   "metadata": {},
   "source": [
    "MOs are, of course, a linear combination of AOs:\n",
    "\n",
    "\\begin{equation} \\left| \\text{MO}_i \\right \\rangle = \\sum_j c_{ij} \\left| \\text{AO}_j \\right\\rangle \\end{equation}\n",
    "\n",
    "The coefficient $c_{ij}$ is stored at `mos.coeffs[i,j]`"
   ]
  },
  {
   "cell_type": "code",
   "execution_count": null,
   "metadata": {},
   "outputs": [],
   "source": [
    "mos.coeffs"
   ]
  },
  {
   "cell_type": "markdown",
   "metadata": {},
   "source": [
    "Most MO sets are orthogonal; their overlaps will often be the identity matrix (plus some small numerical noise)"
   ]
  },
  {
   "cell_type": "code",
   "execution_count": null,
   "metadata": {},
   "outputs": [],
   "source": [
    "mos.overlaps"
   ]
  },
  {
   "cell_type": "markdown",
   "metadata": {},
   "source": [
    "By definition, the fock matrix should be orthogonal as well; the orbital energies are on its diagonal."
   ]
  },
  {
   "cell_type": "code",
   "execution_count": null,
   "metadata": {},
   "outputs": [],
   "source": [
    "matshow(mos.fock.value_in(u.eV))\n",
    "colorbar(label='fock element/eV')"
   ]
  },
  {
   "cell_type": "markdown",
   "metadata": {},
   "source": [
    "The `MolecularOrbitals` class also offers several methods to transform operators into different bases. For instance, the `overlap` method creates an overlap matrix between the AOs and MOs, where olap[i,j] is the overlap between MO _i_ and AO _j_:\n",
    "\\begin{equation}\n",
    "\\text{olap[i,j]} = \\left\\langle MO_i \\middle| AO_j \\right \\rangle\n",
    "\\end{equation}\n",
    "\n",
    "Note: this matrix is NOT the same as the MO coefficient matrix, because AOs are not orthogonal."
   ]
  },
  {
   "cell_type": "code",
   "execution_count": null,
   "metadata": {},
   "outputs": [],
   "source": [
    "olap = mos.overlap(wfn.aobasis)\n",
    "olap"
   ]
  },
  {
   "cell_type": "markdown",
   "metadata": {},
   "source": [
    "## C. Individual orbitals\n",
    "\n",
    "You can work with inidividual orbitals as well. For instance, to get a list (in order) of the four AOs:"
   ]
  },
  {
   "cell_type": "code",
   "execution_count": null,
   "metadata": {},
   "outputs": [],
   "source": [
    "wfn.aobasis.orbitals"
   ]
  },
  {
   "cell_type": "code",
   "execution_count": null,
   "metadata": {},
   "outputs": [],
   "source": [
    "ao0 = wfn.aobasis.orbitals[0]\n",
    "ao1 = wfn.aobasis.orbitals[1]\n",
    "\n",
    "print ao0\n",
    "print ao1"
   ]
  },
  {
   "cell_type": "markdown",
   "metadata": {},
   "source": [
    "Many matrix elements can also be accessed directly from these orbitals."
   ]
  },
  {
   "cell_type": "code",
   "execution_count": null,
   "metadata": {},
   "outputs": [],
   "source": [
    "print 'overlap (from orbitals)',ao0.overlap(ao1)\n",
    "print 'overlap (from overlap matrix)', wfn.aobasis.overlaps[0,1]\n",
    "print\n",
    "print 'fock element (from orbitals)', ao0.fock_element(ao1)\n",
    "print 'fock element (from fock matrix)', wfn.aobasis.fock[0,1]"
   ]
  }
 ],
 "metadata": {
  "kernelspec": {
   "display_name": "Python 2",
   "language": "python",
   "name": "python2"
  },
  "language_info": {
   "codemirror_mode": {
    "name": "ipython",
    "version": 2
   },
   "file_extension": ".py",
   "mimetype": "text/x-python",
   "name": "python",
   "nbconvert_exporter": "python",
   "pygments_lexer": "ipython2",
   "version": "2.7.12"
  }
 },
 "nbformat": 4,
 "nbformat_minor": 1
}