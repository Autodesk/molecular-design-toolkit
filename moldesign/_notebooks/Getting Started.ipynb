{
 "cells": [
  {
   "cell_type": "markdown",
   "metadata": {
    "collapsed": true
   },
   "source": [
    "![Molecular Design Toolkit](img/header.png)\n",
    "\n",
    "<br>\n",
    "\n",
    "# Get started\n",
    "\n",
    "Get started with these step-by-step demonstration notebooks. Check out the accompanying [video tutorials](https://www.youtube.com/channel/UCRmzThLOYJ3Tx1e81fXRfOA).\n",
    "\n",
    "* [Simulate a small piece of DNA](http://example.com/ \"Title\")\n",
    "* [Visualize molecular orbitals](http://example.com/ \"Title\")\n",
    "* [Simulate a molecule from the Protein Database](http://example.com/ \"Title\")\n",
    "* [Create custom and interactive visualizations](http://example.com/ \"Title\")\n",
    "\n",
    "\n",
    "# Advanced examples\n",
    "\n",
    "* [Simulate a small piece of DNA](http://example.com/ \"Title\")\n",
    "* [Visualize molecular orbitals](http://example.com/ \"Title\")\n",
    "* [Simulate a molecule from the Protein Database](http://example.com/ \"Title\")\n",
    "* [Create custom and interactive visualizations](http://example.com/ \"Title\")\n",
    "\n",
    "\n",
    "# Documentation\n",
    "\n",
    "* [User Guide](http://example.com/ \"Title\")\n",
    "* [Using Jupyter Notebooks](http://jupyter-notebook-beginner-guide.readthedocs.io/en/latest/what_is_jupyter.html \"Title\")\n",
    "\n",
    "\n",
    "# Get in touch\n",
    "\n",
    " * Visit our [forum](https://forum.bionano.autodesk.com/c/Molecular-Design-Toolkit \"Forum\") to submit feedback, suggestions, and discuss molecular simulation.\n",
    " * [Learn more](http://bionano.autodesk.com/) about BioNano Research at Autodesk.\n",
    "\n",
    "\n",
    "# Get help\n",
    "\n",
    " * [File a bug report](https://github.com/autodesk/molecular-design-toolkit)\n",
    " * [Contact us](mailto:moleculardesigntoolkit@autodesk.com)\n",
    "\n",
    "Contact us at moleculardesigntoolkit@autodesk.com\n",
    "\n",
    "<br>\n",
    "<br>\n",
    "Enjoy!\n",
    "\n",
    "![Molecular Design Toolkit](img/Molecules.png)\n",
    "\n",
    "<br>\n",
    "<br>"
   ]
  },
  {
   "cell_type": "code",
   "execution_count": null,
   "metadata": {
    "collapsed": true
   },
   "outputs": [],
   "source": []
  },
  {
   "cell_type": "code",
   "execution_count": null,
   "metadata": {
    "collapsed": true
   },
   "outputs": [],
   "source": []
  }
 ],
 "metadata": {
  "kernelspec": {
   "display_name": "Python 2",
   "language": "python",
   "name": "python2"
  },
  "language_info": {
   "codemirror_mode": {
    "name": "ipython",
    "version": 2
   },
   "file_extension": ".py",
   "mimetype": "text/x-python",
   "name": "python",
   "nbconvert_exporter": "python",
   "pygments_lexer": "ipython2",
   "version": "2.7.11"
  },
  "widgets": {
   "state": {},
   "version": "1.1.2"
  }
 },
 "nbformat": 4,
 "nbformat_minor": 0
}
