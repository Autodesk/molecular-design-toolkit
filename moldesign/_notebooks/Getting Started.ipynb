{
 "cells": [
  {
   "cell_type": "markdown",
   "metadata": {
    "collapsed": true
   },
   "source": [
    "![Molecular Design Toolkit](img/header.png)\n",
    "\n",
    "<br>\n",
    "\n",
    "# Get started \n",
    "\n",
    "Get started with these step-by-step demonstration notebooks. Check out the accompanying [video tutorials](https://www.youtube.com/channel/UCRmzThLOYJ3Tx1e81fXRfOA).\n",
    "\n",
    "* [Tutorial 1: Simulate a small piece of DNA](Tutorial 1. Build and simulate DNA.ipynb)\n",
    "* [Tutorial 2: Run and visualize quantum chemistry in your notebook](Tutorial 2. Running Quantum Chemistry.ipynb)\n",
    "* [Tutorial 3: Simulate an HIV Protease Crystal Structure](Tutorial 3. Simulate HIV Protease.ipynb)\n",
    "* [Tutorial 4: Create custom and interactive visualizations](http://example.com/ \"Title\")\n",
    "\n",
    "\n",
    "# Keep going\n",
    "\n",
    "* [Simulate a biomolecular assembly from PDB](HollidayJunction.ipynb)\n",
    "* [Analyze electronic transfer](ElectronTransfer.ipynb)\n",
    "\n",
    "\n",
    "# Read the docs\n",
    "* [Molecular Design Toolkit Documentation](http://autodesk.github.io/molecular-design-toolkit/)\n",
    "* [Using Jupyter Notebooks](http://jupyter-notebook-beginner-guide.readthedocs.io/en/latest/what_is_jupyter.html \"Title\")\n",
    "\n",
    "\n",
    "# Get in touch\n",
    " * Visit our [forum](https://forum.bionano.autodesk.com/c/Molecular-Design-Toolkit \"Forum\") for feedback, suggestions, and discussion.\n",
    " * [Learn more](http://bionano.autodesk.com/) about BioNano Research at Autodesk.\n",
    "\n",
    "\n",
    "# Get help\n",
    " * [File a bug report](https://github.com/autodesk/molecular-design-toolkit)\n",
    " * [Contact us](mailto:moleculardesigntoolkit@autodesk.com)\n",
    "\n",
    "Contact us at moleculardesigntoolkit@autodesk.com\n",
    "\n",
    "<br>\n",
    "<br>\n",
    "Enjoy!\n",
    "\n",
    "![Molecular Design Toolkit](img/Molecules.png)"
   ]
  },
  {
   "cell_type": "code",
   "execution_count": null,
   "metadata": {
    "collapsed": true
   },
   "outputs": [],
   "source": []
  }
 ],
 "metadata": {
  "kernelspec": {
   "display_name": "Python 2",
   "language": "python",
   "name": "python2"
  },
  "language_info": {
   "codemirror_mode": {
    "name": "ipython",
    "version": 2
   },
   "file_extension": ".py",
   "mimetype": "text/x-python",
   "name": "python",
   "nbconvert_exporter": "python",
   "pygments_lexer": "ipython2",
   "version": "2.7.12"
  }
 },
 "nbformat": 4,
 "nbformat_minor": 0
}