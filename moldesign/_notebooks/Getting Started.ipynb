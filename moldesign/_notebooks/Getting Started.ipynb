{
 "cells": [
  {
   "cell_type": "markdown",
   "metadata": {},
   "source": [
    "![Molecular Design Toolkit](img/Header.png)\n",
    "\n",
    "<br>\n",
    "\n",
    "# Get started \n",
    "\n",
    "Get started with these step-by-step demonstration notebooks. Check out the accompanying [video tutorials](https://www.youtube.com/channel/UCRmzThLOYJ3Tx1e81fXRfOA).\n",
    "\n",
    "* [Tutorial 1. Making a molecule](Tutorial 1. Making a molecule.ipynb)\n",
    "* [Tutorial 2. Biochemical basics](Tutorial 2. Biochemical basics.ipynb)\n",
    "* [Tutorial 3. Quantum Chemistry](Tutorial 3. Quantum Chemistry.ipynb)\n",
    "\n",
    "\n",
    "# Keep going\n",
    "\n",
    "* [Example 1. Build and simulate DNA](Example 1. Build and simulate DNA.ipynb)\n",
    "* [Example 2. UV-vis absorption spectra](Example 2. UV-vis absorption spectra.ipynb)\n",
    "* [Example 3. Simulating a crystal structure](Example 3. Simulating a crystal structure.ipynb)\n",
    "* [Example 4. HIV Protease bound to an inhibitor](Example 4. HIV Protease bound to an inhibitor.ipynb)\n",
    "* [Example 5. Enthalpic barriers](Example 5. Enthalpic barriers.ipynb)\n",
    "\n",
    "\n",
    "# Read the docs\n",
    "* [Molecular Design Toolkit Documentation](http://autodesk.github.io/molecular-design-toolkit/)\n",
    "* [Using Jupyter Notebooks](http://jupyter-notebook-beginner-guide.readthedocs.io/en/latest/what_is_jupyter.html \"Title\")\n",
    "\n",
    "\n",
    "# Get in touch\n",
    " * [Learn more](http://lifesciences.autodesk.com/) about Life Sciences at Autodesk.\n",
    "\n",
    "\n",
    "# Get help\n",
    " * [File a bug report](https://github.com/autodesk/molecular-design-toolkit/issues)\n",
    " * [Contact us](mailto:moleculardesigntoolkit@autodesk.com)\n",
    "\n",
    "Contact us at moleculardesigntoolkit@autodesk.com\n",
    "\n",
    "\n",
    "![Molecular Design Toolkit](img/Molecules.png)"
   ]
  },
  {
   "cell_type": "code",
   "execution_count": null,
   "metadata": {
    "collapsed": true
   },
   "outputs": [],
   "source": []
  }
 ],
 "metadata": {
  "kernelspec": {
   "display_name": "Python 3",
   "language": "python",
   "name": "python3"
  },
  "language_info": {
   "codemirror_mode": {
    "name": "ipython",
    "version": 3
   },
   "file_extension": ".py",
   "mimetype": "text/x-python",
   "name": "python",
   "nbconvert_exporter": "python",
   "pygments_lexer": "ipython3",
   "version": "3.6.1"
  }
 },
 "nbformat": 4,
 "nbformat_minor": 1
}
