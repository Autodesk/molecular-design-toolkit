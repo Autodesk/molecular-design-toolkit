{
 "cells": [
  {
   "cell_type": "markdown",
   "metadata": {},
   "source": [
    "# Build and simulate DNA\n",
    "This notebook uses AmberTools and OpenMM to perform a quick molecular dynamics simulation of a small DNA duplex."
   ]
  },
  {
   "cell_type": "code",
   "execution_count": 1,
   "metadata": {
    "collapsed": false
   },
   "outputs": [
    {
     "name": "stdout",
     "output_type": "stream",
     "text": [
      "Reading configuration from /Users/aaronvirshup/.moldesign/moldesign.yml\n"
     ]
    }
   ],
   "source": [
    "%matplotlib inline\n",
    "from matplotlib.pyplot import *\n",
    "import moldesign as mdt\n",
    "from moldesign import units as u"
   ]
  },
  {
   "cell_type": "markdown",
   "metadata": {},
   "source": [
    "### 1. Set unit system\n",
    "These will be the default output units for display."
   ]
  },
  {
   "cell_type": "code",
   "execution_count": 2,
   "metadata": {
    "collapsed": false
   },
   "outputs": [],
   "source": [
    "mdt.units.default.energy = u.kcalpermol\n",
    "mdt.units.default.length = u.nm\n",
    "mdt.units.default.time = u.ps"
   ]
  },
  {
   "cell_type": "markdown",
   "metadata": {},
   "source": [
    "### 2. Build a DNA helix"
   ]
  },
  {
   "cell_type": "code",
   "execution_count": 2,
   "metadata": {
    "collapsed": false,
    "scrolled": true
   },
   "outputs": [
    {
     "ename": "KeyError",
     "evalue": "'helix.pdb'",
     "output_type": "error",
     "traceback": [
      "\u001b[0;31m---------------------------------------------------------------------------\u001b[0m",
      "\u001b[0;31mKeyError\u001b[0m                                  Traceback (most recent call last)",
      "\u001b[0;32m<ipython-input-2-66a70fb4f925>\u001b[0m in \u001b[0;36m<module>\u001b[0;34m()\u001b[0m\n\u001b[0;32m----> 1\u001b[0;31m \u001b[0mdna_structure\u001b[0m \u001b[0;34m=\u001b[0m \u001b[0mmdt\u001b[0m\u001b[0;34m.\u001b[0m\u001b[0mbuild_bdna\u001b[0m\u001b[0;34m(\u001b[0m\u001b[0;34m'ACTGACTG'\u001b[0m\u001b[0;34m)\u001b[0m\u001b[0;34m\u001b[0m\u001b[0m\n\u001b[0m\u001b[1;32m      2\u001b[0m \u001b[0mviewer\u001b[0m \u001b[0;34m=\u001b[0m \u001b[0mdna_structure\u001b[0m\u001b[0;34m.\u001b[0m\u001b[0mdraw\u001b[0m\u001b[0;34m(\u001b[0m\u001b[0;34m)\u001b[0m\u001b[0;34m\u001b[0m\u001b[0m\n\u001b[1;32m      3\u001b[0m \u001b[0mviewer\u001b[0m\u001b[0;34m\u001b[0m\u001b[0m\n",
      "\u001b[0;32m/Users/aaronvirshup/python_pkg/moldesign/interfaces/ambertools.pyc\u001b[0m in \u001b[0;36mbuild_bdna\u001b[0;34m(sequence, image, engine)\u001b[0m\n\u001b[1;32m    109\u001b[0m     \u001b[0muibase\u001b[0m\u001b[0;34m.\u001b[0m\u001b[0mlogs\u001b[0m\u001b[0;34m.\u001b[0m\u001b[0mdisplay\u001b[0m\u001b[0;34m(\u001b[0m\u001b[0mjob\u001b[0m\u001b[0;34m,\u001b[0m \u001b[0mjob\u001b[0m\u001b[0;34m.\u001b[0m\u001b[0mname\u001b[0m\u001b[0;34m)\u001b[0m\u001b[0;34m\u001b[0m\u001b[0m\n\u001b[1;32m    110\u001b[0m     \u001b[0mjob\u001b[0m\u001b[0;34m.\u001b[0m\u001b[0mwait\u001b[0m\u001b[0;34m(\u001b[0m\u001b[0;34m)\u001b[0m\u001b[0;34m\u001b[0m\u001b[0m\n\u001b[0;32m--> 111\u001b[0;31m     \u001b[0mmol\u001b[0m \u001b[0;34m=\u001b[0m \u001b[0mconverters\u001b[0m\u001b[0;34m.\u001b[0m\u001b[0mread\u001b[0m\u001b[0;34m(\u001b[0m\u001b[0mjob\u001b[0m\u001b[0;34m.\u001b[0m\u001b[0mget_output\u001b[0m\u001b[0;34m(\u001b[0m\u001b[0;34m'helix.pdb'\u001b[0m\u001b[0;34m)\u001b[0m\u001b[0;34m,\u001b[0m \u001b[0mformat\u001b[0m\u001b[0;34m=\u001b[0m\u001b[0;34m'pdb'\u001b[0m\u001b[0;34m)\u001b[0m\u001b[0;34m\u001b[0m\u001b[0m\n\u001b[0m\u001b[1;32m    112\u001b[0m     \u001b[0mmol\u001b[0m\u001b[0;34m.\u001b[0m\u001b[0mname\u001b[0m \u001b[0;34m=\u001b[0m \u001b[0;34m'BDNA: %s'\u001b[0m \u001b[0;34m%\u001b[0m \u001b[0msequence\u001b[0m\u001b[0;34m\u001b[0m\u001b[0m\n\u001b[1;32m    113\u001b[0m     \u001b[0;32mreturn\u001b[0m \u001b[0mmol\u001b[0m\u001b[0;34m\u001b[0m\u001b[0m\n",
      "\u001b[0;32m/Users/aaronvirshup/python_pkg/pyccc/job.pyc\u001b[0m in \u001b[0;36mget_output\u001b[0;34m(self, filename)\u001b[0m\n\u001b[1;32m    162\u001b[0m         \"\"\"\n\u001b[1;32m    163\u001b[0m         \u001b[0;32mif\u001b[0m \u001b[0;32mnot\u001b[0m \u001b[0mself\u001b[0m\u001b[0;34m.\u001b[0m\u001b[0m_finished\u001b[0m\u001b[0;34m:\u001b[0m \u001b[0mself\u001b[0m\u001b[0;34m.\u001b[0m\u001b[0m_finish_job\u001b[0m\u001b[0;34m(\u001b[0m\u001b[0;34m)\u001b[0m\u001b[0;34m\u001b[0m\u001b[0m\n\u001b[0;32m--> 164\u001b[0;31m         \u001b[0;32mif\u001b[0m \u001b[0mfilename\u001b[0m\u001b[0;34m:\u001b[0m \u001b[0;32mreturn\u001b[0m \u001b[0mself\u001b[0m\u001b[0;34m.\u001b[0m\u001b[0m_output_files\u001b[0m\u001b[0;34m[\u001b[0m\u001b[0mfilename\u001b[0m\u001b[0;34m]\u001b[0m\u001b[0;34m\u001b[0m\u001b[0m\n\u001b[0m\u001b[1;32m    165\u001b[0m         \u001b[0;32melse\u001b[0m\u001b[0;34m:\u001b[0m \u001b[0;32mreturn\u001b[0m \u001b[0mself\u001b[0m\u001b[0;34m.\u001b[0m\u001b[0m_output_files\u001b[0m\u001b[0;34m\u001b[0m\u001b[0m\n\u001b[1;32m    166\u001b[0m \u001b[0;34m\u001b[0m\u001b[0m\n",
      "\u001b[0;31mKeyError\u001b[0m: 'helix.pdb'"
     ]
    }
   ],
   "source": [
    "dna_structure = mdt.build_bdna('ACTGACTG')\n",
    "viewer = dna_structure.draw()\n",
    "viewer"
   ]
  },
  {
   "cell_type": "markdown",
   "metadata": {},
   "source": [
    "As you can see, we've got a nice strand of DNA with a bunch of not-so-nice water molecules surrounding it. We'll remove those before going any farther."
   ]
  },
  {
   "cell_type": "markdown",
   "metadata": {},
   "source": [
    "### Set up forcefield\n",
    "Next, we'll assign forcefield parameters to our system. This will also add any missing hydrogens to the molecule.\n",
    "\n",
    "Notice that, while this runs, a tab named \"tleap\" will appear under the cell. Go ahead and click on this - it indicates that the tleap command was run remotely using Docker. Especially during \"production\", it's important to examine the program's logs and understand the meaning of any warnings or errors it emits."
   ]
  },
  {
   "cell_type": "code",
   "execution_count": 5,
   "metadata": {
    "collapsed": false
   },
   "outputs": [
    {
     "name": "stderr",
     "output_type": "stream",
     "text": [
      "Exception TypeError: TypeError(\"'NoneType' object is not callable\",) in  ignored\n"
     ]
    },
    {
     "name": "stdout",
     "output_type": "stream",
     "text": [
      "No config file found at /root/.moldesign/moldesign.yml - using defaults\n"
     ]
    }
   ],
   "source": [
    "mol = mdt.assign_forcefield(dna_structure)"
   ]
  },
  {
   "cell_type": "markdown",
   "metadata": {},
   "source": [
    "### Set up geometry constraints\n",
    "Because this a very small piece of DNA, it's likely to unravel as we simulate it. To keep this from happening, let's **freeze the terminal base pairs on each strand**.\n",
    "\n",
    "**Click on the base pairs to be constrained:**"
   ]
  },
  {
   "cell_type": "code",
   "execution_count": 6,
   "metadata": {
    "collapsed": false,
    "scrolled": true
   },
   "outputs": [],
   "source": [
    "rs = mdt.ui.ResidueSelector(mol)\n",
    "rs"
   ]
  },
  {
   "cell_type": "code",
   "execution_count": 7,
   "metadata": {
    "collapsed": false
   },
   "outputs": [],
   "source": [
    "for atom in rs.selected_atoms:\n",
    "    mol.constrain_atom(atom)"
   ]
  },
  {
   "cell_type": "markdown",
   "metadata": {},
   "source": [
    "Of course, fixing the positions of the terminal base pairs is a fairly extreme step. For extra credit, see if you can find a less heavy-handed keep the terminal base pairs bonded. (Try using tab-completion to see what other constraint methods are available)"
   ]
  },
  {
   "cell_type": "markdown",
   "metadata": {},
   "source": [
    "## Simulation\n",
    "We're set up - let's run dynamics! We'll:\n",
    " 1. Add an OpenMM energy model and a Langevin integrator to our molecule\n",
    " 1. run a short energy minimization to remove any large instabilities, and\n",
    " 1. Run 50 ps of dynamics"
   ]
  },
  {
   "cell_type": "code",
   "execution_count": 10,
   "metadata": {
    "collapsed": false
   },
   "outputs": [],
   "source": [
    "model = mdt.models.OpenMMPotential(implicit_solvent='obc',\n",
    "                                  cutoff=5.0*u.angstrom)\n",
    "integrator = mdt.integrators.OpenMMLangevin(timestep=2.0*u.fs, constraints=['hbonds'],\n",
    "                                          temperature=300.0*u.kelvin,\n",
    "                                          frame_interval=1.0*u.ps)\n",
    "mol.set_energy_model(model)\n",
    "mol.set_integrator(integrator)"
   ]
  },
  {
   "cell_type": "markdown",
   "metadata": {},
   "source": [
    "The parameters for the energy model, integrator, and constraints can be reviewed (and modified) at any time:"
   ]
  },
  {
   "cell_type": "code",
   "execution_count": 11,
   "metadata": {
    "collapsed": false
   },
   "outputs": [
    {
     "data": {
      "text/plain": [
       "{'constrain_hbonds': True,\n",
       " 'constrain_water': None,\n",
       " 'cutoff': <Quantity(5.0, 'ang')>,\n",
       " 'ewald_error': 0.0005,\n",
       " 'forcefield': None,\n",
       " 'implicit_solvent': 'obc',\n",
       " 'nonbonded': 'cutoff',\n",
       " 'periodic': False,\n",
       " 'solute_dielectric': 1.0,\n",
       " 'solvent_dielectric': 78.5}"
      ]
     },
     "execution_count": 11,
     "metadata": {},
     "output_type": "execute_result"
    }
   ],
   "source": [
    "model.params"
   ]
  },
  {
   "cell_type": "code",
   "execution_count": 12,
   "metadata": {
    "collapsed": false
   },
   "outputs": [
    {
     "data": {
      "text/plain": [
       "{'collision_rate': <Quantity(1.0, '1 / ps')>,\n",
       " 'constraints': ['hbonds'],\n",
       " 'frame_interval': <Quantity(1.0, 'ps')>,\n",
       " 'remove_rotation': False,\n",
       " 'remove_translation': True,\n",
       " 'temperature': <Quantity(300.0, 'kelvin')>,\n",
       " 'timestep': <Quantity(2.0, 'fs')>}"
      ]
     },
     "execution_count": 12,
     "metadata": {},
     "output_type": "execute_result"
    }
   ],
   "source": [
    "integrator.params"
   ]
  },
  {
   "cell_type": "code",
   "execution_count": 13,
   "metadata": {
    "collapsed": false
   },
   "outputs": [],
   "source": [
    "for constraint in mol.constraints: print constraint"
   ]
  },
  {
   "cell_type": "markdown",
   "metadata": {},
   "source": [
    "Nearly every MD simulation should be preceded by an energy minimization, especially for crystal structure data. This will remove any energetically catastrophic clashes between atoms and prevent our simulation from blowing up."
   ]
  },
  {
   "cell_type": "code",
   "execution_count": 14,
   "metadata": {
    "collapsed": false
   },
   "outputs": [
    {
     "name": "stderr",
     "output_type": "stream",
     "text": [
      "/usr/local/lib/python2.7/dist-packages/simtk/openmm/app/internal/amber_file_parser.py:1010: UserWarning: Non-optimal GB parameters detected for GB model OBC2\n",
      "  'model %s' % gbmodel)\n",
      "Exception TypeError: TypeError(\"'NoneType' object is not callable\",) in  ignored\n"
     ]
    },
    {
     "name": "stdout",
     "output_type": "stream",
     "text": [
      "No config file found at /root/.moldesign/moldesign.yml - using defaults\n",
      "Parsing stored PRMTOP file: In-memory file from string (224812 chars)\n",
      "Created force field using embedded prmtop file\n",
      "Created OpenMM kernel (Platform: CPU)\n",
      "INFO: Copying atoms into new molecule\n",
      "Reduced energy from -1908.64001687 kcalpermol to -5591.73501216 kcalpermol\n"
     ]
    },
    {
     "data": {
      "image/png": "[encoded data removed]",
      "text/plain": [
       "<matplotlib.figure.Figure at 0x1176925d0>"
      ]
     },
     "metadata": {},
     "output_type": "display_data"
    }
   ],
   "source": [
    "trajectory = mol.minimize(nsteps=200)\n",
    "plot(trajectory.potential_energy)\n",
    "xlabel('steps');ylabel('energy / %s'%trajectory.potential_energy.units)\n",
    "title('Energy relaxation')\n",
    "grid()\n",
    "viz = trajectory.draw3d()\n",
    "viz.licorice()\n",
    "viz"
   ]
  },
  {
   "cell_type": "markdown",
   "metadata": {},
   "source": [
    "### Dynamics\n",
    "We're ready to run 25 picoseconds of dynamics at room temperature (that's 300º Kelvin). This will probably take a few minutes - if you're on an especially pokey computer, you might want to reduce the length of the simulation."
   ]
  },
  {
   "cell_type": "code",
   "execution_count": 20,
   "metadata": {
    "collapsed": false
   },
   "outputs": [
    {
     "name": "stderr",
     "output_type": "stream",
     "text": [
      "/usr/local/lib/python2.7/dist-packages/simtk/openmm/app/internal/amber_file_parser.py:1010: UserWarning: Non-optimal GB parameters detected for GB model OBC2\n",
      "  'model %s' % gbmodel)\n",
      "Exception TypeError: TypeError(\"'NoneType' object is not callable\",) in  ignored\n"
     ]
    },
    {
     "name": "stdout",
     "output_type": "stream",
     "text": [
      "No config file found at /root/.moldesign/moldesign.yml - using defaults\n",
      "Parsing stored PRMTOP file: In-memory file from string (224812 chars)\n",
      "Created force field using embedded prmtop file\n",
      "Created OpenMM kernel (Platform: CPU)\n",
      "INFO: Copying atoms into new molecule\n",
      "time / fs                 potential / eV                  kinetic / eV                    T / kelvin\n",
      "1000.0                    -232.073647465                 17.8635068704                  311.49121828\n",
      "2000.0                    -230.694648485                 17.7133845443                 308.873491167\n",
      "3000.0                    -231.566838846                 17.8571804481                 311.380902595\n",
      "4000.0                    -230.377510424                 17.0106242728                 296.619253815\n",
      "5000.0                    -231.111674993                 18.4684638222                 322.040030407\n",
      "6000.0                    -231.875046981                 16.3539212927                 285.168130988\n",
      "7000.0                    -232.117553921                 17.4109937156                 303.600613434\n",
      "8000.0                    -231.816711911                 18.5935791425                 324.221703011\n",
      "9000.0                    -231.410237084                 18.2605146381                 318.413959382\n",
      "10000.0                   -231.961413361                 17.3185251307                 301.988211547\n",
      "11000.0                    -231.10392648                 18.5799874271                 323.984700275\n",
      "12000.0                   -230.445677931                 17.6577014925                 307.902529431\n",
      "13000.0                   -231.594495694                 17.1899975418                 299.747038214\n",
      "14000.0                   -231.083609947                 17.3895877841                 303.227351917\n",
      "15000.0                   -231.393394706                 17.1146748052                 298.433613522\n",
      "16000.0                   -231.240455899                 17.4741479735                 304.701852786\n",
      "17000.0                   -232.660347883                 18.2947167613                 319.010351852\n",
      "18000.0                   -230.699178085                 18.3810504814                 320.515778299\n",
      "19000.0                   -231.695572123                 17.4450198951                 304.193937924\n",
      "20000.0                   -231.864910692                 16.6727704802                  290.72799796\n",
      "21000.0                   -231.281799299                 17.9395405709                 312.817040257\n",
      "22000.0                   -230.982209375                 18.2161570615                 317.640483284\n",
      "23000.0                   -230.798935993                 18.3283611676                 319.597019252\n",
      "24000.0                   -230.585206987                 17.4451938328                 304.196970926\n"
     ]
    }
   ],
   "source": [
    "integrator.params.frame_interval=500\n",
    "traj = mol.run(run_for=25.0*u.ps)"
   ]
  },
  {
   "cell_type": "markdown",
   "metadata": {},
   "source": [
    "## Analysis\n",
    "Let's look at the results of our trajectory. The trajectory object (named `traj`) gives us direct access to the timeseries data:"
   ]
  },
  {
   "cell_type": "code",
   "execution_count": 16,
   "metadata": {
    "collapsed": false
   },
   "outputs": [
    {
     "data": {
      "text/plain": [
       "[<matplotlib.lines.Line2D at 0x117c11290>]"
      ]
     },
     "execution_count": 16,
     "metadata": {},
     "output_type": "execute_result"
    },
    {
     "data": {
      "image/png": "[encoded data removed]",
      "text/plain": [
       "<matplotlib.figure.Figure at 0x118143e50>"
      ]
     },
     "metadata": {},
     "output_type": "display_data"
    },
    {
     "data": {
      "image/png": "[encoded data removed]",
      "text/plain": [
       "<matplotlib.figure.Figure at 0x118161f50>"
      ]
     },
     "metadata": {},
     "output_type": "display_data"
    }
   ],
   "source": [
    "figure()\n",
    "plot(traj.time, traj.kinetic_energy, label='kinetic energy')\n",
    "plot(traj.time, traj.potential_energy - traj.potential_energy[0], label='potential_energy')\n",
    "xlabel('time / {time.units}'.format(time=traj.time))\n",
    "ylabel('energy / {energy.units}'.format(energy=traj.kinetic_energy))\n",
    "grid()\n",
    "legend(loc='center right')\n",
    "\n",
    "figure()\n",
    "# Using the trajectory's 'plot' method will autogenerate axes labels with the appropriate units\n",
    "traj.plot('time','kinetic_temperature')"
   ]
  },
  {
   "cell_type": "markdown",
   "metadata": {},
   "source": [
    "Of course, it's always nice to see the 3D structure:"
   ]
  },
  {
   "cell_type": "code",
   "execution_count": 17,
   "metadata": {
    "collapsed": false
   },
   "outputs": [],
   "source": [
    "viewer = traj.draw3d()\n",
    "viewer"
   ]
  },
  {
   "cell_type": "markdown",
   "metadata": {},
   "source": [
    "If you examine the dynamics, you'll likely observe one or more base pairs flipping out of the double helix. They'll be different every time because the simulation uses random numbers to generate the thermal fluctuations.\n",
    "\n",
    "In the next cell, try plotting the RMSDs of a few base pairs. You can get the residue's names by clicking on them in the trajectory animation."
   ]
  },
  {
   "cell_type": "code",
   "execution_count": 19,
   "metadata": {
    "collapsed": false
   },
   "outputs": [
    {
     "data": {
      "text/plain": [
       "<matplotlib.legend.Legend at 0x118369a10>"
      ]
     },
     "execution_count": 19,
     "metadata": {},
     "output_type": "execute_result"
    },
    {
     "data": {
      "image/png": "[encoded data removed]",
      "text/plain": [
       "<matplotlib.figure.Figure at 0x11711cfd0>"
      ]
     },
     "metadata": {},
     "output_type": "display_data"
    }
   ],
   "source": [
    "res0 = mol.residues[0]\n",
    "res1 = mol.residues[2]\n",
    "res2 = mol.residues[3]\n",
    "\n",
    "figure()\n",
    "plot(traj.time, traj.rmsd(), lw=2, label='overall rmsd')\n",
    "plot(traj.time, traj.rmsd(res0.atoms), label='fixed residue')\n",
    "plot(traj.time, traj.rmsd(res1.atoms), label='flipped residue')\n",
    "plot(traj.time, traj.rmsd(res2.atoms), label='unflipped residue')\n",
    "grid()\n",
    "xlabel('time / fs')\n",
    "ylabel(u'rmsd / {}'.format(u.default.length))\n",
    "legend(loc='upper left')"
   ]
  },
  {
   "cell_type": "code",
   "execution_count": null,
   "metadata": {
    "collapsed": true
   },
   "outputs": [],
   "source": []
  }
 ],
 "metadata": {
  "kernelspec": {
   "display_name": "Python 2",
   "language": "python",
   "name": "python2"
  },
  "language_info": {
   "codemirror_mode": {
    "name": "ipython",
    "version": 2
   },
   "file_extension": ".py",
   "mimetype": "text/x-python",
   "name": "python",
   "nbconvert_exporter": "python",
   "pygments_lexer": "ipython2",
   "version": "2.7.11"
  },
  "widgets": {
   "state": {
    "00e0a3c8e7a14b0aba5a5b7bc6c0af0f": {
     "views": []
    },
    "08da0a38a0ab4e3bb50e029e2d247529": {
     "views": []
    },
    "108fc8819ba7408f9ef50bdbc196d6a9": {
     "views": []
    },
    "14e94b3765b94247afa6da570df33b41": {
     "views": []
    },
    "159accad911c452da301eebc2a109de8": {
     "views": []
    },
    "1b6ee2c31ee14572969aa783c66b68ef": {
     "views": []
    },
    "24d1321103114e548891a812d44b3f5b": {
     "views": []
    },
    "28f90d18fd5846899d0701c3e2669803": {
     "views": [
      {
       "cell_index": 5
      }
     ]
    },
    "2c989f91b5b440fe886002b643965aa1": {
     "views": []
    },
    "2fb91633f13a4e8a8f16af8f28870357": {
     "views": []
    },
    "31986b94822841ea9264551f8319eaaa": {
     "views": []
    },
    "3547238c2ed24efbbcc653b87d895db2": {
     "views": []
    },
    "367878cc34404a24b4ea70e5a9c94c49": {
     "views": []
    },
    "37e7960c98ca4ff0bc7575409b934e8e": {
     "views": []
    },
    "4103e73444814bb2a9adf6a3a858e674": {
     "views": []
    },
    "41f253a2056e4107b73f4fe6f4435619": {
     "views": []
    },
    "4244825c6d974d04b5dbc06a2e822ec2": {
     "views": []
    },
    "4247a047f1bf4cbaa9df95a4af201943": {
     "views": []
    },
    "45795f191dcd405d8db6e621e51d0235": {
     "views": []
    },
    "47113996f50a47838ae45e2dfa79aeeb": {
     "views": []
    },
    "49289f74369449f3afa6b37e150da2fa": {
     "views": []
    },
    "4d745a5828644ac7a62acda4f0887d43": {
     "views": []
    },
    "53dc1c55b72c4ea0bf8e31b30ad7e249": {
     "views": []
    },
    "5920d36a4df64eaa9180aa06d5b13a0e": {
     "views": []
    },
    "5b25e7e32c1d41e7a3d3530b437deb50": {
     "views": []
    },
    "64133dec7f4a44e3953f7ea254545d14": {
     "views": []
    },
    "67cb898b6d2f44139f15ef5c9265e89d": {
     "views": []
    },
    "74a673c529ad4b5bb45614d70e8e8ad7": {
     "views": []
    },
    "74bf232b02ad4c8fb4c9d99f52101bd7": {
     "views": []
    },
    "75ace71458ba465a95ca95fc1e69440b": {
     "views": []
    },
    "760f0d46f42749cda1543f46bf63f968": {
     "views": []
    },
    "76218d8ab5e6404b9565533756520745": {
     "views": []
    },
    "777b22d895654ddf94b16e96e08376eb": {
     "views": []
    },
    "7e01f791a8944998b7f7b914aabcb4d4": {
     "views": []
    },
    "8005ea4f9329450bbc3261fc18923aca": {
     "views": []
    },
    "849c8876bca143d498e1ad5f56b9765c": {
     "views": []
    },
    "85c2626c1ff0494cb65f4c4261f869c9": {
     "views": []
    },
    "8721f6d4bd3642a4a8610f49d460339e": {
     "views": []
    },
    "8ca90e9461ee498080789f9deab2d23a": {
     "views": []
    },
    "90114d935c2140d092789195bbf4b404": {
     "views": []
    },
    "91c01be33c13422486e0105742e90bc7": {
     "views": []
    },
    "92c7d1ab9b1d45a1a465fcf6eae66b99": {
     "views": []
    },
    "94d57bb32af6486e93640a6e4948ec24": {
     "views": []
    },
    "9cd9eb07ef9e43748b38c5d365ab52f9": {
     "views": []
    },
    "9d92ab796e0b4b00bc8d9059730b5b30": {
     "views": []
    },
    "9f09b1768d424272a637ae6a878a696e": {
     "views": []
    },
    "a2daffd017264f11970c3aff7b88471d": {
     "views": []
    },
    "a5dfad5f64714d969329cf4fbc511ce7": {
     "views": []
    },
    "a9285792b83f4f568bb6dadc59fedecd": {
     "views": []
    },
    "aaca6aa3259240ea978ea89addb01822": {
     "views": []
    },
    "ab7b788fc9514b1aa565dfd031e65fe1": {
     "views": []
    },
    "ac08f640cefc46be9be82bfaa28227fa": {
     "views": []
    },
    "b05d38f6e556425289e8886f8e810034": {
     "views": []
    },
    "b241afcf80684155af267d94fe6d9b7f": {
     "views": []
    },
    "b3317557c8ec49ca87a56d646e441f2f": {
     "views": []
    },
    "b56a3c6331ff4d04b3a84bcc1444c955": {
     "views": []
    },
    "ba780e9cb9764b94a8e787020dfebe15": {
     "views": []
    },
    "bc77512e238f4130a5c60b8603ee9a0b": {
     "views": []
    },
    "bed87657a6104b7095e809cf2190e611": {
     "views": []
    },
    "c536a0b733454db1874333aafc14a7de": {
     "views": []
    },
    "c86d7da42ea546fdb4af5c11fb55fad1": {
     "views": []
    },
    "cc0e058848a14e2a845fca48551f8b87": {
     "views": []
    },
    "cdb7d35765644e39a20a5b075544162a": {
     "views": []
    },
    "d4913c29943b424cb440d88415cd4a35": {
     "views": []
    },
    "d7953ed990654ae9bdf3581f71a9cb98": {
     "views": []
    },
    "d9eb784b07334bbb9b366c4679c0842e": {
     "views": []
    },
    "db811d1b369b4edd8e5c442428de0114": {
     "views": []
    },
    "e3172f03457c4ab4b99a0f134a138975": {
     "views": []
    },
    "e4ac7681f8994ac2aef80aa5f9df7fe1": {
     "views": []
    },
    "e5918863f0aa4ee882dd537dfd913218": {
     "views": []
    },
    "e858ef14ae6c4910be30a79c78f28796": {
     "views": []
    },
    "e9fb695fdc444db0bd8708b078c3ffac": {
     "views": []
    },
    "eb7a96ea1b7f49cc9d8fbad4a22725a4": {
     "views": []
    },
    "ed07c75267834ed0a33b53bb686ddf8f": {
     "views": []
    },
    "f0c4355d4c944bd2924d27588578d29e": {
     "views": []
    },
    "f0e666df01c045da8650f894e75688d8": {
     "views": []
    },
    "f4d357e65e0a45cd9377e7127280c351": {
     "views": []
    },
    "f80d6dc4de6f444584eca2c20cab22d5": {
     "views": []
    },
    "f98d889e496b406082ab37ac3b48f6d6": {
     "views": []
    },
    "fa69d7ede77b4f9db8eed760b7a6b705": {
     "views": []
    }
   },
   "version": "1.1.2"
  }
 },
 "nbformat": 4,
 "nbformat_minor": 0
}
