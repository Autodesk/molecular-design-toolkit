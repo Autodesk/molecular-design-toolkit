{
 "cells": [
  {
   "cell_type": "code",
   "execution_count": 1,
   "metadata": {
    "collapsed": false
   },
   "outputs": [
    {
     "name": "stdout",
     "output_type": "stream",
     "text": [
      "Reading configuration from /Users/aaronvirshup/mycode/bb_virtual/.moldesign/moldesign.yml\n"
     ]
    }
   ],
   "source": [
    "import moldesign as mdt\n",
    "from moldesign import units as u"
   ]
  },
  {
   "cell_type": "markdown",
   "metadata": {},
   "source": [
    "## First, read in the crystal structure\n",
    "\n",
    "When a PDB file is read in, we get only the asymmetric unit to start with. However, MDT will print a warning if possible biomolecular assemblies are found in the file."
   ]
  },
  {
   "cell_type": "code",
   "execution_count": 2,
   "metadata": {
    "collapsed": false,
    "scrolled": true
   },
   "outputs": [
    {
     "name": "stderr",
     "output_type": "stream",
     "text": [
      "/Users/aaronvirshup/mycode/bb_virtual/lib/python2.7/site-packages/Bio/PDB/StructureBuilder.py:87: PDBConstructionWarning: WARNING: Chain C is discontinuous at line 7249.\n",
      "  PDBConstructionWarning)\n",
      "/Users/aaronvirshup/mycode/bb_virtual/lib/python2.7/site-packages/Bio/PDB/StructureBuilder.py:87: PDBConstructionWarning: WARNING: Chain D is discontinuous at line 7269.\n",
      "  PDBConstructionWarning)\n",
      "/Users/aaronvirshup/mycode/bb_virtual/lib/python2.7/site-packages/Bio/PDB/StructureBuilder.py:87: PDBConstructionWarning: WARNING: Chain A is discontinuous at line 7303.\n",
      "  PDBConstructionWarning)\n",
      "/Users/aaronvirshup/mycode/bb_virtual/lib/python2.7/site-packages/Bio/PDB/StructureBuilder.py:87: PDBConstructionWarning: WARNING: Chain B is discontinuous at line 7362.\n",
      "  PDBConstructionWarning)\n"
     ]
    },
    {
     "name": "stdout",
     "output_type": "stream",
     "text": [
      "WARNING: This PDB file contains the following biomolecular assemblies:\n",
      "WARNING: Assembly \"1\": 2 copies of chains C, D, A, B\n",
      "WARNING: Use ``mdt.build_assembly([molecule],[assembly_name])`` to build one of the above assemblies\n",
      "WARN: large structure; waters not shown by default.\n"
     ]
    }
   ],
   "source": [
    "xtal = mdt.from_pdb('1kbu')\n",
    "xtal.draw()"
   ]
  },
  {
   "cell_type": "markdown",
   "metadata": {},
   "source": [
    "## Next, create the biomolecular assembly\n",
    "\n",
    "1KBU only has one biomolecular assembly, conveniently named `'1'`. We'll build it now: "
   ]
  },
  {
   "cell_type": "code",
   "execution_count": 3,
   "metadata": {
    "collapsed": false
   },
   "outputs": [
    {
     "name": "stdout",
     "output_type": "stream",
     "text": [
      "WARN: large structure; waters not shown by default.\n"
     ]
    }
   ],
   "source": [
    "assembly = mdt.build_assembly(xtal,'1')\n",
    "assembly.draw()"
   ]
  },
  {
   "cell_type": "markdown",
   "metadata": {},
   "source": [
    "The text description will give you a good idea of the size of this assembly:"
   ]
  },
  {
   "cell_type": "code",
   "execution_count": 4,
   "metadata": {
    "collapsed": false
   },
   "outputs": [
    {
     "data": {
      "text/markdown": [
       "### Molecule: \"1kbu (bioassembly 1)\" (13428 atoms)\n",
       "\n",
       "**Mass**: 182230.42 amu\n",
       "\n",
       "**Formula**: C<sub>7668</sub>N<sub>2436</sub>O<sub>3132</sub>P<sub>132</sub>S<sub>60</sub>\n",
       "\n",
       "**Potential model**: None\n",
       "\n",
       "**Integrator**: None\n",
       "\n",
       "### Residues\n",
       "\n",
       "| chain | water | solvent | dna | unknown | rna | protein |\n",
       "|-|-|-|-|-|-|-|-|\n",
       "| <pre><b>A</b></pre> | 59 |  |  |  |  | 324 |\n",
       "| <pre><b>B</b></pre> | 124 |  |  |  |  | 319 |\n",
       "| <pre><b>C</b></pre> | 20 |  | 34 |  |  |  |\n",
       "| <pre><b>D</b></pre> | 34 |  | 34 |  |  |  |\n",
       "| <pre><b>E</b></pre> | 20 |  | 34 |  |  |  |\n",
       "| <pre><b>F</b></pre> | 34 |  | 34 |  |  |  |\n",
       "| <pre><b>G</b></pre> | 59 |  |  |  |  | 324 |\n",
       "| <pre><b>H</b></pre> | 124 |  |  |  |  | 319 ||\n",
       "\n",
       "### Chains\n",
       "\n",
       "**A**: `ATSDEVRKNLMDMFRDRQAFSEHTWKMLLSVCRSWAAWCKLNNRKWFPAEPEDVRDYLLYLQARGLAVKTIQQHLGQLNM\n",
       "LHRRSGLPRPSDSNAVSLVMRRIRKENVDAGERAKQALAFERTDFDQVRSLMENSDRCQDIRNLAFLGIAYNTLLRIAEI\n",
       "ARIRVKDISRTDGGRMLIHIGRTKTLVSTAGVEKALSLGVTKLVERWISVSGVADDPNNYLFCRVRKNGVAAPSATSQLS\n",
       "TRALEGIFEATHRLIYGAKDDSGQRYLAWSGHSARVGAARDMARAGVSIPEIMQAGGWTNVNIVMNYIRNLDSETGAMVR\n",
       "LLED`<br>**B**: `TSDEVRKNLMDMFRDRQAFSEHTWKMLLSVCRSWAAWCKLNNRKWFPAEPEDVRDYLLYLQARGLAVKTIQQHLGQLNML\n",
       "HRRSGLPRPSDSNAVSLVMRRIRKENVDAGERAKQALAFERTDFDQVRSLMENSDRCQDIRNLAFLGIAYNTLLRIAEIA\n",
       "RIRVKDISRTDGGRMLIHIGRTKTLVSTAGVEKALSLGVTKLVERWISVSGVADDPNNYLFCRVRKNGVAAPSATSQLST\n",
       "RALEGIFEATHRLIYGAKDDSGQRYLAWSGHSARVGAARDMARAGVSIPEIMQAGGWTNVNIVMNYIRNL....GAMVRL\n",
       "LED`<br>**C**: `DA,DT,DA,DA,DG,DT,DT,DC,DG,DT,DA,DT,DA,DA,DT,DG,DT,DA,DT,DG,DC,DT,DA,DT,DA,DC,DG\n",
       ",DA,DA,DG,DT,DT,DA,DT,`<br>**D**: `DA,DT,DA,DA,DC,DT,DT,DC,DG,DT,DA,DT,DA,DG,DC,DA,DT,DA,DC,DA,DT,DT,DA,DT,DA,DC,DG\n",
       ",DA,DA,DC,DT,DT,DA,DT,`<br>**E**: `DA,DT,DA,DA,DG,DT,DT,DC,DG,DT,DA,DT,DA,DA,DT,DG,DT,DA,DT,DG,DC,DT,DA,DT,DA,DC,DG\n",
       ",DA,DA,DG,DT,DT,DA,DT,`<br>**F**: `DA,DT,DA,DA,DC,DT,DT,DC,DG,DT,DA,DT,DA,DG,DC,DA,DT,DA,DC,DA,DT,DT,DA,DT,DA,DC,DG\n",
       ",DA,DA,DC,DT,DT,DA,DT,`<br>**G**: `ATSDEVRKNLMDMFRDRQAFSEHTWKMLLSVCRSWAAWCKLNNRKWFPAEPEDVRDYLLYLQARGLAVKTIQQHLGQLNM\n",
       "LHRRSGLPRPSDSNAVSLVMRRIRKENVDAGERAKQALAFERTDFDQVRSLMENSDRCQDIRNLAFLGIAYNTLLRIAEI\n",
       "ARIRVKDISRTDGGRMLIHIGRTKTLVSTAGVEKALSLGVTKLVERWISVSGVADDPNNYLFCRVRKNGVAAPSATSQLS\n",
       "TRALEGIFEATHRLIYGAKDDSGQRYLAWSGHSARVGAARDMARAGVSIPEIMQAGGWTNVNIVMNYIRNLDSETGAMVR\n",
       "LLED`<br>**H**: `TSDEVRKNLMDMFRDRQAFSEHTWKMLLSVCRSWAAWCKLNNRKWFPAEPEDVRDYLLYLQARGLAVKTIQQHLGQLNML\n",
       "HRRSGLPRPSDSNAVSLVMRRIRKENVDAGERAKQALAFERTDFDQVRSLMENSDRCQDIRNLAFLGIAYNTLLRIAEIA\n",
       "RIRVKDISRTDGGRMLIHIGRTKTLVSTAGVEKALSLGVTKLVERWISVSGVADDPNNYLFCRVRKNGVAAPSATSQLST\n",
       "RALEGIFEATHRLIYGAKDDSGQRYLAWSGHSARVGAARDMARAGVSIPEIMQAGGWTNVNIVMNYIRNL....GAMVRL\n",
       "LED`"
      ],
      "text/plain": [
       "<1kbu (bioassembly 1) (Molecule), 13428 atoms>"
      ]
     },
     "execution_count": 4,
     "metadata": {},
     "output_type": "execute_result"
    }
   ],
   "source": [
    "assembly"
   ]
  },
  {
   "cell_type": "markdown",
   "metadata": {},
   "source": [
    "Because we're only interested in DNA, we'll create a new molecule using only the DNA residues, and then assign a forcefield to it."
   ]
  },
  {
   "cell_type": "code",
   "execution_count": 5,
   "metadata": {
    "collapsed": false
   },
   "outputs": [
    {
     "name": "stdout",
     "output_type": "stream",
     "text": [
      "INFO: Copying atoms into new molecule\n"
     ]
    },
    {
     "data": {
      "text/markdown": [
       "### Molecule: \"1KBU DNA assembly\" (2776 atoms)\n",
       "\n",
       "**Mass**: 40033.95 amu\n",
       "\n",
       "**Formula**: C<sub>1342</sub>N<sub>494</sub>O<sub>808</sub>P<sub>132</sub>\n",
       "\n",
       "**Potential model**: None\n",
       "\n",
       "**Integrator**: None\n",
       "\n",
       "### Residues\n",
       "\n",
       "| chain | water | solvent | dna | unknown | rna | protein |\n",
       "|-|-|-|-|-|-|-|-|\n",
       "| <pre><b>C</b></pre> |  |  | 34 |  |  |  |\n",
       "| <pre><b>D</b></pre> |  |  | 34 |  |  |  |\n",
       "| <pre><b>E</b></pre> |  |  | 34 |  |  |  |\n",
       "| <pre><b>F</b></pre> |  |  | 34 |  |  |  ||\n",
       "\n",
       "### Chains\n",
       "\n",
       "**C**: `DA,DT,DA,DA,DG,DT,DT,DC,DG,DT,DA,DT,DA,DA,DT,DG,DT,DA,DT,DG,DC,DT,DA,DT,DA,DC,DG\n",
       ",DA,DA,DG,DT,DT,DA,DT,`<br>**D**: `DA,DT,DA,DA,DC,DT,DT,DC,DG,DT,DA,DT,DA,DG,DC,DA,DT,DA,DC,DA,DT,DT,DA,DT,DA,DC,DG\n",
       ",DA,DA,DC,DT,DT,DA,DT,`<br>**E**: `DA,DT,DA,DA,DG,DT,DT,DC,DG,DT,DA,DT,DA,DA,DT,DG,DT,DA,DT,DG,DC,DT,DA,DT,DA,DC,DG\n",
       ",DA,DA,DG,DT,DT,DA,DT,`<br>**F**: `DA,DT,DA,DA,DC,DT,DT,DC,DG,DT,DA,DT,DA,DG,DC,DA,DT,DA,DC,DA,DT,DT,DA,DT,DA,DC,DG\n",
       ",DA,DA,DC,DT,DT,DA,DT,`"
      ],
      "text/plain": [
       "<1KBU DNA assembly (Molecule), 2776 atoms>"
      ]
     },
     "execution_count": 5,
     "metadata": {},
     "output_type": "execute_result"
    }
   ],
   "source": [
    "dna_atoms = [atom for atom in assembly.atoms if atom.residue.type == 'dna']\n",
    "dna_only = mdt.Molecule(dna_atoms, name='1KBU DNA assembly')\n",
    "dna_only"
   ]
  },
  {
   "cell_type": "code",
   "execution_count": 6,
   "metadata": {
    "collapsed": false
   },
   "outputs": [
    {
     "name": "stdout",
     "output_type": "stream",
     "text": [
      "WARN: large structure; waters not shown by default.\n"
     ]
    },
    {
     "name": "stderr",
     "output_type": "stream",
     "text": [
      "Exception TypeError: TypeError(\"'NoneType' object is not callable\",) in  ignored\n"
     ]
    },
    {
     "name": "stdout",
     "output_type": "stream",
     "text": [
      "No config file found at /root/.moldesign/moldesign.yml - using defaults\n"
     ]
    }
   ],
   "source": [
    "dna = mdt.forcefield.assign_forcefield(dna_only)"
   ]
  },
  {
   "cell_type": "markdown",
   "metadata": {
    "collapsed": false
   },
   "source": [
    "## Prep for simulation\n",
    "We'll now attach an energy model to the molecule and perform an energy minimization."
   ]
  },
  {
   "cell_type": "code",
   "execution_count": 7,
   "metadata": {
    "collapsed": true
   },
   "outputs": [],
   "source": [
    "model = mdt.models.OpenMMPotential(implicit_solvent='obc')\n",
    "dna.set_energy_model(model)"
   ]
  },
  {
   "cell_type": "code",
   "execution_count": 8,
   "metadata": {
    "collapsed": false
   },
   "outputs": [
    {
     "name": "stderr",
     "output_type": "stream",
     "text": [
      "/usr/local/lib/python2.7/dist-packages/simtk/openmm/app/internal/amber_file_parser.py:1010: UserWarning: Non-optimal GB parameters detected for GB model OBC2\n",
      "  'model %s' % gbmodel)\n",
      "Exception TypeError: TypeError(\"'NoneType' object is not callable\",) in  ignored\n"
     ]
    },
    {
     "name": "stdout",
     "output_type": "stream",
     "text": [
      "No config file found at /root/.moldesign/moldesign.yml - using defaults\n",
      "Parsing stored PRMTOP file: In-memory file from string (1768732 chars)\n",
      "Created force field using embedded prmtop file\n",
      "Created OpenMM kernel (Platform: CPU)\n",
      "INFO: Copying atoms into new molecule\n",
      "Reduced energy from -907.868596129 eV to -1517.5824679 eV\n"
     ]
    }
   ],
   "source": [
    "minimization = dna.minimize()"
   ]
  },
  {
   "cell_type": "code",
   "execution_count": 9,
   "metadata": {
    "collapsed": true
   },
   "outputs": [],
   "source": [
    "minimization.draw()"
   ]
  },
  {
   "cell_type": "code",
   "execution_count": 13,
   "metadata": {
    "collapsed": true
   },
   "outputs": [],
   "source": [
    "integrator = mdt.integrators.OpenMMLangevin(timestep=2.0*u.fs,\n",
    "                                            frame_interval=250,\n",
    "                                            remove_rotation=True)\n",
    "dna.set_integrator(integrator)"
   ]
  },
  {
   "cell_type": "markdown",
   "metadata": {},
   "source": [
    "And now we run it. This is a large system - expect this calculation to take up to an hour."
   ]
  },
  {
   "cell_type": "code",
   "execution_count": 14,
   "metadata": {
    "collapsed": false
   },
   "outputs": [
    {
     "name": "stderr",
     "output_type": "stream",
     "text": [
      "/usr/local/lib/python2.7/dist-packages/simtk/openmm/app/internal/amber_file_parser.py:1010: UserWarning: Non-optimal GB parameters detected for GB model OBC2\n",
      "  'model %s' % gbmodel)\n",
      "Exception TypeError: TypeError(\"'NoneType' object is not callable\",) in  ignored\n"
     ]
    },
    {
     "name": "stdout",
     "output_type": "stream",
     "text": [
      "No config file found at /root/.moldesign/moldesign.yml - using defaults\n",
      "Parsing stored PRMTOP file: In-memory file from string (1768732 chars)\n",
      "Created force field using embedded prmtop file\n",
      "Created OpenMM kernel (Platform: CPU)\n",
      "INFO: Copying atoms into new molecule\n",
      "time / fs                 potential / eV                  kinetic / eV                    T / kelvin\n",
      "500.0                     -1377.40472708                 155.330470109                 277.633484685\n",
      "1000.0                    -1372.87633249                 151.036303031                 269.958206494\n",
      "1500.0                    -1373.92960642                 150.149471334                 268.373107484\n",
      "2000.0                    -1374.49515164                  150.85983153                 269.642786101\n",
      "2500.0                    -1375.03871178                 148.843234472                 266.038375017\n",
      "3000.0                    -1374.60229964                 148.542998645                 265.501741612\n",
      "3500.0                    -1371.79309078                 151.744555455                 271.224117737\n",
      "4000.0                    -1373.54551243                 150.992077308                 269.879158632\n",
      "4500.0                    -1376.71329335                 153.917094429                 275.107255189\n",
      "5000.0                    -1375.51278209                 152.672923235                 272.883457218\n",
      "5500.0                    -1373.56179263                 151.739965508                 271.215913789\n",
      "6000.0                    -1374.74524321                 150.215923982                 268.491883152\n",
      "6500.0                    -1376.51715056                 150.644055977                 269.257114709\n",
      "7000.0                    -1377.79546974                 151.832438634                 271.381197755\n",
      "7500.0                    -1377.00465747                 149.832112901                 267.805869596\n",
      "8000.0                      -1380.983454                 150.918582201                 269.747795464\n",
      "8500.0                    -1375.25662056                 149.002452295                 266.322956651\n",
      "9000.0                    -1374.98238381                 152.207818176                 272.052141005\n",
      "9500.0                    -1374.96053362                 154.526489739                 276.196471898\n",
      "10000.0                   -1371.52148761                 152.664744211                 272.868838253\n",
      "10500.0                   -1372.68321003                  153.60268996                 274.545297138\n",
      "11000.0                   -1375.84632848                 154.902104357                 276.867835316\n",
      "11500.0                   -1374.32957641                  152.22341795                 272.080023619\n",
      "12000.0                   -1373.60145177                 152.828709942                 273.161906169\n",
      "12500.0                    -1378.0126109                  154.22924883                  275.66519153\n",
      "13000.0                   -1376.01801467                 150.605147167                 269.187570153\n",
      "13500.0                   -1380.26743325                 154.389494508                 275.951610324\n",
      "14000.0                   -1376.47623223                 147.492179934                 263.623536644\n",
      "14500.0                   -1376.42120981                 150.562528505                 269.111394709\n",
      "15000.0                   -1377.56330948                 149.230614841                 266.730768219\n",
      "15500.0                   -1379.74326414                 148.776327845                 265.918787918\n",
      "16000.0                   -1375.67735838                 148.248425507                 264.975229546\n",
      "16500.0                   -1378.34157993                 150.754358331                 269.454266157\n",
      "17000.0                   -1375.74109868                 151.552555679                 270.880942525\n",
      "17500.0                   -1377.23594542                 149.400178581                 267.033841866\n",
      "18000.0                   -1376.26438004                 149.566653742                  267.33139507\n",
      "18500.0                   -1375.04437576                 150.682076829                 269.325072152\n",
      "19000.0                   -1371.66364562                 151.187230225                 270.227969681\n",
      "19500.0                   -1373.80567412                 152.095745722                 271.851825729\n"
     ]
    }
   ],
   "source": [
    "traj = dna.run(20.0*u.ps)"
   ]
  },
  {
   "cell_type": "code",
   "execution_count": 15,
   "metadata": {
    "collapsed": true
   },
   "outputs": [],
   "source": [
    "traj.draw()"
   ]
  }
 ],
 "metadata": {
  "kernelspec": {
   "display_name": "Python 2",
   "language": "python",
   "name": "python2"
  },
  "language_info": {
   "codemirror_mode": {
    "name": "ipython",
    "version": 2
   },
   "file_extension": ".py",
   "mimetype": "text/x-python",
   "name": "python",
   "nbconvert_exporter": "python",
   "pygments_lexer": "ipython2",
   "version": "2.7.11"
  }
 },
 "nbformat": 4,
 "nbformat_minor": 0
}
