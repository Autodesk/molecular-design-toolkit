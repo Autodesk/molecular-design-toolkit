{
 "cells": [
  {
   "cell_type": "markdown",
   "metadata": {},
   "source": [
    "<span style=\"float:right\"><a href=\"http://moldesign.bionano.autodesk.com/\" target=\"_blank\" title=\"About\">About</a>&nbsp;&nbsp;&nbsp;&nbsp;&nbsp;&nbsp;<a href=\"https://github.com/autodesk/molecular-design-toolkit/issues\" target=\"_blank\" title=\"Issues\">Issues</a>&nbsp;&nbsp;&nbsp;&nbsp;&nbsp;&nbsp;<a href=\"http://bionano.autodesk.com/MolecularDesignToolkit/explore.html\" target=\"_blank\" title=\"Tutorials\">Tutorials</a>&nbsp;&nbsp;&nbsp;&nbsp;&nbsp;&nbsp;<a href=\"http://autodesk.github.io/molecular-design-toolkit/\" target=\"_blank\" title=\"Documentation\">Documentation</a></span>\n",
    "</span>\n",
    "![Molecular Design Toolkit](img/Top.png)\n",
    "<br>\n",
    "\n",
    "<center><h1>Example 3: Simulating a Holliday Junction PDB assembly </h1> </center>\n",
    "\n",
    "---\n",
    "\n",
    "This notebook takes a crystal structure from the PDB and prepares it for simulation.\n",
    "\n",
    " - _Author_: [Aaron Virshup](https://github.com/avirshup), Autodesk Research\n",
    " - _Created on_: July 1, 2016\n",
    " - _Tags_: DNA, holliday junction, assembly, PDB, MD"
   ]
  },
  {
   "cell_type": "code",
   "execution_count": null,
   "metadata": {},
   "outputs": [],
   "source": [
    "%matplotlib inline\n",
    "from matplotlib.pyplot import *\n",
    "\n",
    "import moldesign as mdt\n",
    "from moldesign import units as u"
   ]
  },
  {
   "cell_type": "markdown",
   "metadata": {},
   "source": [
    "Contents\n",
    "=======\n",
    "---\n",
    "   - [A. View the crystal structure](#A.-View-the-crystal-structure)\n",
    "   - [B. Build the biomolecular assembly](#B.-Build-the-biomolecular-assembly)\n",
    "   - [C. Isolate the DNA](#C.-Isolate-the-DNA)\n",
    "   - [D. Prep for simulation](#D.-Prep-for-simulation)\n",
    "   - [E. Dynamics - equilibration](#E.-Dynamics---equilibration)\n",
    "   - [F. Dynamics - production](#F.-Dynamics---production)"
   ]
  },
  {
   "cell_type": "markdown",
   "metadata": {},
   "source": [
    "## A. View the crystal structure\n",
    "\n",
    "We start by downloading the [1KBU](http://www.rcsb.org/pdb/explore.do?structureId=1kbu) crystal structure.\n",
    "\n",
    "It will generate several warnings. Especially note that it contains [biomolecular \"assembly\"](http://pdb101.rcsb.org/learn/guide-to-understanding-pdb-data/biological-assemblies) information. This means that the file from PDB doesn't contain the complete structure, but we can generate the missing parts using symmetry operations."
   ]
  },
  {
   "cell_type": "code",
   "execution_count": null,
   "metadata": {},
   "outputs": [],
   "source": [
    "xtal = mdt.from_pdb('1kbu')\n",
    "xtal.draw()"
   ]
  },
  {
   "cell_type": "markdown",
   "metadata": {},
   "source": [
    "## B. Build the biomolecular assembly\n",
    "\n",
    "As you can read in the warning, 1KBU only has one biomolecular assembly, conveniently named `'1'`. This cell builds and views it:"
   ]
  },
  {
   "cell_type": "code",
   "execution_count": null,
   "metadata": {},
   "outputs": [],
   "source": [
    "assembly = mdt.build_assembly(xtal, 1)\n",
    "assembly.draw()"
   ]
  },
  {
   "cell_type": "markdown",
   "metadata": {},
   "source": [
    "By evaulating the `assembly` object (it's a normal instance of the `moldesign.Molecule` class), we can get some information about it's content:"
   ]
  },
  {
   "cell_type": "code",
   "execution_count": null,
   "metadata": {},
   "outputs": [],
   "source": [
    "assembly"
   ]
  },
  {
   "cell_type": "markdown",
   "metadata": {},
   "source": [
    "Because we're only interested in DNA, we'll create a new molecule using only the DNA residues, and then assign a forcefield to it."
   ]
  },
  {
   "cell_type": "markdown",
   "metadata": {},
   "source": [
    "## C. Isolate the DNA\n",
    "\n",
    "This example will focus only on the DNA components of this structure, so we'll isolate the DNA atoms and create a new molecule from them.\n",
    "\n",
    "We could do this with a list comprehension, e.g.\n",
    "`mdt.Molecule([atom for atom in assembly.atoms if atom.residue.type == 'dna'])`\n",
    "\n",
    "Here, however we'll use a shortcut for this - the `molecule.get_atoms` method, which allows you to run queries on the atoms:"
   ]
  },
  {
   "cell_type": "code",
   "execution_count": null,
   "metadata": {},
   "outputs": [],
   "source": [
    "dna_atoms = assembly.get_atoms('dna')\n",
    "dna_only = mdt.Molecule(dna_atoms)\n",
    "dna_only.draw3d(display=True)\n",
    "dna_only"
   ]
  },
  {
   "cell_type": "markdown",
   "metadata": {},
   "source": [
    "## D. Prep for simulation\n",
    "Next, we'll assign a forcefield and energy model, then minimize the structure."
   ]
  },
  {
   "cell_type": "code",
   "execution_count": null,
   "metadata": {},
   "outputs": [],
   "source": [
    "ff = mdt.forcefields.DefaultAmber()\n",
    "dna = ff.create_prepped_molecule(dna_only)"
   ]
  },
  {
   "cell_type": "code",
   "execution_count": null,
   "metadata": {},
   "outputs": [],
   "source": [
    "dna.set_energy_model(mdt.models.OpenMMPotential, implicit_solvent='obc')\n",
    "dna.configure_methods()"
   ]
  },
  {
   "cell_type": "code",
   "execution_count": null,
   "metadata": {},
   "outputs": [],
   "source": [
    "minimization = dna.minimize()"
   ]
  },
  {
   "cell_type": "code",
   "execution_count": null,
   "metadata": {},
   "outputs": [],
   "source": [
    "minimization.draw()"
   ]
  },
  {
   "cell_type": "markdown",
   "metadata": {},
   "source": [
    "## E. Dynamics - equilibration\n",
    "The structure is ready. We'll associate an integrator with the molecule, then do a 2 step equilibration - first freezing the peptide backbone and running 300K dynamics, then unfreezing and continuing dyanmics."
   ]
  },
  {
   "cell_type": "code",
   "execution_count": null,
   "metadata": {},
   "outputs": [],
   "source": [
    "# Freeze the backbone:\n",
    "for residue in dna.residues:\n",
    "    for atom in residue.backbone:\n",
    "        dna.constrain_atom(atom)"
   ]
  },
  {
   "cell_type": "code",
   "execution_count": null,
   "metadata": {},
   "outputs": [],
   "source": [
    "dna.set_integrator(mdt.integrators.OpenMMLangevin,\n",
    "                   timestep=2.0*u.fs,\n",
    "                   frame_interval=1.0*u.ps,\n",
    "                   remove_rotation=True)\n",
    "dna.integrator.configure()"
   ]
  },
  {
   "cell_type": "markdown",
   "metadata": {},
   "source": [
    "And now we run it. This is may take a while, depending on your hardware."
   ]
  },
  {
   "cell_type": "code",
   "execution_count": null,
   "metadata": {},
   "outputs": [],
   "source": [
    "equil1 = dna.run(20.0*u.ps)"
   ]
  },
  {
   "cell_type": "code",
   "execution_count": null,
   "metadata": {},
   "outputs": [],
   "source": [
    "equil1.draw()"
   ]
  },
  {
   "cell_type": "markdown",
   "metadata": {},
   "source": [
    "**Next**, we'll remove the constraints and do full dynamics:"
   ]
  },
  {
   "cell_type": "code",
   "execution_count": null,
   "metadata": {},
   "outputs": [],
   "source": [
    "dna.clear_constraints()\n",
    "equil2 = dna.run(20.0*u.ps)"
   ]
  },
  {
   "cell_type": "code",
   "execution_count": null,
   "metadata": {},
   "outputs": [],
   "source": [
    "equil = equil1 + equil2\n",
    "equil.draw()"
   ]
  },
  {
   "cell_type": "code",
   "execution_count": null,
   "metadata": {},
   "outputs": [],
   "source": [
    "plot(equil2.time, equil2.rmsd())\n",
    "xlabel('time / fs'); ylabel(u'rmsd / Å'); grid()"
   ]
  },
  {
   "cell_type": "markdown",
   "metadata": {},
   "source": [
    "**NOTE:** THIS IS NOT A SUFFICIENT EQUILIBRATION FOR PRODUCTION MOLECULAR DYNAMICS! \n",
    "\n",
    "In practice, before going to \"production\", we would *at least* want to run dynamics until the RMSD and thermodynamic observabled have converged. A variety of equilibration protocols are used in practice, including slow heating, reduced coupling, multiple constraints, etc."
   ]
  },
  {
   "cell_type": "markdown",
   "metadata": {},
   "source": [
    "## F. Dynamics - production\n",
    "\n",
    "Assuming that we're satisfied with our system's equilibration, we now gather data for \"production\". This will take a while."
   ]
  },
  {
   "cell_type": "code",
   "execution_count": null,
   "metadata": {},
   "outputs": [],
   "source": [
    "trajectory = dna.run(40.0*u.ps)"
   ]
  },
  {
   "cell_type": "code",
   "execution_count": null,
   "metadata": {},
   "outputs": [],
   "source": [
    "trajectory.draw()"
   ]
  },
  {
   "cell_type": "markdown",
   "metadata": {},
   "source": [
    "## G. Save your results\n",
    "Any MDT object can be saved to disk. We recommend saving objects with the \"Pickle\" format to make sure that all the data is preserved.\n",
    "\n",
    "This cell saves the final trajectory to disk as a compressed pickle file:"
   ]
  },
  {
   "cell_type": "code",
   "execution_count": null,
   "metadata": {},
   "outputs": [],
   "source": [
    "trajectory.write('holliday_traj.P.gz')"
   ]
  },
  {
   "cell_type": "markdown",
   "metadata": {},
   "source": [
    "To load the saved object, use:"
   ]
  },
  {
   "cell_type": "code",
   "execution_count": null,
   "metadata": {},
   "outputs": [],
   "source": [
    "traj = mdt.read('holliday_traj.P.gz')"
   ]
  },
  {
   "cell_type": "code",
   "execution_count": null,
   "metadata": {},
   "outputs": [],
   "source": [
    "traj.draw()"
   ]
  }
 ],
 "metadata": {
  "kernelspec": {
   "display_name": "Python 3",
   "language": "python",
   "name": "python3"
  },
  "language_info": {
   "codemirror_mode": {
    "name": "ipython",
    "version": 3
   },
   "file_extension": ".py",
   "mimetype": "text/x-python",
   "name": "python",
   "nbconvert_exporter": "python",
   "pygments_lexer": "ipython3"
  }
 },
 "nbformat": 4,
 "nbformat_minor": 1
}