{
 "cells": [
  {
   "cell_type": "markdown",
   "metadata": {},
   "source": [
    "<span style=\"float:right\"><a href=\"http://moldesign.bionano.autodesk.com/\" target=\"_blank\" title=\"About\">About</a>&nbsp;&nbsp;&nbsp;&nbsp;&nbsp;&nbsp;<a href=\"https://github.com/autodesk/molecular-design-toolkit/issues\" target=\"_blank\" title=\"Issues\">Issues</a>&nbsp;&nbsp;&nbsp;&nbsp;&nbsp;&nbsp;<a href=\"http://bionano.autodesk.com/MolecularDesignToolkit/explore.html\" target=\"_blank\" title=\"Tutorials\">Tutorials</a>&nbsp;&nbsp;&nbsp;&nbsp;&nbsp;&nbsp;<a href=\"http://autodesk.github.io/molecular-design-toolkit/\" target=\"_blank\" title=\"Documentation\">Documentation</a></span>\n",
    "</span>\n",
    "![Molecular Design Toolkit](img/Top.png)\n",
    "<br>\n",
    "\n",
    "<center><h1>Example 4: The Dynamics of HIV Protease bound to a small molecule </h1> </center>\n",
    "\n",
    "This notebook prepares a co-crystallized protein / small molecule ligand structure from [the PDB database](http://www.rcsb.org/pdb/home/home.do) and prepares it for molecular dynamics simulation. \n",
    "\n",
    " - _Author_: [Aaron Virshup](https://github.com/avirshup), Autodesk Research<br>\n",
    " - _Created on_: August 9, 2016\n",
    " - _Tags_: HIV Protease, small molecule, ligand, drug, PDB, MD"
   ]
  },
  {
   "cell_type": "code",
   "execution_count": null,
   "metadata": {},
   "outputs": [],
   "source": [
    "import moldesign as mdt\n",
    "import moldesign.units as u"
   ]
  },
  {
   "cell_type": "markdown",
   "metadata": {},
   "source": [
    "Contents\n",
    "=======\n",
    "---\n",
    "   - [I. The crystal structure](#I.-The-crystal-structure)\n",
    "     - [A. Download and visualize](#A.-Download-and-visualize)\n",
    "     - [B. Try assigning a forcefield](#B.-Try-assigning-a-forcefield)\n",
    "   - [II. Parameterizing a small molecule](#II.-Parameterizing-a-small-molecule)\n",
    "     - [A. Isolate the ligand](#A.-Isolate-the-ligand)\n",
    "     - [B. Assign bond orders and hydrogens](#B.-Assign-bond-orders-and-hydrogens)\n",
    "     - [C. Generate forcefield parameters](#C.-Generate-forcefield-parameters)\n",
    "   - [III. Prepping the protein](#III.-Prepping-the-protein)\n",
    "     - [A. Strip waters](#A.-Strip-waters)\n",
    "     - [B. Histidine](#B.-Histidine)\n",
    "   - [IV. Prep for dynamics](#IV.-Prep-for-dynamics)\n",
    "     - [A. Assign the forcefield](#A.-Assign-the-forcefield)\n",
    "     - [B. Attach and configure simulation methods](#B.-Attach-and-configure-simulation-methods)\n",
    "     - [D. Equilibrate the protein](#D.-Equilibrate-the-protein)"
   ]
  },
  {
   "cell_type": "markdown",
   "metadata": {},
   "source": [
    "\n",
    "## I. The crystal structure\n",
    "\n",
    "First, we'll download and investigate the [3AID crystal structure](http://www.rcsb.org/pdb/explore.do?structureId=3aid).\n",
    "\n",
    "### A. Download and visualize"
   ]
  },
  {
   "cell_type": "code",
   "execution_count": null,
   "metadata": {},
   "outputs": [],
   "source": [
    "protease = mdt.from_pdb('3AID')\n",
    "protease"
   ]
  },
  {
   "cell_type": "code",
   "execution_count": null,
   "metadata": {},
   "outputs": [],
   "source": [
    "protease.draw()"
   ]
  },
  {
   "cell_type": "markdown",
   "metadata": {},
   "source": [
    "### B. Try assigning a forcefield"
   ]
  },
  {
   "cell_type": "markdown",
   "metadata": {},
   "source": [
    "This structure is not ready for MD - this command will raise a `ParameterizationError` Exception. After running this calculation, click on the **Errors/Warnings** tab to see why."
   ]
  },
  {
   "cell_type": "code",
   "execution_count": null,
   "metadata": {},
   "outputs": [],
   "source": [
    "amber_ff = mdt.forcefields.DefaultAmber()\n",
    "newmol = amber_ff.create_prepped_molecule(protease)"
   ]
  },
  {
   "cell_type": "markdown",
   "metadata": {},
   "source": [
    "You should see 3 errors: \n",
    " 1. The residue name `ARQ` not recognized\n",
    " 1. Atom `HD1` in residue `HIS69`, chain `A` was not recognized\n",
    " 1. Atom `HD1` in residue `HIS69`, chain `B` was not recognized\n",
    " \n",
    "(There's also a warning about bond distances, but these can be generally be fixed with an energy minimization before running dynamics)\n",
    "\n",
    "We'll start by tackling the small molecule \"ARQ\"."
   ]
  },
  {
   "cell_type": "markdown",
   "metadata": {},
   "source": [
    "## II. Parameterizing a small molecule\n",
    "We'll use the GAFF (generalized Amber force field) to create force field parameters for the small ligand.\n",
    "\n",
    "### A. Isolate the ligand\n",
    "Click on the ligand to select it, then we'll use that selection to create a new molecule."
   ]
  },
  {
   "cell_type": "code",
   "execution_count": null,
   "metadata": {},
   "outputs": [],
   "source": [
    "sel = mdt.widgets.ResidueSelector(protease)\n",
    "sel"
   ]
  },
  {
   "cell_type": "code",
   "execution_count": null,
   "metadata": {},
   "outputs": [],
   "source": [
    "drugres = mdt.Molecule(sel.selected_residues[0])\n",
    "drugres.draw2d(width=700, show_hydrogens=True)"
   ]
  },
  {
   "cell_type": "markdown",
   "metadata": {},
   "source": [
    "### B. Assign bond orders and hydrogens\n",
    "A PDB file provides only limited information; they often don't provide indicate bond orders, hydrogen locations, or formal charges. These can be added, however, with the `add_missing_pdb_data` tool:"
   ]
  },
  {
   "cell_type": "code",
   "execution_count": null,
   "metadata": {},
   "outputs": [],
   "source": [
    "drugmol = mdt.tools.set_hybridization_and_saturate(drugres)\n",
    "drugmol.draw(width=500)"
   ]
  },
  {
   "cell_type": "code",
   "execution_count": null,
   "metadata": {},
   "outputs": [],
   "source": [
    "drugmol.draw2d(width=700, show_hydrogens=True)"
   ]
  },
  {
   "cell_type": "markdown",
   "metadata": {},
   "source": [
    "### C. Generate forcefield parameters\n",
    "\n",
    "We'll next generate forcefield parameters using this ready-to-simulate structure.\n",
    "\n",
    "**NOTE**: for computational speed, we use the `gasteiger` charge model. This is not advisable for production work! `am1-bcc` or `esp` are far likelier to produce sensible results."
   ]
  },
  {
   "cell_type": "code",
   "execution_count": null,
   "metadata": {},
   "outputs": [],
   "source": [
    "drug_parameters = mdt.create_ff_parameters(drugmol, charges='gasteiger')"
   ]
  },
  {
   "cell_type": "markdown",
   "metadata": {},
   "source": [
    "## III. Prepping the protein\n",
    "\n",
    "Section II. dealt with getting forcefield parameters for an unknown small molecule. Next, we'll prep the other part of the structure.\n",
    "\n",
    "### A. Strip waters\n",
    "\n",
    "Waters in crystal structures are usually stripped from a simulation as artifacts of the crystallization process. Here, we'll remove the waters from the protein structure."
   ]
  },
  {
   "cell_type": "code",
   "execution_count": null,
   "metadata": {},
   "outputs": [],
   "source": [
    "dehydrated = mdt.Molecule([atom for atom in protease.atoms if atom.residue.type != 'water'])"
   ]
  },
  {
   "cell_type": "markdown",
   "metadata": {},
   "source": [
    "### B. Histidine\n",
    "Histidine is notoriously tricky, because it exists in no less than three different protonation states at biological pH (7.4) - the \"delta-protonated\" form, referred to with residue name `HID`; the \"epsilon-protonated\" form aka `HIE`; and the doubly-protonated form `HIP`, which has a +1 charge. Unfortunately, crystallography isn't usually able to resolve the difference between these three.\n",
    "\n",
    "Luckily, these histidines are pretty far from the ligand binding site, so their protonation is unlikely to affect the dynamics. We'll therefore use the `guess_histidine_states` function to assign a reasonable starting guess."
   ]
  },
  {
   "cell_type": "code",
   "execution_count": null,
   "metadata": {},
   "outputs": [],
   "source": [
    "mdt.guess_histidine_states(dehydrated)"
   ]
  },
  {
   "cell_type": "markdown",
   "metadata": {},
   "source": [
    "## IV. Prep for dynamics\n",
    "\n",
    "With these problems fixed, we can succesfully assigne a forcefield and set up the simulation.\n",
    "\n",
    "### A. Assign the forcefield\n",
    "Now that we have parameters for the drug and have dealt with histidine, the forcefield assignment will succeed:"
   ]
  },
  {
   "cell_type": "code",
   "execution_count": null,
   "metadata": {},
   "outputs": [],
   "source": [
    "amber_ff = mdt.forcefields.DefaultAmber()\n",
    "amber_ff.add_ff(drug_parameters)\n",
    "sim_mol = amber_ff.create_prepped_molecule(dehydrated)"
   ]
  },
  {
   "cell_type": "markdown",
   "metadata": {},
   "source": [
    "### B. Attach and configure simulation methods\n",
    "\n",
    "Armed with the forcefield parameters, we can connect an energy model to compute energies and forces, and an integrator to create trajectories:"
   ]
  },
  {
   "cell_type": "code",
   "execution_count": null,
   "metadata": {},
   "outputs": [],
   "source": [
    "sim_mol.set_energy_model(mdt.models.OpenMMPotential, implicit_solvent='obc', cutoff=8.0*u.angstrom)\n",
    "sim_mol.set_integrator(mdt.integrators.OpenMMLangevin, timestep=2.0*u.fs)\n",
    "sim_mol.configure_methods()"
   ]
  },
  {
   "cell_type": "markdown",
   "metadata": {},
   "source": [
    "### C. Equilibrate the protein\n",
    "The next series of cells first minimize the crystal structure to remove clashes, then heats the system to 300K."
   ]
  },
  {
   "cell_type": "code",
   "execution_count": null,
   "metadata": {},
   "outputs": [],
   "source": [
    "mintraj = sim_mol.minimize()\n",
    "mintraj.draw()"
   ]
  },
  {
   "cell_type": "code",
   "execution_count": null,
   "metadata": {},
   "outputs": [],
   "source": [
    "traj = sim_mol.run(20*u.ps)"
   ]
  },
  {
   "cell_type": "code",
   "execution_count": null,
   "metadata": {},
   "outputs": [],
   "source": [
    "viewer = traj.draw(display=True)\n",
    "viewer.autostyle()"
   ]
  },
  {
   "cell_type": "code",
   "execution_count": null,
   "metadata": {},
   "outputs": [],
   "source": []
  }
 ],
 "metadata": {
  "kernelspec": {
   "display_name": "Python 3",
   "language": "python",
   "name": "python3"
  },
  "language_info": {
   "codemirror_mode": {
    "name": "ipython",
    "version": 3
   },
   "file_extension": ".py",
   "mimetype": "text/x-python",
   "name": "python",
   "nbconvert_exporter": "python",
   "pygments_lexer": "ipython3"
  }
 },
 "nbformat": 4,
 "nbformat_minor": 1
}