{
 "cells": [
  {
   "cell_type": "markdown",
   "metadata": {},
   "source": [
    "<span style=\"float:right\"><a href=\"http://moldesign.bionano.autodesk.com/\" target=\"_blank\" title=\"About\">About</a>&nbsp;&nbsp;&nbsp;&nbsp;&nbsp;&nbsp;<a href=\"https://github.com/autodesk/molecular-design-toolkit/issues\" target=\"_blank\" title=\"Issues\">Issues</a>&nbsp;&nbsp;&nbsp;&nbsp;&nbsp;&nbsp;<a href=\"http://bionano.autodesk.com/MolecularDesignToolkit/explore.html\" target=\"_blank\" title=\"Tutorials\">Tutorials</a>&nbsp;&nbsp;&nbsp;&nbsp;&nbsp;&nbsp;<a href=\"http://autodesk.github.io/molecular-design-toolkit/\" target=\"_blank\" title=\"Documentation\">Documentation</a></span>\n",
    "</span>\n",
    "![Molecular Design Toolkit](img/Top.png)\n",
    "<br>\n",
    "\n",
    "<center><h1>Example 1: Build and simulate DNA </h1> </center>\n",
    "---\n",
    "\n",
    "\n",
    "This notebook builds a small DNA double helix, assigns a forcefield to it, and runs a molecular dynamics simulation.\n",
    "\n",
    " - _Author_: [Aaron Virshup](https://github.com/avirshup), Autodesk Research<br>\n",
    " - _Created on_: July 1, 2016\n",
    " - _Tags_: DNA, molecular dynamics\n",
    "\n"
   ]
  },
  {
   "cell_type": "code",
   "execution_count": null,
   "metadata": {},
   "outputs": [],
   "source": [
    "import moldesign as mdt\n",
    "from moldesign import units as u\n",
    "\n",
    "%matplotlib inline\n",
    "from matplotlib.pyplot import *\n",
    "\n",
    "# seaborn is optional -- it makes plots nicer\n",
    "try: import seaborn  \n",
    "except ImportError: pass"
   ]
  },
  {
   "cell_type": "markdown",
   "metadata": {},
   "source": [
    "Contents\n",
    "=======\n",
    "---\n",
    "   - [1. Create a DNA helix](#1.-Create-a-DNA-helix)\n",
    "   - [2. Forcefield](#2.-Forcefield)\n",
    "   - [3. Constraints](#3.-Constraints)\n",
    "   - [4. MD Setup](#4.-MD-Setup)\n",
    "   - [5. Minimization](#5.-Minimization)\n",
    "   - [6. Dynamics](#6.-Dynamics)\n",
    "   - [7. Analysis](#7.-Analysis)"
   ]
  },
  {
   "cell_type": "markdown",
   "metadata": {},
   "source": [
    "## 1. Create a DNA helix"
   ]
  },
  {
   "cell_type": "code",
   "execution_count": null,
   "metadata": {},
   "outputs": [],
   "source": [
    "dna_structure = mdt.build_dna_helix('ACTGACTG', helix_type='b')\n",
    "dna_structure.draw()"
   ]
  },
  {
   "cell_type": "code",
   "execution_count": null,
   "metadata": {},
   "outputs": [],
   "source": [
    "dna_structure"
   ]
  },
  {
   "cell_type": "markdown",
   "metadata": {},
   "source": [
    "## 2. Forcefield\n",
    "The cell below adds forcefield parameters to the molecule.\n",
    "\n",
    "**NOTE:** This molecule because is not missing expected atoms. If your molecule _is_ missing atoms (e.g., it's missing its hydrogens), use the `Forcefield.create_prepped_molecule` method instead of `Forcefield.assign`.\n",
    "\n",
    "**Click on the ERRORS/WARNING tab** to see any warnings raised during assignment."
   ]
  },
  {
   "cell_type": "code",
   "execution_count": null,
   "metadata": {},
   "outputs": [],
   "source": [
    "ff = mdt.forcefields.DefaultAmber()\n",
    "ff.assign(dna_structure)"
   ]
  },
  {
   "cell_type": "markdown",
   "metadata": {},
   "source": [
    "## 3. Constraints\n",
    "This section uses an interactive selection to constrain parts of the DNA.\n",
    "\n",
    "After executing the following cells, **click on the 3' and 5' bases:**"
   ]
  },
  {
   "cell_type": "code",
   "execution_count": null,
   "metadata": {},
   "outputs": [],
   "source": [
    "rs = mdt.widgets.ResidueSelector(dna_structure)\n",
    "rs"
   ]
  },
  {
   "cell_type": "code",
   "execution_count": null,
   "metadata": {},
   "outputs": [],
   "source": [
    "if len(rs.selected_residues) == 0:\n",
    "    raise ValueError(\"You didn't click on anything!\")\n",
    "    \n",
    "rs.selected_residues"
   ]
  },
  {
   "cell_type": "code",
   "execution_count": null,
   "metadata": {},
   "outputs": [],
   "source": [
    "for residue in rs.selected_residues:\n",
    "    print('Constraining position for residue %s' % residue)\n",
    "    \n",
    "    for atom in residue.atoms:\n",
    "        dna_structure.constrain_atom(atom)"
   ]
  },
  {
   "cell_type": "markdown",
   "metadata": {},
   "source": [
    "Of course, fixing the positions of the terminal base pairs is a fairly extreme step. For extra credit, see if you can find a less heavy-handed keep the terminal base pairs bonded. (Try using tab-completion to see what other constraint methods are available)"
   ]
  },
  {
   "cell_type": "markdown",
   "metadata": {},
   "source": [
    "## 4. MD Setup\n",
    "This section adds an OpenMM energy model and a Langevin integrator to the DNA."
   ]
  },
  {
   "cell_type": "code",
   "execution_count": null,
   "metadata": {},
   "outputs": [],
   "source": [
    "dna_structure.set_energy_model(mdt.models.OpenMMPotential,\n",
    "                               implicit_solvent='obc')\n",
    "\n",
    "dna_structure.set_integrator(mdt.integrators.OpenMMLangevin,\n",
    "                             timestep=2.0*u.fs,\n",
    "                             temperature=300.0*u.kelvin,\n",
    "                             frame_interval=1.0*u.ps)"
   ]
  },
  {
   "cell_type": "markdown",
   "metadata": {},
   "source": [
    "You can interactively configure these methods:"
   ]
  },
  {
   "cell_type": "code",
   "execution_count": null,
   "metadata": {},
   "outputs": [],
   "source": [
    "dna_structure.configure_methods()"
   ]
  },
  {
   "cell_type": "markdown",
   "metadata": {},
   "source": [
    "## 5. Minimization\n",
    "\n",
    "Nearly every MD simulation should be preceded by an energy minimization, especially for crystal structure data. This will remove any energetically catastrophic clashes between atoms and prevent our simulation from blowing up."
   ]
  },
  {
   "cell_type": "code",
   "execution_count": null,
   "metadata": {},
   "outputs": [],
   "source": [
    "trajectory = dna_structure.minimize(nsteps=200)\n",
    "trajectory.draw()"
   ]
  },
  {
   "cell_type": "code",
   "execution_count": null,
   "metadata": {},
   "outputs": [],
   "source": [
    "plot(trajectory.potential_energy)\n",
    "\n",
    "xlabel('steps');ylabel('energy / %s' % trajectory.unit_system.energy)\n",
    "title('Energy relaxation'); grid('on')"
   ]
  },
  {
   "cell_type": "markdown",
   "metadata": {},
   "source": [
    "## 6. Dynamics\n",
    "We're ready to run 25 picoseconds of dynamics at room temperature (that's 300º Kelvin). This will probably take a few minutes - if you're on an especially pokey computer, you might want to reduce the length of the simulation."
   ]
  },
  {
   "cell_type": "code",
   "execution_count": null,
   "metadata": {},
   "outputs": [],
   "source": [
    "traj = dna_structure.run(run_for=25.0*u.ps)\n",
    "traj.draw()"
   ]
  },
  {
   "cell_type": "markdown",
   "metadata": {},
   "source": [
    "## 7. Analysis\n",
    "The trajectory object (named `traj`) gives direct access to the timeseries data:"
   ]
  },
  {
   "cell_type": "code",
   "execution_count": null,
   "metadata": {},
   "outputs": [],
   "source": [
    "plot(traj.time, traj.kinetic_energy, label='kinetic energy')\n",
    "plot(traj.time, traj.potential_energy - traj.potential_energy[0], label='potential_energy')\n",
    "xlabel('time / {time.units}'.format(time=traj.time))\n",
    "ylabel('energy / {energy.units}'.format(energy=traj.kinetic_energy))\n",
    "title('Energy vs. time'); legend(); grid('on')"
   ]
  },
  {
   "cell_type": "code",
   "execution_count": null,
   "metadata": {},
   "outputs": [],
   "source": [
    "# Using the trajectory's 'plot' method will autogenerate axes labels with the appropriate units\n",
    "traj.plot('time','kinetic_temperature')\n",
    "title('Temperature'); grid('on')"
   ]
  },
  {
   "cell_type": "markdown",
   "metadata": {},
   "source": [
    "This cell sets up an widget that plots the RMSDs of any selected group of atoms.\n",
    "**Select a group of atoms, then click \"Run plot_rmsd\" to generate a plot**"
   ]
  },
  {
   "cell_type": "code",
   "execution_count": null,
   "metadata": {},
   "outputs": [],
   "source": [
    "from ipywidgets import interact_manual\n",
    "from IPython.display import display\n",
    "\n",
    "rs = mdt.widgets.ResidueSelector(dna_structure)\n",
    "def plot_rmsd(): \n",
    "    plot(traj.time, traj.rmsd(rs.selected_atoms))\n",
    "    xlabel('time / fs'); ylabel(u'RMSD / Å')\n",
    "interact_manual(plot_rmsd, description='plot rmsd')\n",
    "rs"
   ]
  },
  {
   "cell_type": "code",
   "execution_count": null,
   "metadata": {},
   "outputs": [],
   "source": []
  }
 ],
 "metadata": {
  "kernelspec": {
   "display_name": "Python 3",
   "language": "python",
   "name": "python3"
  },
  "language_info": {
   "codemirror_mode": {
    "name": "ipython",
    "version": 3
   },
   "file_extension": ".py",
   "mimetype": "text/x-python",
   "name": "python",
   "nbconvert_exporter": "python",
   "pygments_lexer": "ipython3"
  }
 },
 "nbformat": 4,
 "nbformat_minor": 1
}