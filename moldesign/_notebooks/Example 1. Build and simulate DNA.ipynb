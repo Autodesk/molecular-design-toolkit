{
 "cells": [
  {
   "cell_type": "markdown",
   "metadata": {},
   "source": [
    "\n",
    "<span style=\"float:right\"><a href=\"http://moldesign.bionano.autodesk.com/\" target=\"_blank\" title=\"About\">About</a>&nbsp;&nbsp;&nbsp;&nbsp;&nbsp;&nbsp;<a href=\"https://forum.bionano.autodesk.com/c/Molecular-Design-Toolkit\" target=\"_blank\" title=\"Forum\">Forum</a>&nbsp;&nbsp;&nbsp;&nbsp;&nbsp;&nbsp;<a href=\"https://github.com/autodesk/molecular-design-toolkit/issues\" target=\"_blank\" title=\"Issues\">Issues</a>&nbsp;&nbsp;&nbsp;&nbsp;&nbsp;&nbsp;<a href=\"http://bionano.autodesk.com/MolecularDesignToolkit/explore.html\" target=\"_blank\" title=\"Tutorials\">Tutorials</a>&nbsp;&nbsp;&nbsp;&nbsp;&nbsp;&nbsp;<a href=\"http://autodesk.github.io/molecular-design-toolkit/\" target=\"_blank\" title=\"Documentation\">Documentation</a></span>\n",
    "</span>\n",
    "![Molecular Design Toolkit](img/top.png)\n",
    "<br>\n",
    "\n",
    "<center><h1>Example 1: Build and simulate DNA </h1> </center>\n",
    "\n",
    "This notebook builds a small DNA double helix, assigns a forcefield to it, and runs a molecular dynamics simulation. \n",
    "\n",
    "---"
   ]
  },
  {
   "cell_type": "code",
   "execution_count": null,
   "metadata": {
    "collapsed": false
   },
   "outputs": [],
   "source": [
    "%matplotlib inline\n",
    "from matplotlib.pyplot import *\n",
    "\n",
    "import moldesign as mdt\n",
    "from moldesign import units as u"
   ]
  },
  {
   "cell_type": "markdown",
   "metadata": {},
   "source": [
    "Contents\n",
    "=======\n",
    "---\n",
    "   - [1. Create a DNA helix](#1.-Create-a-DNA-helix)\n",
    "   - [2. Forcefield](#2.-Forcefield)\n",
    "   - [3. Constraints](#3.-Constraints)\n",
    "   - [4. MD Setup](#4.-MD-Setup)\n",
    "   - [5. Minimization](#5.-Minimization)\n",
    "   - [6. Dynamics](#6.-Dynamics)\n",
    "   - [7. Analysis](#7.-Analysis)"
   ]
  },
  {
   "cell_type": "markdown",
   "metadata": {},
   "source": [
    "## 1. Create a DNA helix"
   ]
  },
  {
   "cell_type": "code",
   "execution_count": null,
   "metadata": {
    "collapsed": false,
    "scrolled": true
   },
   "outputs": [],
   "source": [
    "dna_structure = mdt.build_bdna('ACTGACTG')\n",
    "dna_structure.draw()"
   ]
  },
  {
   "cell_type": "code",
   "execution_count": null,
   "metadata": {
    "collapsed": false
   },
   "outputs": [],
   "source": [
    "dna_structure"
   ]
  },
  {
   "cell_type": "markdown",
   "metadata": {},
   "source": [
    "## 2. Forcefield\n",
    "Next, we'll assign forcefield parameters to our system. This will also add any missing atoms (typically hydrogens) to the molecule.\n",
    "\n",
    "**Click on the ERRORS/WARNING tab** to see any warnings raised during assignment."
   ]
  },
  {
   "cell_type": "code",
   "execution_count": null,
   "metadata": {
    "collapsed": false
   },
   "outputs": [],
   "source": [
    "mol = mdt.assign_forcefield(dna_structure)"
   ]
  },
  {
   "cell_type": "markdown",
   "metadata": {},
   "source": [
    "## 3. Constraints\n",
    "This section uses an interactive selection to constrain parts of the DNA.\n",
    "\n",
    "After executing the following cells, **click on the 3' and 5' bases:**"
   ]
  },
  {
   "cell_type": "code",
   "execution_count": null,
   "metadata": {
    "collapsed": false,
    "scrolled": true
   },
   "outputs": [],
   "source": [
    "rs = mdt.widgets.ResidueSelector(mol)\n",
    "rs"
   ]
  },
  {
   "cell_type": "code",
   "execution_count": null,
   "metadata": {
    "collapsed": false
   },
   "outputs": [],
   "source": [
    "rs.selected_residues"
   ]
  },
  {
   "cell_type": "code",
   "execution_count": null,
   "metadata": {
    "collapsed": false
   },
   "outputs": [],
   "source": [
    "for residue in rs.selected_residues:\n",
    "    print 'Constraining position for residue %s' % residue\n",
    "    \n",
    "    for atom in residue.atoms:\n",
    "        mol.constrain_atom(atom)\n",
    "        \n",
    "        \n",
    "if len(rs.selected_atoms) == 0:\n",
    "    raise ValueError(\"You didn't click on anything!\")"
   ]
  },
  {
   "cell_type": "markdown",
   "metadata": {},
   "source": [
    "Of course, fixing the positions of the terminal base pairs is a fairly extreme step. For extra credit, see if you can find a less heavy-handed keep the terminal base pairs bonded. (Try using tab-completion to see what other constraint methods are available)"
   ]
  },
  {
   "cell_type": "markdown",
   "metadata": {},
   "source": [
    "## 4. MD Setup\n",
    "This section adds an OpenMM energy model and a Langevin integrator to the DNA."
   ]
  },
  {
   "cell_type": "code",
   "execution_count": null,
   "metadata": {
    "collapsed": false
   },
   "outputs": [],
   "source": [
    "mol.set_energy_model(mdt.models.OpenMMPotential,\n",
    "                     implicit_solvent='obc',\n",
    "                     cutoff=7.0 * u.angstrom)\n",
    "\n",
    "mol.set_integrator(mdt.integrators.OpenMMLangevin,\n",
    "                   timestep=2.0*u.fs,\n",
    "                   temperature=300.0*u.kelvin,\n",
    "                   frame_interval=1.0*u.ps)"
   ]
  },
  {
   "cell_type": "markdown",
   "metadata": {},
   "source": [
    "You can interactively configure these methods:"
   ]
  },
  {
   "cell_type": "code",
   "execution_count": null,
   "metadata": {
    "collapsed": false
   },
   "outputs": [],
   "source": [
    "mol.configure_methods()"
   ]
  },
  {
   "cell_type": "markdown",
   "metadata": {},
   "source": [
    "## 5. Minimization\n",
    "\n",
    "Nearly every MD simulation should be preceded by an energy minimization, especially for crystal structure data. This will remove any energetically catastrophic clashes between atoms and prevent our simulation from blowing up."
   ]
  },
  {
   "cell_type": "code",
   "execution_count": null,
   "metadata": {
    "collapsed": false,
    "scrolled": false
   },
   "outputs": [],
   "source": [
    "trajectory = mol.minimize(nsteps=200)\n",
    "trajectory.draw()"
   ]
  },
  {
   "cell_type": "code",
   "execution_count": null,
   "metadata": {
    "collapsed": false
   },
   "outputs": [],
   "source": [
    "plot(trajectory.potential_energy)\n",
    "\n",
    "xlabel('steps');ylabel('energy / %s' % trajectory.unit_system.energy)\n",
    "title('Energy relaxation')\n",
    "grid()"
   ]
  },
  {
   "cell_type": "markdown",
   "metadata": {},
   "source": [
    "## 6. Dynamics\n",
    "We're ready to run 25 picoseconds of dynamics at room temperature (that's 300º Kelvin). This will probably take a few minutes - if you're on an especially pokey computer, you might want to reduce the length of the simulation."
   ]
  },
  {
   "cell_type": "code",
   "execution_count": null,
   "metadata": {
    "collapsed": false,
    "scrolled": true
   },
   "outputs": [],
   "source": [
    "traj = mol.run(run_for=25.0*u.ps)\n",
    "traj.draw()"
   ]
  },
  {
   "cell_type": "code",
   "execution_count": null,
   "metadata": {
    "collapsed": false
   },
   "outputs": [],
   "source": [
    "viewer = traj.draw()\n",
    "viewer"
   ]
  },
  {
   "cell_type": "markdown",
   "metadata": {},
   "source": [
    "## 7. Analysis\n",
    "The trajectory object (named `traj`) gives direct access to the timeseries data:"
   ]
  },
  {
   "cell_type": "code",
   "execution_count": null,
   "metadata": {
    "collapsed": false
   },
   "outputs": [],
   "source": [
    "plot(traj.time, traj.kinetic_energy, label='kinetic energy')\n",
    "plot(traj.time, traj.potential_energy - traj.potential_energy[0], label='potential_energy')\n",
    "xlabel('time / {time.units}'.format(time=traj.time))\n",
    "ylabel('energy / {energy.units}'.format(energy=traj.kinetic_energy))\n",
    "title('Energy vs. time'); grid()\n",
    "legend(loc='center right')"
   ]
  },
  {
   "cell_type": "code",
   "execution_count": null,
   "metadata": {
    "collapsed": false
   },
   "outputs": [],
   "source": [
    "# Using the trajectory's 'plot' method will autogenerate axes labels with the appropriate units\n",
    "traj.plot('time','kinetic_temperature')\n",
    "title('Temperature')"
   ]
  },
  {
   "cell_type": "markdown",
   "metadata": {},
   "source": [
    "This cell sets up an widget that plots the RMSDs of any selected group of atoms.\n",
    "**Select a group of atoms, then click \"Run plot_rmsd\" to generate a plot**"
   ]
  },
  {
   "cell_type": "code",
   "execution_count": null,
   "metadata": {
    "collapsed": false
   },
   "outputs": [],
   "source": [
    "from ipywidgets import interact_manual\n",
    "from IPython.display import display\n",
    "\n",
    "rs = mdt.widgets.ResidueSelector(mol)\n",
    "def plot_rmsd(): plot(traj.time, traj.rmsd(rs.selected_atoms))\n",
    "interact_manual(plot_rmsd)\n",
    "rs"
   ]
  }
 ],
 "metadata": {
  "kernelspec": {
   "display_name": "Python 2",
   "language": "python",
   "name": "python2"
  },
  "language_info": {
   "codemirror_mode": {
    "name": "ipython",
    "version": 2
   },
   "file_extension": ".py",
   "mimetype": "text/x-python",
   "name": "python",
   "nbconvert_exporter": "python",
   "pygments_lexer": "ipython2",
   "version": "2.7.12"
  }
 },
 "nbformat": 4,
 "nbformat_minor": 0
}