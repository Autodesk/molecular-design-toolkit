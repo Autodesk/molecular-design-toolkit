{
 "cells": [
  {
   "cell_type": "markdown",
   "metadata": {},
   "source": [
    "<span style=\"float:right\">\n",
    "<a href=\"http://moldesign.bionano.autodesk.com/\" target=\"_blank\" title=\"About\">About</a>&nbsp;&nbsp;&nbsp;&nbsp;&nbsp;&nbsp;\n",
    "<a href=\"https://forum.bionano.autodesk.com/c/Molecular-Design-Toolkit\" target=\"_blank\" title=\"Forum\">Forum</a>&nbsp;&nbsp;&nbsp;&nbsp;&nbsp;&nbsp;\n",
    "<a href=\"https://github.com/autodesk/molecular-design-toolkit/issues\" target=\"_blank\" title=\"Issues\">Issues</a>&nbsp;&nbsp;&nbsp;&nbsp;&nbsp;&nbsp;\n",
    "<a href=\"http://bionano.autodesk.com/MolecularDesignToolkit/explore.html\" target=\"_blank\" title=\"Tutorials\">Tutorials</a>&nbsp;&nbsp;&nbsp;&nbsp;&nbsp;&nbsp;\n",
    "<a href=\"http://autodesk.github.io/molecular-design-toolkit/\" target=\"_blank\" title=\"Documentation\">Documentation</a></span>\n",
    "</span>\n",
    "![Molecular Design Toolkit](img/Top.png)\n",
    "<br>\n",
    "<center><h1>Example 5: Calculating torsional barriers with relaxation </h1> </center>\n",
    "\n",
    "---\n",
    "\n",
    "This workflow calculates the enthalpic barrier of a small alkane.\n",
    "\n",
    " - _Author_: [Aaron Virshup](https://github.com/avirshup), Autodesk Research<br>\n",
    " - _Created on_: September 23, 2016\n",
    " - _Tags_: reaction path, constrained minimization, torsion, enthalpic\n"
   ]
  },
  {
   "cell_type": "code",
   "execution_count": null,
   "metadata": {},
   "outputs": [],
   "source": [
    "import moldesign as mdt\n",
    "from moldesign import units as u\n",
    "\n",
    "%matplotlib notebook\n",
    "from matplotlib.pyplot import *\n",
    "try: import seaborn  # optional, makes graphs look better\n",
    "except ImportError: pass\n",
    "\n",
    "u.default.energy = u.kcalpermol  # use kcal/mol for energy"
   ]
  },
  {
   "cell_type": "markdown",
   "metadata": {},
   "source": [
    "Contents\n",
    "=======\n",
    "---\n",
    " - [I. Create and minimize the molecule](#I.-Create-and-minimize-the-molecule)\n",
    " - [II. Select the torsional bond](#II.-Select-the-torsional-bond)\n",
    " - [III. Rigid rotation scan](#III.-Rigid-rotation-scan)\n",
    " - [IV. Relaxed rotation scan](#IV.-Relaxed-rotation-scan)\n",
    " - [V. Plot the potential energy surfaces](#V.-Plot-the-potential-energy-surfaces)\n",
    " - [VI. Investigate conformational changes](#VI.-Investigate-conformational-changes)"
   ]
  },
  {
   "cell_type": "markdown",
   "metadata": {},
   "source": [
    "# I. Create and minimize the molecule"
   ]
  },
  {
   "cell_type": "code",
   "execution_count": null,
   "metadata": {},
   "outputs": [],
   "source": [
    "mol = mdt.from_smiles('CCCC')\n",
    "mol.draw()"
   ]
  },
  {
   "cell_type": "code",
   "execution_count": null,
   "metadata": {},
   "outputs": [],
   "source": [
    "mol.set_energy_model(mdt.models.GAFF)\n",
    "mol.energy_model.configure()"
   ]
  },
  {
   "cell_type": "code",
   "execution_count": null,
   "metadata": {},
   "outputs": [],
   "source": [
    "minimization = mol.minimize(nsteps=40)\n",
    "minimization.draw()"
   ]
  },
  {
   "cell_type": "markdown",
   "metadata": {},
   "source": [
    "# II. Select the torsional bond\n",
    "\n",
    "Next, we use the `BondSelector` to pick the bond that we'll rotate around."
   ]
  },
  {
   "cell_type": "code",
   "execution_count": null,
   "metadata": {},
   "outputs": [],
   "source": [
    "bs = mdt.widgets.BondSelector(mol)\n",
    "bs"
   ]
  },
  {
   "cell_type": "code",
   "execution_count": null,
   "metadata": {},
   "outputs": [],
   "source": [
    "twist = mdt.DihedralMonitor(bs.selected_bonds[0])\n",
    "twist"
   ]
  },
  {
   "cell_type": "markdown",
   "metadata": {},
   "source": [
    "# III. Rigid rotation scan\n",
    "\n",
    "First, we'll perform a simple energy scan, simply by rotating around the bond and calculating the energy at each point.\n",
    "\n",
    "This gives us only an _upper bound_ on the enthalpic rotation barrier. This is because we keep the molecule rigid, except for the single rotating bond."
   ]
  },
  {
   "cell_type": "code",
   "execution_count": null,
   "metadata": {},
   "outputs": [],
   "source": [
    "angles = np.arange(-150, 210, 5) * u.degree"
   ]
  },
  {
   "cell_type": "code",
   "execution_count": null,
   "metadata": {},
   "outputs": [],
   "source": [
    "rigid = mdt.Trajectory(mol)\n",
    "for angle in angles:\n",
    "    twist.value = angle\n",
    "    mol.calculate()\n",
    "    rigid.new_frame(annotation='angle: %s, energy: %s' % (twist.value.to(u.degrees), mol.potential_energy))"
   ]
  },
  {
   "cell_type": "code",
   "execution_count": null,
   "metadata": {},
   "outputs": [],
   "source": [
    "rigid.draw()"
   ]
  },
  {
   "cell_type": "code",
   "execution_count": null,
   "metadata": {},
   "outputs": [],
   "source": [
    "figure()\n",
    "plot(angles, rigid.potential_energy)\n",
    "xlabel(u'dihedral / º'); ylabel('energy / kcal/mol')\n",
    "xticks(np.arange(-120,211,30))"
   ]
  },
  {
   "cell_type": "markdown",
   "metadata": {},
   "source": [
    "# IV. Relaxed rotation scan\n",
    "\n",
    "Next, we'll get the *right* barrier (up to the accuracy of the energy model).\n",
    "\n",
    "Here, we'll rotate around the bond, but then perform a _constrained minimization_ at each rotation point. This will allow all other degrees of freedom to relax, thus finding lower energies at each point along the path. \n",
    "\n",
    "_Note_: In order to break any spurious symmetries, this loop also adds a little bit of random noise to each structure before performing the minimization."
   ]
  },
  {
   "cell_type": "code",
   "execution_count": null,
   "metadata": {},
   "outputs": [],
   "source": [
    "constraint = twist.constrain()"
   ]
  },
  {
   "cell_type": "code",
   "execution_count": null,
   "metadata": {},
   "outputs": [],
   "source": [
    "relaxed = mdt.Trajectory(mol)\n",
    "for angle in angles:\n",
    "    print angle,':',\n",
    "    \n",
    "    #add random noise to break symmetry\n",
    "    mol.positions += np.random.random(mol.positions.shape) * 0.01*u.angstrom\n",
    "    mol.positions -= mol.center_of_mass\n",
    "    \n",
    "    twist.value = angle\n",
    "    constraint.value = angle\n",
    "    \n",
    "    t = mol.minimize(nsteps=100)\n",
    "    relaxed.new_frame(annotation='angle: %s, energy: %s' % (twist.value.to(u.degrees), mol.potential_energy))"
   ]
  },
  {
   "cell_type": "code",
   "execution_count": null,
   "metadata": {},
   "outputs": [],
   "source": [
    "relaxed.draw()"
   ]
  },
  {
   "cell_type": "markdown",
   "metadata": {},
   "source": [
    "# V. Plot the potential energy surfaces\n",
    "\n",
    "If you plotted butane's rotation around its central bond, you'll see [three stable points](https://en.wikipedia.org/wiki/Alkane_stereochemistry#Conformation): two at about ±60º (the _gauche_ conformations), and one at 180º (the _anti_ conformation).\n",
    "\n",
    "You will likely see a large differences in the energetics of the relaxed and rigid scans; depending on the exact starting conformation, the rigid scan can overestimate the rotation barrier by as much as 5 kcal/mol!"
   ]
  },
  {
   "cell_type": "code",
   "execution_count": null,
   "metadata": {},
   "outputs": [],
   "source": [
    "figure()\n",
    "plot(angles, rigid.potential_energy, label='rigid')\n",
    "plot(angles, relaxed.potential_energy, label='relaxed')\n",
    "plot(angles, abs(rigid.potential_energy - relaxed.potential_energy), label='error')\n",
    "xlabel(u'dihedral / º'); ylabel('energy / kcal/mol'); legend()\n",
    "xticks(np.arange(-120,211,30))"
   ]
  },
  {
   "cell_type": "markdown",
   "metadata": {},
   "source": [
    "# VI. Investigate conformational changes\n",
    "\n",
    "This cell illustrates a simple interactive \"app\" - select the bonds you're interested in, then click the \"show_dihedral\" button to show their relaxed angles as a function of the central twist during the `relaxed` scan."
   ]
  },
  {
   "cell_type": "code",
   "execution_count": null,
   "metadata": {},
   "outputs": [],
   "source": [
    "from ipywidgets import interact_manual\n",
    "\n",
    "bs = mdt.widgets.BondSelector(mol)\n",
    "def show_dihedral():\n",
    "    figure()\n",
    "    for bond in bs.selected_bonds:\n",
    "        dihemon = mdt.DihedralMonitor(bond)\n",
    "        plot(angles, dihemon(relaxed).to(u.degrees), label=str(bond))\n",
    "    legend(); xlabel(u'central twist / º'); ylabel(u'bond twist / º')\n",
    "interact_manual(show_dihedral)\n",
    "bs"
   ]
  },
  {
   "cell_type": "code",
   "execution_count": null,
   "metadata": {},
   "outputs": [],
   "source": []
  }
 ],
 "metadata": {
  "kernelspec": {
   "display_name": "Python 2",
   "language": "python",
   "name": "python2"
  },
  "language_info": {
   "codemirror_mode": {
    "name": "ipython",
    "version": 2
   },
   "file_extension": ".py",
   "mimetype": "text/x-python",
   "name": "python",
   "nbconvert_exporter": "python",
   "pygments_lexer": "ipython2",
   "version": "2.7.12"
  }
 },
 "nbformat": 4,
 "nbformat_minor": 1
}