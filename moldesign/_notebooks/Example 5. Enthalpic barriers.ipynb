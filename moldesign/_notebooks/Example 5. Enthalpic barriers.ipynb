{
 "cells": [
  {
   "cell_type": "markdown",
   "metadata": {},
   "source": [
    "<span style=\"float:right\">\n",
    "<a href=\"http://moldesign.bionano.autodesk.com/\" target=\"_blank\" title=\"About\">About</a>&nbsp;&nbsp;&nbsp;&nbsp;&nbsp;&nbsp;\n",
    "<a href=\"https://forum.bionano.autodesk.com/c/Molecular-Design-Toolkit\" target=\"_blank\" title=\"Forum\">Forum</a>&nbsp;&nbsp;&nbsp;&nbsp;&nbsp;&nbsp;\n",
    "<a href=\"https://github.com/autodesk/molecular-design-toolkit/issues\" target=\"_blank\" title=\"Issues\">Issues</a>&nbsp;&nbsp;&nbsp;&nbsp;&nbsp;&nbsp;\n",
    "<a href=\"http://bionano.autodesk.com/MolecularDesignToolkit/explore.html\" target=\"_blank\" title=\"Tutorials\">Tutorials</a>&nbsp;&nbsp;&nbsp;&nbsp;&nbsp;&nbsp;\n",
    "<a href=\"http://autodesk.github.io/molecular-design-toolkit/\" target=\"_blank\" title=\"Documentation\">Documentation</a></span>\n",
    "</span>\n",
    "![Molecular Design Toolkit](img/Top.png)\n",
    "<br>\n",
    "<center><h1>Example 5: Calculating enthalpic barriers with constraints minimizations </h1> </center>\n",
    "\n",
    "---\n",
    "\n",
    "Here, we calculate a torsional rotation barrier of a common amino acid.\n",
    "\n",
    " - _Author_: [Aaron Virshup](https://github.com/avirshup), Autodesk Research<br>\n",
    " - _Created on_: July 1, 2016\n",
    " - _Tags_: quantum chemistry, PES, isomerization, reaction coordinate\n"
   ]
  },
  {
   "cell_type": "code",
   "execution_count": null,
   "metadata": {
    "collapsed": false
   },
   "outputs": [],
   "source": [
    "import moldesign as mdt\n",
    "from moldesign import units as u\n",
    "\n",
    "%matplotlib notebook\n",
    "from matplotlib.pyplot import *\n",
    "try: import seaborn  # optional, makes graphs look better\n",
    "except ImportError: pass"
   ]
  },
  {
   "cell_type": "code",
   "execution_count": null,
   "metadata": {
    "collapsed": false
   },
   "outputs": [],
   "source": [
    "mol = mdt.from_name('butane')\n",
    "mol.draw()"
   ]
  },
  {
   "cell_type": "code",
   "execution_count": null,
   "metadata": {
    "collapsed": false
   },
   "outputs": [],
   "source": [
    "mol.set_energy_model(mdt.models.GAFF)\n",
    "mol.energy_model.configure()"
   ]
  },
  {
   "cell_type": "code",
   "execution_count": null,
   "metadata": {
    "collapsed": false
   },
   "outputs": [],
   "source": [
    "minimization = mol.minimize(nsteps=40)"
   ]
  },
  {
   "cell_type": "code",
   "execution_count": null,
   "metadata": {
    "collapsed": false
   },
   "outputs": [],
   "source": [
    "minimization.draw()"
   ]
  },
  {
   "cell_type": "code",
   "execution_count": null,
   "metadata": {
    "collapsed": false
   },
   "outputs": [],
   "source": [
    "bs = mdt.widgets.BondSelector(mol)\n",
    "bs"
   ]
  },
  {
   "cell_type": "code",
   "execution_count": null,
   "metadata": {
    "collapsed": false
   },
   "outputs": [],
   "source": [
    "twist = mdt.DihedralMonitor(bs.selected_bonds[0])\n",
    "twist"
   ]
  },
  {
   "cell_type": "code",
   "execution_count": null,
   "metadata": {
    "collapsed": false
   },
   "outputs": [],
   "source": [
    "rigid = mdt.Trajectory(mol)\n",
    "for angle in np.arange(0.0, 360, 5) * u.degree:\n",
    "    twist.value = angle\n",
    "    mol.calculate()\n",
    "    rigid.new_frame(annotation='angle: %s' % twist.value.to(u.degrees))"
   ]
  },
  {
   "cell_type": "code",
   "execution_count": null,
   "metadata": {
    "collapsed": true
   },
   "outputs": [],
   "source": [
    "rigid.draw()"
   ]
  },
  {
   "cell_type": "code",
   "execution_count": null,
   "metadata": {
    "collapsed": false
   },
   "outputs": [],
   "source": [
    "figure()\n",
    "plot(twist(rigid).to(u.degrees), rigid.potential_energy)\n",
    "xlabel(u'dihedral / º'); ylabel('energy / eV')"
   ]
  },
  {
   "cell_type": "code",
   "execution_count": null,
   "metadata": {
    "collapsed": true
   },
   "outputs": [],
   "source": [
    "mol.clear_constraints()\n",
    "mol.positions = rigid.positions[0]"
   ]
  },
  {
   "cell_type": "code",
   "execution_count": null,
   "metadata": {
    "collapsed": false
   },
   "outputs": [],
   "source": [
    "constraint = twist.constrain()\n",
    "relaxed = mdt.Trajectory(mol)\n",
    "for angle in np.arange(0, 360, 5) * u.degree:\n",
    "    print angle,':',\n",
    "    \n",
    "    #add random noise to break symmetry\n",
    "    mol.positions += np.random.random(mol.positions.shape) * 0.01*u.angstrom\n",
    "    mol.positions -= mol.center_of_mass\n",
    "    \n",
    "    twist.value = angle\n",
    "    constraint.value = angle\n",
    "    \n",
    "    t = mol.minimize(nsteps=100)\n",
    "    relaxed.new_frame(annotation='angle: %s' % twist.value.to(u.degrees))"
   ]
  },
  {
   "cell_type": "code",
   "execution_count": null,
   "metadata": {
    "collapsed": false
   },
   "outputs": [],
   "source": [
    "relaxed.draw()"
   ]
  },
  {
   "cell_type": "code",
   "execution_count": null,
   "metadata": {
    "collapsed": false
   },
   "outputs": [],
   "source": [
    "figure()\n",
    "x_axis = twist(rigid).to(u.degrees) \n",
    "plot(x_axis, rigid.potential_energy, label='rigid')\n",
    "plot(x_axis, relaxed.potential_energy, label='relaxed')\n",
    "plot(x_axis, rigid.potential_energy - relaxed.potential_energy, label='rigid - relaxed')\n",
    "xlabel(u'dihedral / º'); ylabel('energy / eV'); legend()"
   ]
  },
  {
   "cell_type": "code",
   "execution_count": null,
   "metadata": {
    "collapsed": false
   },
   "outputs": [],
   "source": [
    "from ipywidgets import interact_manual\n",
    "\n",
    "bs = mdt.widgets.BondSelector(mol)\n",
    "def show_dihedral():\n",
    "    figure()\n",
    "    for bond in bs.selected_bonds:\n",
    "        dihemon = mdt.DihedralMonitor(bond)\n",
    "        plot(twist(relaxed).to(u.degrees), dihemon(relaxed).to(u.degrees), label=str(bond))\n",
    "    legend(); xlabel(u'central twist / º'); ylabel(u'bond twist / º')\n",
    "interact_manual(show_dihedral)\n",
    "bs"
   ]
  },
  {
   "cell_type": "code",
   "execution_count": null,
   "metadata": {
    "collapsed": true
   },
   "outputs": [],
   "source": []
  }
 ],
 "metadata": {
  "kernelspec": {
   "display_name": "Python 2",
   "language": "python",
   "name": "python2"
  },
  "language_info": {
   "codemirror_mode": {
    "name": "ipython",
    "version": 2
   },
   "file_extension": ".py",
   "mimetype": "text/x-python",
   "name": "python",
   "nbconvert_exporter": "python",
   "pygments_lexer": "ipython2",
   "version": "2.7.12"
  }
 },
 "nbformat": 4,
 "nbformat_minor": 1
}