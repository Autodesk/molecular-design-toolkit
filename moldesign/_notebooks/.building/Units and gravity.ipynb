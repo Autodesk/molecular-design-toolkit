{
 "cells": [
  {
   "cell_type": "code",
   "execution_count": null,
   "metadata": {
    "collapsed": false
   },
   "outputs": [],
   "source": [
    "%%javascript\n",
    "//Imports the javascript code - not required if the extensions are already installed\n",
    "require(['/tree/py3dmol/py3dmol/molviz3d.js','/tree/py3dmol/py3dmol/molviz2d.js',\n",
    "         '/tree/py3dmol/py3dmol/3Dmol-min.js','/tree/py3dmol/py3dmol/d3.v3.min.js'],\n",
    "        function(){console.log('JS extensions loaded.')})"
   ]
  },
  {
   "cell_type": "code",
   "execution_count": null,
   "metadata": {
    "collapsed": false
   },
   "outputs": [],
   "source": [
    "%pylab inline"
   ]
  },
  {
   "cell_type": "code",
   "execution_count": null,
   "metadata": {
    "collapsed": false
   },
   "outputs": [],
   "source": [
    "import cStringIO as cio\n",
    "\n",
    "import numpy as np\n",
    "import pandas\n",
    "import numba\n",
    "\n",
    "import buckyball as bb\n",
    "import buckyball.units as u"
   ]
  },
  {
   "cell_type": "code",
   "execution_count": null,
   "metadata": {
    "collapsed": false
   },
   "outputs": [],
   "source": [
    "\"\"\"Set up our unit system\"\"\"\n",
    "u.ureg.define('earth_mass = 5.97219e24 * kg')\n",
    "u.em = u.ureg.earth_mass\n",
    "u.ureg.define('earth_radius = 7917.5/2.0 * miles')\n",
    "u.au = u.ureg.au\n",
    "u.yj = u.ureg.yottajoule\n",
    "u.G = u.ureg.newtonian_constant_of_gravitation\n",
    "\n",
    "u.default.length = u.au\n",
    "u.default.mass = u.em\n",
    "u.default.energy = u.yj\n",
    "u.default.time = u.ureg.day"
   ]
  },
  {
   "cell_type": "code",
   "execution_count": null,
   "metadata": {
    "collapsed": false
   },
   "outputs": [],
   "source": [
    "\"\"\"Set up astronomical data\"\"\"\n",
    "data = pandas.read_csv('data/solar.csv')\n",
    "planets = {}\n",
    "for name,mass,orbit,velocity in zip(data.Name,\n",
    "                                    data['Mass (Earth=1)'],\n",
    "                                    data['Mean Distance from Sun (AU)'],\n",
    "                                    data['Mean Orbital Velocity (km/sec)']):\n",
    "    planets[name] = {'mass':mass*u.em,\n",
    "                    'orbit':orbit*u.au,\n",
    "                    'speed':velocity*u.ureg.km/u.ureg.seconds}\n",
    "def make_planet(name):\n",
    "    planet = planets[name]\n",
    "    atom = bb.Atom(name=name, mass=planet['mass'], atnum=0)\n",
    "    atom.x = planet['orbit']\n",
    "    atom.momentum[1] = planet['speed'] * atom.mass\n",
    "    return atom"
   ]
  },
  {
   "cell_type": "code",
   "execution_count": null,
   "metadata": {
    "collapsed": false
   },
   "outputs": [],
   "source": [
    "\"\"\"Define the potential\"\"\"\n",
    "class Gravity(bb.basemethods.EnergyModelBase):\n",
    "    def prep(self):\n",
    "        n = self.mol.num_atoms\n",
    "        self.indices = np.triu_indices(n,k=1)\n",
    "        self.forcebuffer = np.zeros((n,3)) * u.default.force\n",
    "        self._prepped = True\n",
    "        mg = u.to_units_array([u.G*self.mol.atoms[i].mass*self.mol.atoms[j].mass\n",
    "                                    for i,j in zip(*self.indices)])\n",
    "        self.mass_grav = mg\n",
    "\n",
    "\n",
    "    def calculate(self,requests=None):\n",
    "        if not self._prepped: self.prep()\n",
    "\n",
    "        energy,forces = self.fast_gravity()\n",
    "        \n",
    "        return {'potential_energy':u.default.convert(energy),\n",
    "               'forces':u.default.convert(forces)}\n",
    "    \n",
    "    def fast_gravity(self):\n",
    "        dists = self.mol.calc_distance_array(self.mol)[self.indices]\n",
    "        disps = self.mol.calc_displacements()[self.indices]\n",
    "        base_array = self.mass_grav/dists\n",
    "        potential = -np.sum(base_array)\n",
    "        f1 = base_array/(dists**2)\n",
    "        f2 = np.multiply(f1,disps.T).T\n",
    "        self.forcebuffer *= 0.0\n",
    "        for ind,(i,j) in enumerate(zip(*self.indices)):\n",
    "            self.forcebuffer[3*i:3*i+3] += f2[ind]\n",
    "            self.forcebuffer[3*j:3*j+3] -= f2[ind]\n",
    "        return potential,self.forcebuffer\n",
    "                        "
   ]
  },
  {
   "cell_type": "code",
   "execution_count": null,
   "metadata": {
    "collapsed": false
   },
   "outputs": [],
   "source": [
    "\"\"\"Timing...\"\"\"\n",
    "twobody = bb.Molecule([make_planet('Earth'),make_planet('Sun')],\n",
    "                       name='EarthAndSun')\n",
    "twobody.set_energy_model(Gravity())\n",
    "#twobody.energy_model.calculate()\n",
    "#%timeit twobody.energy_model.calculate()"
   ]
  },
  {
   "cell_type": "code",
   "execution_count": null,
   "metadata": {
    "collapsed": false
   },
   "outputs": [],
   "source": [
    "\"\"\"Run a simulation of the earth and sun\"\"\"\n",
    "twobody = bb.Molecule([make_planet('Earth'),make_planet('Sun')],\n",
    "                       name='EarthAndSun')\n",
    "twobody.set_energy_model(Gravity())\n",
    "print 'Starting potential energy: ',twobody.calc_potential_energy()\n",
    "vv = bb.integrators.VelocityVerlet(frame_interval=20, timestep=1.0*u.ureg.day)\n",
    "twobody.set_integrator(vv)\n",
    "duration = 5.0*u.ureg.year\n",
    "traj = twobody.run(duration)\n",
    "print 'Created trajectory with %d frames over %s'%(len(traj),duration)"
   ]
  },
  {
   "cell_type": "code",
   "execution_count": null,
   "metadata": {
    "collapsed": false
   },
   "outputs": [],
   "source": [
    "twobody.energy_model.mass_grav"
   ]
  },
  {
   "cell_type": "code",
   "execution_count": null,
   "metadata": {
    "collapsed": false
   },
   "outputs": [],
   "source": [
    "\"\"\"Plot the results\"\"\"\n",
    "print 'There are %d frames.'%len(traj)\n",
    "plot(traj.time,traj.positions[:,0],label='x')\n",
    "plot(traj.time,traj.positions[:,1],label='y')\n",
    "xlabel('time / days'); ylabel('coordinate / Ast. Unit');grid(); legend(loc='lower left')\n",
    "title(\"Earth's location relative to the sun\")"
   ]
  },
  {
   "cell_type": "code",
   "execution_count": null,
   "metadata": {
    "collapsed": false
   },
   "outputs": [],
   "source": [
    "\"\"\"A bigger simulation\"\"\"\n",
    "energy_model=Gravity()\n",
    "integrator=bb.integrators.VelocityVerlet(timestep=1.0*u.ureg.day,\n",
    "                                        frame_interval=10)\n",
    "solar_system = bb.Molecule([make_planet(n) for n in data.Name],\n",
    "                           energy_model=energy_model,\n",
    "                          integrator=integrator)\n",
    "traj = solar_system.run(0.5*u.ureg.year)"
   ]
  },
  {
   "cell_type": "code",
   "execution_count": null,
   "metadata": {
    "collapsed": true
   },
   "outputs": [],
   "source": []
  }
 ],
 "metadata": {
  "kernelspec": {
   "display_name": "Python 2",
   "language": "python",
   "name": "python2"
  },
  "language_info": {
   "codemirror_mode": {
    "name": "ipython",
    "version": 2
   },
   "file_extension": ".py",
   "mimetype": "text/x-python",
   "name": "python",
   "nbconvert_exporter": "python",
   "pygments_lexer": "ipython2",
   "version": "2.7.11"
  }
 },
 "nbformat": 4,
 "nbformat_minor": 0
}