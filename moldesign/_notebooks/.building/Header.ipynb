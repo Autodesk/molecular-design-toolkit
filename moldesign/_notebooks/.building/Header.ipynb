{
 "cells": [
  {
   "cell_type": "markdown",
   "metadata": {},
   "source": [
    "![Molecular Design Toolkit](img/top.png)\n",
    "\n",
    "[About](http://moldesign.bionano.autodesk.com/ \"MDT Website\")\n",
    "&nbsp;&nbsp;&nbsp;[Tutorials](http://example.com/ \"Title\")\n",
    "&nbsp;&nbsp;&nbsp;[Documentation](http://example.com/ \"Title\")\n",
    "&nbsp;&nbsp;&nbsp;[Forum](https://forum.bionano.autodesk.com/c/Molecular-Design-Toolkit \"MDT Forums\")&nbsp;&nbsp;&nbsp;\n",
    "<br>\n",
    "<br>\n",
    "# DNA Simulation\n",
    "\n"
   ]
  },
  {
   "cell_type": "code",
   "execution_count": null,
   "metadata": {
    "collapsed": true
   },
   "outputs": [],
   "source": []
  },
  {
   "cell_type": "code",
   "execution_count": null,
   "metadata": {
    "collapsed": true
   },
   "outputs": [],
   "source": []
  },
  {
   "cell_type": "code",
   "execution_count": null,
   "metadata": {
    "collapsed": true
   },
   "outputs": [],
   "source": []
  }
 ],
 "metadata": {
  "kernelspec": {
   "display_name": "Python 2",
   "language": "python",
   "name": "python2"
  },
  "language_info": {
   "codemirror_mode": {
    "name": "ipython",
    "version": 2.0
   },
   "file_extension": ".py",
   "mimetype": "text/x-python",
   "name": "python",
   "nbconvert_exporter": "python",
   "pygments_lexer": "ipython2",
   "version": "2.7.11"
  }
 },
 "nbformat": 4,
 "nbformat_minor": 0
}