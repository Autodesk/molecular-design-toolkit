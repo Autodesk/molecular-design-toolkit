{
 "cells": [
  {
   "cell_type": "markdown",
   "metadata": {},
   "source": [
    "\n",
    "<span style=\"float:right\"><a href=\"http://moldesign.bionano.autodesk.com/\" target=\"_blank\" title=\"About\">About</a>&nbsp;&nbsp;&nbsp;&nbsp;&nbsp;&nbsp;<a href=\"https://forum.bionano.autodesk.com/c/Molecular-Design-Toolkit\" target=\"_blank\" title=\"Forum\">Forum</a>&nbsp;&nbsp;&nbsp;&nbsp;&nbsp;&nbsp;<a href=\"https://github.com/autodesk/molecular-design-toolkit/issues\" target=\"_blank\" title=\"Issues\">Issues</a>&nbsp;&nbsp;&nbsp;&nbsp;&nbsp;&nbsp;<a href=\"http://bionano.autodesk.com/MolecularDesignToolkit/explore.html\" target=\"_blank\" title=\"Tutorials\">Tutorials</a>&nbsp;&nbsp;&nbsp;&nbsp;&nbsp;&nbsp;<a href=\"http://autodesk.github.io/molecular-design-toolkit/\" target=\"_blank\" title=\"Documentation\">Documentation</a></span>\n",
    "</span>\n",
    "![Molecular Design Toolkit](img/top.png)\n",
    "<br>\n",
    "\n",
    "<center><h1>Example 3: Simulating HIV Protease </h1> </center>\n",
    "\n",
    "This notebook prepares a co-crystallized protein / small molecule ligand structure from [the PDB database](http://www.rcsb.org/pdb/home/home.do) and prepares it for molecular dynamics simulation. \n",
    "\n",
    "---"
   ]
  },
  {
   "cell_type": "code",
   "execution_count": null,
   "metadata": {
    "collapsed": false
   },
   "outputs": [],
   "source": [
    "import moldesign as mdt\n",
    "import moldesign.units as u"
   ]
  },
  {
   "cell_type": "markdown",
   "metadata": {},
   "source": [
    "\n",
    "## I. The crystal structure\n",
    "\n",
    "First, we'll download and investigate the [3AID crystal structure](http://www.rcsb.org/pdb/explore.do?structureId=3aid).\n",
    "\n",
    "### A. Download and visualize"
   ]
  },
  {
   "cell_type": "code",
   "execution_count": null,
   "metadata": {
    "collapsed": false
   },
   "outputs": [],
   "source": [
    "mol = mdt.read('../data/3AID.pdb')\n",
    "mol"
   ]
  },
  {
   "cell_type": "markdown",
   "metadata": {},
   "source": [
    "### B. Try assigning a forcefield"
   ]
  },
  {
   "cell_type": "markdown",
   "metadata": {},
   "source": [
    "This structure is not ready for MD - this command will raise a `ParameterizationError` Exception. After running this calculation, click on the **Errors/Warnings** tab to see why."
   ]
  },
  {
   "cell_type": "code",
   "execution_count": null,
   "metadata": {
    "collapsed": false
   },
   "outputs": [],
   "source": [
    "newmol = mdt.assign_forcefield(mol)"
   ]
  },
  {
   "cell_type": "markdown",
   "metadata": {},
   "source": [
    "You should see 3 errors: \n",
    " * The residue name `ARQ` not recognized\n",
    " * Atom `HD1` in residue `HIS69`, chain `A` was not recognized\n",
    " * Atom `HD1` in residue `HIS69`, chain `B` was not recognized\n",
    " \n",
    "(There's also a warning about bond distances, but these can be generally be fixed with an energy minimization before running dynamics)\n",
    "\n",
    "We'll deal with the histidine residues first."
   ]
  },
  {
   "cell_type": "markdown",
   "metadata": {},
   "source": [
    "## II. Prepping the protein\n",
    "\n",
    "### A. Assign histidine's protonation\n",
    "Histidine is notoriously tricky, because it exists in no less than three different protonation states at biological pH (7.4) - the \"delta-protonated\" form, referred to with residue name `HID`; the \"epsilon-protonated\" form aka `HIE`; and the doubly-protonated form `HIP`, which has a +1 charge. These are drawn below."
   ]
  },
  {
   "cell_type": "code",
   "execution_count": null,
   "metadata": {
    "collapsed": false
   },
   "outputs": [],
   "source": [
    "hid = mdt.from_smiles('O=C(O)[C@@H](N)Cc1c[nH]cn1')\n",
    "hid.draw3d()"
   ]
  },
  {
   "cell_type": "code",
   "execution_count": null,
   "metadata": {
    "collapsed": false
   },
   "outputs": [],
   "source": [
    "hie = mdt.from_smiles('O=C(O)[C@@H](N)Cc1cnc[nH]1')\n",
    "hie.draw3d()"
   ]
  },
  {
   "cell_type": "markdown",
   "metadata": {},
   "source": [
    "Crystallographers usually can't resolve hydrogen positions, and so can't tell you which form of histidine you have. PDB files thus refer to histidine as `HIS`, which leaves the protonation state ambiguous. In general, picking the right protontation is both extremely important and extremely difficult.\n",
    "\n",
    "We're in luck for this simulation, however - the histidines are located on the surface of the protein, quite far from the drug binding site, and so their state is not likely to be important for a drug binding calculation. Further, the presence of the `HD1` atoms in the crystal structure indicates that we should probably go ahead and change our `HIS` residues to `HID`.\n",
    "\n",
    "The fix is easy - just change the name. We'll rerun the paramterization to confirm that the histidine errors disappeared (although the small molecule errors remain)."
   ]
  },
  {
   "cell_type": "code",
   "execution_count": null,
   "metadata": {
    "collapsed": false
   },
   "outputs": [],
   "source": [
    "for residue in mol.residues:\n",
    "    if residue.resname == 'HIS':\n",
    "        residue.resname = 'HID'\n",
    "        print 'I changed %s in chain %s to HID' % (residue.name, residue.chain.name)"
   ]
  },
  {
   "cell_type": "code",
   "execution_count": null,
   "metadata": {
    "collapsed": false
   },
   "outputs": [],
   "source": [
    "md_ready_molecule = mdt.assign_forcefield(mol)"
   ]
  },
  {
   "cell_type": "markdown",
   "metadata": {},
   "source": [
    "### B. Remove the ligand\n",
    "The following cell creates a new ``Molecule`` with only the protein - no solvent or bound ligand."
   ]
  },
  {
   "cell_type": "code",
   "execution_count": null,
   "metadata": {
    "collapsed": false
   },
   "outputs": [],
   "source": [
    "receptor_structure = mdt.Molecule([atom for atom in mol.atoms if atom.residue.type == 'protein'])\n",
    "receptor = mdt.assign_forcefield(receptor_structure)"
   ]
  },
  {
   "cell_type": "markdown",
   "metadata": {},
   "source": [
    "### C. Prep for dynamics"
   ]
  },
  {
   "cell_type": "code",
   "execution_count": null,
   "metadata": {
    "collapsed": false
   },
   "outputs": [],
   "source": [
    "receptor.set_energy_model(mdt.models.OpenMMPotential, implicit_solvent='obc', cutoff=8.0*u.angstrom)\n",
    "receptor.set_integrator(mdt.integrators.OpenMMLangevin, timestep=2.0*u.fs)"
   ]
  },
  {
   "cell_type": "code",
   "execution_count": null,
   "metadata": {
    "collapsed": false
   },
   "outputs": [],
   "source": [
    "receptor.configure_methods()"
   ]
  },
  {
   "cell_type": "markdown",
   "metadata": {},
   "source": [
    "### D. Equilibrate the protein\n",
    "The next series of cells first minimize the crystal structure to remove clashes, then heats the system to 300K."
   ]
  },
  {
   "cell_type": "code",
   "execution_count": null,
   "metadata": {
    "collapsed": false
   },
   "outputs": [],
   "source": [
    "mintraj = receptor.minimize()\n",
    "mintraj.draw()"
   ]
  },
  {
   "cell_type": "code",
   "execution_count": null,
   "metadata": {
    "collapsed": false,
    "scrolled": true
   },
   "outputs": [],
   "source": [
    "# Restrain the peptide backbone:\n",
    "for residue in receptor.residues:\n",
    "    for atom in residue.backbone:\n",
    "        receptor.constrain_atom(atom)\n",
    "print 'Constrained %d atoms' % len(receptor.constraints)"
   ]
  },
  {
   "cell_type": "code",
   "execution_count": null,
   "metadata": {
    "collapsed": false,
    "scrolled": false
   },
   "outputs": [],
   "source": [
    "warmup = receptor.run(20.0*u.ps)"
   ]
  },
  {
   "cell_type": "code",
   "execution_count": null,
   "metadata": {
    "collapsed": false
   },
   "outputs": [],
   "source": [
    "receptor.clear_constraints()\n",
    "receptor.integrator.params.frame_interval=0.1*u.ps\n",
    "equil = receptor.run(5.0*u.ps)"
   ]
  },
  {
   "cell_type": "code",
   "execution_count": null,
   "metadata": {
    "collapsed": false
   },
   "outputs": [],
   "source": [
    "fulltraj = mintraj + warmup + equil\n",
    "fulltraj.draw()"
   ]
  },
  {
   "cell_type": "markdown",
   "metadata": {},
   "source": [
    "## III. Parameterizing a small molecule\n",
    "We'll use the GAFF (generalized Amber force field) to create force field parameters for the small ligand.\n",
    "\n",
    "### A. Isolate the small molecule\n",
    "Click on the ligand to select it, then we'll use that selection to create a new molecule."
   ]
  },
  {
   "cell_type": "code",
   "execution_count": null,
   "metadata": {
    "collapsed": false
   },
   "outputs": [],
   "source": [
    "sel = mdt.widgets.ResidueSelector(mol)\n",
    "sel"
   ]
  },
  {
   "cell_type": "code",
   "execution_count": null,
   "metadata": {
    "collapsed": true
   },
   "outputs": [],
   "source": [
    "drugres = mdt.Molecule(sel.selected_residues[0])\n",
    "drugres.draw2d()"
   ]
  },
  {
   "cell_type": "markdown",
   "metadata": {},
   "source": [
    "### B. Assign bond orders and hydrogens\n",
    "The crystal structure doesn't provide indicate bond orders or hydrogens, but we can add those:"
   ]
  },
  {
   "cell_type": "code",
   "execution_count": null,
   "metadata": {
    "collapsed": false
   },
   "outputs": [],
   "source": [
    "drugmol = mdt.add_hydrogen(mdt.guess_bond_orders((drugres)))\n",
    "drugmol.draw2d()"
   ]
  },
  {
   "cell_type": "code",
   "execution_count": null,
   "metadata": {
    "collapsed": true
   },
   "outputs": [],
   "source": [
    "drugmol.draw()"
   ]
  },
  {
   "cell_type": "markdown",
   "metadata": {},
   "source": [
    "### C. Assign partial charges and a GAFF forcefield"
   ]
  },
  {
   "cell_type": "markdown",
   "metadata": {},
   "source": [
    "To assign force field parameters to this molecule, each atom will need 1) a GAFF atom type, and 2) a partial charge.\n",
    "\n",
    "For the charges, we'll use the fast (but not particularly accurate) AM1-BCC method to compute partial charges for the atoms."
   ]
  },
  {
   "cell_type": "code",
   "execution_count": null,
   "metadata": {
    "collapsed": false
   },
   "outputs": [],
   "source": [
    "assert drugmol.charge == +1"
   ]
  },
  {
   "cell_type": "code",
   "execution_count": null,
   "metadata": {
    "collapsed": true
   },
   "outputs": [],
   "source": [
    "result = drugmol.get_gaff_parameters(charge='am1-bcc', )"
   ]
  },
  {
   "cell_type": "code",
   "execution_count": null,
   "metadata": {
    "collapsed": false
   },
   "outputs": [],
   "source": [
    "print drugmol.write(format='pdb')"
   ]
  },
  {
   "cell_type": "code",
   "execution_count": null,
   "metadata": {
    "collapsed": true
   },
   "outputs": [],
   "source": []
  },
  {
   "cell_type": "code",
   "execution_count": null,
   "metadata": {
    "collapsed": true
   },
   "outputs": [],
   "source": [
    "mol = bb.from_smiles('C1=CCNOC1')"
   ]
  },
  {
   "cell_type": "code",
   "execution_count": null,
   "metadata": {
    "collapsed": true
   },
   "outputs": [],
   "source": [
    "#include commands as file ... stdout, stderr in main display"
   ]
  },
  {
   "cell_type": "code",
   "execution_count": null,
   "metadata": {
    "collapsed": false
   },
   "outputs": [],
   "source": [
    "reload(bb.interfaces.ambertools)\n",
    "bb.interfaces.ambertools.am1_bcc_charges(mol)"
   ]
  },
  {
   "cell_type": "code",
   "execution_count": null,
   "metadata": {
    "collapsed": true
   },
   "outputs": [],
   "source": []
  },
  {
   "cell_type": "code",
   "execution_count": null,
   "metadata": {
    "collapsed": true
   },
   "outputs": [],
   "source": []
  },
  {
   "cell_type": "code",
   "execution_count": null,
   "metadata": {
    "collapsed": true
   },
   "outputs": [],
   "source": []
  },
  {
   "cell_type": "code",
   "execution_count": null,
   "metadata": {
    "collapsed": true
   },
   "outputs": [],
   "source": [
    "mol = mdt.from_name('bipyridine')"
   ]
  },
  {
   "cell_type": "code",
   "execution_count": null,
   "metadata": {
    "collapsed": false
   },
   "outputs": [],
   "source": [
    "mol.draw(height=300, width=300, show_2dhydrogens=True)"
   ]
  },
  {
   "cell_type": "code",
   "execution_count": null,
   "metadata": {
    "collapsed": false
   },
   "outputs": [],
   "source": [
    "mdt.widgets.Symmetrizer(mdt.from_smiles('CC'))"
   ]
  },
  {
   "cell_type": "code",
   "execution_count": null,
   "metadata": {
    "collapsed": true
   },
   "outputs": [],
   "source": []
  }
 ],
 "metadata": {
  "kernelspec": {
   "display_name": "Python 2",
   "language": "python",
   "name": "python2"
  },
  "language_info": {
   "codemirror_mode": {
    "name": "ipython",
    "version": 2
   },
   "file_extension": ".py",
   "mimetype": "text/x-python",
   "name": "python",
   "nbconvert_exporter": "python",
   "pygments_lexer": "ipython2",
   "version": "2.7.12"
  }
 },
 "nbformat": 4,
 "nbformat_minor": 0
}