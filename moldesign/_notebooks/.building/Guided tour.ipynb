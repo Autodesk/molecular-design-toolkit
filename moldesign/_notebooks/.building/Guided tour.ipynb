{
 "cells": [
  {
   "cell_type": "markdown",
   "metadata": {},
   "source": [
    "<a href=\"http://moldesign.bionano.autodesk.com\" target=\"_blank\"><img src=\"img/Top.png\"></a>\n",
    "\n",
    "<center><h1>MDT Quickstart<br> or,\n",
    "A Hitchhiker's Guide to the Chemical Modeling Universe</h1></center>\n",
    "\n",
    "This notebook gives you the Molecular Design Toolkit crash course.\n",
    "\n",
    "**Click on the following cell and press `Shift + Return` to execute it.**"
   ]
  },
  {
   "cell_type": "code",
   "execution_count": null,
   "metadata": {
    "collapsed": false
   },
   "outputs": [],
   "source": [
    "# This cell sets up both the python and notebook environments\n",
    "%matplotlib inline  \n",
    "import moldesign as mdt  # import the buckyball package\n",
    "from moldesign import units as u  # import the buckyball unit system"
   ]
  },
  {
   "cell_type": "markdown",
   "metadata": {},
   "source": [
    "## Molecules\n",
    "\n",
    "Let's start with something relaxing.\n",
    "\n",
    "**Execute each cell by selecting it and pressing `Shift + Return`**"
   ]
  },
  {
   "cell_type": "code",
   "execution_count": null,
   "metadata": {
    "collapsed": false
   },
   "outputs": [],
   "source": [
    "my_first_molecule = mdt.from_name('morphine')\n",
    "my_first_molecule.draw()"
   ]
  },
  {
   "cell_type": "markdown",
   "metadata": {},
   "source": [
    "You've just created your first molecule in buckyball - the `bb.from_name` method can translate many common chemical names, as well as IUPAC nomenclature, into 2D and 3D chemical structures.\n",
    "\n",
    "If morphine is a little intimdating, you can try making caffeine, or even just water, by editing the code in the above cell. You can edit any code in this notebook at any time, and press `Shift + Return` to execute the new commands.\n",
    "\n",
    "Let's take a look at your `Molecule`'s attributes. Try using Jupyter's live autocompletion - typing `my_first_molecule.[tab]`, for instance, will show you a list of the object's attributes."
   ]
  },
  {
   "cell_type": "code",
   "execution_count": null,
   "metadata": {
    "collapsed": false
   },
   "outputs": [],
   "source": [
    "my_first_molecule"
   ]
  },
  {
   "cell_type": "markdown",
   "metadata": {},
   "source": [
    "Every chemical system in buckyball is called a `Molecule`. These objects store information about atoms, chemical bonds, 3D positions, and chemical properties. A `Molecule` object is more than just a data store, though - they also have methods for simulating, modeling, and visualizing this information.\n",
    "\n",
    "A list of the molecule's atoms are stored at `my_first_molecule.atoms`. Let's print out some custom information about the first five atoms:"
   ]
  },
  {
   "cell_type": "code",
   "execution_count": null,
   "metadata": {
    "collapsed": false
   },
   "outputs": [],
   "source": [
    "print 'This molecule has %d atoms' % my_first_molecule.num_atoms\n",
    "for atom in my_first_molecule.atoms[:5]:\n",
    "    print 'Atom {atom} (atomic number {atom.atnum}) weighs {atom.mass}, and ' \\\n",
    "    'is bonded to {atom.num_bonds} other atoms.'.format(atom=atom)"
   ]
  },
  {
   "cell_type": "code",
   "execution_count": null,
   "metadata": {
    "collapsed": false
   },
   "outputs": [],
   "source": [
    "my_first_molecule.atoms[-1]"
   ]
  },
  {
   "cell_type": "markdown",
   "metadata": {},
   "source": [
    "#### Manipulating 3D structures\n",
    "Sometimes, a 3D structure needs to be fixed - perhaps the wrong rotamer was generated, or someone gave you a non-planar geometry of a planar molecule.\n",
    "\n",
    "For instance, the OpenBabel SMILES converter will generate a *gauche*-conformation alkane, when we really want an *anti* conformation. Let's use the GeometryBuilder to fix it - click on the central dihedral bond, and adjust the angle to 180º, either with the slider or by typing \"180\"."
   ]
  },
  {
   "cell_type": "code",
   "execution_count": null,
   "metadata": {
    "collapsed": false
   },
   "outputs": [],
   "source": [
    "mol = mdt.from_smiles('CCCC')\n",
    "mdt.ui.GeometryBuilder(mol)"
   ]
  },
  {
   "cell_type": "markdown",
   "metadata": {},
   "source": [
    "## Readin', Writin', and Introspectin'\n",
    "Of course, you'll probably want to import and export your own molecular structures. Buckyball can read and write molecules from a variety of 3D formats, including `pdb`, `sdf`, `mol2`, `cif`, and `xyz`.\n",
    "\n",
    "Let's start by reading in a file that was downloaded from the PDB database (you can also use `bb.from_pdb(3AID)` to download it directly from [the PDB site](http://pdb.org)). We can get some quick information about the molecule in the file just by its name on the last line of the cell."
   ]
  },
  {
   "cell_type": "code",
   "execution_count": null,
   "metadata": {
    "collapsed": false
   },
   "outputs": [],
   "source": [
    "hivprotease = mdt.read('data/3AID.pdb')\n",
    "hivprotease"
   ]
  },
  {
   "cell_type": "markdown",
   "metadata": {},
   "source": [
    "This is a crystal structure of a protein (HIV-1 protease) that's bound to a small organic drug molecule (that's the single unknown residue type). In addition to the protein and drug, there are also several water molecules hanging around the structure."
   ]
  },
  {
   "cell_type": "code",
   "execution_count": null,
   "metadata": {
    "collapsed": false
   },
   "outputs": [],
   "source": [
    "hivprotease.draw()"
   ]
  },
  {
   "cell_type": "markdown",
   "metadata": {},
   "source": [
    "Let's pull the drug molecule out of the structure and save it to disk. First, click on one of the atoms in the drug. You'll see that it's Residue `ARQ401` in Chain `A`. We can grab this residue by going into the molecule's secondary structure:"
   ]
  },
  {
   "cell_type": "code",
   "execution_count": null,
   "metadata": {
    "collapsed": false
   },
   "outputs": [],
   "source": [
    "drugresidue = hivprotease.chains['A'].residues['ARQ401']"
   ]
  },
  {
   "cell_type": "code",
   "execution_count": null,
   "metadata": {
    "collapsed": false
   },
   "outputs": [],
   "source": [
    "drug = mdt.Molecule(drugresidue)\n",
    "drug.draw3d()"
   ]
  },
  {
   "cell_type": "markdown",
   "metadata": {},
   "source": [
    "Now, we'll write it to disk:"
   ]
  },
  {
   "cell_type": "code",
   "execution_count": null,
   "metadata": {
    "collapsed": false
   },
   "outputs": [],
   "source": [
    "drug.write(filename='/tmp/drugmol.xyz')"
   ]
  },
  {
   "cell_type": "code",
   "execution_count": null,
   "metadata": {
    "collapsed": false
   },
   "outputs": [],
   "source": [
    "!cat /tmp/drugmol.xyz"
   ]
  },
  {
   "cell_type": "markdown",
   "metadata": {},
   "source": [
    "## Simulation and modeling\n",
    "As a quick first example, let's take a look at a quantum mechanical model of benzene.\n",
    "\n",
    "This time, we'll construct the molecule in yet another way - by using a [SMILES string](https://en.wikipedia.org/wiki/Simplified_molecular-input_line-entry_system)."
   ]
  },
  {
   "cell_type": "code",
   "execution_count": null,
   "metadata": {
    "collapsed": false
   },
   "outputs": [],
   "source": [
    "mol = mdt.from_smiles('C1=CC=CC=C1')\n",
    "mol.draw()"
   ]
  },
  {
   "cell_type": "markdown",
   "metadata": {},
   "source": [
    "Next, we associate the quantum mechanical model with the molecule, and run a calculation:"
   ]
  },
  {
   "cell_type": "code",
   "execution_count": null,
   "metadata": {
    "collapsed": false
   },
   "outputs": [],
   "source": [
    "mol.set_energy_model(mdt.models.PySCFPotential(theory='rhf',basis='sto-3g'))\n",
    "mol.calculate()"
   ]
  },
  {
   "cell_type": "markdown",
   "metadata": {},
   "source": [
    "There's a bunch of data here, which we'll dive into in other notebooks. For now, we can visualize the results of the calculation:"
   ]
  },
  {
   "cell_type": "code",
   "execution_count": null,
   "metadata": {
    "collapsed": true
   },
   "outputs": [],
   "source": [
    "mol.draw_orbitals()"
   ]
  },
  {
   "cell_type": "markdown",
   "metadata": {},
   "source": [
    "You can visualize two different kinds of orbitals here: the canonical molecular orbitals, often just referred to as \"molecular orbitals\" (MOs); and atomic orbitals, which were combined to create the MOs."
   ]
  },
  {
   "cell_type": "markdown",
   "metadata": {},
   "source": [
    "## Visualization API\n",
    "You can access and create molecule visualizations in the notebook as well. \n",
    "\n",
    "First, let's draw some more information into our visualization. We'll draw all the protein's potential hydrogen bond donors (basically Oxygens and Nitrogens) as spheres, and highlight those close to the ligand."
   ]
  },
  {
   "cell_type": "code",
   "execution_count": null,
   "metadata": {
    "collapsed": false
   },
   "outputs": [],
   "source": [
    "viewer = hivprotease.draw3d()\n",
    "hdonors = [atom for atom in hivprotease.atoms\n",
    "           if atom.elem in ('O','N') and atom.residue.type == 'protein']\n",
    "\n",
    "viewer.add_style(style='vdw', atoms=hdonors, radius=0.5)\n",
    "viewer.highlight_atoms(atoms=[a for a in hdonors if a.distance(drugresidue) <= 4.0*u.angstrom])\n",
    "\n",
    "viewer"
   ]
  },
  {
   "cell_type": "markdown",
   "metadata": {},
   "source": [
    "The cell below constructs a quick visualization of the HIV drug's contacts with the surrounding protein residues, with 2D rendering, a 3D rendering, and an inspector that provides information about atoms that the user clicks on:"
   ]
  },
  {
   "cell_type": "code",
   "execution_count": null,
   "metadata": {
    "collapsed": false
   },
   "outputs": [],
   "source": [
    "contact_view = bb.viewer.make_contact_view(drugresidue,view_radius=3.5*u.angstrom,\n",
    "                                    contact_radius=2.25*u.angstrom,\n",
    "                                          width=600,height=400)\n",
    "geom_view = bb.viewer.GeometryViewer(hivprotease, width=600,height=300)\n",
    "geom_view.cartoon(opacity=0.7)\n",
    "geom_view.licorice(atoms=drugresidue,radius=0.5)\n",
    "for residue,color in contact_view.colored_residues.iteritems():\n",
    "    geom_view.licorice(atoms=residue,color=color)\n",
    "\n",
    "# We use the ipywidgets package to arrange the three UI elements:\n",
    "import ipywidgets as ipy\n",
    "viewer_group = ipy.VBox([geom_view,contact_view])\n",
    "selector = bb.ui.SelectionGroup([ipy.HBox([viewer_group,bb.ui.AtomInspector()])])\n",
    "selector"
   ]
  }
 ],
 "metadata": {
  "kernelspec": {
   "display_name": "Python 2",
   "language": "python",
   "name": "python2"
  },
  "language_info": {
   "codemirror_mode": {
    "name": "ipython",
    "version": 2
   },
   "file_extension": ".py",
   "mimetype": "text/x-python",
   "name": "python",
   "nbconvert_exporter": "python",
   "pygments_lexer": "ipython2",
   "version": "2.7.11"
  }
 },
 "nbformat": 4,
 "nbformat_minor": 0
}