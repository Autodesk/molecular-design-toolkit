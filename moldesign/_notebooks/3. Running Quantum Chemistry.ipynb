{
 "cells": [
  {
   "cell_type": "markdown",
   "metadata": {},
   "source": [
    "<img src=\"img/Top.png\">\n",
    "<center><h1>Tutorial 3: Running Quantum Chemistry </h2> </center>\n",
    "\n",
    "This notebook demonstrates a few different ways the Molecular Design Toolkit can be used to run and visualize electronic structure calculations."
   ]
  },
  {
   "cell_type": "code",
   "execution_count": null,
   "metadata": {
    "collapsed": false,
    "scrolled": true
   },
   "outputs": [],
   "source": [
    "%matplotlib inline\n",
    "import numpy as np\n",
    "from matplotlib.pylab import *\n",
    "\n",
    "import moldesign as mdt\n",
    "from moldesign import units as u"
   ]
  },
  {
   "cell_type": "markdown",
   "metadata": {},
   "source": [
    "Contents\n",
    "=======\n",
    "---\n",
    "   - [I. Molecular hydrogen](#I.-Molecular-hydrogen)\n",
    "     - [A. Build the molecule](#A.-Build-the-molecule)\n",
    "     - [B. Run a hartree-fock calculation](#B.-Run-a-hartree-fock-calculation)\n",
    "     - [C. Visualize the orbitals](#C.-Visualize-the-orbitals)\n",
    "     - [D. Minimize the energy](#D.-Minimize-the-energy)\n",
    "     - [E. Scan the potential energy surface](#E.-Scan-the-potential-energy-surface)\n",
    "   - [II. Butadiene](#II.-Butadiene)\n",
    "     - [A. Build the molecule and calculate its energy](#A.-Build-the-molecule-and-calculate-its-energy)\n",
    "     - [B. Select a bond](#B.-Select-a-bond)\n",
    "     - [C. Calculate the initial dihedral angle](#C.-Calculate-the-initial-dihedral-angle)\n",
    "     - [D. Scan over the dihedral angle](#D.-Scan-over-the-dihedral-angle)\n",
    "     - [E. Minimize the new form](#E.-Minimize-the-new-form)\n",
    "   - [III. Advanced topics](#III.-Advanced-topics)\n",
    "     - [A. Symmetry](#A.-Symmetry)\n",
    "     - [B. Examining the wavefunction](#B.-Examining-the-wavefunction)\n",
    "___"
   ]
  },
  {
   "cell_type": "markdown",
   "metadata": {},
   "source": [
    "## I. Molecular hydrogen\n",
    "\n",
    "### A. Build the molecule\n",
    "This cell builds H<sub>2</sub> by creating the two atoms, and explicitly setting their positions.\n",
    "\n",
    "**Try editing this cell to**:\n",
    " * Create HeH<sup>+</sup>\n",
    " * Create H<sub>3</sub><sup>+</sup>\n",
    " * Change the atoms' initial positions"
   ]
  },
  {
   "cell_type": "code",
   "execution_count": null,
   "metadata": {
    "collapsed": false
   },
   "outputs": [],
   "source": [
    "atom1 = mdt.Atom('H')\n",
    "atom2 = mdt.Atom('H')\n",
    "atom1.bond_to(atom2,1)\n",
    "atom2.x = 2.0 * u.angstrom\n",
    "\n",
    "\n",
    "h2 = mdt.Molecule([atom1,atom2], name='H2', charge=0)\n",
    "h2.draw(height=300)"
   ]
  },
  {
   "cell_type": "markdown",
   "metadata": {},
   "source": [
    "### B. Run a hartree-fock calculation\n",
    "The next cell adds the RHF energy model to our molecule, then triggers a calculation.\n",
    "\n",
    "**Try editing this cell to**:\n",
    " * Change the atomic basis\n",
    " * Get a list of other available energy models (type `mdt.models.` and then hit the `[tab]` key)"
   ]
  },
  {
   "cell_type": "code",
   "execution_count": null,
   "metadata": {
    "collapsed": false
   },
   "outputs": [],
   "source": [
    "h2.set_energy_model(mdt.models.RHF, basis='6-311g*')\n",
    "h2.calculate()\n",
    "\n",
    "print 'Calculated properties:', h2.properties.keys()\n",
    "print 'Potential energy:', h2.potential_energy"
   ]
  },
  {
   "cell_type": "markdown",
   "metadata": {},
   "source": [
    "### C. Visualize the orbitals\n",
    "After running the calculation, we have enough information to visualize the molecular orbitals."
   ]
  },
  {
   "cell_type": "code",
   "execution_count": null,
   "metadata": {
    "collapsed": false
   },
   "outputs": [],
   "source": [
    "h2.draw_orbitals()"
   ]
  },
  {
   "cell_type": "markdown",
   "metadata": {},
   "source": [
    "### D. Minimize the energy\n",
    "Here, we'll run a quick energy minimization then visualize how the hydrogen nuclei AND the atomic wavefunctions changed."
   ]
  },
  {
   "cell_type": "code",
   "execution_count": null,
   "metadata": {
    "collapsed": false
   },
   "outputs": [],
   "source": [
    "minimization = h2.minimize(frame_interval=1)\n",
    "minimization.draw_orbitals()"
   ]
  },
  {
   "cell_type": "markdown",
   "metadata": {},
   "source": [
    "### E. Scan the potential energy surface\n",
    "This cell calculates the potential energy at a series of interatomic separations, from 0.3 to 7.0 Å; the results are collections in a `Trajectory` object, named `scan` here."
   ]
  },
  {
   "cell_type": "code",
   "execution_count": null,
   "metadata": {
    "collapsed": false
   },
   "outputs": [],
   "source": [
    "distances = np.arange(0.3,7.0,0.2)*u.angstrom\n",
    "scan = mdt.Trajectory(h2)\n",
    "h2.atoms[0].x = 0.0*u.angstrom\n",
    "for r in distances:\n",
    "    h2.atoms[1].x = r\n",
    "    h2.calc_potential_energy()\n",
    "    scan.new_frame(annotation='Separation: %s'%r)\n",
    "\n",
    "scan.draw_orbitals()"
   ]
  },
  {
   "cell_type": "markdown",
   "metadata": {},
   "source": [
    "The results can also be plotted directly in `matplotlib`:"
   ]
  },
  {
   "cell_type": "code",
   "execution_count": null,
   "metadata": {
    "collapsed": false
   },
   "outputs": [],
   "source": [
    "plot(distances,scan.potential_energy)\n",
    "grid(); xlabel('separation / ang'); ylabel('energy / eV')\n",
    "\n",
    "figure()\n",
    "plot(distances, scan.atoms[0].mulliken, label='atom 1 partial charge')\n",
    "plot(distances, scan.atoms[1].mulliken, label='atom 2 partial charge')\n",
    "grid(); xlabel('separation / ang'); ylabel('partial charge'); legend()"
   ]
  },
  {
   "cell_type": "markdown",
   "metadata": {},
   "source": [
    "## II. Butadiene\n",
    "This example deals with <a href=\"https://en.wikipedia.org/wiki/1,3-Butadiene\">butadiene</a>, a slightly larger molecule. Here, we'll scan its potential energy surface over its central dihedral angle.\n",
    "\n",
    "### A. Build the molecule and calculate its energy\n",
    "The following code cell uses a <a href=\"https://en.wikipedia.org/wiki/Simplified_molecular-input_line-entry_system\">SMILES string</a> to create the molecule."
   ]
  },
  {
   "cell_type": "code",
   "execution_count": null,
   "metadata": {
    "collapsed": false
   },
   "outputs": [],
   "source": [
    "mol = mdt.from_smiles('C=CC=C')\n",
    "mol.set_energy_model(mdt.models.RHF(basis='3-21g'))\n",
    "result = mol.calculate(['potential_energy','orbitals'], wait=True)\n",
    "\n",
    "print 'Potential energy:',result.potential_energy.to(u.kcalpermol)\n",
    "mol.draw_orbitals()"
   ]
  },
  {
   "cell_type": "markdown",
   "metadata": {},
   "source": [
    "### B. Select a bond\n",
    "Next, we pull up an interactive widget to select a specific bond."
   ]
  },
  {
   "cell_type": "code",
   "execution_count": null,
   "metadata": {
    "collapsed": false
   },
   "outputs": [],
   "source": [
    "selector = mdt.widgets.BondSelector(mol)\n",
    "selector"
   ]
  },
  {
   "cell_type": "markdown",
   "metadata": {},
   "source": [
    "Click on any bond you like in the above widget. We can programatically access that selection using `selector.selected_bonds`:"
   ]
  },
  {
   "cell_type": "code",
   "execution_count": null,
   "metadata": {
    "collapsed": false
   },
   "outputs": [],
   "source": [
    "selector.selected_bonds"
   ]
  },
  {
   "cell_type": "markdown",
   "metadata": {},
   "source": [
    "### C. Calculate the initial dihedral angle\n",
    "Next, we'll gather the four atoms involved in the central dihedral and calculate the current angle."
   ]
  },
  {
   "cell_type": "code",
   "execution_count": null,
   "metadata": {
    "collapsed": false
   },
   "outputs": [],
   "source": [
    "bond = selector.selected_bonds[0]\n",
    "a1 = bond.a1\n",
    "a2 = bond.a2\n",
    "a0 = [atom for atom in a1.bond_graph \n",
    "      if atom.atnum==6 and atom is not a2][0]\n",
    "a3 = [atom for atom in a2.bond_graph \n",
    "      if atom.atnum==6 and atom is not a1][0]\n",
    "\n",
    "print 'Dihedral:', mdt.dihedral(a0, a1, a2, a3).to(u.degrees)"
   ]
  },
  {
   "cell_type": "markdown",
   "metadata": {},
   "source": [
    "### D. Scan over the dihedral angle\n",
    "\n",
    "This code loops over values of the dihedral angle from 180º to 360º, calcualting the wavefunction along the way."
   ]
  },
  {
   "cell_type": "code",
   "execution_count": null,
   "metadata": {
    "collapsed": false
   },
   "outputs": [],
   "source": [
    "traj = mdt.Trajectory(mol)\n",
    "traj.new_frame()\n",
    "for angle in np.arange(180, 360.0, 5.0)*u.degrees:\n",
    "    mdt.set_dihedral(a0, a1, a2, a3, angle)\n",
    "    mol.calculate()\n",
    "    traj.new_frame()\n",
    "    \n",
    "traj.draw_orbitals()"
   ]
  },
  {
   "cell_type": "markdown",
   "metadata": {
    "collapsed": false
   },
   "source": [
    "### E. Minimize the new form\n",
    "\n",
    "In the new *cis* form, we search for a new energy minimum:"
   ]
  },
  {
   "cell_type": "code",
   "execution_count": null,
   "metadata": {
    "collapsed": true
   },
   "outputs": [],
   "source": [
    "mdt.min."
   ]
  },
  {
   "cell_type": "code",
   "execution_count": null,
   "metadata": {
    "collapsed": false
   },
   "outputs": [],
   "source": [
    "reload(mdt.min.base)\n",
    "reload(mdt.min)\n",
    "reload(mdt.min.descent)"
   ]
  },
  {
   "cell_type": "code",
   "execution_count": null,
   "metadata": {
    "collapsed": false
   },
   "outputs": [],
   "source": [
    "mintraj = mdt.min.descent.gradient_descent(mol, frame_interval=1)"
   ]
  },
  {
   "cell_type": "code",
   "execution_count": null,
   "metadata": {
    "collapsed": false
   },
   "outputs": [],
   "source": [
    "plot(mintraj.potential_energy); ylabel('energy / eV'); grid()\n",
    "mintraj.draw_orbitals()"
   ]
  },
  {
   "cell_type": "markdown",
   "metadata": {},
   "source": [
    "## III. Advanced topics"
   ]
  },
  {
   "cell_type": "markdown",
   "metadata": {},
   "source": [
    "### A. Symmetry\n",
    "You can use buckyball's symmetrization tools to build symmetric molecules, which can often lead to huge improvements in computational efficiency.\n",
    "\n",
    "First, let's look at the simplest possible organic molecule, methane. Its simplicity actually leads to some very complex symmetry."
   ]
  },
  {
   "cell_type": "code",
   "execution_count": null,
   "metadata": {
    "collapsed": false
   },
   "outputs": [],
   "source": [
    "methane = mdt.from_name('methane')\n",
    "mdt.symmetry.Symmetrizer(methane)"
   ]
  },
  {
   "cell_type": "markdown",
   "metadata": {},
   "source": [
    "The list of items on the right is the list of individual symmetry elements - for methane, there are a lot. Click on one to see it illustrated in 3D. Larger molecules will generally have far less symmetry.\n",
    "\n",
    "Let's take a look at ethane. We'll add some noise to the molecule's coordinates to destroy exact symmetry."
   ]
  },
  {
   "cell_type": "code",
   "execution_count": null,
   "metadata": {
    "collapsed": false
   },
   "outputs": [],
   "source": [
    "ethane = mdt.from_smiles('CC')\n",
    "for atom in ethane.atoms: atom.position += 0.1 * u.angstrom * np.random.random(3)\n",
    "mdt.symmetry.Symmetrizer(ethane)"
   ]
  },
  {
   "cell_type": "markdown",
   "metadata": {},
   "source": [
    "You can use the \"symmetrize\" button to impose individual symmetry elements exactly."
   ]
  },
  {
   "cell_type": "markdown",
   "metadata": {},
   "source": [
    "### B. Examining the wavefunction\n",
    "You can dive deeply into the quantum wavefunction results by examining the `h2.electronic_state` object. For instance, we can verify that the MO basis diagonalizes the Fock matrix:"
   ]
  },
  {
   "cell_type": "code",
   "execution_count": null,
   "metadata": {
    "collapsed": false
   },
   "outputs": [],
   "source": [
    "fock_ao = h2.electronic_state.fock_ao\n",
    "mos_in_ao = h2.electronic_state.molecular_orbitals\n",
    "\n",
    "matshow( h2.electronic_state.orbitals.canonical.fock )\n",
    "title('Fock matrix in canonical MO basis'); cb = colorbar()\n",
    "cb.set_label('energy / eV')\n",
    "\n",
    "matshow( h2.electronic_state.orbitals.atomic.fock )\n",
    "title('Fock matrix in atomic orbital basis'); cb = colorbar()\n",
    "cb.set_label('energy / eV')"
   ]
  },
  {
   "cell_type": "code",
   "execution_count": null,
   "metadata": {
    "collapsed": true
   },
   "outputs": [],
   "source": []
  }
 ],
 "metadata": {
  "kernelspec": {
   "display_name": "Python 2",
   "language": "python",
   "name": "python2"
  },
  "language_info": {
   "codemirror_mode": {
    "name": "ipython",
    "version": 2.0
   },
   "file_extension": ".py",
   "mimetype": "text/x-python",
   "name": "python",
   "nbconvert_exporter": "python",
   "pygments_lexer": "ipython2",
   "version": "2.7.11"
  },
  "widgets": {
   "state": {
    "0046a0e584824eb5988f90ef17a9b691": {
     "views": []
    },
    "0104ce7633bb49f1b6b12e6d781c2a15": {
     "views": []
    },
    "011058502072475093c91ccf1b50dfee": {
     "views": []
    },
    "0154ef8cdffd47d0a7d58239f85ccb21": {
     "views": []
    },
    "01869446eccd42059aec169e014489ec": {
     "views": []
    },
    "018d9f39853146cea71ab1e0375b6586": {
     "views": []
    },
    "01ba4040cc244b3a8b30186a1fa28b7c": {
     "views": []
    },
    "01bb0a02f71e49e9906a300bc384a986": {
     "views": []
    },
    "01f5b113d2aa43cdb357be2bec185de9": {
     "views": []
    },
    "020a215e0ec448cc9ad0d5add71b712a": {
     "views": []
    },
    "02121c87452b4ea9b010d64f23bc9923": {
     "views": []
    },
    "021db4fe68aa453f84d2ddc336c7391d": {
     "views": []
    },
    "024e430e634b4c0ea5d7850706f0baea": {
     "views": []
    },
    "0289db8ca01441ddb58b423adca2f0dd": {
     "views": []
    },
    "028b9f13dc594be78ac657db43c1edb6": {
     "views": []
    },
    "02b13f885bec46e9a0773b2e35770448": {
     "views": [
      {
       "cell_index": 18.0
      }
     ]
    },
    "03cca04c008047109aaf89a4124742c3": {
     "views": []
    },
    "03d37164b9cd434ebc74d320a14ae470": {
     "views": []
    },
    "0459025479154777b44acfeae77cca79": {
     "views": []
    },
    "0476aa6a0d0b4d2ba129edb9b08e902c": {
     "views": []
    },
    "0522ed113f914d07bf5bf0ced6e6415a": {
     "views": []
    },
    "06ffdbb5b9c1411f84fe3b02cb1ee92d": {
     "views": []
    },
    "070d5eccaf3648d1bda34e1f6d43097e": {
     "views": []
    },
    "07439e8ff4134599a473121089082485": {
     "views": []
    },
    "0837aae20c554a96b06cf8c15c2b0892": {
     "views": []
    },
    "0869475c2b7b4c4ab23278132d3c0985": {
     "views": []
    },
    "0973c3763ef2457fa9bffaa225e23b45": {
     "views": []
    },
    "09c24acce22c40079fb0d809a6280211": {
     "views": []
    },
    "0a52df40c43f4b6d9ce66d132f2f8a92": {
     "views": []
    },
    "0adea970f5864478adca059f3e04e380": {
     "views": []
    },
    "0b30bf411d5f4582a01a819dd765924e": {
     "views": []
    },
    "0b840a98b242422aa7ddccc9ce6ad639": {
     "views": []
    },
    "0b9198f299b7486e8b7b5a98600d30c5": {
     "views": []
    },
    "0b9619d5fafc4ef0a2c030fb1f2b9d16": {
     "views": []
    },
    "0cb065a48a4e4304ada191af4c55f28b": {
     "views": []
    },
    "0ce26bece5ff41cca97faf4c29d878ce": {
     "views": []
    },
    "0cefd128d6394958b8788c509a3707e8": {
     "views": []
    },
    "0d2a4c8a619040e9888bcf244625d1e7": {
     "views": []
    },
    "0d6c01aff0bb4c8685398a5f92f38f6f": {
     "views": []
    },
    "0d757e2936c34824a42ebb7414164fbd": {
     "views": []
    },
    "0df2be858ae3406fbf98021955aba80e": {
     "views": []
    },
    "0e331f0c6ff94eacbfdfdab841b1aead": {
     "views": []
    },
    "0e9b4f22e8ec41b2b8d9c4415593bcdb": {
     "views": []
    },
    "0f2bacf0edda43cb911837e7896f5386": {
     "views": []
    },
    "0f8d91a966c240d5aef785c51751d575": {
     "views": []
    },
    "0fe692fc2c434821a3dfe5cd8afc3fc7": {
     "views": []
    },
    "10339a2cc9c04f4782d2c2025cb3e63c": {
     "views": []
    },
    "105560f09f9942eb9e5fa2a964280991": {
     "views": []
    },
    "107e1394985845b1a77a60b799d245b2": {
     "views": []
    },
    "10c05f209372449ab5b659a1d26ff86f": {
     "views": []
    },
    "10c1698ac4fd4f6e924f7da5b5d10c47": {
     "views": []
    },
    "111c5d292bb640d9829dcff522521086": {
     "views": []
    },
    "11354204093b491f85c362a20ef743e1": {
     "views": []
    },
    "1147694ac3154401b329db543bd54fe7": {
     "views": []
    },
    "119c119156eb41e5a345e63fbf11817a": {
     "views": []
    },
    "11a59303f68d41a39258a452859385c2": {
     "views": []
    },
    "121af1c845c445679c1e42196a7d4062": {
     "views": []
    },
    "12265bc24ede4bdeae49c09a46419ee8": {
     "views": []
    },
    "12a8164b1d124d3386ceb241d1947bc9": {
     "views": []
    },
    "12f9bd58f0314a19b89961981c58e400": {
     "views": []
    },
    "1309f099f20b45489dbda3c21f70f646": {
     "views": []
    },
    "13476b0f6a434aecb085886a61a52279": {
     "views": []
    },
    "1381abefc5d54b7ca1c4d78c9a284b69": {
     "views": []
    },
    "138c86e9bb504670bc99ba7deeab6472": {
     "views": []
    },
    "13a96279dd794125a91eaa96b0ea1e32": {
     "views": []
    },
    "13e83a72025a41ef9aca6e379105f57a": {
     "views": []
    },
    "1446124db4ab45e7b117da0429b889e9": {
     "views": []
    },
    "1525d05b5c24420ca87115964cfa7e2e": {
     "views": []
    },
    "15534e929600468da7b170f0632bccfd": {
     "views": []
    },
    "158fe11bb51840c18dc72967c9e7b8a6": {
     "views": []
    },
    "15d67d0926d9401ba7165d1fa9af658f": {
     "views": []
    },
    "1622b032cfe54cc086c928997611a7c7": {
     "views": []
    },
    "16253bc1de564e6383f13b65ab0adc2d": {
     "views": []
    },
    "175b93df46584b6689cdbf98a4f90af4": {
     "views": [
      {
       "cell_index": 28.0
      }
     ]
    },
    "17fd2d0ab0154bebbb3495a048f2e4b6": {
     "views": []
    },
    "18153ec133534e13b689e9acf8d49266": {
     "views": []
    },
    "18156a96bb884985ab4da1dbe211dc8b": {
     "views": []
    },
    "185f1f4ef325478abb52c7da38e65fe7": {
     "views": []
    },
    "19013aacaa2a454cb37305aede61d31f": {
     "views": []
    },
    "190ccddaff0347b49c0ae4e358bd2cc1": {
     "views": []
    },
    "19150f353a5e45a4a0adfa4e159f064c": {
     "views": []
    },
    "1973f836be5041e1a6f5eaaacd6b3f78": {
     "views": []
    },
    "197d6f0a6ce640ee8a902fb5c8e205d5": {
     "views": []
    },
    "19a45a2e64bc430692d3b263cb28edcb": {
     "views": []
    },
    "1a7978aee605482ca67c2263856bc317": {
     "views": []
    },
    "1a7eb7965783467984ae4f444b3ea4a2": {
     "views": []
    },
    "1b0db89fad954123a7026af861729987": {
     "views": []
    },
    "1b4992868ec64036985a74ca7d8b946e": {
     "views": []
    },
    "1c3c4be19f524a2d8f192657c2461733": {
     "views": []
    },
    "1c95848aa0f0402485429cf930240e5d": {
     "views": []
    },
    "1ce1ed5a90ca40d8a9946682b524c234": {
     "views": []
    },
    "1ced4b5fc0704a779cf18464859e12ac": {
     "views": []
    },
    "1d7199a5549b46fdbdec17bfc6c665c2": {
     "views": []
    },
    "1d8f887416904def84f0504ba72ba19b": {
     "views": []
    },
    "1dd0cf402f5040bf886b474979402209": {
     "views": []
    },
    "1e4585ca86c546579cf2f7c7bf208ffd": {
     "views": []
    },
    "1e4c1977c6b2438fbd6bce6d2be59ee1": {
     "views": []
    },
    "1e9dda3dc7d04c1eb79b6affb3599077": {
     "views": []
    },
    "1f1a954aea6d42e09b845c9005f51430": {
     "views": []
    },
    "1f2ce9e8f6914829b1e9be99aef54247": {
     "views": []
    },
    "1f6ed7a80fb94c63897d06bd7e46a9fa": {
     "views": []
    },
    "1f82c6e61a6c41f1acb7d107857f05b7": {
     "views": []
    },
    "1fea5d414a55421f96099efe31320ad8": {
     "views": []
    },
    "1ff0df608f004ecf818a113fab93d86d": {
     "views": []
    },
    "2058ef7e7f2046719305e4298f011c9f": {
     "views": []
    },
    "214e69cba72c4747aa3058c6cd1d6f80": {
     "views": []
    },
    "21763453d28d4ba993dcf6098f270470": {
     "views": []
    },
    "219f5ea6b958444a957e15cf5b10de5c": {
     "views": []
    },
    "21e13092b40946d29ff7af5f63afcc21": {
     "views": []
    },
    "2228264a7db6404ca6a8b258b2b634de": {
     "views": []
    },
    "2268def139ef4712919719b5df727caa": {
     "views": []
    },
    "2362d006279345d48d768989886d6302": {
     "views": []
    },
    "2368bbb7fc154900a62d10c6f72cb15d": {
     "views": []
    },
    "2384090e3aa54b28a08dba8146aa0253": {
     "views": []
    },
    "247d67daa7944b2ebcd44f5937de3192": {
     "views": []
    },
    "251d52f05bb2455eb4c62e247dbd7e42": {
     "views": []
    },
    "256979bb0d704b8cbe7fed865879b42d": {
     "views": []
    },
    "25945748b1b3448488a6e5232e342a50": {
     "views": []
    },
    "261c1a994ced424b9169793ef22b38f0": {
     "views": []
    },
    "26c5b00978674d3caf80aa7eae92b9a2": {
     "views": []
    },
    "273df069f1a747b38a673054016cb6f3": {
     "views": []
    },
    "275d0f35b8dc4be8a27daefc6b1eea19": {
     "views": []
    },
    "2789558082aa456bbe185944a6401583": {
     "views": []
    },
    "27e86be607994e6dbd83048f9ab4b76b": {
     "views": []
    },
    "2804abd9631c416db9d27d3500540456": {
     "views": []
    },
    "2830c385465448768cc3a917dfc3e4d2": {
     "views": []
    },
    "2834ab4b7dff4d8b85ee0f5b83d5d8a5": {
     "views": []
    },
    "28614097242f4a53900770e89f03b33f": {
     "views": []
    },
    "2a63a071a7b64d6fbe569397b6c2a7d4": {
     "views": []
    },
    "2ab015ac192e44f381cac2e25fc158fe": {
     "views": []
    },
    "2ad3df10111c4af09c0913c5f9921572": {
     "views": []
    },
    "2b3123b1af134b6c921f069dd6d25faa": {
     "views": []
    },
    "2b3285cce2b3496fbd9401eb24955f15": {
     "views": []
    },
    "2c00e5f724c44b54b3611947ccc615d8": {
     "views": []
    },
    "2c63ed4dccec4084a30a8101ec60a4d1": {
     "views": []
    },
    "2d705af3448c4091a272970559e65741": {
     "views": []
    },
    "2dc4e34d5b4c42aab80588cc7fd8cf4f": {
     "views": []
    },
    "2deae164b278454d9f2cd00593339966": {
     "views": []
    },
    "2e4b0279d864467586d24c9520dc0ad0": {
     "views": []
    },
    "2e6f53029a2145cca74ed7cf45939a27": {
     "views": []
    },
    "2e86be9a77d548a9a91bb0df9b2afd93": {
     "views": []
    },
    "2eba0a0279534c0a81a1c98748166a7e": {
     "views": []
    },
    "2ec193bc32444025accf7891d83a95a7": {
     "views": []
    },
    "2f020f2da659493fa83f8e16e390f4e3": {
     "views": []
    },
    "2f2a8c822caa4e38b917237f44a7a07b": {
     "views": []
    },
    "2f43f465b8dd445d876a5a9490180aa1": {
     "views": []
    },
    "302df228bca248d5a6d122496fc8c7a7": {
     "views": []
    },
    "31f594207eb149b5a8d2c6c0329866bc": {
     "views": []
    },
    "3317997c5b194f399236b35ae271553b": {
     "views": []
    },
    "335eb2795f6d4d239f5d4a86fe56dc65": {
     "views": []
    },
    "3477bafb20ee4c2c829224c6d0e8475d": {
     "views": []
    },
    "35988cba13214136a288f2e6767d7b20": {
     "views": []
    },
    "359ecab6629240c4b04b706260f025d9": {
     "views": []
    },
    "35eea849528f4dc09d2ff3ca6794f026": {
     "views": []
    },
    "36d0e34969e947d29d912de027e6a3a0": {
     "views": []
    },
    "38bd8911d3964a71900a42c46d40e789": {
     "views": []
    },
    "391c5eef90864e73b196567d4b5c5300": {
     "views": []
    },
    "3a16984b997a4aea8b8b0ea695afcfba": {
     "views": []
    },
    "3a20f309ffb344d499ffcc29c411d0d8": {
     "views": []
    },
    "3a6676838b2842498c041aee1ad655e3": {
     "views": []
    },
    "3a9c4df4939546dbae97b9f12f5de60a": {
     "views": []
    },
    "3ac033dd1013464681aaa8518599e689": {
     "views": []
    },
    "3b2accb9c5254ab8b2b55a1a81cdbea3": {
     "views": []
    },
    "3c097a6870904ec9837885eac27f0d32": {
     "views": []
    },
    "3c9b9b2acb82461e8527332f058bda5e": {
     "views": []
    },
    "3d02bc47156c441d9a835a823be5d936": {
     "views": []
    },
    "3dccadfb4b43461699daee26d1ff1601": {
     "views": []
    },
    "3dd76a2d45ab4df9b04243aed1a39088": {
     "views": []
    },
    "3de0a43a36c14d1cb8c3cb73fda903bd": {
     "views": []
    },
    "3e3cda1e76fc4d4694a597ca801b11f7": {
     "views": [
      {
       "cell_index": 29.0
      }
     ]
    },
    "3f2fac9eb4c24679b5e6841f2fd5173d": {
     "views": []
    },
    "3f3e9783466f46f58849ed879d1042da": {
     "views": []
    },
    "3fd1e01653ba40a8a4cde7ff8eefdd7d": {
     "views": []
    },
    "402a028ea2384d898510ff81495a918a": {
     "views": []
    },
    "40549f39c6ce446c8d29b954ca0fef47": {
     "views": []
    },
    "40a5d28e3b7c4edc877df0d11dd4b02a": {
     "views": []
    },
    "40b29013980041a99198aba8c4eeb1ee": {
     "views": []
    },
    "40fe3db17da44d4bb3ff22a78b9fc9f8": {
     "views": []
    },
    "41037d85752c4b23a2cc85dda9bf23b8": {
     "views": []
    },
    "417eaf96ee5f40849ea337eb2f288918": {
     "views": [
      {
       "cell_index": 8.0
      }
     ]
    },
    "43e570968eb64692aac67e6660227b4c": {
     "views": []
    },
    "44159870cc81402eb4a890e814bedf43": {
     "views": []
    },
    "4483438e63794ecaa2c87b1b1e676edd": {
     "views": []
    },
    "44b118c3330a46f59862cbe8ff881c48": {
     "views": []
    },
    "44c9cc2dade5464c835496a9eb7a6844": {
     "views": []
    },
    "453c811b36de44f19fe6601ecc378d2b": {
     "views": [
      {
       "cell_index": 16.0
      }
     ]
    },
    "458417f70ecf4f31bfde544c90a65512": {
     "views": []
    },
    "45b318cbf1f54a0f81d083bba952f2ec": {
     "views": []
    },
    "45fb881eace244e2831f3233439e8349": {
     "views": []
    },
    "461a06a9c3934e189006cfe140b6289a": {
     "views": []
    },
    "468d06722df04649bfbe345e2cd06c9c": {
     "views": []
    },
    "4698bad0d8514928aa730fbc04377d0d": {
     "views": []
    },
    "46d0326d76d04410ac1b7fd04365f4aa": {
     "views": []
    },
    "46fd002606a642158fc2fa167c9a1711": {
     "views": []
    },
    "478cb8d14ccb4779a921dbc6496cf32a": {
     "views": []
    },
    "47abb0c2e79d4343b583c5a29d7a084e": {
     "views": []
    },
    "4809cf09bb594cbeaac65dd7c1aaffd3": {
     "views": []
    },
    "480dd037a7e342fb87bf8f778bebc231": {
     "views": []
    },
    "48808af061994d0a80ed791a022b7c51": {
     "views": []
    },
    "48e82246afce4136868c67428cf498cf": {
     "views": []
    },
    "491634c9587d467186ad0fc405285b02": {
     "views": []
    },
    "4940c78ae2bf4a29b957384b5f05b017": {
     "views": [
      {
       "cell_index": 10.0
      }
     ]
    },
    "495e7b0e6e4746339797d5237de82056": {
     "views": []
    },
    "4963e23c0ee5444f99d576deb092067f": {
     "views": []
    },
    "49723e49f32847269f8793acd6cde9f2": {
     "views": []
    },
    "49bcab48c9af49749d99cdb09b1beaf4": {
     "views": []
    },
    "49ea336874ef42b89690db6cdf9e853d": {
     "views": []
    },
    "4a2a9815ca5b4e50b6205acd97066b6e": {
     "views": []
    },
    "4a4967b69fee4353b43daf010019f09e": {
     "views": []
    },
    "4ae7274077d743a28aabd835aafb46b3": {
     "views": []
    },
    "4af9d826b9684074bc0196c280712237": {
     "views": []
    },
    "4b61b9006b054e159679ca681070f857": {
     "views": []
    },
    "4b9d084ea3df40c4afbed0e3926a9346": {
     "views": []
    },
    "4c2c8363569041f4987d221d6e9a3756": {
     "views": []
    },
    "4c630ff1574b4d0884dbbe79691e1dfd": {
     "views": []
    },
    "4c63fde661254db696687d58e26a8861": {
     "views": []
    },
    "4dd510e833af4d4d801d22de1398123c": {
     "views": []
    },
    "4dd7fed3233649679fa0b4097917210a": {
     "views": []
    },
    "4dde866e555240cf914b06ebba9f5485": {
     "views": []
    },
    "4de2c1f4e4c14d618322f58ee6ba7aa2": {
     "views": []
    },
    "4e611f2eada542d3ba0b0b200cbb9be3": {
     "views": []
    },
    "4eb8ac6ceea54f95a06b36da1732133e": {
     "views": []
    },
    "4ef24867f03b4ec8a7a6a76f0f5e156b": {
     "views": []
    },
    "4f2cef24ea4b466bb06e735d3a073a7f": {
     "views": []
    },
    "4f37f6a6ddb84fbbacb97ced462d9b31": {
     "views": []
    },
    "4f83fcc50b6e46f9b1114c1477ea103c": {
     "views": []
    },
    "507edc4ad95446d882bf406d4d986540": {
     "views": []
    },
    "51cc0db8339540e799c8fe010448508c": {
     "views": []
    },
    "51f8b92bcfae45df9045ddda076db11d": {
     "views": []
    },
    "5200cfe8a597454aa36ef8b1eef615d7": {
     "views": []
    },
    "52784061fdeb4a1b8855c6450ddfe70a": {
     "views": [
      {
       "cell_index": 10.0
      }
     ]
    },
    "5299a4add42e41dd88a16ae24d24a5d8": {
     "views": []
    },
    "5371e6b285cb4fb48922ebb5fb53a3b3": {
     "views": []
    },
    "538a86d0b7bd49bbb93fa825f2a7103c": {
     "views": []
    },
    "542c61004cdb4a1d9f476f8f8f7352d8": {
     "views": []
    },
    "542cfc8dad6d456eae0fcf3fdbfd3a4c": {
     "views": []
    },
    "5493534099fc44d8b6ceed6ef00335d7": {
     "views": []
    },
    "54b3075b02ab48bf9da6fdf9344174c5": {
     "views": []
    },
    "553181f363e84e1abdba21ddd424a41d": {
     "views": []
    },
    "55bdb242dc5e4aca886e9f3f4c792d2a": {
     "views": []
    },
    "56779c201d3b450e978ee7d7a6eaec2e": {
     "views": []
    },
    "5702ba16359b4852ba235b7bbc9b24c1": {
     "views": [
      {
       "cell_index": 28.0
      }
     ]
    },
    "571112e9932d43c9ad1c1c6a18e7568f": {
     "views": []
    },
    "5817a81e0db74907b0f01a13d1dfb26a": {
     "views": []
    },
    "582c7522b7a74b109a5ade53b8ccafd6": {
     "views": []
    },
    "584b8184e7cf4adfb9f562e5562eb560": {
     "views": []
    },
    "58b28991bbc44e39ba0773846de78bc4": {
     "views": []
    },
    "598dc53120aa4214acdefdb83afa5128": {
     "views": []
    },
    "59b4a570d69f44248d3ce45329fc4dd8": {
     "views": []
    },
    "5a140b0c6a204870a43ede018174ced7": {
     "views": []
    },
    "5a29604c46194bd9b4a54b3caab815f3": {
     "views": []
    },
    "5b07a89f3c5047179896269ebd625388": {
     "views": []
    },
    "5b1faa7594ba4c8fb6f7c1badcf7a570": {
     "views": []
    },
    "5b47f42403f6489d94dd026f54419b23": {
     "views": []
    },
    "5b628a56f4ce4b27a809b9d2a082d0c4": {
     "views": []
    },
    "5b7412a0f5d54273b6d6c8ecde75f79b": {
     "views": []
    },
    "5ba4c167491044a7a71cbe12b852efce": {
     "views": []
    },
    "5c7de9cb984e48af8e1c2393d571c7e4": {
     "views": []
    },
    "5ca9218a0caf47c4b2c568228379b5d2": {
     "views": []
    },
    "5cab28211a914f2f83166c83d4d1b1ff": {
     "views": []
    },
    "5cf2e648113d4bfdac416a7983bd9027": {
     "views": []
    },
    "5dfa6a6b2daa4a84a53bcc4b5be1b3cf": {
     "views": []
    },
    "5e0a6f468f3048fcb9889b2868fcee39": {
     "views": []
    },
    "607bada32a124d53a6b56692385d2482": {
     "views": []
    },
    "609ac39516644acd82d7ece5aa1cf71e": {
     "views": []
    },
    "609edb84507a4a929f6ffeff754be098": {
     "views": []
    },
    "60adaf00cf43417b90d5bf1f07c38f8b": {
     "views": []
    },
    "60f6fe7ecc3e404a837abea5f567833b": {
     "views": []
    },
    "610f48107e3c43a38d22702f892cb598": {
     "views": []
    },
    "61c0db4106df46d7af1ddd2361023a6e": {
     "views": []
    },
    "61dcd634f2654d39b1972864526909b9": {
     "views": []
    },
    "629da0f16ebd4d0ea480e35dcfe3302a": {
     "views": []
    },
    "62a6bcc5e82c405f817a5151fdb8c509": {
     "views": []
    },
    "62a773b68ede42b192b5f34e24b3c037": {
     "views": []
    },
    "62b8a8ba644c43a0ad484abf76c1e24f": {
     "views": []
    },
    "63825ea8895841a09c0d6d2bc312ae55": {
     "views": []
    },
    "63bc3da2c46d4b13ab4e24ca3ca8b4a9": {
     "views": []
    },
    "644413deeaf94226a11629dae18ee99f": {
     "views": []
    },
    "64cd8318a89f47ac900f50ad855e3575": {
     "views": []
    },
    "655b04ebdab845baa75949133a29d2bd": {
     "views": []
    },
    "655fc90e5b854483866b386a70013e71": {
     "views": []
    },
    "65a4d33ea3bf4d758ba5ca290641c0f0": {
     "views": []
    },
    "661062b7cded4fdb8d88adb79a36449e": {
     "views": []
    },
    "671e338011af4fa79c75a10c82eb0e90": {
     "views": []
    },
    "6779d114b1ae461facec6a662cbcd29d": {
     "views": []
    },
    "67898ac449d647c7ae9cebfe596e28d1": {
     "views": []
    },
    "67c5d052a9364adfbf4da6c038b3881e": {
     "views": []
    },
    "6804828bf9f446bcb0387bd714a98c7e": {
     "views": []
    },
    "68183d73fcd542eda6d78c07130d864b": {
     "views": []
    },
    "688b94e213b346f7bb4f01134bf44525": {
     "views": []
    },
    "69a614785ec0495698dea47a696693fa": {
     "views": []
    },
    "6a1c1f0023f74960858d06521a42ed1d": {
     "views": []
    },
    "6a32d34febf34ca2a2038549be69bfeb": {
     "views": []
    },
    "6b14ffd174a04b08a94b04e900e902dd": {
     "views": []
    },
    "6b20ccaa60824d5f8ac081e9bcd7d25b": {
     "views": []
    },
    "6b275625ebb741749811c0be85289a49": {
     "views": []
    },
    "6ba8bc779b064db1a7d571fcae6275a8": {
     "views": []
    },
    "6c20c05140284019bfca2260dfd5d31e": {
     "views": []
    },
    "6cc0b7a0a25a4823ab0e7cb1806f4bfa": {
     "views": []
    },
    "6cdc547f67ec40678d8b3e645d2e91f0": {
     "views": []
    },
    "6d59c9f2e8dc4778ad0c8d5ed19cb572": {
     "views": []
    },
    "6de5621a67644b3ab45fe5610083af7c": {
     "views": []
    },
    "6df158a8f9774cc3a8e7965c6435fb1d": {
     "views": []
    },
    "6ea2b96ce6d54726bcd7a8acbc4ca38e": {
     "views": []
    },
    "6f094842a1c94d6e814e275d1c083f18": {
     "views": []
    },
    "6f0c8e65bbd44b7e99434c5b1776c7b0": {
     "views": []
    },
    "6f3e621c56e74200a4d879df28038541": {
     "views": []
    },
    "6f6a48c80749458fab5d94ca66c88ba5": {
     "views": []
    },
    "6f73599f75eb4c9b9a3cb1563fdec48e": {
     "views": []
    },
    "700b45badcc8495cbaaf490bd40024ae": {
     "views": []
    },
    "700f7ca6bcd148a7ab32cc3b6371a2e5": {
     "views": []
    },
    "70247c89845e4c779c9446413afac7ec": {
     "views": []
    },
    "7073a1fd4dc546ed9612ee0d9f16b2a9": {
     "views": []
    },
    "70f5f85d8cb544a48f71eed522671cd2": {
     "views": []
    },
    "722b088d9f9c4e8fb3b6ee43595402c1": {
     "views": []
    },
    "72780afb5cd142c896f48d74ba25fc5f": {
     "views": []
    },
    "743263b7b56349a49ff047c76e92b659": {
     "views": []
    },
    "743318193061450fa168027bf9ed6c64": {
     "views": []
    },
    "744b02e12c7d46ca8ee53edc59d3509b": {
     "views": []
    },
    "74795807859c4a818c3a07493cb60027": {
     "views": []
    },
    "74b00140f13448f5a5c2ebbfa3359ec5": {
     "views": []
    },
    "74bd21d7f7d3496da5a73b2ba86e03dd": {
     "views": []
    },
    "74ed532674a7479783a47afd2f7fe8fe": {
     "views": []
    },
    "7513cf4141e84d63953eff3926d2896a": {
     "views": []
    },
    "7541bc9704e04fb2b1f8e669c6141f67": {
     "views": []
    },
    "7548d1e068bb430f857ac33f4bd9d8e8": {
     "views": []
    },
    "75673297bf00408781efc68ebfa109fe": {
     "views": []
    },
    "75e7f4117b1246aaa28728dde4dc4647": {
     "views": []
    },
    "76bd8de65f164cc8a804d9a0464b4cb7": {
     "views": []
    },
    "76be47d99a38456a9667256a1028eb6f": {
     "views": []
    },
    "76c9dbde4df447bc9c2d0e4d8a60c208": {
     "views": []
    },
    "77b310cfb105457c845264148f583365": {
     "views": []
    },
    "77b95cecc52843fcade368a1ed12f8b1": {
     "views": []
    },
    "78719ae3d2e746499fe74f6a4ccdcae1": {
     "views": []
    },
    "788054e29a224b8fac3d3b748c2b825c": {
     "views": []
    },
    "79c57b99442c42949c2e2d86f1e31e29": {
     "views": []
    },
    "79d2d1090c964c2c940c2fa5cc105890": {
     "views": []
    },
    "79fa378ae33c4d95b9a17849b136d36a": {
     "views": []
    },
    "7a3c9bc884c54407883c484002668a22": {
     "views": []
    },
    "7abfc77af7c04a6ab681453ea3ed90a9": {
     "views": []
    },
    "7ac3436e71cf421181eccfc5139459b0": {
     "views": []
    },
    "7b3237f93c2b4a78998447c0d3dcb51e": {
     "views": []
    },
    "7bdbaf6edf3c44aca2a1104fec248971": {
     "views": [
      {
       "cell_index": 12.0
      }
     ]
    },
    "7c458e1b67c546208bb9f9121f5b89c2": {
     "views": []
    },
    "7cd06a7a305f44d6a0a7c905a7ed0f02": {
     "views": []
    },
    "7d2ed0e8720b490c9aa0ad94800c0bef": {
     "views": []
    },
    "7d69f1d47db64ead9c64497a245eba8b": {
     "views": []
    },
    "7d98b16d7442482b9237a891064482e5": {
     "views": []
    },
    "7e62c25e2cc145d9a76cc391a5a7dd8c": {
     "views": []
    },
    "7e78721a120843eaa0ab8806ded12a29": {
     "views": []
    },
    "7e881f3ed4b947c1926d21d52ea90623": {
     "views": []
    },
    "7eb7bd42bd8b42a4ac1bfb9ca4c63706": {
     "views": []
    },
    "7f3c50faba67434e8bc9a29046fd2388": {
     "views": []
    },
    "7f44c3e9efc04ff7a56f4f2e52c48404": {
     "views": []
    },
    "7f842ab9f63348908e3e456ba21494f3": {
     "views": []
    },
    "7ff23b536810465da9213f13b8f901ee": {
     "views": []
    },
    "801d45c14fc84ea1b15f888ee9dd9587": {
     "views": []
    },
    "805b49acf9d34ce49d641e09b5bc5f8d": {
     "views": []
    },
    "80615dd7a3e24770b9dad4397962943e": {
     "views": []
    },
    "80d780f9c4d745c384c3e62bc416f0c8": {
     "views": []
    },
    "8124f020003f4d2c8b4417a4c1aad3e7": {
     "views": []
    },
    "812c96322e324244b6eb43d2a4b5522a": {
     "views": []
    },
    "824324e635e64020a00dda744debf7a3": {
     "views": []
    },
    "82a70ac430fd48c882c02bc9f1f42c6c": {
     "views": []
    },
    "82a972655e1442dba9171f5aa2fefaf1": {
     "views": []
    },
    "831acd964c014d75a77d0fd57cbf0d7f": {
     "views": []
    },
    "838a81d171c541e4b49d70b013b0611c": {
     "views": []
    },
    "83abafd7c9eb4c289a8187353dcfb327": {
     "views": []
    },
    "83ed0820673541a1b5d7445cf50c7c3c": {
     "views": []
    },
    "841f61acbae44489aec13d003ea2deb3": {
     "views": []
    },
    "843a8ac006d84962bcf61ef45d45efda": {
     "views": []
    },
    "849f7dabdf0542c9a764e996f0c33531": {
     "views": []
    },
    "85ab6cc95e054b15a4dd61e8c3698e52": {
     "views": []
    },
    "85dfee97b1174761a0b23606edb6be91": {
     "views": []
    },
    "8603cb9a75d14371a291fc66f88d1af6": {
     "views": []
    },
    "867626462910407e8c990662f8c39f77": {
     "views": []
    },
    "87c9180cbb3b435f88687fc77c1cf427": {
     "views": []
    },
    "87d81c3fd1e8487582cc38fe7c12da6b": {
     "views": []
    },
    "87f9a460fb494f179b3297b79c993ffa": {
     "views": [
      {
       "cell_index": 4.0
      }
     ]
    },
    "888567a548be4ca4aa7e48d29e3c3400": {
     "views": []
    },
    "88d765522f984607acea86d37c62c3ab": {
     "views": []
    },
    "8a96a8d7d17d4fb69a65b80f0e9635a4": {
     "views": []
    },
    "8b0763dcb5a54940b036fd428a3ab3a5": {
     "views": []
    },
    "8b231a4258b94a5484c7b0dea45ec7d7": {
     "views": []
    },
    "8bb07f1f905b4bcf8c04fc05f14321dc": {
     "views": []
    },
    "8bd18c42effb4fd1a0347a7cb501b9b4": {
     "views": []
    },
    "8c7bf7a6d2804b5a80996476b9b10fd4": {
     "views": []
    },
    "8c90c964fd924f3a835820bc643d3fd4": {
     "views": [
      {
       "cell_index": 16.0
      }
     ]
    },
    "8c9c2f833da64f099e0cb01519b6decf": {
     "views": []
    },
    "8c9cdafd6b7648e2875ea580cad5f537": {
     "views": []
    },
    "8c9d1c8d37a7407a8cedb213ec2791f7": {
     "views": []
    },
    "8d38a0ca10ed470b912096cb66e620fb": {
     "views": []
    },
    "8d54984acaf6434fab3cc02041f50f04": {
     "views": []
    },
    "8d75bba43cc04f468787bba5dc884a51": {
     "views": []
    },
    "8dad29bc49624338949c02fbda94e43d": {
     "views": []
    },
    "8e0b7d285c2b4b969643bf69d6c7c826": {
     "views": []
    },
    "8e38ad280716422297b71baa6827f2a6": {
     "views": []
    },
    "8e8e46d076984342a7a34ad7d37d734b": {
     "views": []
    },
    "8f4f2ac49d114b61973afc23313f6f8d": {
     "views": []
    },
    "9026ef8b96704e0898338200b0b4ba3d": {
     "views": []
    },
    "908448caf722473785edc763aa2d672f": {
     "views": []
    },
    "91690b08d28d41d68d5aa9da008f273f": {
     "views": []
    },
    "919b4a974c534b21a5f70654b71af135": {
     "views": []
    },
    "91aaa9a3729542b9ab9b67bbd08313d3": {
     "views": []
    },
    "923e428ff9244c1ebe35278122e32641": {
     "views": []
    },
    "9271f99e7288439cb2a168c342b7725b": {
     "views": []
    },
    "928314b6dc8b441d9ad68930a0f96011": {
     "views": []
    },
    "929916b0a1124cf39b7022fe47e385b9": {
     "views": []
    },
    "92bb92f99fb54811930310051a13d9bc": {
     "views": []
    },
    "9313512cd1ee4f9ba64ed4835da1ade0": {
     "views": []
    },
    "933bcef5c42b4e9fac1e5d0d26f1b33d": {
     "views": []
    },
    "93797e3b450947e9ae300be9953870d8": {
     "views": []
    },
    "938f6f94df01453eb22fc8b65a49b1b4": {
     "views": []
    },
    "94307fa5c7734be4819ba0c19f304f9a": {
     "views": []
    },
    "94aaf0bae5f34546bebcc625073c301e": {
     "views": []
    },
    "94cb52ab23854e708ac6c367900a5808": {
     "views": []
    },
    "95a22984b3714a1ba4d968d23350f185": {
     "views": []
    },
    "95bf1ea3021d4657a9190ee8a4bb6f21": {
     "views": []
    },
    "96103c4d56ab43b1b8f738baa74cbcf6": {
     "views": []
    },
    "96281830294c49ea99e39a14431c8984": {
     "views": []
    },
    "963eff22ce364074898de17953bc7a78": {
     "views": []
    },
    "96495302c86b4d3aabd4a1b4ebbd9409": {
     "views": []
    },
    "970d2a1933c54659bfe132e546ebcf18": {
     "views": []
    },
    "97374d0004804a9f8a7614a9366513c1": {
     "views": []
    },
    "977985f88fec4991beb168849a9e90a5": {
     "views": []
    },
    "97a28f27a0e94601a4dd9d565f8e2c3e": {
     "views": []
    },
    "97fc93e99dc1459a938e54e706cd4ebe": {
     "views": []
    },
    "9814d93602374ded958cfff27ad47346": {
     "views": []
    },
    "9898afeb161d4694bf6dfff667cc1d4d": {
     "views": []
    },
    "9906ba34f5f24303b2e0e445d709dfca": {
     "views": []
    },
    "990bf0e42ebb473aa7d67f13b6057e90": {
     "views": []
    },
    "99376f5b7fed4316a822c432185e5ad0": {
     "views": []
    },
    "99d2f2f2e35d423c8d70bd57a1e859f2": {
     "views": []
    },
    "99f193607d0e411994cdbdef8e42b654": {
     "views": []
    },
    "9a1d04b487f94c75876c1d7573a4a0b3": {
     "views": []
    },
    "9a32ed62514f48e7957d375e6d0b887b": {
     "views": []
    },
    "9b547ba58ad54f7293ea4e2e60685de5": {
     "views": []
    },
    "9b5abb6482f64eedbe9ea7951cb11fea": {
     "views": []
    },
    "9b625af58bc3423dbd5ac231047a9cfe": {
     "views": []
    },
    "9bd00cc9b74b4f3faa77fad0ad4b879f": {
     "views": []
    },
    "9bd2e8e0187a4d8384c351db30823114": {
     "views": []
    },
    "9c282b1a150b42898c13f3bcb19bde38": {
     "views": []
    },
    "9c2a85bb22f84f43b09d14e162fc3971": {
     "views": []
    },
    "9c2b6194d8a7464884bb4724d2f2a87a": {
     "views": []
    },
    "9d25312c6e074e7299317e49f224388d": {
     "views": []
    },
    "9d8482ce6f54486cb29ebaf9ac0857f9": {
     "views": []
    },
    "9e96be06db9648fe9b14a919d580f8c1": {
     "views": []
    },
    "9ea3ecf3a9ef426cad9c9899132c18bf": {
     "views": []
    },
    "9ea9377a48ad40a28bf1e78115a0b26e": {
     "views": []
    },
    "9eee84f42e06429bbc33391bbe2aba0a": {
     "views": []
    },
    "9efb6b1cc2654261bb1fae38fbe935aa": {
     "views": []
    },
    "9f21b545b2574e0f980e7a151e197401": {
     "views": []
    },
    "9f649d75fd934a9faf8669dd746654e2": {
     "views": []
    },
    "9f72465451104b3dad184f6e8db87694": {
     "views": []
    },
    "9fa7357ff72d4e6ab7ef84a6e88cca42": {
     "views": []
    },
    "9feb515700f648bd8e22ad946a09f5d0": {
     "views": []
    },
    "a00737149b564feabad77f468d4f396e": {
     "views": []
    },
    "a0a2ae8b36f94f0aa6dcb4aa5281f690": {
     "views": []
    },
    "a0e371beae8d49e284c82605312f134e": {
     "views": []
    },
    "a1196fc0ab524e02a9307a343743afd9": {
     "views": []
    },
    "a14be3579f034ecc8423ebe081fb7657": {
     "views": []
    },
    "a1675e1c1d354764b0c1f306c7891639": {
     "views": []
    },
    "a16c0c2dfc7c4b7794ba9a407bb276a3": {
     "views": []
    },
    "a1cc4540b5cc49b8bbbba403f70aa6fe": {
     "views": []
    },
    "a224f58181f5419c87e5cd3f9fe6c352": {
     "views": []
    },
    "a23f460e78f14edc8cdd44d32ab84ff9": {
     "views": []
    },
    "a2972ead34e045c7ad05238438c2a359": {
     "views": []
    },
    "a2cfe0bfb5a046a58d97b91cfda67b49": {
     "views": []
    },
    "a2f82261e9cc472392339eb92d5a5df0": {
     "views": []
    },
    "a367c175d74f4fe4b97d6cec7c42722a": {
     "views": []
    },
    "a37469bb1bc74d70a964e149e28dc0f9": {
     "views": []
    },
    "a405d7907bd84965998851ec303114c3": {
     "views": []
    },
    "a40bc0ae249f44fa95af4e9e0eb069b6": {
     "views": []
    },
    "a438dc107c9a4de39b5c8ad056cf2c75": {
     "views": []
    },
    "a44d5ebce4a54548bda58bb6c4d91418": {
     "views": []
    },
    "a4b098ca5d084c2b99e88c993c11fd5e": {
     "views": []
    },
    "a4c0dca6baf14590b70c27116c40a726": {
     "views": []
    },
    "a594d2ff156647fea7b6e32db625d85d": {
     "views": []
    },
    "a599d4aa50f04099a18380760dbfc40a": {
     "views": []
    },
    "a5a083dac61444b2a05e0db757fa723d": {
     "views": []
    },
    "a5bbd7f5170c42cc879649a404237a26": {
     "views": []
    },
    "a639f73f00a94da3b0b3c70ad7be00f3": {
     "views": []
    },
    "a7373a79a6b04cefab2a4cee4c57c0f3": {
     "views": []
    },
    "a74e2673528a4c9ea45e0e8855c88ab8": {
     "views": []
    },
    "a78a0469bf314e37912132438c7f4f69": {
     "views": []
    },
    "a8e59a73b0e94672b8486398f8de84d5": {
     "views": []
    },
    "a950b894393f481fab104d85ede9969f": {
     "views": []
    },
    "a9b8ae43f7a24f668d69a825a4c3e913": {
     "views": []
    },
    "a9d6839f8e6c4d2eb7aea04d13651e0c": {
     "views": []
    },
    "a9d7712af0b44fb899bf44129b980474": {
     "views": []
    },
    "aa44187e6d20456db0dc96f51862b2e1": {
     "views": []
    },
    "aa8a6a49a7b14b5cafb9a578daf667fc": {
     "views": []
    },
    "aaa13151bcaa48a8943e950ddefe3f29": {
     "views": []
    },
    "aaa36c5978234c4a99dccb090af2d3fa": {
     "views": []
    },
    "aac3ff6028b948848dfc4dd74b77a754": {
     "views": []
    },
    "aaf724a13355450ebac48fb3aff8d027": {
     "views": []
    },
    "ab5e21019cf1404ea15f02b0898ab8a8": {
     "views": []
    },
    "ab90ba1a4f854f0c8b6776c31d96476f": {
     "views": []
    },
    "ab9e1c7653e04c9cb9dc33335ceebb10": {
     "views": []
    },
    "abab9ef265044f81adc9e74961a3ad34": {
     "views": []
    },
    "abc82eda04c44464a40d53d5f8c9bfdc": {
     "views": []
    },
    "ac0e3cf5ad564a46afe473721a858c8c": {
     "views": []
    },
    "ace6990b31e64943b6635f89e1f23f32": {
     "views": []
    },
    "ad036543ff2d436dac92e0caf7e99544": {
     "views": []
    },
    "ad779e4761e34dff99820ad192519be5": {
     "views": []
    },
    "ada18795e2e243399e6f85409b990246": {
     "views": []
    },
    "adc597bba03442e3bd4236bb7bb9d5f5": {
     "views": []
    },
    "ae2740f19e374e11a47f06f564979da4": {
     "views": []
    },
    "af6dd9dd045d42d2b5ee13428083d3ee": {
     "views": []
    },
    "af796744ab474368bc3e9aaa6511ff3d": {
     "views": []
    },
    "af9c54d49bed45eea48966d811a777d9": {
     "views": []
    },
    "afbbd95a988b4d5e990535c0f8d23e95": {
     "views": []
    },
    "affedbd386e6494d9abcc10719d637d8": {
     "views": []
    },
    "b06ceb1efba5450fb1d55cab6d0d6868": {
     "views": []
    },
    "b11a3bf5736b4624a4cae45384d94018": {
     "views": [
      {
       "cell_index": 28.0
      }
     ]
    },
    "b14392003e4847c08b632de77e494b00": {
     "views": []
    },
    "b1ea99af0940457cb89906efc1d2c085": {
     "views": []
    },
    "b214ed9401094f61948ff6ab9ecc5ed5": {
     "views": []
    },
    "b2f5c782f5714288b2a0849e2d25c60a": {
     "views": []
    },
    "b38f53fa13fd47289ce31c7654ddf743": {
     "views": []
    },
    "b449f3f7a48544a1b71a3978614f9e29": {
     "views": []
    },
    "b4b1bb4e0f32476491aadaccbe329606": {
     "views": []
    },
    "b4b2d131d64a495aa07508960c6ba921": {
     "views": []
    },
    "b4bb61f996624565bb470d03eb36fbda": {
     "views": []
    },
    "b4e6b89c84b44935bd61dbd3eda35fa8": {
     "views": []
    },
    "b571802c75564eb1969e339952fcdebe": {
     "views": []
    },
    "b5fe3959bba84a7b929dd5efaf69f01f": {
     "views": []
    },
    "b66c4559a0d14fe6abe3e987a3aa69be": {
     "views": []
    },
    "b6e6c6cfb40a4469b766322cfc665831": {
     "views": []
    },
    "b6f5f92f7db548eea1dcef0b2712b0cf": {
     "views": []
    },
    "b73665a72668415bbd0ff6b28a9c6099": {
     "views": []
    },
    "b7689cbdc0e04460ada28cad1b4a0a7e": {
     "views": []
    },
    "b78c1febb7994e6288bceee42c838b63": {
     "views": []
    },
    "b7f04d8cfe5b40738a0b965a4d174137": {
     "views": []
    },
    "b7fcafe7efd045188b3225d7562f2ec1": {
     "views": [
      {
       "cell_index": 12.0
      }
     ]
    },
    "b88ec18717ab49c79edcc9c85bef5036": {
     "views": []
    },
    "b8fa96a05b684658ae77808821c87c1d": {
     "views": []
    },
    "b9254adb92b249c8a5b11cdec06bbd25": {
     "views": []
    },
    "b928b9037ec64fa79c0cf548b9893eee": {
     "views": []
    },
    "b9579215d3aa4d6d86d0394348cce5e5": {
     "views": []
    },
    "b9688a5b4faf4e59bd9334faf2b5d808": {
     "views": []
    },
    "b97b60a00d39462e8efbca2d2fdc1564": {
     "views": []
    },
    "b9ff2525754348dd9804b120c46ee3b0": {
     "views": []
    },
    "ba298a650fd14636a394f0d369731d3b": {
     "views": []
    },
    "ba2eb435f36a431fa3a3efac7833dca1": {
     "views": []
    },
    "ba33b596918543b8b0a6832c17cfdac0": {
     "views": []
    },
    "baffe0e44de94a008624be6aac3159f7": {
     "views": []
    },
    "bb15ffa072824cba9fcf05b4a8a317f1": {
     "views": []
    },
    "bb4e2b7e88a447aba3435a31d54325da": {
     "views": []
    },
    "bb7ac00f2ec349289fc9534cd5c9f845": {
     "views": []
    },
    "bbadb98eedd543f5ab6de8c44d4b84c2": {
     "views": []
    },
    "bbb0579bf6d041d69c76f66d18b052ea": {
     "views": []
    },
    "bc85b47c66084052b9645c272382b286": {
     "views": []
    },
    "bd8bb0a3f2ee456a885b3561e2fbc5aa": {
     "views": []
    },
    "bde8af4e07da4450b559ca9b9c49608c": {
     "views": []
    },
    "be6181fc20944e4ba04d798311010c00": {
     "views": []
    },
    "be74c5fe1d38417b92f65fd539224370": {
     "views": []
    },
    "be987cfd018a4c39a22bb69b761d9a43": {
     "views": []
    },
    "bf0971ff1d1f49fea688076e69682915": {
     "views": []
    },
    "bfc6f42928c94fbba710aded2e115887": {
     "views": []
    },
    "bfcef6ae980348b397c943b47bebbeb6": {
     "views": []
    },
    "c01fc195b5294a0b96bdef7f95269dc0": {
     "views": []
    },
    "c026498776b841899da648e34f9b178f": {
     "views": []
    },
    "c0320b32ae8448fca5a118e2f072b9ca": {
     "views": []
    },
    "c03cc764056a4766a65db7a2aaca848e": {
     "views": []
    },
    "c053dd0c1e714fc39221d9319e649484": {
     "views": []
    },
    "c073e98dec334f6e9063347315fd2518": {
     "views": []
    },
    "c083d27946b24a64a5f05a2d07b7294e": {
     "views": []
    },
    "c0ddfc8e92e841ee8b89944300aa1166": {
     "views": []
    },
    "c116989021be4ca886e3b535a0ec74d1": {
     "views": []
    },
    "c24e83e6aa864191aae2268edc85ba57": {
     "views": []
    },
    "c27bc9c529f844eaba0ccab9cbc6002d": {
     "views": []
    },
    "c29a98a9b2b6476ea4fd97fbb2ffa8be": {
     "views": []
    },
    "c2dfbaf293474882ba74fc65b289d861": {
     "views": []
    },
    "c3368cd57bfc42758577488163f3c01a": {
     "views": []
    },
    "c33e520ff6fb4e6094a753112dda0890": {
     "views": []
    },
    "c39cecb5abda444d9fe868adcaf63754": {
     "views": []
    },
    "c3ce956faee64a328f4ce71fd6c008ac": {
     "views": []
    },
    "c4306c9de1984e64b4dd538250f516a4": {
     "views": []
    },
    "c4afd479131d4402b29074419deabe42": {
     "views": []
    },
    "c4ffed6550e54d06a0423fc339fc8aae": {
     "views": []
    },
    "c51eb69f327044d3a5345744ee543a9b": {
     "views": []
    },
    "c5ba0a1707f544cb9aa4858e7e03d8be": {
     "views": []
    },
    "c5c4e3f3ffaa422496e838f2a998ecab": {
     "views": []
    },
    "c5ed4d6a705e4be19fca43f456112a38": {
     "views": []
    },
    "c67de9f95d6b4057aca9c5e06a2c3ed4": {
     "views": [
      {
       "cell_index": 12.0
      }
     ]
    },
    "c6c7be00f0a445429e7b80183ba86ae1": {
     "views": []
    },
    "c6eff0c3d7e74c4bb6f167451891a91b": {
     "views": []
    },
    "c74ce4c34700412a99d788ce34814fbc": {
     "views": []
    },
    "c75c133498a8459583be7a0d2623233f": {
     "views": []
    },
    "c7ae189cfadf44f69c6bfe749d5214bc": {
     "views": []
    },
    "c8144814a3e6475d92bade5102578440": {
     "views": []
    },
    "c9378055bc6f4965ba39d52cbdc163b9": {
     "views": []
    },
    "c93d49a8d3664896bd47f382d89ad10e": {
     "views": []
    },
    "c9438ad4b98f43d5af8d3347948f9712": {
     "views": []
    },
    "c9859a0575594114b5d10e67a4537e2b": {
     "views": []
    },
    "c987de3fa5a4434aa540a64b07b466c2": {
     "views": []
    },
    "c9ee667dbec549a8989f41e308412ac4": {
     "views": []
    },
    "ca101f46bde148bba123264ccb92b7b1": {
     "views": []
    },
    "ca5bdebc87b247039e2d52c31a395b6d": {
     "views": []
    },
    "cac36971836f4f2e9da408c91ef91434": {
     "views": []
    },
    "cac81321393f4ed29c71ea90a5998a8f": {
     "views": []
    },
    "cb42e52a87f8447ba2c07f220d78883b": {
     "views": []
    },
    "cd00b42d27de49f7a41db3f00d16f401": {
     "views": []
    },
    "cd764f4f75e149d8a6470763c0c8df51": {
     "views": []
    },
    "cdc0c54b993b4f71986746bd31c36b6f": {
     "views": []
    },
    "cddecc7b12794b0cb0ae1a5e3fe899d2": {
     "views": []
    },
    "ce1560f18e2e4434a7fb9e9f14180c61": {
     "views": []
    },
    "ce71951ee8184d1f939d23bb90722f29": {
     "views": []
    },
    "cee0578bd4fe4b559c2cb8942d4439db": {
     "views": []
    },
    "cee440199b06435bb16fcf6c8ae32585": {
     "views": []
    },
    "cf0dc99ead684fcb9c6acd386c69ffe9": {
     "views": []
    },
    "cf96b79cf365453bac9ed89982b4f717": {
     "views": []
    },
    "cf97886bfc4b4b058ce90f79a94b9f70": {
     "views": []
    },
    "d00231132dd742c183e530d3a3b94e65": {
     "views": []
    },
    "d061fe1ae87745039ca12cf76940f398": {
     "views": []
    },
    "d07e421df899475e8352f101f4cf3fb4": {
     "views": [
      {
       "cell_index": 24.0
      }
     ]
    },
    "d0942933ac494298854a082351fa1cd1": {
     "views": []
    },
    "d0ba9e283b2c4f369344a24e99487efe": {
     "views": []
    },
    "d0c46efd73fa4d408120cf09a95f7202": {
     "views": []
    },
    "d0c47ddde7b94121a76afc62b7eafaf9": {
     "views": []
    },
    "d1322034cf7746ada4cb7a43c5e19a1a": {
     "views": []
    },
    "d19b1dde2d614afebc7fb621369b8507": {
     "views": []
    },
    "d1a44083e9e5493e8132a3aaffceb7b4": {
     "views": []
    },
    "d1b4aee3117c4e82a024e4137679c492": {
     "views": []
    },
    "d1bb9b2e6672439b9d86c27c180ea10c": {
     "views": []
    },
    "d1d5551d817b4992822068f99e1d7eec": {
     "views": []
    },
    "d1f56e24289449ac9b412f92352347fa": {
     "views": []
    },
    "d2ca70cdaad34c9387aea84018ce3fd1": {
     "views": []
    },
    "d306437aa0c144f08abb47691bf9e70c": {
     "views": []
    },
    "d3128593ead841558c08a0e94dffbb58": {
     "views": []
    },
    "d320755da9974222b58b1542789fa362": {
     "views": []
    },
    "d327ed64d4264c6c86f52ddcb4a30fb6": {
     "views": []
    },
    "d32c1a56b5b94655a6e80c670ac3bc06": {
     "views": []
    },
    "d387eb686e2e40a1814649cfbd514eee": {
     "views": []
    },
    "d404e3948ef24c67a3f1e87f516fa186": {
     "views": []
    },
    "d5e556489c7f48a99e1662c62465e51a": {
     "views": []
    },
    "d5e727bf6f434b238f54dc0d31987daa": {
     "views": []
    },
    "d65ef95f001e4dc3b686c265b1ae606f": {
     "views": []
    },
    "d691c0a5faca4eb89551b577c2d7765d": {
     "views": []
    },
    "d6a718daa83240c6b0b95d6cd6610f07": {
     "views": []
    },
    "d6de89bbf2e44d89920aafa624efc9c2": {
     "views": []
    },
    "d7281c3506044361bf5606331fbe67ca": {
     "views": []
    },
    "d81b6db3d3b04c12a0d58b96f64956a2": {
     "views": []
    },
    "d8292feb373a40f281f76ef4e2932ec3": {
     "views": []
    },
    "d85a7e62a2674787bb82614202a92adc": {
     "views": []
    },
    "d8a9407db8164b0ba79935be91e6eca7": {
     "views": []
    },
    "d92b90af58f7468c99a211887eabde5d": {
     "views": []
    },
    "d98312f6d5fa4e7085d5a9a180879dac": {
     "views": []
    },
    "d9cb5e59f44643959735c77567ff5a1f": {
     "views": []
    },
    "da5080664c724c4e9864909c64bf5b8a": {
     "views": []
    },
    "da638a9d66d143049f76782d8483a8c2": {
     "views": []
    },
    "da98acb263f047d6b1fe27ae1decd37f": {
     "views": []
    },
    "da9e2c0d06ad4c94a8ebee942cff1ec1": {
     "views": []
    },
    "dacfddf92d2c46f0a5a482d5ef6d7119": {
     "views": []
    },
    "db25f7936af345b18c2401b974f26b78": {
     "views": []
    },
    "db4e9e83cf9043d2b0d8b5df56a5d114": {
     "views": []
    },
    "dd5e1b1817ac49df8a3849644bc4e08d": {
     "views": []
    },
    "dd5f344c567142bf934baf3f0616a8e3": {
     "views": []
    },
    "dd9883f988e14a9b83c6ebf9e3dafd84": {
     "views": []
    },
    "ddd641d367a34c578ffe20a7fbc89be2": {
     "views": []
    },
    "de039f28065a48129ebdad79e618aff2": {
     "views": []
    },
    "de096da7a4664a3ba373cdacd2cff09f": {
     "views": []
    },
    "de12153d6b8f4051a5035dfd7ae0194e": {
     "views": []
    },
    "de5fefef1580427fa06774bac32aa8a4": {
     "views": []
    },
    "de6b82910a914e61a13371cc6a39fde5": {
     "views": []
    },
    "de8810fc99024a1d9c0671925f3034ea": {
     "views": []
    },
    "dea6aab502cd43298cabb5960d233472": {
     "views": []
    },
    "dedd59987ea04e27baf2cfe3a83224f8": {
     "views": []
    },
    "deea6891a6e64b06ae8fcc2c0c5143f7": {
     "views": []
    },
    "e00fb87aeca947ddae2cb25873b66350": {
     "views": []
    },
    "e07bcb00efe74be8bc648669094fa3b8": {
     "views": []
    },
    "e0b434b0087243bb9510dd244b066de0": {
     "views": []
    },
    "e1b208daf09042f5b2ba14b615192431": {
     "views": []
    },
    "e1d04605c29d4c599ce35d5557c683e6": {
     "views": []
    },
    "e24d5133078d42e1812be5929eab8d2b": {
     "views": []
    },
    "e29c83ac879e4adbb15056d0a322893a": {
     "views": []
    },
    "e3118838e22f461bb3243e38f88e8211": {
     "views": []
    },
    "e3647154105540649df5a6e3f4867c14": {
     "views": []
    },
    "e3c3d557f76847119a93ee1cb4507d9a": {
     "views": []
    },
    "e3f8208b294c4d32b3b9192f037230ce": {
     "views": []
    },
    "e46f856871c84a76bffe34a6900688ea": {
     "views": []
    },
    "e4c74dafb9c543f2b0c91cc4bc9f3ea3": {
     "views": []
    },
    "e5f179a690db4ac696c8665f6731cac8": {
     "views": []
    },
    "e665ce3c7f04498d977f65fdedf6f392": {
     "views": []
    },
    "e6cd526fbac54234a02facc2383aeaf8": {
     "views": []
    },
    "e6d4e238234e46cbb948ffefe7b31a7b": {
     "views": []
    },
    "e6f966635fd643c7b578fa4678d2ba70": {
     "views": []
    },
    "e724e11b3f994b50935cb4790aed5457": {
     "views": []
    },
    "e72feb1b083d4219be41e6385c62190f": {
     "views": []
    },
    "e75ebd1570b74f27b3056d0fd57b311a": {
     "views": []
    },
    "e7b7e168447141e585e5b2fae8ed3150": {
     "views": []
    },
    "e7e53efb36ff4737a5129fd9e299af6c": {
     "views": []
    },
    "e80895704d294c49881c219be6bc564f": {
     "views": []
    },
    "e834d692ad484be995a3be974f7905ef": {
     "views": []
    },
    "e890be1ff3b84806aec7a4af814c9345": {
     "views": []
    },
    "e9026bca29d5407ab1dbdd89c0711554": {
     "views": []
    },
    "e99bedee95bb4e208ef60074fc6726f6": {
     "views": []
    },
    "e9e6a8a357364802a67490c8da33ad43": {
     "views": []
    },
    "ea18322cf7e34d41b6f4ecddca33f647": {
     "views": []
    },
    "ea5cf58aa2dd4dfa8129c4cabe971cf2": {
     "views": []
    },
    "eac883a81eff4abe856fa326001b9fe9": {
     "views": []
    },
    "eb0fed35ddb44a8c9dc23ce504261503": {
     "views": []
    },
    "eca57eeb222e4744ac371513a7b8bdf0": {
     "views": []
    },
    "ecac62484098464ab8ad1cdfd9312cfc": {
     "views": []
    },
    "ed77e3dc1d4b4782bb81a006d61a4494": {
     "views": []
    },
    "ee09bf8d13d04d3e90ca64e3385f0784": {
     "views": []
    },
    "ee0d4700f7c84625ba35f4b398b0ef40": {
     "views": []
    },
    "ee5243bd23e94c4696046755d3747ab4": {
     "views": []
    },
    "ef946927cd014f629e157c24894020d7": {
     "views": []
    },
    "f015385bb3954ef596de586fe40caf23": {
     "views": []
    },
    "f09a8aade3cf4c45aa014f91e2cc3baa": {
     "views": []
    },
    "f0f45b584cf846a7b5e12aeeeec69bfb": {
     "views": []
    },
    "f1243a743a614e93a9ba8b2ab823b27b": {
     "views": [
      {
       "cell_index": 24.0
      }
     ]
    },
    "f140f34cf85f4447861a893237bfe918": {
     "views": []
    },
    "f16834caf19242178b1fcf8f6bcbfbeb": {
     "views": []
    },
    "f17af6d253cb4b2cbe958ac4bd2dc947": {
     "views": []
    },
    "f29c781acac9499e885bb2682fd0b7bc": {
     "views": []
    },
    "f38164ce4e70410f94d0d62f0965c19a": {
     "views": []
    },
    "f38166dd368e415aa637222f93d5bf19": {
     "views": []
    },
    "f3983d8af35845bc995aee7061004bdb": {
     "views": []
    },
    "f3ae9fe6d153405d81ea0a7643055e2a": {
     "views": []
    },
    "f43ffc8359ca4360b63eb8dc7c6843b5": {
     "views": []
    },
    "f4963c4e0fb743cc9ddc3cf02cd5eb15": {
     "views": []
    },
    "f55400068f694cf09119aef75273627f": {
     "views": []
    },
    "f599265983b04362be96a1cd66b742a4": {
     "views": []
    },
    "f5e694c0acf0494588ada1755aa94432": {
     "views": []
    },
    "f643c84bff65442a9944072cbb4b973f": {
     "views": []
    },
    "f65b94c09da74d57b5e07a090303bf21": {
     "views": []
    },
    "f6761dd7f6254629a47a9d09c635fd1c": {
     "views": []
    },
    "f6e267ccd6b540bf91294e5a13fddb26": {
     "views": []
    },
    "f6efdd4e803a4936a47ce87fad61f67d": {
     "views": [
      {
       "cell_index": 6.0
      }
     ]
    },
    "f76b885499084f6b8e0e9cbf3e6f9176": {
     "views": []
    },
    "f7c59e59894c4cefaaec355713fc8e76": {
     "views": []
    },
    "f81d076874d74fbeb7f799a816f4fb45": {
     "views": []
    },
    "f83666daa3a34e6087e813a018ff9989": {
     "views": []
    },
    "f8f094194f0b4759b9c011087494df19": {
     "views": []
    },
    "f91ca9ef9bc143b8b7b38da5df0a00a0": {
     "views": []
    },
    "f93958d348014327aa97a3f31d25420a": {
     "views": []
    },
    "f9525bc0f8164878aef0151adf2d155e": {
     "views": []
    },
    "f9a0003c0d5b4af78e8b3556825b662e": {
     "views": []
    },
    "f9f27f7391bd48cbaadaf4a12c011308": {
     "views": []
    },
    "fa094d24eb4e405796818daced60d85c": {
     "views": []
    },
    "fa0d17b8b74c47739d5a0fe3070357e9": {
     "views": []
    },
    "fa240bb7ec3e44be8c1ba1c23c758512": {
     "views": []
    },
    "fb1052d1ef5f4f93936c0ee2b11c0583": {
     "views": []
    },
    "fb892199d27344b483a720e83fb6619a": {
     "views": []
    },
    "fc06c71e8c76470d9521858b80b188b5": {
     "views": []
    },
    "fca9e963c8854f81a17fed519403b6c1": {
     "views": []
    },
    "fcb272ea42c642e0b95046a63a862755": {
     "views": []
    },
    "fcd96125ef3f48ef8ff74a7e3357f82f": {
     "views": []
    },
    "fdaf7f37497342838b534ac58d7b652d": {
     "views": []
    },
    "fe033eb75908431fa7a41cd31c51ad54": {
     "views": []
    },
    "fe41144e078542349cafa629447b6b28": {
     "views": []
    },
    "fe7d30f57dc34a318be62f90971f3f53": {
     "views": []
    },
    "feb90db6284a4e5c8f45c89402eb80b4": {
     "views": []
    },
    "feda54f8f9e74d0bafbf39d8c55db83b": {
     "views": []
    },
    "ff80c32fe6ce48e7877a157d4cb4c9eb": {
     "views": []
    },
    "ffba4fa15d954eff83c47299beb8597a": {
     "views": []
    },
    "ffc535f6842f4c0792c9b7dfaa6a9e73": {
     "views": []
    }
   },
   "version": "1.1.2"
  }
 },
 "nbformat": 4,
 "nbformat_minor": 0
}